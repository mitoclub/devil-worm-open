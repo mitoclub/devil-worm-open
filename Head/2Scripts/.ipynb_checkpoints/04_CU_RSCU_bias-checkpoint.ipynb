{
 "cells": [
  {
   "cell_type": "code",
   "execution_count": 1,
   "id": "seventh-seminar",
   "metadata": {},
   "outputs": [],
   "source": [
    "import pandas as pd\n",
    "import numpy as np\n",
    "import plotly.express as px\n",
    "from scipy import stats"
   ]
  },
  {
   "cell_type": "code",
   "execution_count": 3,
   "id": "married-certificate",
   "metadata": {
    "scrolled": true
   },
   "outputs": [
    {
     "ename": "KeyError",
     "evalue": "'Losers'",
     "output_type": "error",
     "traceback": [
      "\u001b[0;31m---------------------------------------------------------------------------\u001b[0m",
      "\u001b[0;31mKeyError\u001b[0m                                  Traceback (most recent call last)",
      "\u001b[0;32m~/anaconda3/lib/python3.8/site-packages/pandas/core/indexes/base.py\u001b[0m in \u001b[0;36mget_loc\u001b[0;34m(self, key, method, tolerance)\u001b[0m\n\u001b[1;32m   3079\u001b[0m             \u001b[0;32mtry\u001b[0m\u001b[0;34m:\u001b[0m\u001b[0;34m\u001b[0m\u001b[0;34m\u001b[0m\u001b[0m\n\u001b[0;32m-> 3080\u001b[0;31m                 \u001b[0;32mreturn\u001b[0m \u001b[0mself\u001b[0m\u001b[0;34m.\u001b[0m\u001b[0m_engine\u001b[0m\u001b[0;34m.\u001b[0m\u001b[0mget_loc\u001b[0m\u001b[0;34m(\u001b[0m\u001b[0mcasted_key\u001b[0m\u001b[0;34m)\u001b[0m\u001b[0;34m\u001b[0m\u001b[0;34m\u001b[0m\u001b[0m\n\u001b[0m\u001b[1;32m   3081\u001b[0m             \u001b[0;32mexcept\u001b[0m \u001b[0mKeyError\u001b[0m \u001b[0;32mas\u001b[0m \u001b[0merr\u001b[0m\u001b[0;34m:\u001b[0m\u001b[0;34m\u001b[0m\u001b[0;34m\u001b[0m\u001b[0m\n",
      "\u001b[0;32mpandas/_libs/index.pyx\u001b[0m in \u001b[0;36mpandas._libs.index.IndexEngine.get_loc\u001b[0;34m()\u001b[0m\n",
      "\u001b[0;32mpandas/_libs/index.pyx\u001b[0m in \u001b[0;36mpandas._libs.index.IndexEngine.get_loc\u001b[0;34m()\u001b[0m\n",
      "\u001b[0;32mpandas/_libs/hashtable_class_helper.pxi\u001b[0m in \u001b[0;36mpandas._libs.hashtable.PyObjectHashTable.get_item\u001b[0;34m()\u001b[0m\n",
      "\u001b[0;32mpandas/_libs/hashtable_class_helper.pxi\u001b[0m in \u001b[0;36mpandas._libs.hashtable.PyObjectHashTable.get_item\u001b[0;34m()\u001b[0m\n",
      "\u001b[0;31mKeyError\u001b[0m: 'Losers'",
      "\nThe above exception was the direct cause of the following exception:\n",
      "\u001b[0;31mKeyError\u001b[0m                                  Traceback (most recent call last)",
      "\u001b[0;32m<ipython-input-3-8a05f4cf0b00>\u001b[0m in \u001b[0;36m<module>\u001b[0;34m\u001b[0m\n\u001b[1;32m      1\u001b[0m \u001b[0mcu\u001b[0m \u001b[0;34m=\u001b[0m \u001b[0mpd\u001b[0m\u001b[0;34m.\u001b[0m\u001b[0mread_csv\u001b[0m\u001b[0;34m(\u001b[0m\u001b[0;34m'/home/emulciber/MitoClub/devil-worm/Body/2Derived/03a_CodonUsageDerived.csv'\u001b[0m\u001b[0;34m,\u001b[0m \u001b[0msep\u001b[0m\u001b[0;34m=\u001b[0m\u001b[0;34m';'\u001b[0m\u001b[0;34m)\u001b[0m\u001b[0;34m\u001b[0m\u001b[0;34m\u001b[0m\u001b[0m\n\u001b[0;32m----> 2\u001b[0;31m \u001b[0mcu\u001b[0m \u001b[0;34m=\u001b[0m \u001b[0mcu\u001b[0m\u001b[0;34m.\u001b[0m\u001b[0mloc\u001b[0m\u001b[0;34m[\u001b[0m\u001b[0;34m:\u001b[0m\u001b[0;34m,\u001b[0m \u001b[0;34m'GenName'\u001b[0m\u001b[0;34m:\u001b[0m\u001b[0;34m'Losers'\u001b[0m\u001b[0;34m]\u001b[0m\u001b[0;34m\u001b[0m\u001b[0;34m\u001b[0m\u001b[0m\n\u001b[0m\u001b[1;32m      3\u001b[0m \u001b[0mcu\u001b[0m\u001b[0;34m\u001b[0m\u001b[0;34m\u001b[0m\u001b[0m\n",
      "\u001b[0;32m~/anaconda3/lib/python3.8/site-packages/pandas/core/indexing.py\u001b[0m in \u001b[0;36m__getitem__\u001b[0;34m(self, key)\u001b[0m\n\u001b[1;32m    887\u001b[0m                     \u001b[0;31m# AttributeError for IntervalTree get_value\u001b[0m\u001b[0;34m\u001b[0m\u001b[0;34m\u001b[0m\u001b[0;34m\u001b[0m\u001b[0m\n\u001b[1;32m    888\u001b[0m                     \u001b[0;32mreturn\u001b[0m \u001b[0mself\u001b[0m\u001b[0;34m.\u001b[0m\u001b[0mobj\u001b[0m\u001b[0;34m.\u001b[0m\u001b[0m_get_value\u001b[0m\u001b[0;34m(\u001b[0m\u001b[0;34m*\u001b[0m\u001b[0mkey\u001b[0m\u001b[0;34m,\u001b[0m \u001b[0mtakeable\u001b[0m\u001b[0;34m=\u001b[0m\u001b[0mself\u001b[0m\u001b[0;34m.\u001b[0m\u001b[0m_takeable\u001b[0m\u001b[0;34m)\u001b[0m\u001b[0;34m\u001b[0m\u001b[0;34m\u001b[0m\u001b[0m\n\u001b[0;32m--> 889\u001b[0;31m             \u001b[0;32mreturn\u001b[0m \u001b[0mself\u001b[0m\u001b[0;34m.\u001b[0m\u001b[0m_getitem_tuple\u001b[0m\u001b[0;34m(\u001b[0m\u001b[0mkey\u001b[0m\u001b[0;34m)\u001b[0m\u001b[0;34m\u001b[0m\u001b[0;34m\u001b[0m\u001b[0m\n\u001b[0m\u001b[1;32m    890\u001b[0m         \u001b[0;32melse\u001b[0m\u001b[0;34m:\u001b[0m\u001b[0;34m\u001b[0m\u001b[0;34m\u001b[0m\u001b[0m\n\u001b[1;32m    891\u001b[0m             \u001b[0;31m# we by definition only have the 0th axis\u001b[0m\u001b[0;34m\u001b[0m\u001b[0;34m\u001b[0m\u001b[0;34m\u001b[0m\u001b[0m\n",
      "\u001b[0;32m~/anaconda3/lib/python3.8/site-packages/pandas/core/indexing.py\u001b[0m in \u001b[0;36m_getitem_tuple\u001b[0;34m(self, tup)\u001b[0m\n\u001b[1;32m   1067\u001b[0m             \u001b[0;32mreturn\u001b[0m \u001b[0mself\u001b[0m\u001b[0;34m.\u001b[0m\u001b[0m_multi_take\u001b[0m\u001b[0;34m(\u001b[0m\u001b[0mtup\u001b[0m\u001b[0;34m)\u001b[0m\u001b[0;34m\u001b[0m\u001b[0;34m\u001b[0m\u001b[0m\n\u001b[1;32m   1068\u001b[0m \u001b[0;34m\u001b[0m\u001b[0m\n\u001b[0;32m-> 1069\u001b[0;31m         \u001b[0;32mreturn\u001b[0m \u001b[0mself\u001b[0m\u001b[0;34m.\u001b[0m\u001b[0m_getitem_tuple_same_dim\u001b[0m\u001b[0;34m(\u001b[0m\u001b[0mtup\u001b[0m\u001b[0;34m)\u001b[0m\u001b[0;34m\u001b[0m\u001b[0;34m\u001b[0m\u001b[0m\n\u001b[0m\u001b[1;32m   1070\u001b[0m \u001b[0;34m\u001b[0m\u001b[0m\n\u001b[1;32m   1071\u001b[0m     \u001b[0;32mdef\u001b[0m \u001b[0m_get_label\u001b[0m\u001b[0;34m(\u001b[0m\u001b[0mself\u001b[0m\u001b[0;34m,\u001b[0m \u001b[0mlabel\u001b[0m\u001b[0;34m,\u001b[0m \u001b[0maxis\u001b[0m\u001b[0;34m:\u001b[0m \u001b[0mint\u001b[0m\u001b[0;34m)\u001b[0m\u001b[0;34m:\u001b[0m\u001b[0;34m\u001b[0m\u001b[0;34m\u001b[0m\u001b[0m\n",
      "\u001b[0;32m~/anaconda3/lib/python3.8/site-packages/pandas/core/indexing.py\u001b[0m in \u001b[0;36m_getitem_tuple_same_dim\u001b[0;34m(self, tup)\u001b[0m\n\u001b[1;32m    773\u001b[0m                 \u001b[0;32mcontinue\u001b[0m\u001b[0;34m\u001b[0m\u001b[0;34m\u001b[0m\u001b[0m\n\u001b[1;32m    774\u001b[0m \u001b[0;34m\u001b[0m\u001b[0m\n\u001b[0;32m--> 775\u001b[0;31m             \u001b[0mretval\u001b[0m \u001b[0;34m=\u001b[0m \u001b[0mgetattr\u001b[0m\u001b[0;34m(\u001b[0m\u001b[0mretval\u001b[0m\u001b[0;34m,\u001b[0m \u001b[0mself\u001b[0m\u001b[0;34m.\u001b[0m\u001b[0mname\u001b[0m\u001b[0;34m)\u001b[0m\u001b[0;34m.\u001b[0m\u001b[0m_getitem_axis\u001b[0m\u001b[0;34m(\u001b[0m\u001b[0mkey\u001b[0m\u001b[0;34m,\u001b[0m \u001b[0maxis\u001b[0m\u001b[0;34m=\u001b[0m\u001b[0mi\u001b[0m\u001b[0;34m)\u001b[0m\u001b[0;34m\u001b[0m\u001b[0;34m\u001b[0m\u001b[0m\n\u001b[0m\u001b[1;32m    776\u001b[0m             \u001b[0;31m# We should never have retval.ndim < self.ndim, as that should\u001b[0m\u001b[0;34m\u001b[0m\u001b[0;34m\u001b[0m\u001b[0;34m\u001b[0m\u001b[0m\n\u001b[1;32m    777\u001b[0m             \u001b[0;31m#  be handled by the _getitem_lowerdim call above.\u001b[0m\u001b[0;34m\u001b[0m\u001b[0;34m\u001b[0m\u001b[0;34m\u001b[0m\u001b[0m\n",
      "\u001b[0;32m~/anaconda3/lib/python3.8/site-packages/pandas/core/indexing.py\u001b[0m in \u001b[0;36m_getitem_axis\u001b[0;34m(self, key, axis)\u001b[0m\n\u001b[1;32m   1100\u001b[0m         \u001b[0;32mif\u001b[0m \u001b[0misinstance\u001b[0m\u001b[0;34m(\u001b[0m\u001b[0mkey\u001b[0m\u001b[0;34m,\u001b[0m \u001b[0mslice\u001b[0m\u001b[0;34m)\u001b[0m\u001b[0;34m:\u001b[0m\u001b[0;34m\u001b[0m\u001b[0;34m\u001b[0m\u001b[0m\n\u001b[1;32m   1101\u001b[0m             \u001b[0mself\u001b[0m\u001b[0;34m.\u001b[0m\u001b[0m_validate_key\u001b[0m\u001b[0;34m(\u001b[0m\u001b[0mkey\u001b[0m\u001b[0;34m,\u001b[0m \u001b[0maxis\u001b[0m\u001b[0;34m)\u001b[0m\u001b[0;34m\u001b[0m\u001b[0;34m\u001b[0m\u001b[0m\n\u001b[0;32m-> 1102\u001b[0;31m             \u001b[0;32mreturn\u001b[0m \u001b[0mself\u001b[0m\u001b[0;34m.\u001b[0m\u001b[0m_get_slice_axis\u001b[0m\u001b[0;34m(\u001b[0m\u001b[0mkey\u001b[0m\u001b[0;34m,\u001b[0m \u001b[0maxis\u001b[0m\u001b[0;34m=\u001b[0m\u001b[0maxis\u001b[0m\u001b[0;34m)\u001b[0m\u001b[0;34m\u001b[0m\u001b[0;34m\u001b[0m\u001b[0m\n\u001b[0m\u001b[1;32m   1103\u001b[0m         \u001b[0;32melif\u001b[0m \u001b[0mcom\u001b[0m\u001b[0;34m.\u001b[0m\u001b[0mis_bool_indexer\u001b[0m\u001b[0;34m(\u001b[0m\u001b[0mkey\u001b[0m\u001b[0;34m)\u001b[0m\u001b[0;34m:\u001b[0m\u001b[0;34m\u001b[0m\u001b[0;34m\u001b[0m\u001b[0m\n\u001b[1;32m   1104\u001b[0m             \u001b[0;32mreturn\u001b[0m \u001b[0mself\u001b[0m\u001b[0;34m.\u001b[0m\u001b[0m_getbool_axis\u001b[0m\u001b[0;34m(\u001b[0m\u001b[0mkey\u001b[0m\u001b[0;34m,\u001b[0m \u001b[0maxis\u001b[0m\u001b[0;34m=\u001b[0m\u001b[0maxis\u001b[0m\u001b[0;34m)\u001b[0m\u001b[0;34m\u001b[0m\u001b[0;34m\u001b[0m\u001b[0m\n",
      "\u001b[0;32m~/anaconda3/lib/python3.8/site-packages/pandas/core/indexing.py\u001b[0m in \u001b[0;36m_get_slice_axis\u001b[0;34m(self, slice_obj, axis)\u001b[0m\n\u001b[1;32m   1134\u001b[0m \u001b[0;34m\u001b[0m\u001b[0m\n\u001b[1;32m   1135\u001b[0m         \u001b[0mlabels\u001b[0m \u001b[0;34m=\u001b[0m \u001b[0mobj\u001b[0m\u001b[0;34m.\u001b[0m\u001b[0m_get_axis\u001b[0m\u001b[0;34m(\u001b[0m\u001b[0maxis\u001b[0m\u001b[0;34m)\u001b[0m\u001b[0;34m\u001b[0m\u001b[0;34m\u001b[0m\u001b[0m\n\u001b[0;32m-> 1136\u001b[0;31m         indexer = labels.slice_indexer(\n\u001b[0m\u001b[1;32m   1137\u001b[0m             \u001b[0mslice_obj\u001b[0m\u001b[0;34m.\u001b[0m\u001b[0mstart\u001b[0m\u001b[0;34m,\u001b[0m \u001b[0mslice_obj\u001b[0m\u001b[0;34m.\u001b[0m\u001b[0mstop\u001b[0m\u001b[0;34m,\u001b[0m \u001b[0mslice_obj\u001b[0m\u001b[0;34m.\u001b[0m\u001b[0mstep\u001b[0m\u001b[0;34m,\u001b[0m \u001b[0mkind\u001b[0m\u001b[0;34m=\u001b[0m\u001b[0;34m\"loc\"\u001b[0m\u001b[0;34m\u001b[0m\u001b[0;34m\u001b[0m\u001b[0m\n\u001b[1;32m   1138\u001b[0m         )\n",
      "\u001b[0;32m~/anaconda3/lib/python3.8/site-packages/pandas/core/indexes/base.py\u001b[0m in \u001b[0;36mslice_indexer\u001b[0;34m(self, start, end, step, kind)\u001b[0m\n\u001b[1;32m   5275\u001b[0m         \u001b[0mslice\u001b[0m\u001b[0;34m(\u001b[0m\u001b[0;36m1\u001b[0m\u001b[0;34m,\u001b[0m \u001b[0;36m3\u001b[0m\u001b[0;34m,\u001b[0m \u001b[0;32mNone\u001b[0m\u001b[0;34m)\u001b[0m\u001b[0;34m\u001b[0m\u001b[0;34m\u001b[0m\u001b[0m\n\u001b[1;32m   5276\u001b[0m         \"\"\"\n\u001b[0;32m-> 5277\u001b[0;31m         \u001b[0mstart_slice\u001b[0m\u001b[0;34m,\u001b[0m \u001b[0mend_slice\u001b[0m \u001b[0;34m=\u001b[0m \u001b[0mself\u001b[0m\u001b[0;34m.\u001b[0m\u001b[0mslice_locs\u001b[0m\u001b[0;34m(\u001b[0m\u001b[0mstart\u001b[0m\u001b[0;34m,\u001b[0m \u001b[0mend\u001b[0m\u001b[0;34m,\u001b[0m \u001b[0mstep\u001b[0m\u001b[0;34m=\u001b[0m\u001b[0mstep\u001b[0m\u001b[0;34m,\u001b[0m \u001b[0mkind\u001b[0m\u001b[0;34m=\u001b[0m\u001b[0mkind\u001b[0m\u001b[0;34m)\u001b[0m\u001b[0;34m\u001b[0m\u001b[0;34m\u001b[0m\u001b[0m\n\u001b[0m\u001b[1;32m   5278\u001b[0m \u001b[0;34m\u001b[0m\u001b[0m\n\u001b[1;32m   5279\u001b[0m         \u001b[0;31m# return a slice\u001b[0m\u001b[0;34m\u001b[0m\u001b[0;34m\u001b[0m\u001b[0;34m\u001b[0m\u001b[0m\n",
      "\u001b[0;32m~/anaconda3/lib/python3.8/site-packages/pandas/core/indexes/base.py\u001b[0m in \u001b[0;36mslice_locs\u001b[0;34m(self, start, end, step, kind)\u001b[0m\n\u001b[1;32m   5480\u001b[0m         \u001b[0mend_slice\u001b[0m \u001b[0;34m=\u001b[0m \u001b[0;32mNone\u001b[0m\u001b[0;34m\u001b[0m\u001b[0;34m\u001b[0m\u001b[0m\n\u001b[1;32m   5481\u001b[0m         \u001b[0;32mif\u001b[0m \u001b[0mend\u001b[0m \u001b[0;32mis\u001b[0m \u001b[0;32mnot\u001b[0m \u001b[0;32mNone\u001b[0m\u001b[0;34m:\u001b[0m\u001b[0;34m\u001b[0m\u001b[0;34m\u001b[0m\u001b[0m\n\u001b[0;32m-> 5482\u001b[0;31m             \u001b[0mend_slice\u001b[0m \u001b[0;34m=\u001b[0m \u001b[0mself\u001b[0m\u001b[0;34m.\u001b[0m\u001b[0mget_slice_bound\u001b[0m\u001b[0;34m(\u001b[0m\u001b[0mend\u001b[0m\u001b[0;34m,\u001b[0m \u001b[0;34m\"right\"\u001b[0m\u001b[0;34m,\u001b[0m \u001b[0mkind\u001b[0m\u001b[0;34m)\u001b[0m\u001b[0;34m\u001b[0m\u001b[0;34m\u001b[0m\u001b[0m\n\u001b[0m\u001b[1;32m   5483\u001b[0m         \u001b[0;32mif\u001b[0m \u001b[0mend_slice\u001b[0m \u001b[0;32mis\u001b[0m \u001b[0;32mNone\u001b[0m\u001b[0;34m:\u001b[0m\u001b[0;34m\u001b[0m\u001b[0;34m\u001b[0m\u001b[0m\n\u001b[1;32m   5484\u001b[0m             \u001b[0mend_slice\u001b[0m \u001b[0;34m=\u001b[0m \u001b[0mlen\u001b[0m\u001b[0;34m(\u001b[0m\u001b[0mself\u001b[0m\u001b[0;34m)\u001b[0m\u001b[0;34m\u001b[0m\u001b[0;34m\u001b[0m\u001b[0m\n",
      "\u001b[0;32m~/anaconda3/lib/python3.8/site-packages/pandas/core/indexes/base.py\u001b[0m in \u001b[0;36mget_slice_bound\u001b[0;34m(self, label, side, kind)\u001b[0m\n\u001b[1;32m   5394\u001b[0m             \u001b[0;32mexcept\u001b[0m \u001b[0mValueError\u001b[0m\u001b[0;34m:\u001b[0m\u001b[0;34m\u001b[0m\u001b[0;34m\u001b[0m\u001b[0m\n\u001b[1;32m   5395\u001b[0m                 \u001b[0;31m# raise the original KeyError\u001b[0m\u001b[0;34m\u001b[0m\u001b[0;34m\u001b[0m\u001b[0;34m\u001b[0m\u001b[0m\n\u001b[0;32m-> 5396\u001b[0;31m                 \u001b[0;32mraise\u001b[0m \u001b[0merr\u001b[0m\u001b[0;34m\u001b[0m\u001b[0;34m\u001b[0m\u001b[0m\n\u001b[0m\u001b[1;32m   5397\u001b[0m \u001b[0;34m\u001b[0m\u001b[0m\n\u001b[1;32m   5398\u001b[0m         \u001b[0;32mif\u001b[0m \u001b[0misinstance\u001b[0m\u001b[0;34m(\u001b[0m\u001b[0mslc\u001b[0m\u001b[0;34m,\u001b[0m \u001b[0mnp\u001b[0m\u001b[0;34m.\u001b[0m\u001b[0mndarray\u001b[0m\u001b[0;34m)\u001b[0m\u001b[0;34m:\u001b[0m\u001b[0;34m\u001b[0m\u001b[0;34m\u001b[0m\u001b[0m\n",
      "\u001b[0;32m~/anaconda3/lib/python3.8/site-packages/pandas/core/indexes/base.py\u001b[0m in \u001b[0;36mget_slice_bound\u001b[0;34m(self, label, side, kind)\u001b[0m\n\u001b[1;32m   5388\u001b[0m         \u001b[0;31m# we need to look up the label\u001b[0m\u001b[0;34m\u001b[0m\u001b[0;34m\u001b[0m\u001b[0;34m\u001b[0m\u001b[0m\n\u001b[1;32m   5389\u001b[0m         \u001b[0;32mtry\u001b[0m\u001b[0;34m:\u001b[0m\u001b[0;34m\u001b[0m\u001b[0;34m\u001b[0m\u001b[0m\n\u001b[0;32m-> 5390\u001b[0;31m             \u001b[0mslc\u001b[0m \u001b[0;34m=\u001b[0m \u001b[0mself\u001b[0m\u001b[0;34m.\u001b[0m\u001b[0mget_loc\u001b[0m\u001b[0;34m(\u001b[0m\u001b[0mlabel\u001b[0m\u001b[0;34m)\u001b[0m\u001b[0;34m\u001b[0m\u001b[0;34m\u001b[0m\u001b[0m\n\u001b[0m\u001b[1;32m   5391\u001b[0m         \u001b[0;32mexcept\u001b[0m \u001b[0mKeyError\u001b[0m \u001b[0;32mas\u001b[0m \u001b[0merr\u001b[0m\u001b[0;34m:\u001b[0m\u001b[0;34m\u001b[0m\u001b[0;34m\u001b[0m\u001b[0m\n\u001b[1;32m   5392\u001b[0m             \u001b[0;32mtry\u001b[0m\u001b[0;34m:\u001b[0m\u001b[0;34m\u001b[0m\u001b[0;34m\u001b[0m\u001b[0m\n",
      "\u001b[0;32m~/anaconda3/lib/python3.8/site-packages/pandas/core/indexes/base.py\u001b[0m in \u001b[0;36mget_loc\u001b[0;34m(self, key, method, tolerance)\u001b[0m\n\u001b[1;32m   3080\u001b[0m                 \u001b[0;32mreturn\u001b[0m \u001b[0mself\u001b[0m\u001b[0;34m.\u001b[0m\u001b[0m_engine\u001b[0m\u001b[0;34m.\u001b[0m\u001b[0mget_loc\u001b[0m\u001b[0;34m(\u001b[0m\u001b[0mcasted_key\u001b[0m\u001b[0;34m)\u001b[0m\u001b[0;34m\u001b[0m\u001b[0;34m\u001b[0m\u001b[0m\n\u001b[1;32m   3081\u001b[0m             \u001b[0;32mexcept\u001b[0m \u001b[0mKeyError\u001b[0m \u001b[0;32mas\u001b[0m \u001b[0merr\u001b[0m\u001b[0;34m:\u001b[0m\u001b[0;34m\u001b[0m\u001b[0;34m\u001b[0m\u001b[0m\n\u001b[0;32m-> 3082\u001b[0;31m                 \u001b[0;32mraise\u001b[0m \u001b[0mKeyError\u001b[0m\u001b[0;34m(\u001b[0m\u001b[0mkey\u001b[0m\u001b[0;34m)\u001b[0m \u001b[0;32mfrom\u001b[0m \u001b[0merr\u001b[0m\u001b[0;34m\u001b[0m\u001b[0;34m\u001b[0m\u001b[0m\n\u001b[0m\u001b[1;32m   3083\u001b[0m \u001b[0;34m\u001b[0m\u001b[0m\n\u001b[1;32m   3084\u001b[0m         \u001b[0;32mif\u001b[0m \u001b[0mtolerance\u001b[0m \u001b[0;32mis\u001b[0m \u001b[0;32mnot\u001b[0m \u001b[0;32mNone\u001b[0m\u001b[0;34m:\u001b[0m\u001b[0;34m\u001b[0m\u001b[0;34m\u001b[0m\u001b[0m\n",
      "\u001b[0;31mKeyError\u001b[0m: 'Losers'"
     ]
    }
   ],
   "source": [
    "cu = pd.read_csv('/home/emulciber/MitoClub/devil-worm/Body/2Derived/03a_CodonUsageDerived.csv', sep=';')\n",
    "cu = cu.loc[:, 'GenName':'Losers']\n",
    "cu"
   ]
  },
  {
   "cell_type": "code",
   "execution_count": 65,
   "id": "a7fd8725",
   "metadata": {},
   "outputs": [
    {
     "data": {
      "text/html": [
       "<div>\n",
       "<style scoped>\n",
       "    .dataframe tbody tr th:only-of-type {\n",
       "        vertical-align: middle;\n",
       "    }\n",
       "\n",
       "    .dataframe tbody tr th {\n",
       "        vertical-align: top;\n",
       "    }\n",
       "\n",
       "    .dataframe thead th {\n",
       "        text-align: right;\n",
       "    }\n",
       "</style>\n",
       "<table border=\"1\" class=\"dataframe\">\n",
       "  <thead>\n",
       "    <tr style=\"text-align: right;\">\n",
       "      <th></th>\n",
       "      <th>Unnamed: 0</th>\n",
       "      <th>GenName</th>\n",
       "      <th>GenID</th>\n",
       "      <th>OrganismName</th>\n",
       "      <th>Taxonomy</th>\n",
       "      <th>Strand</th>\n",
       "      <th>TTT</th>\n",
       "      <th>TTC</th>\n",
       "      <th>TTA</th>\n",
       "      <th>TTG</th>\n",
       "      <th>...</th>\n",
       "      <th>GAT</th>\n",
       "      <th>GAC</th>\n",
       "      <th>GAA</th>\n",
       "      <th>GAG</th>\n",
       "      <th>GGT</th>\n",
       "      <th>GGC</th>\n",
       "      <th>GGA</th>\n",
       "      <th>GGG</th>\n",
       "      <th>TAA</th>\n",
       "      <th>TAG</th>\n",
       "    </tr>\n",
       "  </thead>\n",
       "  <tbody>\n",
       "    <tr>\n",
       "      <th>0</th>\n",
       "      <td>0</td>\n",
       "      <td>ND1</td>\n",
       "      <td>YP_002261314.1</td>\n",
       "      <td>Enterobius vermicularis</td>\n",
       "      <td>Eukaryota, Metazoa, Ecdysozoa, Nematoda, Chrom...</td>\n",
       "      <td>1</td>\n",
       "      <td>2.000000</td>\n",
       "      <td>0.000000</td>\n",
       "      <td>1.636364</td>\n",
       "      <td>4.090909</td>\n",
       "      <td>...</td>\n",
       "      <td>1.500000</td>\n",
       "      <td>0.500000</td>\n",
       "      <td>0.600000</td>\n",
       "      <td>1.400000</td>\n",
       "      <td>2.880000</td>\n",
       "      <td>0.000000</td>\n",
       "      <td>0.160000</td>\n",
       "      <td>0.960000</td>\n",
       "      <td>0.0</td>\n",
       "      <td>1.0</td>\n",
       "    </tr>\n",
       "    <tr>\n",
       "      <th>1</th>\n",
       "      <td>1</td>\n",
       "      <td>ATP6</td>\n",
       "      <td>YP_002261315.1</td>\n",
       "      <td>Enterobius vermicularis</td>\n",
       "      <td>Eukaryota, Metazoa, Ecdysozoa, Nematoda, Chrom...</td>\n",
       "      <td>1</td>\n",
       "      <td>2.000000</td>\n",
       "      <td>0.000000</td>\n",
       "      <td>2.444444</td>\n",
       "      <td>2.888889</td>\n",
       "      <td>...</td>\n",
       "      <td>2.000000</td>\n",
       "      <td>0.000000</td>\n",
       "      <td>0.571429</td>\n",
       "      <td>1.428571</td>\n",
       "      <td>3.200000</td>\n",
       "      <td>0.000000</td>\n",
       "      <td>0.266667</td>\n",
       "      <td>0.533333</td>\n",
       "      <td>0.0</td>\n",
       "      <td>0.0</td>\n",
       "    </tr>\n",
       "    <tr>\n",
       "      <th>2</th>\n",
       "      <td>2</td>\n",
       "      <td>ND2</td>\n",
       "      <td>YP_002261316.1</td>\n",
       "      <td>Enterobius vermicularis</td>\n",
       "      <td>Eukaryota, Metazoa, Ecdysozoa, Nematoda, Chrom...</td>\n",
       "      <td>1</td>\n",
       "      <td>1.953488</td>\n",
       "      <td>0.046512</td>\n",
       "      <td>2.716981</td>\n",
       "      <td>3.169811</td>\n",
       "      <td>...</td>\n",
       "      <td>2.000000</td>\n",
       "      <td>0.000000</td>\n",
       "      <td>0.333333</td>\n",
       "      <td>1.666667</td>\n",
       "      <td>2.200000</td>\n",
       "      <td>0.200000</td>\n",
       "      <td>0.600000</td>\n",
       "      <td>1.000000</td>\n",
       "      <td>0.0</td>\n",
       "      <td>0.0</td>\n",
       "    </tr>\n",
       "    <tr>\n",
       "      <th>3</th>\n",
       "      <td>3</td>\n",
       "      <td>ND6</td>\n",
       "      <td>YP_002261317.1</td>\n",
       "      <td>Enterobius vermicularis</td>\n",
       "      <td>Eukaryota, Metazoa, Ecdysozoa, Nematoda, Chrom...</td>\n",
       "      <td>1</td>\n",
       "      <td>2.000000</td>\n",
       "      <td>0.000000</td>\n",
       "      <td>2.333333</td>\n",
       "      <td>2.666667</td>\n",
       "      <td>...</td>\n",
       "      <td>1.333333</td>\n",
       "      <td>0.666667</td>\n",
       "      <td>0.000000</td>\n",
       "      <td>2.000000</td>\n",
       "      <td>2.800000</td>\n",
       "      <td>0.000000</td>\n",
       "      <td>1.200000</td>\n",
       "      <td>0.000000</td>\n",
       "      <td>1.0</td>\n",
       "      <td>0.0</td>\n",
       "    </tr>\n",
       "    <tr>\n",
       "      <th>4</th>\n",
       "      <td>4</td>\n",
       "      <td>CYTB</td>\n",
       "      <td>YP_002261318.1</td>\n",
       "      <td>Enterobius vermicularis</td>\n",
       "      <td>Eukaryota, Metazoa, Ecdysozoa, Nematoda, Chrom...</td>\n",
       "      <td>1</td>\n",
       "      <td>1.904762</td>\n",
       "      <td>0.095238</td>\n",
       "      <td>3.056604</td>\n",
       "      <td>2.377358</td>\n",
       "      <td>...</td>\n",
       "      <td>1.666667</td>\n",
       "      <td>0.333333</td>\n",
       "      <td>1.111111</td>\n",
       "      <td>0.888889</td>\n",
       "      <td>1.280000</td>\n",
       "      <td>0.320000</td>\n",
       "      <td>1.440000</td>\n",
       "      <td>0.960000</td>\n",
       "      <td>0.0</td>\n",
       "      <td>0.0</td>\n",
       "    </tr>\n",
       "    <tr>\n",
       "      <th>...</th>\n",
       "      <td>...</td>\n",
       "      <td>...</td>\n",
       "      <td>...</td>\n",
       "      <td>...</td>\n",
       "      <td>...</td>\n",
       "      <td>...</td>\n",
       "      <td>...</td>\n",
       "      <td>...</td>\n",
       "      <td>...</td>\n",
       "      <td>...</td>\n",
       "      <td>...</td>\n",
       "      <td>...</td>\n",
       "      <td>...</td>\n",
       "      <td>...</td>\n",
       "      <td>...</td>\n",
       "      <td>...</td>\n",
       "      <td>...</td>\n",
       "      <td>...</td>\n",
       "      <td>...</td>\n",
       "      <td>...</td>\n",
       "      <td>...</td>\n",
       "    </tr>\n",
       "    <tr>\n",
       "      <th>449</th>\n",
       "      <td>7</td>\n",
       "      <td>COX2</td>\n",
       "      <td>BAV78683.1</td>\n",
       "      <td>Steinernema litorale</td>\n",
       "      <td>Eukaryota, Metazoa, Ecdysozoa, Nematoda, Chrom...</td>\n",
       "      <td>1</td>\n",
       "      <td>1.777778</td>\n",
       "      <td>0.222222</td>\n",
       "      <td>1.818182</td>\n",
       "      <td>1.454545</td>\n",
       "      <td>...</td>\n",
       "      <td>1.555556</td>\n",
       "      <td>0.444444</td>\n",
       "      <td>0.545455</td>\n",
       "      <td>1.454545</td>\n",
       "      <td>2.933333</td>\n",
       "      <td>0.266667</td>\n",
       "      <td>0.266667</td>\n",
       "      <td>0.533333</td>\n",
       "      <td>1.0</td>\n",
       "      <td>0.0</td>\n",
       "    </tr>\n",
       "    <tr>\n",
       "      <th>450</th>\n",
       "      <td>8</td>\n",
       "      <td>ND3</td>\n",
       "      <td>BAV78684.1</td>\n",
       "      <td>Steinernema litorale</td>\n",
       "      <td>Eukaryota, Metazoa, Ecdysozoa, Nematoda, Chrom...</td>\n",
       "      <td>1</td>\n",
       "      <td>1.750000</td>\n",
       "      <td>0.250000</td>\n",
       "      <td>1.714286</td>\n",
       "      <td>1.714286</td>\n",
       "      <td>...</td>\n",
       "      <td>2.000000</td>\n",
       "      <td>0.000000</td>\n",
       "      <td>0.000000</td>\n",
       "      <td>2.000000</td>\n",
       "      <td>2.000000</td>\n",
       "      <td>0.666667</td>\n",
       "      <td>0.666667</td>\n",
       "      <td>0.666667</td>\n",
       "      <td>1.0</td>\n",
       "      <td>0.0</td>\n",
       "    </tr>\n",
       "    <tr>\n",
       "      <th>451</th>\n",
       "      <td>9</td>\n",
       "      <td>ND5</td>\n",
       "      <td>BAV78685.1</td>\n",
       "      <td>Steinernema litorale</td>\n",
       "      <td>Eukaryota, Metazoa, Ecdysozoa, Nematoda, Chrom...</td>\n",
       "      <td>1</td>\n",
       "      <td>1.747126</td>\n",
       "      <td>0.252874</td>\n",
       "      <td>2.341463</td>\n",
       "      <td>1.756098</td>\n",
       "      <td>...</td>\n",
       "      <td>1.333333</td>\n",
       "      <td>0.666667</td>\n",
       "      <td>0.666667</td>\n",
       "      <td>1.333333</td>\n",
       "      <td>2.482759</td>\n",
       "      <td>0.413793</td>\n",
       "      <td>0.413793</td>\n",
       "      <td>0.689655</td>\n",
       "      <td>0.0</td>\n",
       "      <td>1.0</td>\n",
       "    </tr>\n",
       "    <tr>\n",
       "      <th>452</th>\n",
       "      <td>10</td>\n",
       "      <td>ND6</td>\n",
       "      <td>BAV78686.1</td>\n",
       "      <td>Steinernema litorale</td>\n",
       "      <td>Eukaryota, Metazoa, Ecdysozoa, Nematoda, Chrom...</td>\n",
       "      <td>1</td>\n",
       "      <td>1.655172</td>\n",
       "      <td>0.344828</td>\n",
       "      <td>2.160000</td>\n",
       "      <td>1.920000</td>\n",
       "      <td>...</td>\n",
       "      <td>2.000000</td>\n",
       "      <td>0.000000</td>\n",
       "      <td>0.000000</td>\n",
       "      <td>0.000000</td>\n",
       "      <td>1.333333</td>\n",
       "      <td>0.000000</td>\n",
       "      <td>1.333333</td>\n",
       "      <td>1.333333</td>\n",
       "      <td>1.0</td>\n",
       "      <td>0.0</td>\n",
       "    </tr>\n",
       "    <tr>\n",
       "      <th>453</th>\n",
       "      <td>11</td>\n",
       "      <td>ND4L</td>\n",
       "      <td>BAV78687.1</td>\n",
       "      <td>Steinernema litorale</td>\n",
       "      <td>Eukaryota, Metazoa, Ecdysozoa, Nematoda, Chrom...</td>\n",
       "      <td>1</td>\n",
       "      <td>1.857143</td>\n",
       "      <td>0.142857</td>\n",
       "      <td>2.181818</td>\n",
       "      <td>1.090909</td>\n",
       "      <td>...</td>\n",
       "      <td>2.000000</td>\n",
       "      <td>0.000000</td>\n",
       "      <td>2.000000</td>\n",
       "      <td>0.000000</td>\n",
       "      <td>2.666667</td>\n",
       "      <td>1.333333</td>\n",
       "      <td>0.000000</td>\n",
       "      <td>0.000000</td>\n",
       "      <td>0.0</td>\n",
       "      <td>1.0</td>\n",
       "    </tr>\n",
       "  </tbody>\n",
       "</table>\n",
       "<p>454 rows × 70 columns</p>\n",
       "</div>"
      ],
      "text/plain": [
       "     Unnamed: 0 GenName           GenID             OrganismName  \\\n",
       "0             0     ND1  YP_002261314.1  Enterobius vermicularis   \n",
       "1             1    ATP6  YP_002261315.1  Enterobius vermicularis   \n",
       "2             2     ND2  YP_002261316.1  Enterobius vermicularis   \n",
       "3             3     ND6  YP_002261317.1  Enterobius vermicularis   \n",
       "4             4    CYTB  YP_002261318.1  Enterobius vermicularis   \n",
       "..          ...     ...             ...                      ...   \n",
       "449           7    COX2      BAV78683.1     Steinernema litorale   \n",
       "450           8     ND3      BAV78684.1     Steinernema litorale   \n",
       "451           9     ND5      BAV78685.1     Steinernema litorale   \n",
       "452          10     ND6      BAV78686.1     Steinernema litorale   \n",
       "453          11    ND4L      BAV78687.1     Steinernema litorale   \n",
       "\n",
       "                                              Taxonomy  Strand       TTT  \\\n",
       "0    Eukaryota, Metazoa, Ecdysozoa, Nematoda, Chrom...       1  2.000000   \n",
       "1    Eukaryota, Metazoa, Ecdysozoa, Nematoda, Chrom...       1  2.000000   \n",
       "2    Eukaryota, Metazoa, Ecdysozoa, Nematoda, Chrom...       1  1.953488   \n",
       "3    Eukaryota, Metazoa, Ecdysozoa, Nematoda, Chrom...       1  2.000000   \n",
       "4    Eukaryota, Metazoa, Ecdysozoa, Nematoda, Chrom...       1  1.904762   \n",
       "..                                                 ...     ...       ...   \n",
       "449  Eukaryota, Metazoa, Ecdysozoa, Nematoda, Chrom...       1  1.777778   \n",
       "450  Eukaryota, Metazoa, Ecdysozoa, Nematoda, Chrom...       1  1.750000   \n",
       "451  Eukaryota, Metazoa, Ecdysozoa, Nematoda, Chrom...       1  1.747126   \n",
       "452  Eukaryota, Metazoa, Ecdysozoa, Nematoda, Chrom...       1  1.655172   \n",
       "453  Eukaryota, Metazoa, Ecdysozoa, Nematoda, Chrom...       1  1.857143   \n",
       "\n",
       "          TTC       TTA       TTG  ...       GAT       GAC       GAA  \\\n",
       "0    0.000000  1.636364  4.090909  ...  1.500000  0.500000  0.600000   \n",
       "1    0.000000  2.444444  2.888889  ...  2.000000  0.000000  0.571429   \n",
       "2    0.046512  2.716981  3.169811  ...  2.000000  0.000000  0.333333   \n",
       "3    0.000000  2.333333  2.666667  ...  1.333333  0.666667  0.000000   \n",
       "4    0.095238  3.056604  2.377358  ...  1.666667  0.333333  1.111111   \n",
       "..        ...       ...       ...  ...       ...       ...       ...   \n",
       "449  0.222222  1.818182  1.454545  ...  1.555556  0.444444  0.545455   \n",
       "450  0.250000  1.714286  1.714286  ...  2.000000  0.000000  0.000000   \n",
       "451  0.252874  2.341463  1.756098  ...  1.333333  0.666667  0.666667   \n",
       "452  0.344828  2.160000  1.920000  ...  2.000000  0.000000  0.000000   \n",
       "453  0.142857  2.181818  1.090909  ...  2.000000  0.000000  2.000000   \n",
       "\n",
       "          GAG       GGT       GGC       GGA       GGG  TAA  TAG  \n",
       "0    1.400000  2.880000  0.000000  0.160000  0.960000  0.0  1.0  \n",
       "1    1.428571  3.200000  0.000000  0.266667  0.533333  0.0  0.0  \n",
       "2    1.666667  2.200000  0.200000  0.600000  1.000000  0.0  0.0  \n",
       "3    2.000000  2.800000  0.000000  1.200000  0.000000  1.0  0.0  \n",
       "4    0.888889  1.280000  0.320000  1.440000  0.960000  0.0  0.0  \n",
       "..        ...       ...       ...       ...       ...  ...  ...  \n",
       "449  1.454545  2.933333  0.266667  0.266667  0.533333  1.0  0.0  \n",
       "450  2.000000  2.000000  0.666667  0.666667  0.666667  1.0  0.0  \n",
       "451  1.333333  2.482759  0.413793  0.413793  0.689655  0.0  1.0  \n",
       "452  0.000000  1.333333  0.000000  1.333333  1.333333  1.0  0.0  \n",
       "453  0.000000  2.666667  1.333333  0.000000  0.000000  0.0  1.0  \n",
       "\n",
       "[454 rows x 70 columns]"
      ]
     },
     "execution_count": 65,
     "metadata": {},
     "output_type": "execute_result"
    }
   ],
   "source": [
    "rscu = pd.read_csv('/home/emulciber/MitoClub/devil-worm/Body/2Derived/CodonUsageDerived_RSCU.csv', sep=';')\n",
    "rscu"
   ]
  },
  {
   "cell_type": "code",
   "execution_count": 78,
   "id": "fba39e2b",
   "metadata": {},
   "outputs": [
    {
     "data": {
      "text/plain": [
       "array(['Enterobius vermicularis', 'Gnathostoma spinigerum',\n",
       "       'Heterorhabditis bacteriophora', 'Haemonchus contortus',\n",
       "       'Steinernema carpocapsae', 'Romanomermis culicivorax',\n",
       "       'Halicephalobus gingivalis', 'Caenorhabditis elegans',\n",
       "       'Diploscapter pachys (synthetic DNA construct)', 'Brugia malayi',\n",
       "       'Romanomermis iyengari', 'Trichinella murrelli',\n",
       "       'Thaumamermis cosgrovei', 'Loa loa', 'Diploscapter coronatus',\n",
       "       'Steinernema glaseri', 'Xiphinema americanum',\n",
       "       'Trichinella britovi', 'Toxascaris leonina',\n",
       "       'Panagrellus redivivus', 'Strelkovimermis spiculatus',\n",
       "       'Agamermis sp. BH-2006', 'Caenorhabditis nigoni',\n",
       "       'Halicephalobus sp. NKZ332', 'Drosophila melanogaster',\n",
       "       'Homo sapiens', 'Xiphinema rivesi', 'Halicephalobus mephisto',\n",
       "       'Acrobeloides varius', 'Romanomermis nielseni',\n",
       "       'Parascaris equorum', 'Bursaphelenchus xylophilus',\n",
       "       'Trichuris ovis', 'Trichinella spiralis', 'Hexamermis agrotis',\n",
       "       'Trichuris suis', 'Steinernema litorale'], dtype=object)"
      ]
     },
     "execution_count": 78,
     "metadata": {},
     "output_type": "execute_result"
    }
   ],
   "source": [
    "rscu['OrganismName'].unique()"
   ]
  },
  {
   "cell_type": "code",
   "execution_count": 66,
   "id": "placed-shelter",
   "metadata": {},
   "outputs": [],
   "source": [
    "for column in rscu:\n",
    "    if len(column) == 3 and column[-1] == 'C':\n",
    "        rscu.drop(column[0:2] + 'T', axis=1, inplace=True)\n",
    "    elif len(column) == 3 and column[-1] == 'A':\n",
    "        rscu.drop(column[0:2] + 'G', axis=1, inplace=True)"
   ]
  },
  {
   "cell_type": "code",
   "execution_count": 67,
   "id": "11cd4963",
   "metadata": {},
   "outputs": [],
   "source": [
    "rscu['Median'] = rscu.loc[:, 'TTC':'TAA'].median(axis=1)"
   ]
  },
  {
   "cell_type": "code",
   "execution_count": 68,
   "id": "5bbf2471",
   "metadata": {},
   "outputs": [],
   "source": [
    "cu_all = cu[['GenName', 'GenID', 'OrganismName', 'Gainers', 'Losers']]"
   ]
  },
  {
   "cell_type": "code",
   "execution_count": 69,
   "id": "687d2c2a",
   "metadata": {},
   "outputs": [],
   "source": [
    "cu_all = cu_all.merge(rscu[['GenID', 'Median']], how='left', on='GenID')"
   ]
  },
  {
   "cell_type": "code",
   "execution_count": 70,
   "id": "d3cb7385",
   "metadata": {},
   "outputs": [
    {
     "data": {
      "text/plain": [
       "array(['nad2', 'nad4', 'cox1', 'nad6', 'cob', 'cox3', 'nad4L', 'nad1',\n",
       "       'atp6', 'cox2', 'nad3', 'nad5', 'COX1', 'COX2', 'ND3', 'ND5',\n",
       "       'ND6', 'ND4L', 'ND1', 'ATP6', 'ND2', 'CYTB', 'COX3', 'ND4', 'None',\n",
       "       'NAD1', 'NAD4', 'NAD2', 'NAD3', 'NAD5', 'NAD6', 'NAD4L', 'ATP8',\n",
       "       'Cox1', 'Dpa-nduo-5', 'Dpa-nduo-6', 'Dpa-ndfl-4', 'Dpa-nduo-1',\n",
       "       'Dpa-atp-6', 'Dpa-nduo-2', 'Dpa-ctb-1', 'Dpa-ctc-3'], dtype=object)"
      ]
     },
     "execution_count": 70,
     "metadata": {},
     "output_type": "execute_result"
    }
   ],
   "source": [
    "cu_all['GenName'].unique()"
   ]
  },
  {
   "cell_type": "code",
   "execution_count": 71,
   "id": "e940600a",
   "metadata": {},
   "outputs": [],
   "source": [
    "cu_all['GenName'] = cu_all['GenName'].str.upper().str.replace(\"NAD\", \"ND\").str.replace(\"COB\", \"CYTB\")"
   ]
  },
  {
   "cell_type": "code",
   "execution_count": 81,
   "id": "c6f41fca",
   "metadata": {},
   "outputs": [
    {
     "name": "stderr",
     "output_type": "stream",
     "text": [
      "/home/emulciber/anaconda3/lib/python3.8/site-packages/pandas/core/indexing.py:1637: SettingWithCopyWarning:\n",
      "\n",
      "\n",
      "A value is trying to be set on a copy of a slice from a DataFrame\n",
      "\n",
      "See the caveats in the documentation: https://pandas.pydata.org/pandas-docs/stable/user_guide/indexing.html#returning-a-view-versus-a-copy\n",
      "\n"
     ]
    }
   ],
   "source": [
    "cu_all['Color'] = 'Other'\n",
    "cu_all['Color'].loc[cu_all['OrganismName'].str.contains('Halicephalobus')] = 'Halicephalobus sp.'\n",
    "cu_all['Color'].loc[cu_all['OrganismName'] == 'Halicephalobus mephisto'] = 'Halicephalobus mephisto'\n",
    "cu_all['Color'].loc[cu_all['OrganismName'] == 'Caenorhabditis elegans'] = 'Caenorhabditis elegans'"
   ]
  },
  {
   "cell_type": "code",
   "execution_count": 97,
   "id": "c38b3a33",
   "metadata": {},
   "outputs": [
    {
     "data": {
      "application/vnd.plotly.v1+json": {
       "config": {
        "plotlyServerURL": "https://plot.ly"
       },
       "data": [
        {
         "customdata": [
          [
           "ND2",
           "Brugia malayi"
          ],
          [
           "ND4",
           "Brugia malayi"
          ],
          [
           "COX1",
           "Brugia malayi"
          ],
          [
           "ND6",
           "Brugia malayi"
          ],
          [
           "CYTB",
           "Brugia malayi"
          ],
          [
           "COX3",
           "Brugia malayi"
          ],
          [
           "ND4L",
           "Brugia malayi"
          ],
          [
           "ND1",
           "Brugia malayi"
          ],
          [
           "ATP6",
           "Brugia malayi"
          ],
          [
           "COX2",
           "Brugia malayi"
          ],
          [
           "ND3",
           "Brugia malayi"
          ],
          [
           "ND5",
           "Brugia malayi"
          ],
          [
           "COX1",
           "Bursaphelenchus xylophilus"
          ],
          [
           "COX2",
           "Bursaphelenchus xylophilus"
          ],
          [
           "ND3",
           "Bursaphelenchus xylophilus"
          ],
          [
           "ND5",
           "Bursaphelenchus xylophilus"
          ],
          [
           "ND6",
           "Bursaphelenchus xylophilus"
          ],
          [
           "ND4L",
           "Bursaphelenchus xylophilus"
          ],
          [
           "ND1",
           "Bursaphelenchus xylophilus"
          ],
          [
           "ATP6",
           "Bursaphelenchus xylophilus"
          ],
          [
           "ND2",
           "Bursaphelenchus xylophilus"
          ],
          [
           "CYTB",
           "Bursaphelenchus xylophilus"
          ],
          [
           "COX3",
           "Bursaphelenchus xylophilus"
          ],
          [
           "ND4",
           "Bursaphelenchus xylophilus"
          ],
          [
           "ND6",
           "Panagrellus redivivus"
          ],
          [
           "ND4L",
           "Panagrellus redivivus"
          ],
          [
           "ND1",
           "Panagrellus redivivus"
          ],
          [
           "ATP6",
           "Panagrellus redivivus"
          ],
          [
           "ND2",
           "Panagrellus redivivus"
          ],
          [
           "CYTB",
           "Panagrellus redivivus"
          ],
          [
           "COX3",
           "Panagrellus redivivus"
          ],
          [
           "ND4",
           "Panagrellus redivivus"
          ],
          [
           "COX1",
           "Panagrellus redivivus"
          ],
          [
           "COX2",
           "Panagrellus redivivus"
          ],
          [
           "ND3",
           "Panagrellus redivivus"
          ],
          [
           "ND5",
           "Panagrellus redivivus"
          ],
          [
           "ND1",
           "Steinernema carpocapsae"
          ],
          [
           "ATP6",
           "Steinernema carpocapsae"
          ],
          [
           "ND2",
           "Steinernema carpocapsae"
          ],
          [
           "CYTB",
           "Steinernema carpocapsae"
          ],
          [
           "COX3",
           "Steinernema carpocapsae"
          ],
          [
           "ND4",
           "Steinernema carpocapsae"
          ],
          [
           "COX1",
           "Steinernema carpocapsae"
          ],
          [
           "COX2",
           "Steinernema carpocapsae"
          ],
          [
           "ND3",
           "Steinernema carpocapsae"
          ],
          [
           "ND5",
           "Steinernema carpocapsae"
          ],
          [
           "ND6",
           "Steinernema carpocapsae"
          ],
          [
           "ND4L",
           "Steinernema carpocapsae"
          ],
          [
           "ND1",
           "Steinernema glaseri"
          ],
          [
           "ATP6",
           "Steinernema glaseri"
          ],
          [
           "ND2",
           "Steinernema glaseri"
          ],
          [
           "CYTB",
           "Steinernema glaseri"
          ],
          [
           "COX3",
           "Steinernema glaseri"
          ],
          [
           "ND4",
           "Steinernema glaseri"
          ],
          [
           "COX1",
           "Steinernema glaseri"
          ],
          [
           "COX2",
           "Steinernema glaseri"
          ],
          [
           "ND3",
           "Steinernema glaseri"
          ],
          [
           "ND5",
           "Steinernema glaseri"
          ],
          [
           "ND6",
           "Steinernema glaseri"
          ],
          [
           "ND4L",
           "Steinernema glaseri"
          ],
          [
           "ND1",
           "Steinernema litorale"
          ],
          [
           "ATP6",
           "Steinernema litorale"
          ],
          [
           "ND2",
           "Steinernema litorale"
          ],
          [
           "CYTB",
           "Steinernema litorale"
          ],
          [
           "COX3",
           "Steinernema litorale"
          ],
          [
           "ND4",
           "Steinernema litorale"
          ],
          [
           "COX1",
           "Steinernema litorale"
          ],
          [
           "COX2",
           "Steinernema litorale"
          ],
          [
           "ND3",
           "Steinernema litorale"
          ],
          [
           "ND5",
           "Steinernema litorale"
          ],
          [
           "ND6",
           "Steinernema litorale"
          ],
          [
           "ND4L",
           "Steinernema litorale"
          ],
          [
           "ND2",
           "Loa loa"
          ],
          [
           "ND4",
           "Loa loa"
          ],
          [
           "COX1",
           "Loa loa"
          ],
          [
           "ND6",
           "Loa loa"
          ],
          [
           "CYTB",
           "Loa loa"
          ],
          [
           "COX3",
           "Loa loa"
          ],
          [
           "ND4L",
           "Loa loa"
          ],
          [
           "ND1",
           "Loa loa"
          ],
          [
           "ATP6",
           "Loa loa"
          ],
          [
           "COX2",
           "Loa loa"
          ],
          [
           "ND3",
           "Loa loa"
          ],
          [
           "ND5",
           "Loa loa"
          ],
          [
           "ND6",
           "Caenorhabditis nigoni"
          ],
          [
           "ND4L",
           "Caenorhabditis nigoni"
          ],
          [
           "ND1",
           "Caenorhabditis nigoni"
          ],
          [
           "ATP6",
           "Caenorhabditis nigoni"
          ],
          [
           "ND2",
           "Caenorhabditis nigoni"
          ],
          [
           "CYTB",
           "Caenorhabditis nigoni"
          ],
          [
           "COX3",
           "Caenorhabditis nigoni"
          ],
          [
           "ND4",
           "Caenorhabditis nigoni"
          ],
          [
           "COX1",
           "Caenorhabditis nigoni"
          ],
          [
           "COX2",
           "Caenorhabditis nigoni"
          ],
          [
           "ND3",
           "Caenorhabditis nigoni"
          ],
          [
           "ND5",
           "Caenorhabditis nigoni"
          ],
          [
           "NONE",
           "Diploscapter coronatus"
          ],
          [
           "NONE",
           "Diploscapter coronatus"
          ],
          [
           "NONE",
           "Diploscapter coronatus"
          ],
          [
           "NONE",
           "Diploscapter coronatus"
          ],
          [
           "NONE",
           "Diploscapter coronatus"
          ],
          [
           "NONE",
           "Diploscapter coronatus"
          ],
          [
           "NONE",
           "Diploscapter coronatus"
          ],
          [
           "NONE",
           "Diploscapter coronatus"
          ],
          [
           "NONE",
           "Diploscapter coronatus"
          ],
          [
           "NONE",
           "Diploscapter coronatus"
          ],
          [
           "NONE",
           "Diploscapter coronatus"
          ],
          [
           "NONE",
           "Diploscapter coronatus"
          ],
          [
           "COX1",
           "Acrobeloides varius"
          ],
          [
           "ND1",
           "Acrobeloides varius"
          ],
          [
           "ATP6",
           "Acrobeloides varius"
          ],
          [
           "ND4",
           "Acrobeloides varius"
          ],
          [
           "ND2",
           "Acrobeloides varius"
          ],
          [
           "ND3",
           "Acrobeloides varius"
          ],
          [
           "ND5",
           "Acrobeloides varius"
          ],
          [
           "ND6",
           "Acrobeloides varius"
          ],
          [
           "ND4L",
           "Acrobeloides varius"
          ],
          [
           "CYTB",
           "Acrobeloides varius"
          ],
          [
           "COX3",
           "Acrobeloides varius"
          ],
          [
           "COX2",
           "Acrobeloides varius"
          ],
          [
           "ND2",
           "Trichinella spiralis"
          ],
          [
           "ND5",
           "Trichinella spiralis"
          ],
          [
           "ND4",
           "Trichinella spiralis"
          ],
          [
           "ND4L",
           "Trichinella spiralis"
          ],
          [
           "ND6",
           "Trichinella spiralis"
          ],
          [
           "CYTB",
           "Trichinella spiralis"
          ],
          [
           "ATP6",
           "Trichinella spiralis"
          ],
          [
           "COX3",
           "Trichinella spiralis"
          ],
          [
           "ATP8",
           "Trichinella spiralis"
          ],
          [
           "ND3",
           "Trichinella spiralis"
          ],
          [
           "COX1",
           "Trichinella spiralis"
          ],
          [
           "COX2",
           "Trichinella spiralis"
          ],
          [
           "ND1",
           "Trichinella spiralis"
          ],
          [
           "ATP6",
           "Xiphinema americanum"
          ],
          [
           "ND4",
           "Xiphinema americanum"
          ],
          [
           "ND2",
           "Xiphinema americanum"
          ],
          [
           "COX2",
           "Xiphinema americanum"
          ],
          [
           "ND3",
           "Xiphinema americanum"
          ],
          [
           "ND4L",
           "Xiphinema americanum"
          ],
          [
           "ND5",
           "Xiphinema americanum"
          ],
          [
           "ND6",
           "Xiphinema americanum"
          ],
          [
           "COX3",
           "Xiphinema americanum"
          ],
          [
           "ND1",
           "Xiphinema americanum"
          ],
          [
           "COX1",
           "Xiphinema americanum"
          ],
          [
           "CYTB",
           "Xiphinema americanum"
          ],
          [
           "ND5",
           "Thaumamermis cosgrovei"
          ],
          [
           "ND4L",
           "Thaumamermis cosgrovei"
          ],
          [
           "ND6",
           "Thaumamermis cosgrovei"
          ],
          [
           "ND2",
           "Thaumamermis cosgrovei"
          ],
          [
           "ND3",
           "Thaumamermis cosgrovei"
          ],
          [
           "COX2",
           "Thaumamermis cosgrovei"
          ],
          [
           "COX1",
           "Thaumamermis cosgrovei"
          ],
          [
           "COX3",
           "Thaumamermis cosgrovei"
          ],
          [
           "ND1",
           "Thaumamermis cosgrovei"
          ],
          [
           "CYTB",
           "Thaumamermis cosgrovei"
          ],
          [
           "ND4",
           "Thaumamermis cosgrovei"
          ],
          [
           "ATP6",
           "Thaumamermis cosgrovei"
          ],
          [
           "COX1",
           "Strelkovimermis spiculatus"
          ],
          [
           "COX3",
           "Strelkovimermis spiculatus"
          ],
          [
           "COX2",
           "Strelkovimermis spiculatus"
          ],
          [
           "ATP6",
           "Strelkovimermis spiculatus"
          ],
          [
           "ND6",
           "Strelkovimermis spiculatus"
          ],
          [
           "ND5",
           "Strelkovimermis spiculatus"
          ],
          [
           "ND3",
           "Strelkovimermis spiculatus"
          ],
          [
           "CYTB",
           "Strelkovimermis spiculatus"
          ],
          [
           "ND4L",
           "Strelkovimermis spiculatus"
          ],
          [
           "ND2",
           "Strelkovimermis spiculatus"
          ],
          [
           "ND4",
           "Strelkovimermis spiculatus"
          ],
          [
           "ND1",
           "Strelkovimermis spiculatus"
          ],
          [
           "ND2",
           "Agamermis sp. BH-2006"
          ],
          [
           "ATP6",
           "Agamermis sp. BH-2006"
          ],
          [
           "ND5",
           "Agamermis sp. BH-2006"
          ],
          [
           "COX1",
           "Agamermis sp. BH-2006"
          ],
          [
           "ND4L",
           "Agamermis sp. BH-2006"
          ],
          [
           "COX3",
           "Agamermis sp. BH-2006"
          ],
          [
           "COX2",
           "Agamermis sp. BH-2006"
          ],
          [
           "CYTB",
           "Agamermis sp. BH-2006"
          ],
          [
           "ND1",
           "Agamermis sp. BH-2006"
          ],
          [
           "ND6",
           "Agamermis sp. BH-2006"
          ],
          [
           "ND4",
           "Agamermis sp. BH-2006"
          ],
          [
           "ND3",
           "Agamermis sp. BH-2006"
          ],
          [
           "ND6",
           "Heterorhabditis bacteriophora"
          ],
          [
           "ND4L",
           "Heterorhabditis bacteriophora"
          ],
          [
           "ND1",
           "Heterorhabditis bacteriophora"
          ],
          [
           "ATP6",
           "Heterorhabditis bacteriophora"
          ],
          [
           "ND2",
           "Heterorhabditis bacteriophora"
          ],
          [
           "COX1",
           "Heterorhabditis bacteriophora"
          ],
          [
           "COX2",
           "Heterorhabditis bacteriophora"
          ],
          [
           "ND3",
           "Heterorhabditis bacteriophora"
          ],
          [
           "CYTB",
           "Heterorhabditis bacteriophora"
          ],
          [
           "COX3",
           "Heterorhabditis bacteriophora"
          ],
          [
           "ND4",
           "Heterorhabditis bacteriophora"
          ],
          [
           "ND5",
           "Heterorhabditis bacteriophora"
          ],
          [
           "COX2",
           "Romanomermis culicivorax"
          ],
          [
           "ND4L",
           "Romanomermis culicivorax"
          ],
          [
           "ND6",
           "Romanomermis culicivorax"
          ],
          [
           "ND2",
           "Romanomermis culicivorax"
          ],
          [
           "COX3",
           "Romanomermis culicivorax"
          ],
          [
           "ND4",
           "Romanomermis culicivorax"
          ],
          [
           "ND3",
           "Romanomermis culicivorax"
          ],
          [
           "ND3",
           "Romanomermis culicivorax"
          ],
          [
           "CYTB",
           "Romanomermis culicivorax"
          ],
          [
           "ATP6",
           "Romanomermis culicivorax"
          ],
          [
           "ND5",
           "Romanomermis culicivorax"
          ],
          [
           "COX1",
           "Romanomermis culicivorax"
          ],
          [
           "ND3",
           "Romanomermis culicivorax"
          ],
          [
           "ND1",
           "Romanomermis culicivorax"
          ],
          [
           "COX2",
           "Romanomermis nielseni"
          ],
          [
           "ND4L",
           "Romanomermis nielseni"
          ],
          [
           "ND6",
           "Romanomermis nielseni"
          ],
          [
           "ND2",
           "Romanomermis nielseni"
          ],
          [
           "ND5",
           "Romanomermis nielseni"
          ],
          [
           "ATP6",
           "Romanomermis nielseni"
          ],
          [
           "ND1",
           "Romanomermis nielseni"
          ],
          [
           "CYTB",
           "Romanomermis nielseni"
          ],
          [
           "COX1",
           "Romanomermis nielseni"
          ],
          [
           "COX3",
           "Romanomermis nielseni"
          ],
          [
           "ND4",
           "Romanomermis nielseni"
          ],
          [
           "ND3",
           "Romanomermis nielseni"
          ],
          [
           "ND4L",
           "Romanomermis iyengari"
          ],
          [
           "ND6",
           "Romanomermis iyengari"
          ],
          [
           "ND2",
           "Romanomermis iyengari"
          ],
          [
           "ND3",
           "Romanomermis iyengari"
          ],
          [
           "ND3",
           "Romanomermis iyengari"
          ],
          [
           "ND4",
           "Romanomermis iyengari"
          ],
          [
           "COX2",
           "Romanomermis iyengari"
          ],
          [
           "COX1",
           "Romanomermis iyengari"
          ],
          [
           "CYTB",
           "Romanomermis iyengari"
          ],
          [
           "ND1",
           "Romanomermis iyengari"
          ],
          [
           "COX3",
           "Romanomermis iyengari"
          ],
          [
           "ND5",
           "Romanomermis iyengari"
          ],
          [
           "ATP6",
           "Romanomermis iyengari"
          ],
          [
           "COX1",
           "Hexamermis agrotis"
          ],
          [
           "ND1",
           "Hexamermis agrotis"
          ],
          [
           "ND6",
           "Hexamermis agrotis"
          ],
          [
           "COX3",
           "Hexamermis agrotis"
          ],
          [
           "ATP6",
           "Hexamermis agrotis"
          ],
          [
           "ATP6",
           "Hexamermis agrotis"
          ],
          [
           "ATP6",
           "Hexamermis agrotis"
          ],
          [
           "ND5",
           "Hexamermis agrotis"
          ],
          [
           "ND4",
           "Hexamermis agrotis"
          ],
          [
           "ND4L",
           "Hexamermis agrotis"
          ],
          [
           "ND2",
           "Hexamermis agrotis"
          ],
          [
           "CYTB",
           "Hexamermis agrotis"
          ],
          [
           "COX2",
           "Hexamermis agrotis"
          ],
          [
           "ND3",
           "Hexamermis agrotis"
          ],
          [
           "COX1",
           "Haemonchus contortus"
          ],
          [
           "COX2",
           "Haemonchus contortus"
          ],
          [
           "ND3",
           "Haemonchus contortus"
          ],
          [
           "ND5",
           "Haemonchus contortus"
          ],
          [
           "ND6",
           "Haemonchus contortus"
          ],
          [
           "ND4L",
           "Haemonchus contortus"
          ],
          [
           "ND1",
           "Haemonchus contortus"
          ],
          [
           "ATP6",
           "Haemonchus contortus"
          ],
          [
           "ND2",
           "Haemonchus contortus"
          ],
          [
           "CYTB",
           "Haemonchus contortus"
          ],
          [
           "COX3",
           "Haemonchus contortus"
          ],
          [
           "ND4",
           "Haemonchus contortus"
          ],
          [
           "ND1",
           "Enterobius vermicularis"
          ],
          [
           "ATP6",
           "Enterobius vermicularis"
          ],
          [
           "ND2",
           "Enterobius vermicularis"
          ],
          [
           "ND6",
           "Enterobius vermicularis"
          ],
          [
           "CYTB",
           "Enterobius vermicularis"
          ],
          [
           "COX3",
           "Enterobius vermicularis"
          ],
          [
           "ND4",
           "Enterobius vermicularis"
          ],
          [
           "ND4L",
           "Enterobius vermicularis"
          ],
          [
           "ND3",
           "Enterobius vermicularis"
          ],
          [
           "ND5",
           "Enterobius vermicularis"
          ],
          [
           "COX2",
           "Enterobius vermicularis"
          ],
          [
           "COX1",
           "Enterobius vermicularis"
          ],
          [
           "ND1",
           "Homo sapiens"
          ],
          [
           "ND2",
           "Homo sapiens"
          ],
          [
           "COX1",
           "Homo sapiens"
          ],
          [
           "COX2",
           "Homo sapiens"
          ],
          [
           "ATP8",
           "Homo sapiens"
          ],
          [
           "ATP6",
           "Homo sapiens"
          ],
          [
           "COX3",
           "Homo sapiens"
          ],
          [
           "ND3",
           "Homo sapiens"
          ],
          [
           "ND4L",
           "Homo sapiens"
          ],
          [
           "ND4",
           "Homo sapiens"
          ],
          [
           "ND5",
           "Homo sapiens"
          ],
          [
           "ND6",
           "Homo sapiens"
          ],
          [
           "CYTB",
           "Homo sapiens"
          ],
          [
           "COX1",
           "Trichuris suis"
          ],
          [
           "COX2",
           "Trichuris suis"
          ],
          [
           "ND1",
           "Trichuris suis"
          ],
          [
           "ND2",
           "Trichuris suis"
          ],
          [
           "ND5",
           "Trichuris suis"
          ],
          [
           "ND4",
           "Trichuris suis"
          ],
          [
           "ND4L",
           "Trichuris suis"
          ],
          [
           "ND6",
           "Trichuris suis"
          ],
          [
           "CYTB",
           "Trichuris suis"
          ],
          [
           "ATP6",
           "Trichuris suis"
          ],
          [
           "COX3",
           "Trichuris suis"
          ],
          [
           "ATP8",
           "Trichuris suis"
          ],
          [
           "ND3",
           "Trichuris suis"
          ],
          [
           "COX1",
           "Trichuris ovis"
          ],
          [
           "COX2",
           "Trichuris ovis"
          ],
          [
           "ND1",
           "Trichuris ovis"
          ],
          [
           "ND2",
           "Trichuris ovis"
          ],
          [
           "ND5",
           "Trichuris ovis"
          ],
          [
           "ND4",
           "Trichuris ovis"
          ],
          [
           "ND4L",
           "Trichuris ovis"
          ],
          [
           "ND6",
           "Trichuris ovis"
          ],
          [
           "CYTB",
           "Trichuris ovis"
          ],
          [
           "ATP6",
           "Trichuris ovis"
          ],
          [
           "COX3",
           "Trichuris ovis"
          ],
          [
           "ATP8",
           "Trichuris ovis"
          ],
          [
           "ND3",
           "Trichuris ovis"
          ],
          [
           "COX1",
           "Toxascaris leonina"
          ],
          [
           "COX2",
           "Toxascaris leonina"
          ],
          [
           "ND3",
           "Toxascaris leonina"
          ],
          [
           "ND5",
           "Toxascaris leonina"
          ],
          [
           "ND6",
           "Toxascaris leonina"
          ],
          [
           "ND4L",
           "Toxascaris leonina"
          ],
          [
           "ND1",
           "Toxascaris leonina"
          ],
          [
           "ATP6",
           "Toxascaris leonina"
          ],
          [
           "ND2",
           "Toxascaris leonina"
          ],
          [
           "CYTB",
           "Toxascaris leonina"
          ],
          [
           "COX3",
           "Toxascaris leonina"
          ],
          [
           "ND4",
           "Toxascaris leonina"
          ],
          [
           "ND2",
           "Drosophila melanogaster"
          ],
          [
           "COX1",
           "Drosophila melanogaster"
          ],
          [
           "COX2",
           "Drosophila melanogaster"
          ],
          [
           "ATP8",
           "Drosophila melanogaster"
          ],
          [
           "ATP6",
           "Drosophila melanogaster"
          ],
          [
           "COX3",
           "Drosophila melanogaster"
          ],
          [
           "ND3",
           "Drosophila melanogaster"
          ],
          [
           "ND5",
           "Drosophila melanogaster"
          ],
          [
           "ND4",
           "Drosophila melanogaster"
          ],
          [
           "ND4L",
           "Drosophila melanogaster"
          ],
          [
           "ND6",
           "Drosophila melanogaster"
          ],
          [
           "CYTB",
           "Drosophila melanogaster"
          ],
          [
           "ND1",
           "Drosophila melanogaster"
          ],
          [
           "COX2",
           "Trichinella britovi"
          ],
          [
           "ND1",
           "Trichinella britovi"
          ],
          [
           "ND2",
           "Trichinella britovi"
          ],
          [
           "ND5",
           "Trichinella britovi"
          ],
          [
           "ND4",
           "Trichinella britovi"
          ],
          [
           "ND4L",
           "Trichinella britovi"
          ],
          [
           "ND6",
           "Trichinella britovi"
          ],
          [
           "CYTB",
           "Trichinella britovi"
          ],
          [
           "ATP6",
           "Trichinella britovi"
          ],
          [
           "COX3",
           "Trichinella britovi"
          ],
          [
           "ATP8",
           "Trichinella britovi"
          ],
          [
           "ND3",
           "Trichinella britovi"
          ],
          [
           "COX1",
           "Trichinella britovi"
          ],
          [
           "COX2",
           "Trichinella murrelli"
          ],
          [
           "ND1",
           "Trichinella murrelli"
          ],
          [
           "ND2",
           "Trichinella murrelli"
          ],
          [
           "ND5",
           "Trichinella murrelli"
          ],
          [
           "ND4",
           "Trichinella murrelli"
          ],
          [
           "ND4L",
           "Trichinella murrelli"
          ],
          [
           "ND6",
           "Trichinella murrelli"
          ],
          [
           "CYTB",
           "Trichinella murrelli"
          ],
          [
           "ATP6",
           "Trichinella murrelli"
          ],
          [
           "COX3",
           "Trichinella murrelli"
          ],
          [
           "ATP8",
           "Trichinella murrelli"
          ],
          [
           "ND3",
           "Trichinella murrelli"
          ],
          [
           "COX1",
           "Trichinella murrelli"
          ],
          [
           "COX1",
           "Gnathostoma spinigerum"
          ],
          [
           "COX2",
           "Gnathostoma spinigerum"
          ],
          [
           "ND3",
           "Gnathostoma spinigerum"
          ],
          [
           "ND5",
           "Gnathostoma spinigerum"
          ],
          [
           "ND2",
           "Gnathostoma spinigerum"
          ],
          [
           "CYTB",
           "Gnathostoma spinigerum"
          ],
          [
           "COX3",
           "Gnathostoma spinigerum"
          ],
          [
           "ND4",
           "Gnathostoma spinigerum"
          ],
          [
           "ND1",
           "Gnathostoma spinigerum"
          ],
          [
           "ATP6",
           "Gnathostoma spinigerum"
          ],
          [
           "ND6",
           "Gnathostoma spinigerum"
          ],
          [
           "ND4L",
           "Gnathostoma spinigerum"
          ],
          [
           "ND4L",
           "Xiphinema rivesi"
          ],
          [
           "ND5",
           "Xiphinema rivesi"
          ],
          [
           "ND6",
           "Xiphinema rivesi"
          ],
          [
           "COX3",
           "Xiphinema rivesi"
          ],
          [
           "ND1",
           "Xiphinema rivesi"
          ],
          [
           "COX1",
           "Xiphinema rivesi"
          ],
          [
           "CYTB",
           "Xiphinema rivesi"
          ],
          [
           "ATP6",
           "Xiphinema rivesi"
          ],
          [
           "ND4",
           "Xiphinema rivesi"
          ],
          [
           "ND2",
           "Xiphinema rivesi"
          ],
          [
           "COX2",
           "Xiphinema rivesi"
          ],
          [
           "ND3",
           "Xiphinema rivesi"
          ],
          [
           "COX1",
           "Parascaris equorum"
          ],
          [
           "COX2",
           "Parascaris equorum"
          ],
          [
           "ND3",
           "Parascaris equorum"
          ],
          [
           "ND5",
           "Parascaris equorum"
          ],
          [
           "ND6",
           "Parascaris equorum"
          ],
          [
           "ND4L",
           "Parascaris equorum"
          ],
          [
           "ND1",
           "Parascaris equorum"
          ],
          [
           "ATP6",
           "Parascaris equorum"
          ],
          [
           "ND2",
           "Parascaris equorum"
          ],
          [
           "CYTB",
           "Parascaris equorum"
          ],
          [
           "COX3",
           "Parascaris equorum"
          ],
          [
           "ND4",
           "Parascaris equorum"
          ],
          [
           "COX1",
           "Diploscapter pachys (synthetic DNA construct)"
          ],
          [
           "COX2",
           "Diploscapter pachys (synthetic DNA construct)"
          ],
          [
           "COX2",
           "Diploscapter pachys (synthetic DNA construct)"
          ],
          [
           "COX2",
           "Diploscapter pachys (synthetic DNA construct)"
          ],
          [
           "ND3",
           "Diploscapter pachys (synthetic DNA construct)"
          ],
          [
           "ND3",
           "Diploscapter pachys (synthetic DNA construct)"
          ],
          [
           "DPA-NDUO-5",
           "Diploscapter pachys (synthetic DNA construct)"
          ],
          [
           "DPA-NDUO-6",
           "Diploscapter pachys (synthetic DNA construct)"
          ],
          [
           "DPA-NDFL-4",
           "Diploscapter pachys (synthetic DNA construct)"
          ],
          [
           "DPA-NDUO-1",
           "Diploscapter pachys (synthetic DNA construct)"
          ],
          [
           "DPA-ATP-6",
           "Diploscapter pachys (synthetic DNA construct)"
          ],
          [
           "DPA-NDUO-2",
           "Diploscapter pachys (synthetic DNA construct)"
          ],
          [
           "DPA-CTB-1",
           "Diploscapter pachys (synthetic DNA construct)"
          ],
          [
           "DPA-CTC-3",
           "Diploscapter pachys (synthetic DNA construct)"
          ],
          [
           "ND4",
           "Diploscapter pachys (synthetic DNA construct)"
          ],
          [
           "ND4",
           "Diploscapter pachys (synthetic DNA construct)"
          ]
         ],
         "hovertemplate": "Color=Other<br>Median=%{x}<br>Gainers=%{y}<br>GenName=%{customdata[0]}<br>OrganismName=%{customdata[1]}<extra></extra>",
         "legendgroup": "Other",
         "marker": {
          "color": "#636efa",
          "symbol": "circle"
         },
         "mode": "markers",
         "name": "Other",
         "orientation": "v",
         "showlegend": true,
         "type": "scatter",
         "x": [
          0,
          0.3478260869565217,
          0.27045454545454545,
          0,
          0.3205128205128205,
          0.3405797101449275,
          0,
          0.11218724778046806,
          0.04545454545454545,
          0.37229437229437223,
          0,
          0.12280701754385959,
          0.2517543859649122,
          0.16233766233766228,
          0,
          0.11038961038961036,
          0,
          0,
          0.27884615384615385,
          0,
          0,
          0.23787878787878786,
          0,
          0.1769230769230769,
          0,
          0,
          0,
          0,
          0,
          0.12670565302144246,
          0,
          0.0809523809523809,
          0.14166666666666666,
          0.2019230769230769,
          0,
          0,
          0.30952380952380953,
          0.29156010230179025,
          0.22567287784679085,
          0.23026315789473678,
          0.18907563025210078,
          0.2222222222222222,
          0.30459770114942525,
          0.3333333333333333,
          0,
          0.2849561134925495,
          0.16666666666666666,
          0,
          0.2509803921568627,
          0.3666666666666667,
          0,
          0.25396825396825395,
          0.20460358056265981,
          0.457516339869281,
          0.1630284609008013,
          0.41428571428571426,
          0,
          0.3367729831144465,
          0,
          0,
          0.2857142857142857,
          0.37229437229437223,
          0.25279106858054223,
          0.3333333333333333,
          0.3443223443223443,
          0.3787629994526546,
          0.3798076923076923,
          0.4722222222222222,
          0.5333333333333333,
          0.4444444444444444,
          0.32625994694960214,
          0,
          0,
          0,
          0.037037037037037,
          0,
          0.03125,
          0,
          0,
          0.0625,
          0,
          0.04166666666666665,
          0,
          0,
          0,
          0,
          0.1904761904761904,
          0.1701149425287356,
          0.2344196683819325,
          0.2598822539949537,
          0.3636363636363636,
          0.5868385345997287,
          0.2583333333333333,
          0.30519480519480513,
          0,
          0.4083333333333333,
          0,
          0,
          0,
          0,
          0.14459930313588845,
          0,
          0,
          0,
          0.1304131408661025,
          0,
          0,
          0.07151979565772665,
          0.3,
          0.2540322580645161,
          0,
          0.43650793650793646,
          0.21666666666666662,
          0,
          0.3333333333333333,
          0,
          0,
          0.26666666666666666,
          0.5,
          0.4857142857142857,
          0,
          0.1422558922558922,
          0,
          0,
          1.2,
          1.5857142857142859,
          1.6181818181818182,
          1.6108108108108108,
          0.8035714285714286,
          1.2153846153846155,
          1.4875,
          1.6333333333333333,
          1.6369047619047619,
          1,
          0.6895868704018109,
          0.5108695652173914,
          0.4888888888888889,
          0,
          0.1333333333333333,
          0.9545454545454546,
          0.9444444444444444,
          0.873015873015873,
          0.8,
          0.8285714285714285,
          0.8861689106487147,
          0.8528428093645486,
          0,
          0.7471264367816092,
          0.8,
          0,
          1.164021164021164,
          1,
          1.1547619047619047,
          1,
          1.0333333333333334,
          0.7386363636363636,
          0.6666666666666666,
          0.9666666666666666,
          0.6666666666666666,
          0.8333333333333333,
          0.9864864864864865,
          0.30519480519480513,
          0.633249791144528,
          0,
          0.8689075630252101,
          0,
          0.8436363636363636,
          1,
          0.8333333333333333,
          0.26216216216216215,
          0.6666666666666666,
          0.6533333333333333,
          0.4526854219948848,
          0,
          0.8375,
          0.9,
          0.4857142857142857,
          0.6436781609195402,
          0.6727272727272727,
          0.6190476190476191,
          0.1111111111111111,
          0,
          0,
          0.17777777777777776,
          0.037037037037037,
          0.27192982456140347,
          0.1961722488038277,
          0,
          0,
          0.2352941176470588,
          0.1833333333333333,
          0.19090909090909092,
          0.2111111111111111,
          0.8,
          0,
          0.2777777777777778,
          0.1435406698564593,
          0.6296296296296295,
          0.6491228070175439,
          0.2564705882352941,
          0.2564705882352941,
          0.6190476190476191,
          0.7076923076923077,
          0.5833333333333333,
          0.6491228070175439,
          0.2564705882352941,
          1,
          0.8166666666666667,
          0,
          0.4,
          0.4222222222222222,
          0.6333333333333333,
          0.457516339869281,
          0.5357142857142857,
          0.638157894736842,
          0.6491228070175439,
          0.5714285714285714,
          0.8571428571428571,
          0.3431372549019608,
          0.1111111111111111,
          0.0625,
          0.6318681318681318,
          0.6944444444444444,
          0.6944444444444444,
          1,
          0.696969696969697,
          0.743421052631579,
          0.7870967741935484,
          0.9705882352941175,
          0.5576923076923077,
          0.7916666666666667,
          0.6260162601626016,
          0.6158059467918623,
          0.5333333333333333,
          0.21978021978021975,
          0.7386363636363636,
          0.8210526315789474,
          0.8210526315789474,
          0.8210526315789474,
          0.7333333333333334,
          0.5079365079365079,
          0.1875,
          0.6214285714285714,
          0.7204301075268817,
          1,
          0,
          0.33809523809523806,
          0,
          0,
          0.46428571428571425,
          0,
          0,
          0.2967032967032967,
          0,
          0,
          0.3246753246753247,
          0.1526315789473684,
          0.5714285714285714,
          0,
          0,
          0,
          0.1111111111111111,
          0.32666666666666666,
          0,
          0.01694915254237285,
          0,
          0,
          0.1052631578947368,
          0,
          0.09285714285714286,
          1.6696428571428572,
          1.5,
          1.5147058823529411,
          1.4545454545454546,
          1.0454545454545454,
          1.5874125874125875,
          1.5441176470588234,
          1.3333333333333333,
          1.3333333333333333,
          1.7888888888888888,
          1.6794871794871795,
          0,
          1.6774193548387095,
          0.9680851063829787,
          1.2,
          1.1666666666666665,
          1.06,
          1.0714285714285714,
          0.8452380952380952,
          0,
          1,
          0.8285714285714285,
          1.1454545454545455,
          1.1555555555555554,
          0,
          1,
          1,
          1.2521739130434781,
          1.101010101010101,
          1,
          0.9454545454545454,
          1.1930232558139535,
          0,
          0.5,
          0.7125,
          1.0333333333333334,
          1.0909090909090908,
          0.3333333333333333,
          0.9285714285714286,
          0.03448275862068965,
          0,
          0,
          0.075,
          0,
          0,
          0.10230179028132991,
          0,
          0,
          0.0621610346266166,
          0,
          0.13613684960798286,
          0.4103896103896103,
          0.6564102564102564,
          0.3636363636363636,
          0,
          0.5454545454545454,
          0.6022727272727273,
          0.6666666666666666,
          0.1800766283524904,
          0.10122448979591836,
          0,
          0.36507936507936506,
          0.5634920634920635,
          0,
          1.577777777777778,
          1.55,
          0,
          0.09039836567926454,
          0,
          0,
          1.393939393939394,
          1.7000000000000002,
          1.5692307692307692,
          1.6904761904761905,
          1.8,
          1.0333333333333334,
          1.4313725490196076,
          1.7823529411764705,
          1.3842105263157896,
          0,
          0.0375,
          0,
          0,
          1.303030303030303,
          1.5857142857142859,
          1.4715099715099715,
          1.6125,
          1.4166666666666665,
          1.0714285714285714,
          1.547314578005115,
          0.1509433962264151,
          0,
          0,
          0.1339285714285714,
          0.233695652173913,
          0.1607396870554765,
          0.1077235772357723,
          0.2477718360071301,
          0.18431372549019603,
          0,
          0,
          0,
          0,
          0.8321428571428572,
          1,
          0.7299539170506912,
          1,
          0.5534290271132376,
          0.8285714285714285,
          0.7333333333333334,
          0.8705882352941177,
          0.33513513513513515,
          0.5904139433551199,
          0,
          0.14213836477987418,
          0,
          0,
          0.1538461538461538,
          0,
          0,
          0.05555555555555555,
          0,
          0.14358974358974355,
          0.2361111111111111,
          0.0222222222222222,
          0.2582417582417582,
          0.04545454545454545,
          0,
          0.05,
          0.1245421245421245,
          0,
          0,
          0.12237762237762234,
          0,
          0,
          0,
          0,
          0.15757575757575754,
          0.03076923076923075,
          0,
          0.1357466063348416,
          0.1483516483516483
         ],
         "xaxis": "x",
         "y": [
          0.1138790035587188,
          0.0951219512195122,
          0.1985428051001821,
          0.0596026490066225,
          0.1519337016574585,
          0.1423076923076923,
          0.0625,
          0.0958904109589041,
          0.1134020618556701,
          0.1845493562231759,
          0.0530973451327433,
          0.1071428571428571,
          0.1919385796545105,
          0.1695652173913043,
          0.1052631578947368,
          0.141491395793499,
          0.0758620689655172,
          0.0641025641025641,
          0.127147766323024,
          0.1262626262626262,
          0.1345454545454545,
          0.1607629427792915,
          0.1647058823529411,
          0.1344743276283618,
          0.1258741258741259,
          0.0909090909090909,
          0.1379310344827586,
          0.15,
          0.1433691756272401,
          0.1766304347826087,
          0.1732283464566929,
          0.1320293398533007,
          0.2026515151515151,
          0.1853448275862069,
          0.0714285714285714,
          0.1688804554079696,
          0.1237113402061855,
          0.135,
          0.1565836298932384,
          0.1517615176151761,
          0.15234375,
          0.1246943765281173,
          0.1824953445065177,
          0.1853448275862069,
          0.1071428571428571,
          0.1666666666666666,
          0.1319444444444444,
          0.0519480519480519,
          0.127147766323024,
          0.145,
          0.1743772241992882,
          0.1571815718157181,
          0.15625,
          0.1390243902439024,
          0.1918063314711359,
          0.1923076923076923,
          0.1034482758620689,
          0.1647727272727272,
          0.1172413793103448,
          0.0769230769230769,
          0.1241379310344827,
          0.1507537688442211,
          0.1565836298932384,
          0.1544715447154471,
          0.15625,
          0.1323529411764706,
          0.2017857142857143,
          0.1794871794871795,
          0.0956521739130434,
          0.1666666666666666,
          0.1241379310344827,
          0.0759493670886076,
          0.1138790035587188,
          0.0926829268292682,
          0.2062043795620438,
          0.0592105263157894,
          0.1629834254143646,
          0.1384615384615384,
          0.050632911392405,
          0.0927835051546391,
          0.1134020618556701,
          0.1974248927038626,
          0.0535714285714285,
          0.1015037593984962,
          0.1034482758620689,
          0.0779220779220779,
          0.1301369863013698,
          0.17,
          0.1943462897526501,
          0.1886792452830188,
          0.171875,
          0.1390243902439024,
          0.1958174904942966,
          0.2068965517241379,
          0.0982142857142857,
          0.1856060606060606,
          0.0291970802919708,
          0.0259740259740259,
          0.1095890410958904,
          0.1407035175879397,
          0.1107142857142857,
          0.154054054054054,
          0.1607843137254902,
          0.1158690176322418,
          0.2011494252873563,
          0.1965811965811965,
          0.0654205607476635,
          0.1445086705202312,
          0.2095238095238095,
          0.1580756013745704,
          0.1390374331550802,
          0.1335012594458438,
          0.16,
          0.1130434782608695,
          0.1574952561669829,
          0.1095890410958904,
          0.0769230769230769,
          0.1643835616438356,
          0.1821705426356589,
          0.2008547008547008,
          0.1047297297297297,
          0.1194605009633911,
          0.116504854368932,
          0.048780487804878,
          0.2802547770700637,
          0.2177419354838709,
          0.3321299638989169,
          0.3062015503875969,
          0.3333333333333333,
          0.1282051282051282,
          0.2213592233009708,
          0.252212389380531,
          0.24,
          0.1504854368932038,
          0.1377551020408163,
          0.1505376344086021,
          0.178743961352657,
          0.0849056603773584,
          0.0777777777777777,
          0.1841085271317829,
          0.1564625850340136,
          0.176,
          0.1448275862068965,
          0.2011605415860735,
          0.1416893732970027,
          0.1812366737739872,
          0.1875,
          0.218978102189781,
          0.2080291970802919,
          0.1826923076923076,
          0.2300884955752212,
          0.1647058823529411,
          0.1450980392156863,
          0.2006802721088435,
          0.1848739495798319,
          0.1979949874686716,
          0.1629213483146067,
          0.1794871794871795,
          0.1627906976744186,
          0.217391304347826,
          0.2171717171717171,
          0.1748251748251748,
          0.1979797979797979,
          0.1858407079646017,
          0.1815642458100558,
          0.1585365853658536,
          0.1808118081180811,
          0.1763157894736842,
          0.1799307958477508,
          0.1684981684981685,
          0.2,
          0.2025316455696202,
          0.1929824561403508,
          0.1098901098901098,
          0.1732283464566929,
          0.235042735042735,
          0.2038043478260869,
          0.1864951768488746,
          0.2142857142857142,
          0.187012987012987,
          0.1698113207547169,
          0.0896551724137931,
          0.0759493670886076,
          0.1237113402061855,
          0.1507537688442211,
          0.1773049645390071,
          0.1984877126654064,
          0.1896551724137931,
          0.0973451327433628,
          0.1725067385444744,
          0.1484375,
          0.1442542787286063,
          0.1723484848484848,
          0.1936936936936936,
          0.1573033707865168,
          0.168,
          0.2043010752688172,
          0.1620553359683794,
          0.1798941798941798,
          0.1949152542372881,
          0.1949152542372881,
          0.2011019283746556,
          0.1837837837837838,
          0.1950207468879668,
          0.189453125,
          0.1949152542372881,
          0.18,
          0.2207207207207207,
          0.1348314606741573,
          0.144,
          0.1906474820143885,
          0.2044534412955465,
          0.1630434782608695,
          0.1503267973856209,
          0.195054945054945,
          0.1851851851851851,
          0.1739130434782608,
          0.2005277044854881,
          0.205607476635514,
          0.1630434782608695,
          0.1788617886178861,
          0.1915708812260536,
          0.1810344827586207,
          0.1810344827586207,
          0.2037037037037037,
          0.2162162162162162,
          0.18359375,
          0.2078651685393258,
          0.1743421052631578,
          0.2055335968379446,
          0.2012320328542094,
          0.2072538860103626,
          0.1900191938579654,
          0.1586206896551724,
          0.1897810218978102,
          0.1550387596899224,
          0.1931818181818181,
          0.1931818181818181,
          0.1931818181818181,
          0.1779661016949152,
          0.1914893617021276,
          0.1097560975609756,
          0.1827956989247312,
          0.2,
          0.2366071428571428,
          0.1965811965811965,
          0.1954459203036053,
          0.2077922077922078,
          0.125,
          0.1840607210626186,
          0.1156462585034013,
          0.0779220779220779,
          0.1099656357388316,
          0.15,
          0.2127659574468085,
          0.1805929919137466,
          0.16015625,
          0.1609756097560975,
          0.09375,
          0.1084905660377358,
          0.0992907801418439,
          0.0625,
          0.1612903225806451,
          0.1377952755905512,
          0.0833333333333333,
          0.0256410256410256,
          0.072072072072072,
          0.1309297912713472,
          0.1625,
          0.1692015209125475,
          0.2672955974842767,
          0.3227665706051873,
          0.2217898832684824,
          0.2631578947368421,
          0.5217391304347826,
          0.3083700440528634,
          0.2758620689655172,
          0.217391304347826,
          0.1717171717171717,
          0.2788671023965142,
          0.3062913907284768,
          0.08,
          0.2578947368421053,
          0.2081712062256809,
          0.2731277533039647,
          0.1666666666666666,
          0.2074829931972789,
          0.2023121387283237,
          0.2063829787234042,
          0.2159090909090909,
          0.1273885350318471,
          0.1805929919137466,
          0.2407407407407407,
          0.2277992277992278,
          0.1929824561403508,
          0.1578947368421052,
          0.2,
          0.2631578947368421,
          0.16,
          0.2026578073089701,
          0.2119460500963391,
          0.170316301703163,
          0.1744186046511628,
          0.1483870967741935,
          0.1752021563342318,
          0.2254545454545454,
          0.2123552123552123,
          0.2631578947368421,
          0.1491228070175438,
          0.182509505703422,
          0.1845493562231759,
          0.0982142857142857,
          0.1404174573055028,
          0.1103448275862069,
          0.0769230769230769,
          0.127147766323024,
          0.12,
          0.1565836298932384,
          0.147945205479452,
          0.1484375,
          0.124390243902439,
          0.2228739002932551,
          0.21484375,
          0.2368421052631578,
          0.2962962962962963,
          0.2444444444444444,
          0.247148288973384,
          0.1694915254237288,
          0.1643356643356643,
          0.1569506726457399,
          0.1134020618556701,
          0.2228571428571428,
          0.2453825857519788,
          0.1405750798722044,
          0.2610619469026549,
          0.23,
          0.1047297297297297,
          0.1290944123314065,
          0.1189320388349514,
          0.0609756097560975,
          0.2903225806451613,
          0.2284946236559139,
          0.3501805054151624,
          0.2906976744186046,
          0.3571428571428571,
          0.1111111111111111,
          0.2286821705426356,
          0.2699115044247787,
          0.2166666666666666,
          0.1081081081081081,
          0.1310211946050096,
          0.1213592233009708,
          0.0609756097560975,
          0.2709677419354839,
          0.2338709677419354,
          0.3501805054151624,
          0.3011583011583011,
          0.3095238095238095,
          0.1111111111111111,
          0.2252427184466019,
          0.1717557251908397,
          0.1572052401746725,
          0.0803571428571428,
          0.1287878787878787,
          0.1552346570397112,
          0.1396648044692737,
          0.14453125,
          0.1127450980392156,
          0.127147766323024,
          0.1243523316062176,
          0.0821917808219178,
          0.0263157894736842,
          0.1,
          0.1926782273603083,
          0.1292517006802721,
          0.176,
          0.1275862068965517,
          0.1957364341085271,
          0.1553133514986376,
          0.1844660194174757,
          0.1198979591836734,
          0.1530249110320284,
          0.1884057971014492,
          0.0934579439252336,
          0.182509505703422,
          0.1845493562231759,
          0.0892857142857142,
          0.1515151515151515,
          0.1310344827586207,
          0.0641025641025641,
          0.1267123287671233,
          0.11,
          0.1565836298932384,
          0.1467391304347826,
          0.15625,
          0.1390243902439024,
          0.2011494252873563,
          0.1974248927038626,
          0.1974248927038626,
          0.1974248927038626,
          0.0654205607476635,
          0.0654205607476635,
          0.1445086705202312,
          0.0291970802919708,
          0.0259740259740259,
          0.1134020618556701,
          0.1414141414141414,
          0.1111111111111111,
          0.154054054054054,
          0.1607843137254902,
          0.1177944862155388,
          0.1177944862155388
         ],
         "yaxis": "y"
        },
        {
         "hovertemplate": "<b>OLS trendline</b><br>Gainers = 0.0855193 * Median + 0.12683<br>R<sup>2</sup>=0.465793<br><br>Color=Other<br>Median=%{x}<br>Gainers=%{y} <b>(trend)</b><extra></extra>",
         "legendgroup": "Other",
         "marker": {
          "color": "#636efa",
          "symbol": "circle"
         },
         "mode": "lines",
         "name": "Other",
         "showlegend": false,
         "type": "scatter",
         "x": [
          0,
          0,
          0,
          0,
          0,
          0,
          0,
          0,
          0,
          0,
          0,
          0,
          0,
          0,
          0,
          0,
          0,
          0,
          0,
          0,
          0,
          0,
          0,
          0,
          0,
          0,
          0,
          0,
          0,
          0,
          0,
          0,
          0,
          0,
          0,
          0,
          0,
          0,
          0,
          0,
          0,
          0,
          0,
          0,
          0,
          0,
          0,
          0,
          0,
          0,
          0,
          0,
          0,
          0,
          0,
          0,
          0,
          0,
          0,
          0,
          0,
          0,
          0,
          0,
          0,
          0,
          0,
          0,
          0,
          0,
          0,
          0,
          0,
          0,
          0,
          0,
          0,
          0,
          0,
          0,
          0,
          0,
          0,
          0,
          0,
          0,
          0,
          0,
          0,
          0,
          0,
          0,
          0,
          0,
          0,
          0,
          0,
          0,
          0,
          0,
          0,
          0,
          0,
          0,
          0,
          0,
          0,
          0,
          0,
          0,
          0,
          0,
          0,
          0,
          0,
          0,
          0,
          0,
          0.01694915254237285,
          0.0222222222222222,
          0.03076923076923075,
          0.03125,
          0.03448275862068965,
          0.037037037037037,
          0.037037037037037,
          0.0375,
          0.04166666666666665,
          0.04545454545454545,
          0.04545454545454545,
          0.05,
          0.05555555555555555,
          0.0621610346266166,
          0.0625,
          0.0625,
          0.07151979565772665,
          0.075,
          0.0809523809523809,
          0.09039836567926454,
          0.09285714285714286,
          0.10122448979591836,
          0.10230179028132991,
          0.1052631578947368,
          0.1077235772357723,
          0.11038961038961036,
          0.1111111111111111,
          0.1111111111111111,
          0.1111111111111111,
          0.11218724778046806,
          0.12237762237762234,
          0.12280701754385959,
          0.1245421245421245,
          0.12670565302144246,
          0.1304131408661025,
          0.1333333333333333,
          0.1339285714285714,
          0.1357466063348416,
          0.13613684960798286,
          0.14166666666666666,
          0.14213836477987418,
          0.1422558922558922,
          0.1435406698564593,
          0.14358974358974355,
          0.14459930313588845,
          0.1483516483516483,
          0.1509433962264151,
          0.1526315789473684,
          0.1538461538461538,
          0.15757575757575754,
          0.1607396870554765,
          0.16233766233766228,
          0.1630284609008013,
          0.16666666666666666,
          0.1701149425287356,
          0.1769230769230769,
          0.17777777777777776,
          0.1800766283524904,
          0.1833333333333333,
          0.18431372549019603,
          0.1875,
          0.18907563025210078,
          0.1904761904761904,
          0.19090909090909092,
          0.1961722488038277,
          0.2019230769230769,
          0.20460358056265981,
          0.2111111111111111,
          0.21666666666666662,
          0.21978021978021975,
          0.2222222222222222,
          0.22567287784679085,
          0.23026315789473678,
          0.233695652173913,
          0.2344196683819325,
          0.2352941176470588,
          0.2361111111111111,
          0.23787878787878786,
          0.2477718360071301,
          0.2509803921568627,
          0.2517543859649122,
          0.25279106858054223,
          0.25396825396825395,
          0.2540322580645161,
          0.2564705882352941,
          0.2564705882352941,
          0.2564705882352941,
          0.2582417582417582,
          0.2583333333333333,
          0.2598822539949537,
          0.26216216216216215,
          0.26666666666666666,
          0.27045454545454545,
          0.27192982456140347,
          0.2777777777777778,
          0.27884615384615385,
          0.2849561134925495,
          0.2857142857142857,
          0.29156010230179025,
          0.2967032967032967,
          0.3,
          0.30459770114942525,
          0.30519480519480513,
          0.30519480519480513,
          0.30952380952380953,
          0.3205128205128205,
          0.3246753246753247,
          0.32625994694960214,
          0.32666666666666666,
          0.3333333333333333,
          0.3333333333333333,
          0.3333333333333333,
          0.3333333333333333,
          0.33513513513513515,
          0.3367729831144465,
          0.33809523809523806,
          0.3405797101449275,
          0.3431372549019608,
          0.3443223443223443,
          0.3478260869565217,
          0.3636363636363636,
          0.3636363636363636,
          0.36507936507936506,
          0.3666666666666667,
          0.37229437229437223,
          0.37229437229437223,
          0.3787629994526546,
          0.3798076923076923,
          0.4,
          0.4083333333333333,
          0.4103896103896103,
          0.41428571428571426,
          0.4222222222222222,
          0.43650793650793646,
          0.4444444444444444,
          0.4526854219948848,
          0.457516339869281,
          0.457516339869281,
          0.46428571428571425,
          0.4722222222222222,
          0.4857142857142857,
          0.4857142857142857,
          0.4888888888888889,
          0.5,
          0.5,
          0.5079365079365079,
          0.5108695652173914,
          0.5333333333333333,
          0.5333333333333333,
          0.5357142857142857,
          0.5454545454545454,
          0.5534290271132376,
          0.5576923076923077,
          0.5634920634920635,
          0.5714285714285714,
          0.5714285714285714,
          0.5833333333333333,
          0.5868385345997287,
          0.5904139433551199,
          0.6022727272727273,
          0.6158059467918623,
          0.6190476190476191,
          0.6190476190476191,
          0.6214285714285714,
          0.6260162601626016,
          0.6296296296296295,
          0.6318681318681318,
          0.633249791144528,
          0.6333333333333333,
          0.638157894736842,
          0.6436781609195402,
          0.6491228070175439,
          0.6491228070175439,
          0.6491228070175439,
          0.6533333333333333,
          0.6564102564102564,
          0.6666666666666666,
          0.6666666666666666,
          0.6666666666666666,
          0.6666666666666666,
          0.6727272727272727,
          0.6895868704018109,
          0.6944444444444444,
          0.6944444444444444,
          0.696969696969697,
          0.7076923076923077,
          0.7125,
          0.7204301075268817,
          0.7299539170506912,
          0.7333333333333334,
          0.7333333333333334,
          0.7386363636363636,
          0.7386363636363636,
          0.743421052631579,
          0.7471264367816092,
          0.7870967741935484,
          0.7916666666666667,
          0.8,
          0.8,
          0.8,
          0.8035714285714286,
          0.8166666666666667,
          0.8210526315789474,
          0.8210526315789474,
          0.8210526315789474,
          0.8285714285714285,
          0.8285714285714285,
          0.8285714285714285,
          0.8321428571428572,
          0.8333333333333333,
          0.8333333333333333,
          0.8375,
          0.8436363636363636,
          0.8452380952380952,
          0.8528428093645486,
          0.8571428571428571,
          0.8689075630252101,
          0.8705882352941177,
          0.873015873015873,
          0.8861689106487147,
          0.9,
          0.9285714285714286,
          0.9444444444444444,
          0.9454545454545454,
          0.9545454545454546,
          0.9666666666666666,
          0.9680851063829787,
          0.9705882352941175,
          0.9864864864864865,
          1,
          1,
          1,
          1,
          1,
          1,
          1,
          1,
          1,
          1,
          1,
          1,
          1,
          1.0333333333333334,
          1.0333333333333334,
          1.0333333333333334,
          1.0454545454545454,
          1.06,
          1.0714285714285714,
          1.0714285714285714,
          1.0909090909090908,
          1.101010101010101,
          1.1454545454545455,
          1.1547619047619047,
          1.1555555555555554,
          1.164021164021164,
          1.1666666666666665,
          1.1930232558139535,
          1.2,
          1.2,
          1.2153846153846155,
          1.2521739130434781,
          1.303030303030303,
          1.3333333333333333,
          1.3333333333333333,
          1.3842105263157896,
          1.393939393939394,
          1.4166666666666665,
          1.4313725490196076,
          1.4545454545454546,
          1.4715099715099715,
          1.4875,
          1.5,
          1.5147058823529411,
          1.5441176470588234,
          1.547314578005115,
          1.55,
          1.5692307692307692,
          1.577777777777778,
          1.5857142857142859,
          1.5857142857142859,
          1.5874125874125875,
          1.6108108108108108,
          1.6125,
          1.6181818181818182,
          1.6333333333333333,
          1.6369047619047619,
          1.6696428571428572,
          1.6774193548387095,
          1.6794871794871795,
          1.6904761904761905,
          1.7000000000000002,
          1.7823529411764705,
          1.7888888888888888,
          1.8
         ],
         "xaxis": "x",
         "y": [
          0.12683002293737342,
          0.12683002293737342,
          0.12683002293737342,
          0.12683002293737342,
          0.12683002293737342,
          0.12683002293737342,
          0.12683002293737342,
          0.12683002293737342,
          0.12683002293737342,
          0.12683002293737342,
          0.12683002293737342,
          0.12683002293737342,
          0.12683002293737342,
          0.12683002293737342,
          0.12683002293737342,
          0.12683002293737342,
          0.12683002293737342,
          0.12683002293737342,
          0.12683002293737342,
          0.12683002293737342,
          0.12683002293737342,
          0.12683002293737342,
          0.12683002293737342,
          0.12683002293737342,
          0.12683002293737342,
          0.12683002293737342,
          0.12683002293737342,
          0.12683002293737342,
          0.12683002293737342,
          0.12683002293737342,
          0.12683002293737342,
          0.12683002293737342,
          0.12683002293737342,
          0.12683002293737342,
          0.12683002293737342,
          0.12683002293737342,
          0.12683002293737342,
          0.12683002293737342,
          0.12683002293737342,
          0.12683002293737342,
          0.12683002293737342,
          0.12683002293737342,
          0.12683002293737342,
          0.12683002293737342,
          0.12683002293737342,
          0.12683002293737342,
          0.12683002293737342,
          0.12683002293737342,
          0.12683002293737342,
          0.12683002293737342,
          0.12683002293737342,
          0.12683002293737342,
          0.12683002293737342,
          0.12683002293737342,
          0.12683002293737342,
          0.12683002293737342,
          0.12683002293737342,
          0.12683002293737342,
          0.12683002293737342,
          0.12683002293737342,
          0.12683002293737342,
          0.12683002293737342,
          0.12683002293737342,
          0.12683002293737342,
          0.12683002293737342,
          0.12683002293737342,
          0.12683002293737342,
          0.12683002293737342,
          0.12683002293737342,
          0.12683002293737342,
          0.12683002293737342,
          0.12683002293737342,
          0.12683002293737342,
          0.12683002293737342,
          0.12683002293737342,
          0.12683002293737342,
          0.12683002293737342,
          0.12683002293737342,
          0.12683002293737342,
          0.12683002293737342,
          0.12683002293737342,
          0.12683002293737342,
          0.12683002293737342,
          0.12683002293737342,
          0.12683002293737342,
          0.12683002293737342,
          0.12683002293737342,
          0.12683002293737342,
          0.12683002293737342,
          0.12683002293737342,
          0.12683002293737342,
          0.12683002293737342,
          0.12683002293737342,
          0.12683002293737342,
          0.12683002293737342,
          0.12683002293737342,
          0.12683002293737342,
          0.12683002293737342,
          0.12683002293737342,
          0.12683002293737342,
          0.12683002293737342,
          0.12683002293737342,
          0.12683002293737342,
          0.12683002293737342,
          0.12683002293737342,
          0.12683002293737342,
          0.12683002293737342,
          0.12683002293737342,
          0.12683002293737342,
          0.12683002293737342,
          0.12683002293737342,
          0.12683002293737342,
          0.12683002293737342,
          0.12683002293737342,
          0.12683002293737342,
          0.12683002293737342,
          0.12683002293737342,
          0.12683002293737342,
          0.12827950210508318,
          0.1287304511794818,
          0.12946138511875424,
          0.12950250015283832,
          0.12977896331305883,
          0.12999740334088736,
          0.12999740334088736,
          0.1300369955959313,
          0.13039332589132663,
          0.13071726252350419,
          0.13071726252350419,
          0.13110598648211724,
          0.13158109354264436,
          0.13214598929671287,
          0.13217497736830322,
          0.13217497736830322,
          0.13294634371657277,
          0.13324396825448917,
          0.13375301153362534,
          0.13456082526035257,
          0.1347710980918977,
          0.13548666750142624,
          0.13557879745347334,
          0.13583205145262361,
          0.13604246472076462,
          0.13627046193226242,
          0.13633216414791527,
          0.13633216414791527,
          0.13633216414791527,
          0.13642419457126193,
          0.13729566797695625,
          0.13733238953849863,
          0.13748077462391484,
          0.1376657980020264,
          0.13798285965935336,
          0.13823259239002367,
          0.13828349671793727,
          0.13843897373758293,
          0.13847234705777361,
          0.13894525298081428,
          0.1389855922595383,
          0.13899564312359747,
          0.13910551636726004,
          0.1391097131171506,
          0.13919604991346188,
          0.13951694774045953,
          0.13973859212905293,
          0.13988296428448618,
          0.13998683384427754,
          0.14030578683596007,
          0.14057636377822844,
          0.140713021459269,
          0.14077209804872387,
          0.1410832347531862,
          0.14137812879075476,
          0.14196035548031316,
          0.1420334488742404,
          0.1422300448992861,
          0.1425085559347675,
          0.14259239835721346,
          0.1428648862301628,
          0.14299963298052237,
          0.1431194078697309,
          0.14315642919912264,
          0.14360653062488513,
          0.1440983372526851,
          0.14432757196957327,
          0.14488409123740298,
          0.14535919829793006,
          0.14562546709009358,
          0.14583430535845715,
          0.14612940291157955,
          0.1465219603144832,
          0.1468155047225892,
          0.14687742206081508,
          0.14695220432440326,
          0.14702207300977488,
          0.1471732434381244,
          0.14801928970098815,
          0.14829368308353857,
          0.1483598744696801,
          0.1484485308111182,
          0.1485492028471834,
          0.14855467643083003,
          0.14876320064923593,
          0.14876320064923593,
          0.14876320064923593,
          0.1489146698168196,
          0.14892250125188325,
          0.14905496381753905,
          0.14924993990170599,
          0.1496351618426739,
          0.14995909847485145,
          0.1500852632684364,
          0.1505853759637281,
          0.15067674270613715,
          0.15119926200029402,
          0.15126410033590965,
          0.15176403030825822,
          0.15220387254354564,
          0.15248580420583646,
          0.15287899625592785,
          0.1529300601585371,
          0.1529300601585371,
          0.15330027345245434,
          0.15424004566009034,
          0.1545960199811646,
          0.15473153572270457,
          0.1547663180963665,
          0.15533644656899903,
          0.15533644656899903,
          0.15533644656899903,
          0.15533644656899903,
          0.15549053534538618,
          0.15563060291041353,
          0.15574368119230794,
          0.15595615143055608,
          0.1561748707934586,
          0.15627621877663503,
          0.15657585629211318,
          0.15792793962641952,
          0.15792793962641952,
          0.15805134405772525,
          0.15818708893216157,
          0.15866836621425395,
          0.15866836621425395,
          0.15922155849252106,
          0.159310899863793,
          0.16103773129532414,
          0.16175039188611479,
          0.16192624320072546,
          0.16225943516525093,
          0.16293815953743251,
          0.16415986340735933,
          0.16483858777954088,
          0.1655433501711156,
          0.16595648674548696,
          0.16595648674548696,
          0.1665353987099948,
          0.16721412308217634,
          0.168367954514885,
          0.168367954514885,
          0.16863944426375763,
          0.16958965838481183,
          0.16958965838481183,
          0.17026838275699338,
          0.17051921567714745,
          0.1724403007479744,
          0.1724403007479744,
          0.17264391805962884,
          0.17347689797094257,
          0.1741588698281585,
          0.17452346247490086,
          0.17501945336226432,
          0.17569817773444588,
          0.17569817773444588,
          0.17671626429271822,
          0.17701602654936016,
          0.17732179289927236,
          0.17833594745360604,
          0.17949329851974277,
          0.17977052396753523,
          0.17977052396753523,
          0.1799741412791897,
          0.18036647707481662,
          0.18067548979711065,
          0.18086692487644393,
          0.18098508337038646,
          0.18099222783746205,
          0.18140482081107767,
          0.1818769099501677,
          0.1823425321147496,
          0.1823425321147496,
          0.1823425321147496,
          0.18270261325535958,
          0.18296574947349767,
          0.18384287020062462,
          0.18384287020062462,
          0.18384287020062462,
          0.18384287020062462,
          0.18436116881210873,
          0.1858029893128162,
          0.18621840550326008,
          0.18621840550326008,
          0.18643436325804513,
          0.1873513531091324,
          0.18776250344997314,
          0.18844068046379003,
          0.1892551497104079,
          0.18954415492694976,
          0.18954415492694976,
          0.18999766621199832,
          0.18999766621199832,
          0.1904068493263279,
          0.1907237310772239,
          0.19414196519011517,
          0.19453277906248423,
          0.19524543965327484,
          0.19524543965327484,
          0.19524543965327484,
          0.19555086562075658,
          0.19667076083485613,
          0.1970458453563249,
          0.1970458453563249,
          0.1970458453563249,
          0.19768884739312848,
          0.19768884739312848,
          0.19768884739312848,
          0.1979942733606102,
          0.1980960820164374,
          0.1980960820164374,
          0.19845241231183275,
          0.1989771896559604,
          0.19911416857470976,
          0.199764518182168,
          0.2001322551329821,
          0.2011383642023336,
          0.2012820940693838,
          0.20148970387734522,
          0.20261454206575874,
          0.20379736674276255,
          0.20624077448261618,
          0.2075982232269793,
          0.2076846063288933,
          0.20846205424611947,
          0.20949865146908764,
          0.209619955399435,
          0.20983402115887148,
          0.2111936280093465,
          0.2123492938322502,
          0.2123492938322502,
          0.2123492938322502,
          0.2123492938322502,
          0.2123492938322502,
          0.2123492938322502,
          0.2123492938322502,
          0.2123492938322502,
          0.2123492938322502,
          0.2123492938322502,
          0.2123492938322502,
          0.2123492938322502,
          0.2123492938322502,
          0.21519993619541278,
          0.21519993619541278,
          0.21519993619541278,
          0.21623653341838098,
          0.21748045008594283,
          0.21845781318188429,
          0.21845781318188429,
          0.22012377300451175,
          0.22098760402365192,
          0.22478846050786866,
          0.22558441908979066,
          0.22565229152700883,
          0.22637626419066917,
          0.226602505648063,
          0.2288565019352148,
          0.22945314801122557,
          0.22945314801122557,
          0.230768829101916,
          0.23391502301443653,
          0.2382642244064553,
          0.24085571746387582,
          0.24085571746387582,
          0.24520669791291344,
          0.24603870357871685,
          0.24798232337178222,
          0.24923995970847157,
          0.25122168969355785,
          0.25267248281544713,
          0.2540399383935027,
          0.25510892927968865,
          0.256366565616378,
          0.2588818382897567,
          0.25915523749338487,
          0.25938489282443244,
          0.2610294941877955,
          0.26176042812706796,
          0.26243915249924954,
          0.26243915249924954,
          0.26258439002224776,
          0.2645853890274993,
          0.2647298472553623,
          0.2652157522036286,
          0.26651149873233887,
          0.26681692469982055,
          0.2696166627350695,
          0.2702817031481345,
          0.2704585420044101,
          0.2713983142120461,
          0.272212783458664,
          0.2792555469441244,
          0.27981449642709744,
          0.28076471054815166
         ],
         "yaxis": "y"
        },
        {
         "customdata": [
          [
           "ND3",
           "Halicephalobus gingivalis"
          ],
          [
           "ND5",
           "Halicephalobus gingivalis"
          ],
          [
           "ND6",
           "Halicephalobus gingivalis"
          ],
          [
           "ND4L",
           "Halicephalobus gingivalis"
          ],
          [
           "ND1",
           "Halicephalobus gingivalis"
          ],
          [
           "ATP6",
           "Halicephalobus gingivalis"
          ],
          [
           "ND2",
           "Halicephalobus gingivalis"
          ],
          [
           "CYTB",
           "Halicephalobus gingivalis"
          ],
          [
           "COX3",
           "Halicephalobus gingivalis"
          ],
          [
           "ND4",
           "Halicephalobus gingivalis"
          ],
          [
           "COX1",
           "Halicephalobus sp. NKZ332"
          ],
          [
           "COX1",
           "Halicephalobus sp. NKZ332"
          ],
          [
           "COX2",
           "Halicephalobus sp. NKZ332"
          ],
          [
           "COX2",
           "Halicephalobus sp. NKZ332"
          ],
          [
           "COX2",
           "Halicephalobus sp. NKZ332"
          ],
          [
           "ND3",
           "Halicephalobus sp. NKZ332"
          ],
          [
           "ND5",
           "Halicephalobus sp. NKZ332"
          ],
          [
           "ND6",
           "Halicephalobus sp. NKZ332"
          ],
          [
           "ND4L",
           "Halicephalobus sp. NKZ332"
          ],
          [
           "ND1",
           "Halicephalobus sp. NKZ332"
          ],
          [
           "ATP6",
           "Halicephalobus sp. NKZ332"
          ],
          [
           "ATP6",
           "Halicephalobus sp. NKZ332"
          ],
          [
           "ND2",
           "Halicephalobus sp. NKZ332"
          ],
          [
           "CYTB",
           "Halicephalobus sp. NKZ332"
          ],
          [
           "CYTB",
           "Halicephalobus sp. NKZ332"
          ],
          [
           "COX3",
           "Halicephalobus sp. NKZ332"
          ],
          [
           "COX3",
           "Halicephalobus sp. NKZ332"
          ],
          [
           "ND4",
           "Halicephalobus sp. NKZ332"
          ]
         ],
         "hovertemplate": "Color=Halicephalobus sp.<br>Median=%{x}<br>Gainers=%{y}<br>GenName=%{customdata[0]}<br>OrganismName=%{customdata[1]}<extra></extra>",
         "legendgroup": "Halicephalobus sp.",
         "marker": {
          "color": "#EF553B",
          "symbol": "circle"
         },
         "mode": "markers",
         "name": "Halicephalobus sp.",
         "orientation": "v",
         "showlegend": true,
         "type": "scatter",
         "x": [
          0,
          0.11557377049180326,
          0,
          0,
          0.1633333333333333,
          0,
          0,
          0.0942350332594235,
          0,
          0.15382395382395375,
          0.14893617021276595,
          0.14999999999999997,
          0,
          0.05,
          0.1245421245421245,
          0,
          0,
          0,
          0,
          0,
          0.037037037037037,
          0.1468253968253968,
          0,
          0.0185185185185185,
          0.0625,
          0,
          0,
          0.25083612040133774
         ],
         "xaxis": "x",
         "y": [
          0.1071428571428571,
          0.1559454191033138,
          0.1159420289855072,
          0.1038961038961039,
          0.1137931034482758,
          0.145,
          0.1484098939929328,
          0.1598915989159891,
          0.1803921568627451,
          0.1283292978208232,
          0.1889312977099236,
          0.1889312977099236,
          0.1919642857142857,
          0.1919642857142857,
          0.1919642857142857,
          0.1043478260869565,
          0.1561904761904761,
          0.1159420289855072,
          0.125,
          0.1126279863481228,
          0.145,
          0.145,
          0.1590214067278287,
          0.1657608695652173,
          0.1657608695652173,
          0.1634980988593156,
          0.1634980988593156,
          0.1195121951219512
         ],
         "yaxis": "y"
        },
        {
         "hovertemplate": "<b>OLS trendline</b><br>Gainers = 0.0457464 * Median + 0.145868<br>R<sup>2</sup>=0.012785<br><br>Color=Halicephalobus sp.<br>Median=%{x}<br>Gainers=%{y} <b>(trend)</b><extra></extra>",
         "legendgroup": "Halicephalobus sp.",
         "marker": {
          "color": "#EF553B",
          "symbol": "circle"
         },
         "mode": "lines",
         "name": "Halicephalobus sp.",
         "showlegend": false,
         "type": "scatter",
         "x": [
          0,
          0,
          0,
          0,
          0,
          0,
          0,
          0,
          0,
          0,
          0,
          0,
          0,
          0,
          0,
          0.0185185185185185,
          0.037037037037037,
          0.05,
          0.0625,
          0.0942350332594235,
          0.11557377049180326,
          0.1245421245421245,
          0.1468253968253968,
          0.14893617021276595,
          0.14999999999999997,
          0.15382395382395375,
          0.1633333333333333,
          0.25083612040133774
         ],
         "xaxis": "x",
         "y": [
          0.14586781629928938,
          0.14586781629928938,
          0.14586781629928938,
          0.14586781629928938,
          0.14586781629928938,
          0.14586781629928938,
          0.14586781629928938,
          0.14586781629928938,
          0.14586781629928938,
          0.14586781629928938,
          0.14586781629928938,
          0.14586781629928938,
          0.14586781629928938,
          0.14586781629928938,
          0.14586781629928938,
          0.14671497166086603,
          0.14756212702244265,
          0.1481551357755463,
          0.14872696564461052,
          0.15017872883768935,
          0.15115489902309637,
          0.1515651688408817,
          0.152584548094647,
          0.1526811083562249,
          0.15272977472806012,
          0.15290470680921686,
          0.15333972658839531,
          0.15734266317014348
         ],
         "yaxis": "y"
        },
        {
         "customdata": [
          [
           "ND6",
           "Caenorhabditis elegans"
          ],
          [
           "ND4L",
           "Caenorhabditis elegans"
          ],
          [
           "ND1",
           "Caenorhabditis elegans"
          ],
          [
           "ATP6",
           "Caenorhabditis elegans"
          ],
          [
           "ND2",
           "Caenorhabditis elegans"
          ],
          [
           "CYTB",
           "Caenorhabditis elegans"
          ],
          [
           "COX3",
           "Caenorhabditis elegans"
          ],
          [
           "ND4",
           "Caenorhabditis elegans"
          ],
          [
           "COX1",
           "Caenorhabditis elegans"
          ],
          [
           "COX2",
           "Caenorhabditis elegans"
          ],
          [
           "ND3",
           "Caenorhabditis elegans"
          ],
          [
           "ND5",
           "Caenorhabditis elegans"
          ]
         ],
         "hovertemplate": "Color=Caenorhabditis elegans<br>Median=%{x}<br>Gainers=%{y}<br>GenName=%{customdata[0]}<br>OrganismName=%{customdata[1]}<extra></extra>",
         "legendgroup": "Caenorhabditis elegans",
         "marker": {
          "color": "#00cc96",
          "symbol": "circle"
         },
         "mode": "markers",
         "name": "Caenorhabditis elegans",
         "orientation": "v",
         "showlegend": true,
         "type": "scatter",
         "x": [
          0,
          0,
          0.5934065934065934,
          0.225,
          0.5517241379310345,
          0.5523809523809524,
          0.641025641025641,
          0.43779904306220085,
          0.2062566277836691,
          0.24285714285714285,
          0,
          0.6376811594202898
         ],
         "xaxis": "x",
         "y": [
          0.1034482758620689,
          0.0769230769230769,
          0.1335616438356164,
          0.18,
          0.2084805653710247,
          0.1913746630727762,
          0.171875,
          0.1439024390243902,
          0.1977186311787072,
          0.2025862068965517,
          0.0982142857142857,
          0.1818181818181818
         ],
         "yaxis": "y"
        },
        {
         "hovertemplate": "<b>OLS trendline</b><br>Gainers = 0.103717 * Median + 0.122158<br>R<sup>2</sup>=0.350895<br><br>Color=Caenorhabditis elegans<br>Median=%{x}<br>Gainers=%{y} <b>(trend)</b><extra></extra>",
         "legendgroup": "Caenorhabditis elegans",
         "marker": {
          "color": "#00cc96",
          "symbol": "circle"
         },
         "mode": "lines",
         "name": "Caenorhabditis elegans",
         "showlegend": false,
         "type": "scatter",
         "x": [
          0,
          0,
          0,
          0.2062566277836691,
          0.225,
          0.24285714285714285,
          0.43779904306220085,
          0.5517241379310345,
          0.5523809523809524,
          0.5934065934065934,
          0.6376811594202898,
          0.641025641025641
         ],
         "xaxis": "x",
         "y": [
          0.12215783037101054,
          0.12215783037101054,
          0.12215783037101054,
          0.14355016373791296,
          0.1454941714102009,
          0.1473462619688668,
          0.16756506492892478,
          0.17938104211461908,
          0.17944916498574243,
          0.18370422432052358,
          0.18829625263989141,
          0.18864313247696599
         ],
         "yaxis": "y"
        },
        {
         "customdata": [
          [
           "COX1",
           "Halicephalobus mephisto"
          ],
          [
           "COX1",
           "Halicephalobus mephisto"
          ],
          [
           "COX2",
           "Halicephalobus mephisto"
          ],
          [
           "COX2",
           "Halicephalobus mephisto"
          ],
          [
           "COX2",
           "Halicephalobus mephisto"
          ],
          [
           "ND3",
           "Halicephalobus mephisto"
          ],
          [
           "ND3",
           "Halicephalobus mephisto"
          ],
          [
           "ND5",
           "Halicephalobus mephisto"
          ],
          [
           "ND6",
           "Halicephalobus mephisto"
          ],
          [
           "ND4L",
           "Halicephalobus mephisto"
          ],
          [
           "ND1",
           "Halicephalobus mephisto"
          ],
          [
           "ATP6",
           "Halicephalobus mephisto"
          ],
          [
           "ATP6",
           "Halicephalobus mephisto"
          ],
          [
           "ND2",
           "Halicephalobus mephisto"
          ],
          [
           "CYTB",
           "Halicephalobus mephisto"
          ],
          [
           "CYTB",
           "Halicephalobus mephisto"
          ],
          [
           "COX3",
           "Halicephalobus mephisto"
          ],
          [
           "COX3",
           "Halicephalobus mephisto"
          ],
          [
           "ND4",
           "Halicephalobus mephisto"
          ],
          [
           "ND4",
           "Halicephalobus mephisto"
          ]
         ],
         "hovertemplate": "Color=Halicephalobus mephisto<br>Median=%{x}<br>Gainers=%{y}<br>GenName=%{customdata[0]}<br>OrganismName=%{customdata[1]}<extra></extra>",
         "legendgroup": "Halicephalobus mephisto",
         "marker": {
          "color": "#ab63fa",
          "symbol": "circle"
         },
         "mode": "markers",
         "name": "Halicephalobus mephisto",
         "orientation": "v",
         "showlegend": true,
         "type": "scatter",
         "x": [
          0.14893617021276595,
          0.14999999999999997,
          0,
          0.05,
          0.1245421245421245,
          0,
          0,
          0.1132075471698113,
          0,
          0,
          0,
          0.037037037037037,
          0.1468253968253968,
          0.1818181818181818,
          0.0185185185185185,
          0.0625,
          0,
          0,
          0.1357466063348416,
          0.1483516483516483
         ],
         "xaxis": "x",
         "y": [
          0.1904761904761904,
          0.1904761904761904,
          0.1888412017167382,
          0.1888412017167382,
          0.1888412017167382,
          0.0990990990990991,
          0.0990990990990991,
          0.1550387596899224,
          0.1071428571428571,
          0.0897435897435897,
          0.1168384879725085,
          0.1492537313432835,
          0.1492537313432835,
          0.1564625850340136,
          0.1544715447154471,
          0.1544715447154471,
          0.155893536121673,
          0.155893536121673,
          0.1286407766990291,
          0.1286407766990291
         ],
         "yaxis": "y"
        },
        {
         "hovertemplate": "<b>OLS trendline</b><br>Gainers = 0.204103 * Median + 0.133926<br>R<sup>2</sup>=0.181624<br><br>Color=Halicephalobus mephisto<br>Median=%{x}<br>Gainers=%{y} <b>(trend)</b><extra></extra>",
         "legendgroup": "Halicephalobus mephisto",
         "marker": {
          "color": "#ab63fa",
          "symbol": "circle"
         },
         "mode": "lines",
         "name": "Halicephalobus mephisto",
         "showlegend": false,
         "type": "scatter",
         "x": [
          0,
          0,
          0,
          0,
          0,
          0,
          0,
          0,
          0.0185185185185185,
          0.037037037037037,
          0.05,
          0.0625,
          0.1132075471698113,
          0.1245421245421245,
          0.1357466063348416,
          0.1468253968253968,
          0.1483516483516483,
          0.14893617021276595,
          0.14999999999999997,
          0.1818181818181818
         ],
         "xaxis": "x",
         "y": [
          0.13392583577524358,
          0.13392583577524358,
          0.13392583577524358,
          0.13392583577524358,
          0.13392583577524358,
          0.13392583577524358,
          0.13392583577524358,
          0.13392583577524358,
          0.13770553004452216,
          0.1414852243138007,
          0.14413101030229572,
          0.14668230393405873,
          0.15703189130819178,
          0.15934531811368843,
          0.16163219195728556,
          0.1638934117673808,
          0.1642049250313323,
          0.16432422798348398,
          0.16454135935639996,
          0.17103556132816042
         ],
         "yaxis": "y"
        }
       ],
       "layout": {
        "legend": {
         "title": {
          "text": "Color"
         },
         "tracegroupgap": 0
        },
        "margin": {
         "t": 60
        },
        "template": {
         "data": {
          "bar": [
           {
            "error_x": {
             "color": "#2a3f5f"
            },
            "error_y": {
             "color": "#2a3f5f"
            },
            "marker": {
             "line": {
              "color": "#E5ECF6",
              "width": 0.5
             },
             "pattern": {
              "fillmode": "overlay",
              "size": 10,
              "solidity": 0.2
             }
            },
            "type": "bar"
           }
          ],
          "barpolar": [
           {
            "marker": {
             "line": {
              "color": "#E5ECF6",
              "width": 0.5
             },
             "pattern": {
              "fillmode": "overlay",
              "size": 10,
              "solidity": 0.2
             }
            },
            "type": "barpolar"
           }
          ],
          "carpet": [
           {
            "aaxis": {
             "endlinecolor": "#2a3f5f",
             "gridcolor": "white",
             "linecolor": "white",
             "minorgridcolor": "white",
             "startlinecolor": "#2a3f5f"
            },
            "baxis": {
             "endlinecolor": "#2a3f5f",
             "gridcolor": "white",
             "linecolor": "white",
             "minorgridcolor": "white",
             "startlinecolor": "#2a3f5f"
            },
            "type": "carpet"
           }
          ],
          "choropleth": [
           {
            "colorbar": {
             "outlinewidth": 0,
             "ticks": ""
            },
            "type": "choropleth"
           }
          ],
          "contour": [
           {
            "colorbar": {
             "outlinewidth": 0,
             "ticks": ""
            },
            "colorscale": [
             [
              0,
              "#0d0887"
             ],
             [
              0.1111111111111111,
              "#46039f"
             ],
             [
              0.2222222222222222,
              "#7201a8"
             ],
             [
              0.3333333333333333,
              "#9c179e"
             ],
             [
              0.4444444444444444,
              "#bd3786"
             ],
             [
              0.5555555555555556,
              "#d8576b"
             ],
             [
              0.6666666666666666,
              "#ed7953"
             ],
             [
              0.7777777777777778,
              "#fb9f3a"
             ],
             [
              0.8888888888888888,
              "#fdca26"
             ],
             [
              1,
              "#f0f921"
             ]
            ],
            "type": "contour"
           }
          ],
          "contourcarpet": [
           {
            "colorbar": {
             "outlinewidth": 0,
             "ticks": ""
            },
            "type": "contourcarpet"
           }
          ],
          "heatmap": [
           {
            "colorbar": {
             "outlinewidth": 0,
             "ticks": ""
            },
            "colorscale": [
             [
              0,
              "#0d0887"
             ],
             [
              0.1111111111111111,
              "#46039f"
             ],
             [
              0.2222222222222222,
              "#7201a8"
             ],
             [
              0.3333333333333333,
              "#9c179e"
             ],
             [
              0.4444444444444444,
              "#bd3786"
             ],
             [
              0.5555555555555556,
              "#d8576b"
             ],
             [
              0.6666666666666666,
              "#ed7953"
             ],
             [
              0.7777777777777778,
              "#fb9f3a"
             ],
             [
              0.8888888888888888,
              "#fdca26"
             ],
             [
              1,
              "#f0f921"
             ]
            ],
            "type": "heatmap"
           }
          ],
          "heatmapgl": [
           {
            "colorbar": {
             "outlinewidth": 0,
             "ticks": ""
            },
            "colorscale": [
             [
              0,
              "#0d0887"
             ],
             [
              0.1111111111111111,
              "#46039f"
             ],
             [
              0.2222222222222222,
              "#7201a8"
             ],
             [
              0.3333333333333333,
              "#9c179e"
             ],
             [
              0.4444444444444444,
              "#bd3786"
             ],
             [
              0.5555555555555556,
              "#d8576b"
             ],
             [
              0.6666666666666666,
              "#ed7953"
             ],
             [
              0.7777777777777778,
              "#fb9f3a"
             ],
             [
              0.8888888888888888,
              "#fdca26"
             ],
             [
              1,
              "#f0f921"
             ]
            ],
            "type": "heatmapgl"
           }
          ],
          "histogram": [
           {
            "marker": {
             "pattern": {
              "fillmode": "overlay",
              "size": 10,
              "solidity": 0.2
             }
            },
            "type": "histogram"
           }
          ],
          "histogram2d": [
           {
            "colorbar": {
             "outlinewidth": 0,
             "ticks": ""
            },
            "colorscale": [
             [
              0,
              "#0d0887"
             ],
             [
              0.1111111111111111,
              "#46039f"
             ],
             [
              0.2222222222222222,
              "#7201a8"
             ],
             [
              0.3333333333333333,
              "#9c179e"
             ],
             [
              0.4444444444444444,
              "#bd3786"
             ],
             [
              0.5555555555555556,
              "#d8576b"
             ],
             [
              0.6666666666666666,
              "#ed7953"
             ],
             [
              0.7777777777777778,
              "#fb9f3a"
             ],
             [
              0.8888888888888888,
              "#fdca26"
             ],
             [
              1,
              "#f0f921"
             ]
            ],
            "type": "histogram2d"
           }
          ],
          "histogram2dcontour": [
           {
            "colorbar": {
             "outlinewidth": 0,
             "ticks": ""
            },
            "colorscale": [
             [
              0,
              "#0d0887"
             ],
             [
              0.1111111111111111,
              "#46039f"
             ],
             [
              0.2222222222222222,
              "#7201a8"
             ],
             [
              0.3333333333333333,
              "#9c179e"
             ],
             [
              0.4444444444444444,
              "#bd3786"
             ],
             [
              0.5555555555555556,
              "#d8576b"
             ],
             [
              0.6666666666666666,
              "#ed7953"
             ],
             [
              0.7777777777777778,
              "#fb9f3a"
             ],
             [
              0.8888888888888888,
              "#fdca26"
             ],
             [
              1,
              "#f0f921"
             ]
            ],
            "type": "histogram2dcontour"
           }
          ],
          "mesh3d": [
           {
            "colorbar": {
             "outlinewidth": 0,
             "ticks": ""
            },
            "type": "mesh3d"
           }
          ],
          "parcoords": [
           {
            "line": {
             "colorbar": {
              "outlinewidth": 0,
              "ticks": ""
             }
            },
            "type": "parcoords"
           }
          ],
          "pie": [
           {
            "automargin": true,
            "type": "pie"
           }
          ],
          "scatter": [
           {
            "marker": {
             "colorbar": {
              "outlinewidth": 0,
              "ticks": ""
             }
            },
            "type": "scatter"
           }
          ],
          "scatter3d": [
           {
            "line": {
             "colorbar": {
              "outlinewidth": 0,
              "ticks": ""
             }
            },
            "marker": {
             "colorbar": {
              "outlinewidth": 0,
              "ticks": ""
             }
            },
            "type": "scatter3d"
           }
          ],
          "scattercarpet": [
           {
            "marker": {
             "colorbar": {
              "outlinewidth": 0,
              "ticks": ""
             }
            },
            "type": "scattercarpet"
           }
          ],
          "scattergeo": [
           {
            "marker": {
             "colorbar": {
              "outlinewidth": 0,
              "ticks": ""
             }
            },
            "type": "scattergeo"
           }
          ],
          "scattergl": [
           {
            "marker": {
             "colorbar": {
              "outlinewidth": 0,
              "ticks": ""
             }
            },
            "type": "scattergl"
           }
          ],
          "scattermapbox": [
           {
            "marker": {
             "colorbar": {
              "outlinewidth": 0,
              "ticks": ""
             }
            },
            "type": "scattermapbox"
           }
          ],
          "scatterpolar": [
           {
            "marker": {
             "colorbar": {
              "outlinewidth": 0,
              "ticks": ""
             }
            },
            "type": "scatterpolar"
           }
          ],
          "scatterpolargl": [
           {
            "marker": {
             "colorbar": {
              "outlinewidth": 0,
              "ticks": ""
             }
            },
            "type": "scatterpolargl"
           }
          ],
          "scatterternary": [
           {
            "marker": {
             "colorbar": {
              "outlinewidth": 0,
              "ticks": ""
             }
            },
            "type": "scatterternary"
           }
          ],
          "surface": [
           {
            "colorbar": {
             "outlinewidth": 0,
             "ticks": ""
            },
            "colorscale": [
             [
              0,
              "#0d0887"
             ],
             [
              0.1111111111111111,
              "#46039f"
             ],
             [
              0.2222222222222222,
              "#7201a8"
             ],
             [
              0.3333333333333333,
              "#9c179e"
             ],
             [
              0.4444444444444444,
              "#bd3786"
             ],
             [
              0.5555555555555556,
              "#d8576b"
             ],
             [
              0.6666666666666666,
              "#ed7953"
             ],
             [
              0.7777777777777778,
              "#fb9f3a"
             ],
             [
              0.8888888888888888,
              "#fdca26"
             ],
             [
              1,
              "#f0f921"
             ]
            ],
            "type": "surface"
           }
          ],
          "table": [
           {
            "cells": {
             "fill": {
              "color": "#EBF0F8"
             },
             "line": {
              "color": "white"
             }
            },
            "header": {
             "fill": {
              "color": "#C8D4E3"
             },
             "line": {
              "color": "white"
             }
            },
            "type": "table"
           }
          ]
         },
         "layout": {
          "annotationdefaults": {
           "arrowcolor": "#2a3f5f",
           "arrowhead": 0,
           "arrowwidth": 1
          },
          "autotypenumbers": "strict",
          "coloraxis": {
           "colorbar": {
            "outlinewidth": 0,
            "ticks": ""
           }
          },
          "colorscale": {
           "diverging": [
            [
             0,
             "#8e0152"
            ],
            [
             0.1,
             "#c51b7d"
            ],
            [
             0.2,
             "#de77ae"
            ],
            [
             0.3,
             "#f1b6da"
            ],
            [
             0.4,
             "#fde0ef"
            ],
            [
             0.5,
             "#f7f7f7"
            ],
            [
             0.6,
             "#e6f5d0"
            ],
            [
             0.7,
             "#b8e186"
            ],
            [
             0.8,
             "#7fbc41"
            ],
            [
             0.9,
             "#4d9221"
            ],
            [
             1,
             "#276419"
            ]
           ],
           "sequential": [
            [
             0,
             "#0d0887"
            ],
            [
             0.1111111111111111,
             "#46039f"
            ],
            [
             0.2222222222222222,
             "#7201a8"
            ],
            [
             0.3333333333333333,
             "#9c179e"
            ],
            [
             0.4444444444444444,
             "#bd3786"
            ],
            [
             0.5555555555555556,
             "#d8576b"
            ],
            [
             0.6666666666666666,
             "#ed7953"
            ],
            [
             0.7777777777777778,
             "#fb9f3a"
            ],
            [
             0.8888888888888888,
             "#fdca26"
            ],
            [
             1,
             "#f0f921"
            ]
           ],
           "sequentialminus": [
            [
             0,
             "#0d0887"
            ],
            [
             0.1111111111111111,
             "#46039f"
            ],
            [
             0.2222222222222222,
             "#7201a8"
            ],
            [
             0.3333333333333333,
             "#9c179e"
            ],
            [
             0.4444444444444444,
             "#bd3786"
            ],
            [
             0.5555555555555556,
             "#d8576b"
            ],
            [
             0.6666666666666666,
             "#ed7953"
            ],
            [
             0.7777777777777778,
             "#fb9f3a"
            ],
            [
             0.8888888888888888,
             "#fdca26"
            ],
            [
             1,
             "#f0f921"
            ]
           ]
          },
          "colorway": [
           "#636efa",
           "#EF553B",
           "#00cc96",
           "#ab63fa",
           "#FFA15A",
           "#19d3f3",
           "#FF6692",
           "#B6E880",
           "#FF97FF",
           "#FECB52"
          ],
          "font": {
           "color": "#2a3f5f"
          },
          "geo": {
           "bgcolor": "white",
           "lakecolor": "white",
           "landcolor": "#E5ECF6",
           "showlakes": true,
           "showland": true,
           "subunitcolor": "white"
          },
          "hoverlabel": {
           "align": "left"
          },
          "hovermode": "closest",
          "mapbox": {
           "style": "light"
          },
          "paper_bgcolor": "white",
          "plot_bgcolor": "#E5ECF6",
          "polar": {
           "angularaxis": {
            "gridcolor": "white",
            "linecolor": "white",
            "ticks": ""
           },
           "bgcolor": "#E5ECF6",
           "radialaxis": {
            "gridcolor": "white",
            "linecolor": "white",
            "ticks": ""
           }
          },
          "scene": {
           "xaxis": {
            "backgroundcolor": "#E5ECF6",
            "gridcolor": "white",
            "gridwidth": 2,
            "linecolor": "white",
            "showbackground": true,
            "ticks": "",
            "zerolinecolor": "white"
           },
           "yaxis": {
            "backgroundcolor": "#E5ECF6",
            "gridcolor": "white",
            "gridwidth": 2,
            "linecolor": "white",
            "showbackground": true,
            "ticks": "",
            "zerolinecolor": "white"
           },
           "zaxis": {
            "backgroundcolor": "#E5ECF6",
            "gridcolor": "white",
            "gridwidth": 2,
            "linecolor": "white",
            "showbackground": true,
            "ticks": "",
            "zerolinecolor": "white"
           }
          },
          "shapedefaults": {
           "line": {
            "color": "#2a3f5f"
           }
          },
          "ternary": {
           "aaxis": {
            "gridcolor": "white",
            "linecolor": "white",
            "ticks": ""
           },
           "baxis": {
            "gridcolor": "white",
            "linecolor": "white",
            "ticks": ""
           },
           "bgcolor": "#E5ECF6",
           "caxis": {
            "gridcolor": "white",
            "linecolor": "white",
            "ticks": ""
           }
          },
          "title": {
           "x": 0.05
          },
          "xaxis": {
           "automargin": true,
           "gridcolor": "white",
           "linecolor": "white",
           "ticks": "",
           "title": {
            "standoff": 15
           },
           "zerolinecolor": "white",
           "zerolinewidth": 2
          },
          "yaxis": {
           "automargin": true,
           "gridcolor": "white",
           "linecolor": "white",
           "ticks": "",
           "title": {
            "standoff": 15
           },
           "zerolinecolor": "white",
           "zerolinewidth": 2
          }
         }
        },
        "xaxis": {
         "anchor": "y",
         "domain": [
          0,
          1
         ],
         "title": {
          "text": "Median"
         }
        },
        "yaxis": {
         "anchor": "x",
         "domain": [
          0,
          1
         ],
         "title": {
          "text": "Gainers"
         }
        }
       }
      },
      "text/html": [
       "<div>                            <div id=\"364c36f2-5b6f-4bfb-88ed-d8fa2d0e47e1\" class=\"plotly-graph-div\" style=\"height:525px; width:100%;\"></div>            <script type=\"text/javascript\">                require([\"plotly\"], function(Plotly) {                    window.PLOTLYENV=window.PLOTLYENV || {};                                    if (document.getElementById(\"364c36f2-5b6f-4bfb-88ed-d8fa2d0e47e1\")) {                    Plotly.newPlot(                        \"364c36f2-5b6f-4bfb-88ed-d8fa2d0e47e1\",                        [{\"customdata\":[[\"ND2\",\"Brugia malayi\"],[\"ND4\",\"Brugia malayi\"],[\"COX1\",\"Brugia malayi\"],[\"ND6\",\"Brugia malayi\"],[\"CYTB\",\"Brugia malayi\"],[\"COX3\",\"Brugia malayi\"],[\"ND4L\",\"Brugia malayi\"],[\"ND1\",\"Brugia malayi\"],[\"ATP6\",\"Brugia malayi\"],[\"COX2\",\"Brugia malayi\"],[\"ND3\",\"Brugia malayi\"],[\"ND5\",\"Brugia malayi\"],[\"COX1\",\"Bursaphelenchus xylophilus\"],[\"COX2\",\"Bursaphelenchus xylophilus\"],[\"ND3\",\"Bursaphelenchus xylophilus\"],[\"ND5\",\"Bursaphelenchus xylophilus\"],[\"ND6\",\"Bursaphelenchus xylophilus\"],[\"ND4L\",\"Bursaphelenchus xylophilus\"],[\"ND1\",\"Bursaphelenchus xylophilus\"],[\"ATP6\",\"Bursaphelenchus xylophilus\"],[\"ND2\",\"Bursaphelenchus xylophilus\"],[\"CYTB\",\"Bursaphelenchus xylophilus\"],[\"COX3\",\"Bursaphelenchus xylophilus\"],[\"ND4\",\"Bursaphelenchus xylophilus\"],[\"ND6\",\"Panagrellus redivivus\"],[\"ND4L\",\"Panagrellus redivivus\"],[\"ND1\",\"Panagrellus redivivus\"],[\"ATP6\",\"Panagrellus redivivus\"],[\"ND2\",\"Panagrellus redivivus\"],[\"CYTB\",\"Panagrellus redivivus\"],[\"COX3\",\"Panagrellus redivivus\"],[\"ND4\",\"Panagrellus redivivus\"],[\"COX1\",\"Panagrellus redivivus\"],[\"COX2\",\"Panagrellus redivivus\"],[\"ND3\",\"Panagrellus redivivus\"],[\"ND5\",\"Panagrellus redivivus\"],[\"ND1\",\"Steinernema carpocapsae\"],[\"ATP6\",\"Steinernema carpocapsae\"],[\"ND2\",\"Steinernema carpocapsae\"],[\"CYTB\",\"Steinernema carpocapsae\"],[\"COX3\",\"Steinernema carpocapsae\"],[\"ND4\",\"Steinernema carpocapsae\"],[\"COX1\",\"Steinernema carpocapsae\"],[\"COX2\",\"Steinernema carpocapsae\"],[\"ND3\",\"Steinernema carpocapsae\"],[\"ND5\",\"Steinernema carpocapsae\"],[\"ND6\",\"Steinernema carpocapsae\"],[\"ND4L\",\"Steinernema carpocapsae\"],[\"ND1\",\"Steinernema glaseri\"],[\"ATP6\",\"Steinernema glaseri\"],[\"ND2\",\"Steinernema glaseri\"],[\"CYTB\",\"Steinernema glaseri\"],[\"COX3\",\"Steinernema glaseri\"],[\"ND4\",\"Steinernema glaseri\"],[\"COX1\",\"Steinernema glaseri\"],[\"COX2\",\"Steinernema glaseri\"],[\"ND3\",\"Steinernema glaseri\"],[\"ND5\",\"Steinernema glaseri\"],[\"ND6\",\"Steinernema glaseri\"],[\"ND4L\",\"Steinernema glaseri\"],[\"ND1\",\"Steinernema litorale\"],[\"ATP6\",\"Steinernema litorale\"],[\"ND2\",\"Steinernema litorale\"],[\"CYTB\",\"Steinernema litorale\"],[\"COX3\",\"Steinernema litorale\"],[\"ND4\",\"Steinernema litorale\"],[\"COX1\",\"Steinernema litorale\"],[\"COX2\",\"Steinernema litorale\"],[\"ND3\",\"Steinernema litorale\"],[\"ND5\",\"Steinernema litorale\"],[\"ND6\",\"Steinernema litorale\"],[\"ND4L\",\"Steinernema litorale\"],[\"ND2\",\"Loa loa\"],[\"ND4\",\"Loa loa\"],[\"COX1\",\"Loa loa\"],[\"ND6\",\"Loa loa\"],[\"CYTB\",\"Loa loa\"],[\"COX3\",\"Loa loa\"],[\"ND4L\",\"Loa loa\"],[\"ND1\",\"Loa loa\"],[\"ATP6\",\"Loa loa\"],[\"COX2\",\"Loa loa\"],[\"ND3\",\"Loa loa\"],[\"ND5\",\"Loa loa\"],[\"ND6\",\"Caenorhabditis nigoni\"],[\"ND4L\",\"Caenorhabditis nigoni\"],[\"ND1\",\"Caenorhabditis nigoni\"],[\"ATP6\",\"Caenorhabditis nigoni\"],[\"ND2\",\"Caenorhabditis nigoni\"],[\"CYTB\",\"Caenorhabditis nigoni\"],[\"COX3\",\"Caenorhabditis nigoni\"],[\"ND4\",\"Caenorhabditis nigoni\"],[\"COX1\",\"Caenorhabditis nigoni\"],[\"COX2\",\"Caenorhabditis nigoni\"],[\"ND3\",\"Caenorhabditis nigoni\"],[\"ND5\",\"Caenorhabditis nigoni\"],[\"NONE\",\"Diploscapter coronatus\"],[\"NONE\",\"Diploscapter coronatus\"],[\"NONE\",\"Diploscapter coronatus\"],[\"NONE\",\"Diploscapter coronatus\"],[\"NONE\",\"Diploscapter coronatus\"],[\"NONE\",\"Diploscapter coronatus\"],[\"NONE\",\"Diploscapter coronatus\"],[\"NONE\",\"Diploscapter coronatus\"],[\"NONE\",\"Diploscapter coronatus\"],[\"NONE\",\"Diploscapter coronatus\"],[\"NONE\",\"Diploscapter coronatus\"],[\"NONE\",\"Diploscapter coronatus\"],[\"COX1\",\"Acrobeloides varius\"],[\"ND1\",\"Acrobeloides varius\"],[\"ATP6\",\"Acrobeloides varius\"],[\"ND4\",\"Acrobeloides varius\"],[\"ND2\",\"Acrobeloides varius\"],[\"ND3\",\"Acrobeloides varius\"],[\"ND5\",\"Acrobeloides varius\"],[\"ND6\",\"Acrobeloides varius\"],[\"ND4L\",\"Acrobeloides varius\"],[\"CYTB\",\"Acrobeloides varius\"],[\"COX3\",\"Acrobeloides varius\"],[\"COX2\",\"Acrobeloides varius\"],[\"ND2\",\"Trichinella spiralis\"],[\"ND5\",\"Trichinella spiralis\"],[\"ND4\",\"Trichinella spiralis\"],[\"ND4L\",\"Trichinella spiralis\"],[\"ND6\",\"Trichinella spiralis\"],[\"CYTB\",\"Trichinella spiralis\"],[\"ATP6\",\"Trichinella spiralis\"],[\"COX3\",\"Trichinella spiralis\"],[\"ATP8\",\"Trichinella spiralis\"],[\"ND3\",\"Trichinella spiralis\"],[\"COX1\",\"Trichinella spiralis\"],[\"COX2\",\"Trichinella spiralis\"],[\"ND1\",\"Trichinella spiralis\"],[\"ATP6\",\"Xiphinema americanum\"],[\"ND4\",\"Xiphinema americanum\"],[\"ND2\",\"Xiphinema americanum\"],[\"COX2\",\"Xiphinema americanum\"],[\"ND3\",\"Xiphinema americanum\"],[\"ND4L\",\"Xiphinema americanum\"],[\"ND5\",\"Xiphinema americanum\"],[\"ND6\",\"Xiphinema americanum\"],[\"COX3\",\"Xiphinema americanum\"],[\"ND1\",\"Xiphinema americanum\"],[\"COX1\",\"Xiphinema americanum\"],[\"CYTB\",\"Xiphinema americanum\"],[\"ND5\",\"Thaumamermis cosgrovei\"],[\"ND4L\",\"Thaumamermis cosgrovei\"],[\"ND6\",\"Thaumamermis cosgrovei\"],[\"ND2\",\"Thaumamermis cosgrovei\"],[\"ND3\",\"Thaumamermis cosgrovei\"],[\"COX2\",\"Thaumamermis cosgrovei\"],[\"COX1\",\"Thaumamermis cosgrovei\"],[\"COX3\",\"Thaumamermis cosgrovei\"],[\"ND1\",\"Thaumamermis cosgrovei\"],[\"CYTB\",\"Thaumamermis cosgrovei\"],[\"ND4\",\"Thaumamermis cosgrovei\"],[\"ATP6\",\"Thaumamermis cosgrovei\"],[\"COX1\",\"Strelkovimermis spiculatus\"],[\"COX3\",\"Strelkovimermis spiculatus\"],[\"COX2\",\"Strelkovimermis spiculatus\"],[\"ATP6\",\"Strelkovimermis spiculatus\"],[\"ND6\",\"Strelkovimermis spiculatus\"],[\"ND5\",\"Strelkovimermis spiculatus\"],[\"ND3\",\"Strelkovimermis spiculatus\"],[\"CYTB\",\"Strelkovimermis spiculatus\"],[\"ND4L\",\"Strelkovimermis spiculatus\"],[\"ND2\",\"Strelkovimermis spiculatus\"],[\"ND4\",\"Strelkovimermis spiculatus\"],[\"ND1\",\"Strelkovimermis spiculatus\"],[\"ND2\",\"Agamermis sp. BH-2006\"],[\"ATP6\",\"Agamermis sp. BH-2006\"],[\"ND5\",\"Agamermis sp. BH-2006\"],[\"COX1\",\"Agamermis sp. BH-2006\"],[\"ND4L\",\"Agamermis sp. BH-2006\"],[\"COX3\",\"Agamermis sp. BH-2006\"],[\"COX2\",\"Agamermis sp. BH-2006\"],[\"CYTB\",\"Agamermis sp. BH-2006\"],[\"ND1\",\"Agamermis sp. BH-2006\"],[\"ND6\",\"Agamermis sp. BH-2006\"],[\"ND4\",\"Agamermis sp. BH-2006\"],[\"ND3\",\"Agamermis sp. BH-2006\"],[\"ND6\",\"Heterorhabditis bacteriophora\"],[\"ND4L\",\"Heterorhabditis bacteriophora\"],[\"ND1\",\"Heterorhabditis bacteriophora\"],[\"ATP6\",\"Heterorhabditis bacteriophora\"],[\"ND2\",\"Heterorhabditis bacteriophora\"],[\"COX1\",\"Heterorhabditis bacteriophora\"],[\"COX2\",\"Heterorhabditis bacteriophora\"],[\"ND3\",\"Heterorhabditis bacteriophora\"],[\"CYTB\",\"Heterorhabditis bacteriophora\"],[\"COX3\",\"Heterorhabditis bacteriophora\"],[\"ND4\",\"Heterorhabditis bacteriophora\"],[\"ND5\",\"Heterorhabditis bacteriophora\"],[\"COX2\",\"Romanomermis culicivorax\"],[\"ND4L\",\"Romanomermis culicivorax\"],[\"ND6\",\"Romanomermis culicivorax\"],[\"ND2\",\"Romanomermis culicivorax\"],[\"COX3\",\"Romanomermis culicivorax\"],[\"ND4\",\"Romanomermis culicivorax\"],[\"ND3\",\"Romanomermis culicivorax\"],[\"ND3\",\"Romanomermis culicivorax\"],[\"CYTB\",\"Romanomermis culicivorax\"],[\"ATP6\",\"Romanomermis culicivorax\"],[\"ND5\",\"Romanomermis culicivorax\"],[\"COX1\",\"Romanomermis culicivorax\"],[\"ND3\",\"Romanomermis culicivorax\"],[\"ND1\",\"Romanomermis culicivorax\"],[\"COX2\",\"Romanomermis nielseni\"],[\"ND4L\",\"Romanomermis nielseni\"],[\"ND6\",\"Romanomermis nielseni\"],[\"ND2\",\"Romanomermis nielseni\"],[\"ND5\",\"Romanomermis nielseni\"],[\"ATP6\",\"Romanomermis nielseni\"],[\"ND1\",\"Romanomermis nielseni\"],[\"CYTB\",\"Romanomermis nielseni\"],[\"COX1\",\"Romanomermis nielseni\"],[\"COX3\",\"Romanomermis nielseni\"],[\"ND4\",\"Romanomermis nielseni\"],[\"ND3\",\"Romanomermis nielseni\"],[\"ND4L\",\"Romanomermis iyengari\"],[\"ND6\",\"Romanomermis iyengari\"],[\"ND2\",\"Romanomermis iyengari\"],[\"ND3\",\"Romanomermis iyengari\"],[\"ND3\",\"Romanomermis iyengari\"],[\"ND4\",\"Romanomermis iyengari\"],[\"COX2\",\"Romanomermis iyengari\"],[\"COX1\",\"Romanomermis iyengari\"],[\"CYTB\",\"Romanomermis iyengari\"],[\"ND1\",\"Romanomermis iyengari\"],[\"COX3\",\"Romanomermis iyengari\"],[\"ND5\",\"Romanomermis iyengari\"],[\"ATP6\",\"Romanomermis iyengari\"],[\"COX1\",\"Hexamermis agrotis\"],[\"ND1\",\"Hexamermis agrotis\"],[\"ND6\",\"Hexamermis agrotis\"],[\"COX3\",\"Hexamermis agrotis\"],[\"ATP6\",\"Hexamermis agrotis\"],[\"ATP6\",\"Hexamermis agrotis\"],[\"ATP6\",\"Hexamermis agrotis\"],[\"ND5\",\"Hexamermis agrotis\"],[\"ND4\",\"Hexamermis agrotis\"],[\"ND4L\",\"Hexamermis agrotis\"],[\"ND2\",\"Hexamermis agrotis\"],[\"CYTB\",\"Hexamermis agrotis\"],[\"COX2\",\"Hexamermis agrotis\"],[\"ND3\",\"Hexamermis agrotis\"],[\"COX1\",\"Haemonchus contortus\"],[\"COX2\",\"Haemonchus contortus\"],[\"ND3\",\"Haemonchus contortus\"],[\"ND5\",\"Haemonchus contortus\"],[\"ND6\",\"Haemonchus contortus\"],[\"ND4L\",\"Haemonchus contortus\"],[\"ND1\",\"Haemonchus contortus\"],[\"ATP6\",\"Haemonchus contortus\"],[\"ND2\",\"Haemonchus contortus\"],[\"CYTB\",\"Haemonchus contortus\"],[\"COX3\",\"Haemonchus contortus\"],[\"ND4\",\"Haemonchus contortus\"],[\"ND1\",\"Enterobius vermicularis\"],[\"ATP6\",\"Enterobius vermicularis\"],[\"ND2\",\"Enterobius vermicularis\"],[\"ND6\",\"Enterobius vermicularis\"],[\"CYTB\",\"Enterobius vermicularis\"],[\"COX3\",\"Enterobius vermicularis\"],[\"ND4\",\"Enterobius vermicularis\"],[\"ND4L\",\"Enterobius vermicularis\"],[\"ND3\",\"Enterobius vermicularis\"],[\"ND5\",\"Enterobius vermicularis\"],[\"COX2\",\"Enterobius vermicularis\"],[\"COX1\",\"Enterobius vermicularis\"],[\"ND1\",\"Homo sapiens\"],[\"ND2\",\"Homo sapiens\"],[\"COX1\",\"Homo sapiens\"],[\"COX2\",\"Homo sapiens\"],[\"ATP8\",\"Homo sapiens\"],[\"ATP6\",\"Homo sapiens\"],[\"COX3\",\"Homo sapiens\"],[\"ND3\",\"Homo sapiens\"],[\"ND4L\",\"Homo sapiens\"],[\"ND4\",\"Homo sapiens\"],[\"ND5\",\"Homo sapiens\"],[\"ND6\",\"Homo sapiens\"],[\"CYTB\",\"Homo sapiens\"],[\"COX1\",\"Trichuris suis\"],[\"COX2\",\"Trichuris suis\"],[\"ND1\",\"Trichuris suis\"],[\"ND2\",\"Trichuris suis\"],[\"ND5\",\"Trichuris suis\"],[\"ND4\",\"Trichuris suis\"],[\"ND4L\",\"Trichuris suis\"],[\"ND6\",\"Trichuris suis\"],[\"CYTB\",\"Trichuris suis\"],[\"ATP6\",\"Trichuris suis\"],[\"COX3\",\"Trichuris suis\"],[\"ATP8\",\"Trichuris suis\"],[\"ND3\",\"Trichuris suis\"],[\"COX1\",\"Trichuris ovis\"],[\"COX2\",\"Trichuris ovis\"],[\"ND1\",\"Trichuris ovis\"],[\"ND2\",\"Trichuris ovis\"],[\"ND5\",\"Trichuris ovis\"],[\"ND4\",\"Trichuris ovis\"],[\"ND4L\",\"Trichuris ovis\"],[\"ND6\",\"Trichuris ovis\"],[\"CYTB\",\"Trichuris ovis\"],[\"ATP6\",\"Trichuris ovis\"],[\"COX3\",\"Trichuris ovis\"],[\"ATP8\",\"Trichuris ovis\"],[\"ND3\",\"Trichuris ovis\"],[\"COX1\",\"Toxascaris leonina\"],[\"COX2\",\"Toxascaris leonina\"],[\"ND3\",\"Toxascaris leonina\"],[\"ND5\",\"Toxascaris leonina\"],[\"ND6\",\"Toxascaris leonina\"],[\"ND4L\",\"Toxascaris leonina\"],[\"ND1\",\"Toxascaris leonina\"],[\"ATP6\",\"Toxascaris leonina\"],[\"ND2\",\"Toxascaris leonina\"],[\"CYTB\",\"Toxascaris leonina\"],[\"COX3\",\"Toxascaris leonina\"],[\"ND4\",\"Toxascaris leonina\"],[\"ND2\",\"Drosophila melanogaster\"],[\"COX1\",\"Drosophila melanogaster\"],[\"COX2\",\"Drosophila melanogaster\"],[\"ATP8\",\"Drosophila melanogaster\"],[\"ATP6\",\"Drosophila melanogaster\"],[\"COX3\",\"Drosophila melanogaster\"],[\"ND3\",\"Drosophila melanogaster\"],[\"ND5\",\"Drosophila melanogaster\"],[\"ND4\",\"Drosophila melanogaster\"],[\"ND4L\",\"Drosophila melanogaster\"],[\"ND6\",\"Drosophila melanogaster\"],[\"CYTB\",\"Drosophila melanogaster\"],[\"ND1\",\"Drosophila melanogaster\"],[\"COX2\",\"Trichinella britovi\"],[\"ND1\",\"Trichinella britovi\"],[\"ND2\",\"Trichinella britovi\"],[\"ND5\",\"Trichinella britovi\"],[\"ND4\",\"Trichinella britovi\"],[\"ND4L\",\"Trichinella britovi\"],[\"ND6\",\"Trichinella britovi\"],[\"CYTB\",\"Trichinella britovi\"],[\"ATP6\",\"Trichinella britovi\"],[\"COX3\",\"Trichinella britovi\"],[\"ATP8\",\"Trichinella britovi\"],[\"ND3\",\"Trichinella britovi\"],[\"COX1\",\"Trichinella britovi\"],[\"COX2\",\"Trichinella murrelli\"],[\"ND1\",\"Trichinella murrelli\"],[\"ND2\",\"Trichinella murrelli\"],[\"ND5\",\"Trichinella murrelli\"],[\"ND4\",\"Trichinella murrelli\"],[\"ND4L\",\"Trichinella murrelli\"],[\"ND6\",\"Trichinella murrelli\"],[\"CYTB\",\"Trichinella murrelli\"],[\"ATP6\",\"Trichinella murrelli\"],[\"COX3\",\"Trichinella murrelli\"],[\"ATP8\",\"Trichinella murrelli\"],[\"ND3\",\"Trichinella murrelli\"],[\"COX1\",\"Trichinella murrelli\"],[\"COX1\",\"Gnathostoma spinigerum\"],[\"COX2\",\"Gnathostoma spinigerum\"],[\"ND3\",\"Gnathostoma spinigerum\"],[\"ND5\",\"Gnathostoma spinigerum\"],[\"ND2\",\"Gnathostoma spinigerum\"],[\"CYTB\",\"Gnathostoma spinigerum\"],[\"COX3\",\"Gnathostoma spinigerum\"],[\"ND4\",\"Gnathostoma spinigerum\"],[\"ND1\",\"Gnathostoma spinigerum\"],[\"ATP6\",\"Gnathostoma spinigerum\"],[\"ND6\",\"Gnathostoma spinigerum\"],[\"ND4L\",\"Gnathostoma spinigerum\"],[\"ND4L\",\"Xiphinema rivesi\"],[\"ND5\",\"Xiphinema rivesi\"],[\"ND6\",\"Xiphinema rivesi\"],[\"COX3\",\"Xiphinema rivesi\"],[\"ND1\",\"Xiphinema rivesi\"],[\"COX1\",\"Xiphinema rivesi\"],[\"CYTB\",\"Xiphinema rivesi\"],[\"ATP6\",\"Xiphinema rivesi\"],[\"ND4\",\"Xiphinema rivesi\"],[\"ND2\",\"Xiphinema rivesi\"],[\"COX2\",\"Xiphinema rivesi\"],[\"ND3\",\"Xiphinema rivesi\"],[\"COX1\",\"Parascaris equorum\"],[\"COX2\",\"Parascaris equorum\"],[\"ND3\",\"Parascaris equorum\"],[\"ND5\",\"Parascaris equorum\"],[\"ND6\",\"Parascaris equorum\"],[\"ND4L\",\"Parascaris equorum\"],[\"ND1\",\"Parascaris equorum\"],[\"ATP6\",\"Parascaris equorum\"],[\"ND2\",\"Parascaris equorum\"],[\"CYTB\",\"Parascaris equorum\"],[\"COX3\",\"Parascaris equorum\"],[\"ND4\",\"Parascaris equorum\"],[\"COX1\",\"Diploscapter pachys (synthetic DNA construct)\"],[\"COX2\",\"Diploscapter pachys (synthetic DNA construct)\"],[\"COX2\",\"Diploscapter pachys (synthetic DNA construct)\"],[\"COX2\",\"Diploscapter pachys (synthetic DNA construct)\"],[\"ND3\",\"Diploscapter pachys (synthetic DNA construct)\"],[\"ND3\",\"Diploscapter pachys (synthetic DNA construct)\"],[\"DPA-NDUO-5\",\"Diploscapter pachys (synthetic DNA construct)\"],[\"DPA-NDUO-6\",\"Diploscapter pachys (synthetic DNA construct)\"],[\"DPA-NDFL-4\",\"Diploscapter pachys (synthetic DNA construct)\"],[\"DPA-NDUO-1\",\"Diploscapter pachys (synthetic DNA construct)\"],[\"DPA-ATP-6\",\"Diploscapter pachys (synthetic DNA construct)\"],[\"DPA-NDUO-2\",\"Diploscapter pachys (synthetic DNA construct)\"],[\"DPA-CTB-1\",\"Diploscapter pachys (synthetic DNA construct)\"],[\"DPA-CTC-3\",\"Diploscapter pachys (synthetic DNA construct)\"],[\"ND4\",\"Diploscapter pachys (synthetic DNA construct)\"],[\"ND4\",\"Diploscapter pachys (synthetic DNA construct)\"]],\"hovertemplate\":\"Color=Other<br>Median=%{x}<br>Gainers=%{y}<br>GenName=%{customdata[0]}<br>OrganismName=%{customdata[1]}<extra></extra>\",\"legendgroup\":\"Other\",\"marker\":{\"color\":\"#636efa\",\"symbol\":\"circle\"},\"mode\":\"markers\",\"name\":\"Other\",\"orientation\":\"v\",\"showlegend\":true,\"x\":[0.0,0.3478260869565217,0.27045454545454545,0.0,0.3205128205128205,0.3405797101449275,0.0,0.11218724778046806,0.04545454545454545,0.37229437229437223,0.0,0.12280701754385959,0.2517543859649122,0.16233766233766228,0.0,0.11038961038961036,0.0,0.0,0.27884615384615385,0.0,0.0,0.23787878787878786,0.0,0.1769230769230769,0.0,0.0,0.0,0.0,0.0,0.12670565302144246,0.0,0.0809523809523809,0.14166666666666666,0.2019230769230769,0.0,0.0,0.30952380952380953,0.29156010230179025,0.22567287784679085,0.23026315789473678,0.18907563025210078,0.2222222222222222,0.30459770114942525,0.3333333333333333,0.0,0.2849561134925495,0.16666666666666666,0.0,0.2509803921568627,0.3666666666666667,0.0,0.25396825396825395,0.20460358056265981,0.457516339869281,0.1630284609008013,0.41428571428571426,0.0,0.3367729831144465,0.0,0.0,0.2857142857142857,0.37229437229437223,0.25279106858054223,0.3333333333333333,0.3443223443223443,0.3787629994526546,0.3798076923076923,0.4722222222222222,0.5333333333333333,0.4444444444444444,0.32625994694960214,0.0,0.0,0.0,0.037037037037037,0.0,0.03125,0.0,0.0,0.0625,0.0,0.04166666666666665,0.0,0.0,0.0,0.0,0.1904761904761904,0.1701149425287356,0.2344196683819325,0.2598822539949537,0.3636363636363636,0.5868385345997287,0.2583333333333333,0.30519480519480513,0.0,0.4083333333333333,0.0,0.0,0.0,0.0,0.14459930313588845,0.0,0.0,0.0,0.1304131408661025,0.0,0.0,0.07151979565772665,0.3,0.2540322580645161,0.0,0.43650793650793646,0.21666666666666662,0.0,0.3333333333333333,0.0,0.0,0.26666666666666666,0.5,0.4857142857142857,0.0,0.1422558922558922,0.0,0.0,1.2,1.5857142857142859,1.6181818181818182,1.6108108108108108,0.8035714285714286,1.2153846153846155,1.4875,1.6333333333333333,1.6369047619047619,1.0,0.6895868704018109,0.5108695652173914,0.4888888888888889,0.0,0.1333333333333333,0.9545454545454546,0.9444444444444444,0.873015873015873,0.8,0.8285714285714285,0.8861689106487147,0.8528428093645486,0.0,0.7471264367816092,0.8,0.0,1.164021164021164,1.0,1.1547619047619047,1.0,1.0333333333333334,0.7386363636363636,0.6666666666666666,0.9666666666666666,0.6666666666666666,0.8333333333333333,0.9864864864864865,0.30519480519480513,0.633249791144528,0.0,0.8689075630252101,0.0,0.8436363636363636,1.0,0.8333333333333333,0.26216216216216215,0.6666666666666666,0.6533333333333333,0.4526854219948848,0.0,0.8375,0.9,0.4857142857142857,0.6436781609195402,0.6727272727272727,0.6190476190476191,0.1111111111111111,0.0,0.0,0.17777777777777776,0.037037037037037,0.27192982456140347,0.1961722488038277,0.0,0.0,0.2352941176470588,0.1833333333333333,0.19090909090909092,0.2111111111111111,0.8,0.0,0.2777777777777778,0.1435406698564593,0.6296296296296295,0.6491228070175439,0.2564705882352941,0.2564705882352941,0.6190476190476191,0.7076923076923077,0.5833333333333333,0.6491228070175439,0.2564705882352941,1.0,0.8166666666666667,0.0,0.4,0.4222222222222222,0.6333333333333333,0.457516339869281,0.5357142857142857,0.638157894736842,0.6491228070175439,0.5714285714285714,0.8571428571428571,0.3431372549019608,0.1111111111111111,0.0625,0.6318681318681318,0.6944444444444444,0.6944444444444444,1.0,0.696969696969697,0.743421052631579,0.7870967741935484,0.9705882352941175,0.5576923076923077,0.7916666666666667,0.6260162601626016,0.6158059467918623,0.5333333333333333,0.21978021978021975,0.7386363636363636,0.8210526315789474,0.8210526315789474,0.8210526315789474,0.7333333333333334,0.5079365079365079,0.1875,0.6214285714285714,0.7204301075268817,1.0,0.0,0.33809523809523806,0.0,0.0,0.46428571428571425,0.0,0.0,0.2967032967032967,0.0,0.0,0.3246753246753247,0.1526315789473684,0.5714285714285714,0.0,0.0,0.0,0.1111111111111111,0.32666666666666666,0.0,0.01694915254237285,0.0,0.0,0.1052631578947368,0.0,0.09285714285714286,1.6696428571428572,1.5,1.5147058823529411,1.4545454545454546,1.0454545454545454,1.5874125874125875,1.5441176470588234,1.3333333333333333,1.3333333333333333,1.7888888888888888,1.6794871794871795,0.0,1.6774193548387095,0.9680851063829787,1.2,1.1666666666666665,1.06,1.0714285714285714,0.8452380952380952,0.0,1.0,0.8285714285714285,1.1454545454545455,1.1555555555555554,0.0,1.0,1.0,1.2521739130434781,1.101010101010101,1.0,0.9454545454545454,1.1930232558139535,0.0,0.5,0.7125,1.0333333333333334,1.0909090909090908,0.3333333333333333,0.9285714285714286,0.03448275862068965,0.0,0.0,0.075,0.0,0.0,0.10230179028132991,0.0,0.0,0.0621610346266166,0.0,0.13613684960798286,0.4103896103896103,0.6564102564102564,0.3636363636363636,0.0,0.5454545454545454,0.6022727272727273,0.6666666666666666,0.1800766283524904,0.10122448979591836,0.0,0.36507936507936506,0.5634920634920635,0.0,1.577777777777778,1.55,0.0,0.09039836567926454,0.0,0.0,1.393939393939394,1.7000000000000002,1.5692307692307692,1.6904761904761905,1.8,1.0333333333333334,1.4313725490196076,1.7823529411764705,1.3842105263157896,0.0,0.0375,0.0,0.0,1.303030303030303,1.5857142857142859,1.4715099715099715,1.6125,1.4166666666666665,1.0714285714285714,1.547314578005115,0.1509433962264151,0.0,0.0,0.1339285714285714,0.233695652173913,0.1607396870554765,0.1077235772357723,0.2477718360071301,0.18431372549019603,0.0,0.0,0.0,0.0,0.8321428571428572,1.0,0.7299539170506912,1.0,0.5534290271132376,0.8285714285714285,0.7333333333333334,0.8705882352941177,0.33513513513513515,0.5904139433551199,0.0,0.14213836477987418,0.0,0.0,0.1538461538461538,0.0,0.0,0.05555555555555555,0.0,0.14358974358974355,0.2361111111111111,0.0222222222222222,0.2582417582417582,0.04545454545454545,0.0,0.05,0.1245421245421245,0.0,0.0,0.12237762237762234,0.0,0.0,0.0,0.0,0.15757575757575754,0.03076923076923075,0.0,0.1357466063348416,0.1483516483516483],\"xaxis\":\"x\",\"y\":[0.1138790035587188,0.0951219512195122,0.1985428051001821,0.0596026490066225,0.1519337016574585,0.1423076923076923,0.0625,0.0958904109589041,0.1134020618556701,0.1845493562231759,0.0530973451327433,0.1071428571428571,0.1919385796545105,0.1695652173913043,0.1052631578947368,0.141491395793499,0.0758620689655172,0.0641025641025641,0.127147766323024,0.1262626262626262,0.1345454545454545,0.1607629427792915,0.1647058823529411,0.1344743276283618,0.1258741258741259,0.0909090909090909,0.1379310344827586,0.15,0.1433691756272401,0.1766304347826087,0.1732283464566929,0.1320293398533007,0.2026515151515151,0.1853448275862069,0.0714285714285714,0.1688804554079696,0.1237113402061855,0.135,0.1565836298932384,0.1517615176151761,0.15234375,0.1246943765281173,0.1824953445065177,0.1853448275862069,0.1071428571428571,0.1666666666666666,0.1319444444444444,0.0519480519480519,0.127147766323024,0.145,0.1743772241992882,0.1571815718157181,0.15625,0.1390243902439024,0.1918063314711359,0.1923076923076923,0.1034482758620689,0.1647727272727272,0.1172413793103448,0.0769230769230769,0.1241379310344827,0.1507537688442211,0.1565836298932384,0.1544715447154471,0.15625,0.1323529411764706,0.2017857142857143,0.1794871794871795,0.0956521739130434,0.1666666666666666,0.1241379310344827,0.0759493670886076,0.1138790035587188,0.0926829268292682,0.2062043795620438,0.0592105263157894,0.1629834254143646,0.1384615384615384,0.050632911392405,0.0927835051546391,0.1134020618556701,0.1974248927038626,0.0535714285714285,0.1015037593984962,0.1034482758620689,0.0779220779220779,0.1301369863013698,0.17,0.1943462897526501,0.1886792452830188,0.171875,0.1390243902439024,0.1958174904942966,0.2068965517241379,0.0982142857142857,0.1856060606060606,0.0291970802919708,0.0259740259740259,0.1095890410958904,0.1407035175879397,0.1107142857142857,0.154054054054054,0.1607843137254902,0.1158690176322418,0.2011494252873563,0.1965811965811965,0.0654205607476635,0.1445086705202312,0.2095238095238095,0.1580756013745704,0.1390374331550802,0.1335012594458438,0.16,0.1130434782608695,0.1574952561669829,0.1095890410958904,0.0769230769230769,0.1643835616438356,0.1821705426356589,0.2008547008547008,0.1047297297297297,0.1194605009633911,0.116504854368932,0.048780487804878,0.2802547770700637,0.2177419354838709,0.3321299638989169,0.3062015503875969,0.3333333333333333,0.1282051282051282,0.2213592233009708,0.252212389380531,0.24,0.1504854368932038,0.1377551020408163,0.1505376344086021,0.178743961352657,0.0849056603773584,0.0777777777777777,0.1841085271317829,0.1564625850340136,0.176,0.1448275862068965,0.2011605415860735,0.1416893732970027,0.1812366737739872,0.1875,0.218978102189781,0.2080291970802919,0.1826923076923076,0.2300884955752212,0.1647058823529411,0.1450980392156863,0.2006802721088435,0.1848739495798319,0.1979949874686716,0.1629213483146067,0.1794871794871795,0.1627906976744186,0.217391304347826,0.2171717171717171,0.1748251748251748,0.1979797979797979,0.1858407079646017,0.1815642458100558,0.1585365853658536,0.1808118081180811,0.1763157894736842,0.1799307958477508,0.1684981684981685,0.2,0.2025316455696202,0.1929824561403508,0.1098901098901098,0.1732283464566929,0.235042735042735,0.2038043478260869,0.1864951768488746,0.2142857142857142,0.187012987012987,0.1698113207547169,0.0896551724137931,0.0759493670886076,0.1237113402061855,0.1507537688442211,0.1773049645390071,0.1984877126654064,0.1896551724137931,0.0973451327433628,0.1725067385444744,0.1484375,0.1442542787286063,0.1723484848484848,0.1936936936936936,0.1573033707865168,0.168,0.2043010752688172,0.1620553359683794,0.1798941798941798,0.1949152542372881,0.1949152542372881,0.2011019283746556,0.1837837837837838,0.1950207468879668,0.189453125,0.1949152542372881,0.18,0.2207207207207207,0.1348314606741573,0.144,0.1906474820143885,0.2044534412955465,0.1630434782608695,0.1503267973856209,0.195054945054945,0.1851851851851851,0.1739130434782608,0.2005277044854881,0.205607476635514,0.1630434782608695,0.1788617886178861,0.1915708812260536,0.1810344827586207,0.1810344827586207,0.2037037037037037,0.2162162162162162,0.18359375,0.2078651685393258,0.1743421052631578,0.2055335968379446,0.2012320328542094,0.2072538860103626,0.1900191938579654,0.1586206896551724,0.1897810218978102,0.1550387596899224,0.1931818181818181,0.1931818181818181,0.1931818181818181,0.1779661016949152,0.1914893617021276,0.1097560975609756,0.1827956989247312,0.2,0.2366071428571428,0.1965811965811965,0.1954459203036053,0.2077922077922078,0.125,0.1840607210626186,0.1156462585034013,0.0779220779220779,0.1099656357388316,0.15,0.2127659574468085,0.1805929919137466,0.16015625,0.1609756097560975,0.09375,0.1084905660377358,0.0992907801418439,0.0625,0.1612903225806451,0.1377952755905512,0.0833333333333333,0.0256410256410256,0.072072072072072,0.1309297912713472,0.1625,0.1692015209125475,0.2672955974842767,0.3227665706051873,0.2217898832684824,0.2631578947368421,0.5217391304347826,0.3083700440528634,0.2758620689655172,0.217391304347826,0.1717171717171717,0.2788671023965142,0.3062913907284768,0.08,0.2578947368421053,0.2081712062256809,0.2731277533039647,0.1666666666666666,0.2074829931972789,0.2023121387283237,0.2063829787234042,0.2159090909090909,0.1273885350318471,0.1805929919137466,0.2407407407407407,0.2277992277992278,0.1929824561403508,0.1578947368421052,0.2,0.2631578947368421,0.16,0.2026578073089701,0.2119460500963391,0.170316301703163,0.1744186046511628,0.1483870967741935,0.1752021563342318,0.2254545454545454,0.2123552123552123,0.2631578947368421,0.1491228070175438,0.182509505703422,0.1845493562231759,0.0982142857142857,0.1404174573055028,0.1103448275862069,0.0769230769230769,0.127147766323024,0.12,0.1565836298932384,0.147945205479452,0.1484375,0.124390243902439,0.2228739002932551,0.21484375,0.2368421052631578,0.2962962962962963,0.2444444444444444,0.247148288973384,0.1694915254237288,0.1643356643356643,0.1569506726457399,0.1134020618556701,0.2228571428571428,0.2453825857519788,0.1405750798722044,0.2610619469026549,0.23,0.1047297297297297,0.1290944123314065,0.1189320388349514,0.0609756097560975,0.2903225806451613,0.2284946236559139,0.3501805054151624,0.2906976744186046,0.3571428571428571,0.1111111111111111,0.2286821705426356,0.2699115044247787,0.2166666666666666,0.1081081081081081,0.1310211946050096,0.1213592233009708,0.0609756097560975,0.2709677419354839,0.2338709677419354,0.3501805054151624,0.3011583011583011,0.3095238095238095,0.1111111111111111,0.2252427184466019,0.1717557251908397,0.1572052401746725,0.0803571428571428,0.1287878787878787,0.1552346570397112,0.1396648044692737,0.14453125,0.1127450980392156,0.127147766323024,0.1243523316062176,0.0821917808219178,0.0263157894736842,0.1,0.1926782273603083,0.1292517006802721,0.176,0.1275862068965517,0.1957364341085271,0.1553133514986376,0.1844660194174757,0.1198979591836734,0.1530249110320284,0.1884057971014492,0.0934579439252336,0.182509505703422,0.1845493562231759,0.0892857142857142,0.1515151515151515,0.1310344827586207,0.0641025641025641,0.1267123287671233,0.11,0.1565836298932384,0.1467391304347826,0.15625,0.1390243902439024,0.2011494252873563,0.1974248927038626,0.1974248927038626,0.1974248927038626,0.0654205607476635,0.0654205607476635,0.1445086705202312,0.0291970802919708,0.0259740259740259,0.1134020618556701,0.1414141414141414,0.1111111111111111,0.154054054054054,0.1607843137254902,0.1177944862155388,0.1177944862155388],\"yaxis\":\"y\",\"type\":\"scatter\"},{\"hovertemplate\":\"<b>OLS trendline</b><br>Gainers = 0.0855193 * Median + 0.12683<br>R<sup>2</sup>=0.465793<br><br>Color=Other<br>Median=%{x}<br>Gainers=%{y} <b>(trend)</b><extra></extra>\",\"legendgroup\":\"Other\",\"marker\":{\"color\":\"#636efa\",\"symbol\":\"circle\"},\"mode\":\"lines\",\"name\":\"Other\",\"showlegend\":false,\"x\":[0.0,0.0,0.0,0.0,0.0,0.0,0.0,0.0,0.0,0.0,0.0,0.0,0.0,0.0,0.0,0.0,0.0,0.0,0.0,0.0,0.0,0.0,0.0,0.0,0.0,0.0,0.0,0.0,0.0,0.0,0.0,0.0,0.0,0.0,0.0,0.0,0.0,0.0,0.0,0.0,0.0,0.0,0.0,0.0,0.0,0.0,0.0,0.0,0.0,0.0,0.0,0.0,0.0,0.0,0.0,0.0,0.0,0.0,0.0,0.0,0.0,0.0,0.0,0.0,0.0,0.0,0.0,0.0,0.0,0.0,0.0,0.0,0.0,0.0,0.0,0.0,0.0,0.0,0.0,0.0,0.0,0.0,0.0,0.0,0.0,0.0,0.0,0.0,0.0,0.0,0.0,0.0,0.0,0.0,0.0,0.0,0.0,0.0,0.0,0.0,0.0,0.0,0.0,0.0,0.0,0.0,0.0,0.0,0.0,0.0,0.0,0.0,0.0,0.0,0.0,0.0,0.0,0.0,0.01694915254237285,0.0222222222222222,0.03076923076923075,0.03125,0.03448275862068965,0.037037037037037,0.037037037037037,0.0375,0.04166666666666665,0.04545454545454545,0.04545454545454545,0.05,0.05555555555555555,0.0621610346266166,0.0625,0.0625,0.07151979565772665,0.075,0.0809523809523809,0.09039836567926454,0.09285714285714286,0.10122448979591836,0.10230179028132991,0.1052631578947368,0.1077235772357723,0.11038961038961036,0.1111111111111111,0.1111111111111111,0.1111111111111111,0.11218724778046806,0.12237762237762234,0.12280701754385959,0.1245421245421245,0.12670565302144246,0.1304131408661025,0.1333333333333333,0.1339285714285714,0.1357466063348416,0.13613684960798286,0.14166666666666666,0.14213836477987418,0.1422558922558922,0.1435406698564593,0.14358974358974355,0.14459930313588845,0.1483516483516483,0.1509433962264151,0.1526315789473684,0.1538461538461538,0.15757575757575754,0.1607396870554765,0.16233766233766228,0.1630284609008013,0.16666666666666666,0.1701149425287356,0.1769230769230769,0.17777777777777776,0.1800766283524904,0.1833333333333333,0.18431372549019603,0.1875,0.18907563025210078,0.1904761904761904,0.19090909090909092,0.1961722488038277,0.2019230769230769,0.20460358056265981,0.2111111111111111,0.21666666666666662,0.21978021978021975,0.2222222222222222,0.22567287784679085,0.23026315789473678,0.233695652173913,0.2344196683819325,0.2352941176470588,0.2361111111111111,0.23787878787878786,0.2477718360071301,0.2509803921568627,0.2517543859649122,0.25279106858054223,0.25396825396825395,0.2540322580645161,0.2564705882352941,0.2564705882352941,0.2564705882352941,0.2582417582417582,0.2583333333333333,0.2598822539949537,0.26216216216216215,0.26666666666666666,0.27045454545454545,0.27192982456140347,0.2777777777777778,0.27884615384615385,0.2849561134925495,0.2857142857142857,0.29156010230179025,0.2967032967032967,0.3,0.30459770114942525,0.30519480519480513,0.30519480519480513,0.30952380952380953,0.3205128205128205,0.3246753246753247,0.32625994694960214,0.32666666666666666,0.3333333333333333,0.3333333333333333,0.3333333333333333,0.3333333333333333,0.33513513513513515,0.3367729831144465,0.33809523809523806,0.3405797101449275,0.3431372549019608,0.3443223443223443,0.3478260869565217,0.3636363636363636,0.3636363636363636,0.36507936507936506,0.3666666666666667,0.37229437229437223,0.37229437229437223,0.3787629994526546,0.3798076923076923,0.4,0.4083333333333333,0.4103896103896103,0.41428571428571426,0.4222222222222222,0.43650793650793646,0.4444444444444444,0.4526854219948848,0.457516339869281,0.457516339869281,0.46428571428571425,0.4722222222222222,0.4857142857142857,0.4857142857142857,0.4888888888888889,0.5,0.5,0.5079365079365079,0.5108695652173914,0.5333333333333333,0.5333333333333333,0.5357142857142857,0.5454545454545454,0.5534290271132376,0.5576923076923077,0.5634920634920635,0.5714285714285714,0.5714285714285714,0.5833333333333333,0.5868385345997287,0.5904139433551199,0.6022727272727273,0.6158059467918623,0.6190476190476191,0.6190476190476191,0.6214285714285714,0.6260162601626016,0.6296296296296295,0.6318681318681318,0.633249791144528,0.6333333333333333,0.638157894736842,0.6436781609195402,0.6491228070175439,0.6491228070175439,0.6491228070175439,0.6533333333333333,0.6564102564102564,0.6666666666666666,0.6666666666666666,0.6666666666666666,0.6666666666666666,0.6727272727272727,0.6895868704018109,0.6944444444444444,0.6944444444444444,0.696969696969697,0.7076923076923077,0.7125,0.7204301075268817,0.7299539170506912,0.7333333333333334,0.7333333333333334,0.7386363636363636,0.7386363636363636,0.743421052631579,0.7471264367816092,0.7870967741935484,0.7916666666666667,0.8,0.8,0.8,0.8035714285714286,0.8166666666666667,0.8210526315789474,0.8210526315789474,0.8210526315789474,0.8285714285714285,0.8285714285714285,0.8285714285714285,0.8321428571428572,0.8333333333333333,0.8333333333333333,0.8375,0.8436363636363636,0.8452380952380952,0.8528428093645486,0.8571428571428571,0.8689075630252101,0.8705882352941177,0.873015873015873,0.8861689106487147,0.9,0.9285714285714286,0.9444444444444444,0.9454545454545454,0.9545454545454546,0.9666666666666666,0.9680851063829787,0.9705882352941175,0.9864864864864865,1.0,1.0,1.0,1.0,1.0,1.0,1.0,1.0,1.0,1.0,1.0,1.0,1.0,1.0333333333333334,1.0333333333333334,1.0333333333333334,1.0454545454545454,1.06,1.0714285714285714,1.0714285714285714,1.0909090909090908,1.101010101010101,1.1454545454545455,1.1547619047619047,1.1555555555555554,1.164021164021164,1.1666666666666665,1.1930232558139535,1.2,1.2,1.2153846153846155,1.2521739130434781,1.303030303030303,1.3333333333333333,1.3333333333333333,1.3842105263157896,1.393939393939394,1.4166666666666665,1.4313725490196076,1.4545454545454546,1.4715099715099715,1.4875,1.5,1.5147058823529411,1.5441176470588234,1.547314578005115,1.55,1.5692307692307692,1.577777777777778,1.5857142857142859,1.5857142857142859,1.5874125874125875,1.6108108108108108,1.6125,1.6181818181818182,1.6333333333333333,1.6369047619047619,1.6696428571428572,1.6774193548387095,1.6794871794871795,1.6904761904761905,1.7000000000000002,1.7823529411764705,1.7888888888888888,1.8],\"xaxis\":\"x\",\"y\":[0.12683002293737342,0.12683002293737342,0.12683002293737342,0.12683002293737342,0.12683002293737342,0.12683002293737342,0.12683002293737342,0.12683002293737342,0.12683002293737342,0.12683002293737342,0.12683002293737342,0.12683002293737342,0.12683002293737342,0.12683002293737342,0.12683002293737342,0.12683002293737342,0.12683002293737342,0.12683002293737342,0.12683002293737342,0.12683002293737342,0.12683002293737342,0.12683002293737342,0.12683002293737342,0.12683002293737342,0.12683002293737342,0.12683002293737342,0.12683002293737342,0.12683002293737342,0.12683002293737342,0.12683002293737342,0.12683002293737342,0.12683002293737342,0.12683002293737342,0.12683002293737342,0.12683002293737342,0.12683002293737342,0.12683002293737342,0.12683002293737342,0.12683002293737342,0.12683002293737342,0.12683002293737342,0.12683002293737342,0.12683002293737342,0.12683002293737342,0.12683002293737342,0.12683002293737342,0.12683002293737342,0.12683002293737342,0.12683002293737342,0.12683002293737342,0.12683002293737342,0.12683002293737342,0.12683002293737342,0.12683002293737342,0.12683002293737342,0.12683002293737342,0.12683002293737342,0.12683002293737342,0.12683002293737342,0.12683002293737342,0.12683002293737342,0.12683002293737342,0.12683002293737342,0.12683002293737342,0.12683002293737342,0.12683002293737342,0.12683002293737342,0.12683002293737342,0.12683002293737342,0.12683002293737342,0.12683002293737342,0.12683002293737342,0.12683002293737342,0.12683002293737342,0.12683002293737342,0.12683002293737342,0.12683002293737342,0.12683002293737342,0.12683002293737342,0.12683002293737342,0.12683002293737342,0.12683002293737342,0.12683002293737342,0.12683002293737342,0.12683002293737342,0.12683002293737342,0.12683002293737342,0.12683002293737342,0.12683002293737342,0.12683002293737342,0.12683002293737342,0.12683002293737342,0.12683002293737342,0.12683002293737342,0.12683002293737342,0.12683002293737342,0.12683002293737342,0.12683002293737342,0.12683002293737342,0.12683002293737342,0.12683002293737342,0.12683002293737342,0.12683002293737342,0.12683002293737342,0.12683002293737342,0.12683002293737342,0.12683002293737342,0.12683002293737342,0.12683002293737342,0.12683002293737342,0.12683002293737342,0.12683002293737342,0.12683002293737342,0.12683002293737342,0.12683002293737342,0.12683002293737342,0.12683002293737342,0.12683002293737342,0.12827950210508318,0.1287304511794818,0.12946138511875424,0.12950250015283832,0.12977896331305883,0.12999740334088736,0.12999740334088736,0.1300369955959313,0.13039332589132663,0.13071726252350419,0.13071726252350419,0.13110598648211724,0.13158109354264436,0.13214598929671287,0.13217497736830322,0.13217497736830322,0.13294634371657277,0.13324396825448917,0.13375301153362534,0.13456082526035257,0.1347710980918977,0.13548666750142624,0.13557879745347334,0.13583205145262361,0.13604246472076462,0.13627046193226242,0.13633216414791527,0.13633216414791527,0.13633216414791527,0.13642419457126193,0.13729566797695625,0.13733238953849863,0.13748077462391484,0.1376657980020264,0.13798285965935336,0.13823259239002367,0.13828349671793727,0.13843897373758293,0.13847234705777361,0.13894525298081428,0.1389855922595383,0.13899564312359747,0.13910551636726004,0.1391097131171506,0.13919604991346188,0.13951694774045953,0.13973859212905293,0.13988296428448618,0.13998683384427754,0.14030578683596007,0.14057636377822844,0.140713021459269,0.14077209804872387,0.1410832347531862,0.14137812879075476,0.14196035548031316,0.1420334488742404,0.1422300448992861,0.1425085559347675,0.14259239835721346,0.1428648862301628,0.14299963298052237,0.1431194078697309,0.14315642919912264,0.14360653062488513,0.1440983372526851,0.14432757196957327,0.14488409123740298,0.14535919829793006,0.14562546709009358,0.14583430535845715,0.14612940291157955,0.1465219603144832,0.1468155047225892,0.14687742206081508,0.14695220432440326,0.14702207300977488,0.1471732434381244,0.14801928970098815,0.14829368308353857,0.1483598744696801,0.1484485308111182,0.1485492028471834,0.14855467643083003,0.14876320064923593,0.14876320064923593,0.14876320064923593,0.1489146698168196,0.14892250125188325,0.14905496381753905,0.14924993990170599,0.1496351618426739,0.14995909847485145,0.1500852632684364,0.1505853759637281,0.15067674270613715,0.15119926200029402,0.15126410033590965,0.15176403030825822,0.15220387254354564,0.15248580420583646,0.15287899625592785,0.1529300601585371,0.1529300601585371,0.15330027345245434,0.15424004566009034,0.1545960199811646,0.15473153572270457,0.1547663180963665,0.15533644656899903,0.15533644656899903,0.15533644656899903,0.15533644656899903,0.15549053534538618,0.15563060291041353,0.15574368119230794,0.15595615143055608,0.1561748707934586,0.15627621877663503,0.15657585629211318,0.15792793962641952,0.15792793962641952,0.15805134405772525,0.15818708893216157,0.15866836621425395,0.15866836621425395,0.15922155849252106,0.159310899863793,0.16103773129532414,0.16175039188611479,0.16192624320072546,0.16225943516525093,0.16293815953743251,0.16415986340735933,0.16483858777954088,0.1655433501711156,0.16595648674548696,0.16595648674548696,0.1665353987099948,0.16721412308217634,0.168367954514885,0.168367954514885,0.16863944426375763,0.16958965838481183,0.16958965838481183,0.17026838275699338,0.17051921567714745,0.1724403007479744,0.1724403007479744,0.17264391805962884,0.17347689797094257,0.1741588698281585,0.17452346247490086,0.17501945336226432,0.17569817773444588,0.17569817773444588,0.17671626429271822,0.17701602654936016,0.17732179289927236,0.17833594745360604,0.17949329851974277,0.17977052396753523,0.17977052396753523,0.1799741412791897,0.18036647707481662,0.18067548979711065,0.18086692487644393,0.18098508337038646,0.18099222783746205,0.18140482081107767,0.1818769099501677,0.1823425321147496,0.1823425321147496,0.1823425321147496,0.18270261325535958,0.18296574947349767,0.18384287020062462,0.18384287020062462,0.18384287020062462,0.18384287020062462,0.18436116881210873,0.1858029893128162,0.18621840550326008,0.18621840550326008,0.18643436325804513,0.1873513531091324,0.18776250344997314,0.18844068046379003,0.1892551497104079,0.18954415492694976,0.18954415492694976,0.18999766621199832,0.18999766621199832,0.1904068493263279,0.1907237310772239,0.19414196519011517,0.19453277906248423,0.19524543965327484,0.19524543965327484,0.19524543965327484,0.19555086562075658,0.19667076083485613,0.1970458453563249,0.1970458453563249,0.1970458453563249,0.19768884739312848,0.19768884739312848,0.19768884739312848,0.1979942733606102,0.1980960820164374,0.1980960820164374,0.19845241231183275,0.1989771896559604,0.19911416857470976,0.199764518182168,0.2001322551329821,0.2011383642023336,0.2012820940693838,0.20148970387734522,0.20261454206575874,0.20379736674276255,0.20624077448261618,0.2075982232269793,0.2076846063288933,0.20846205424611947,0.20949865146908764,0.209619955399435,0.20983402115887148,0.2111936280093465,0.2123492938322502,0.2123492938322502,0.2123492938322502,0.2123492938322502,0.2123492938322502,0.2123492938322502,0.2123492938322502,0.2123492938322502,0.2123492938322502,0.2123492938322502,0.2123492938322502,0.2123492938322502,0.2123492938322502,0.21519993619541278,0.21519993619541278,0.21519993619541278,0.21623653341838098,0.21748045008594283,0.21845781318188429,0.21845781318188429,0.22012377300451175,0.22098760402365192,0.22478846050786866,0.22558441908979066,0.22565229152700883,0.22637626419066917,0.226602505648063,0.2288565019352148,0.22945314801122557,0.22945314801122557,0.230768829101916,0.23391502301443653,0.2382642244064553,0.24085571746387582,0.24085571746387582,0.24520669791291344,0.24603870357871685,0.24798232337178222,0.24923995970847157,0.25122168969355785,0.25267248281544713,0.2540399383935027,0.25510892927968865,0.256366565616378,0.2588818382897567,0.25915523749338487,0.25938489282443244,0.2610294941877955,0.26176042812706796,0.26243915249924954,0.26243915249924954,0.26258439002224776,0.2645853890274993,0.2647298472553623,0.2652157522036286,0.26651149873233887,0.26681692469982055,0.2696166627350695,0.2702817031481345,0.2704585420044101,0.2713983142120461,0.272212783458664,0.2792555469441244,0.27981449642709744,0.28076471054815166],\"yaxis\":\"y\",\"type\":\"scatter\"},{\"customdata\":[[\"ND3\",\"Halicephalobus gingivalis\"],[\"ND5\",\"Halicephalobus gingivalis\"],[\"ND6\",\"Halicephalobus gingivalis\"],[\"ND4L\",\"Halicephalobus gingivalis\"],[\"ND1\",\"Halicephalobus gingivalis\"],[\"ATP6\",\"Halicephalobus gingivalis\"],[\"ND2\",\"Halicephalobus gingivalis\"],[\"CYTB\",\"Halicephalobus gingivalis\"],[\"COX3\",\"Halicephalobus gingivalis\"],[\"ND4\",\"Halicephalobus gingivalis\"],[\"COX1\",\"Halicephalobus sp. NKZ332\"],[\"COX1\",\"Halicephalobus sp. NKZ332\"],[\"COX2\",\"Halicephalobus sp. NKZ332\"],[\"COX2\",\"Halicephalobus sp. NKZ332\"],[\"COX2\",\"Halicephalobus sp. NKZ332\"],[\"ND3\",\"Halicephalobus sp. NKZ332\"],[\"ND5\",\"Halicephalobus sp. NKZ332\"],[\"ND6\",\"Halicephalobus sp. NKZ332\"],[\"ND4L\",\"Halicephalobus sp. NKZ332\"],[\"ND1\",\"Halicephalobus sp. NKZ332\"],[\"ATP6\",\"Halicephalobus sp. NKZ332\"],[\"ATP6\",\"Halicephalobus sp. NKZ332\"],[\"ND2\",\"Halicephalobus sp. NKZ332\"],[\"CYTB\",\"Halicephalobus sp. NKZ332\"],[\"CYTB\",\"Halicephalobus sp. NKZ332\"],[\"COX3\",\"Halicephalobus sp. NKZ332\"],[\"COX3\",\"Halicephalobus sp. NKZ332\"],[\"ND4\",\"Halicephalobus sp. NKZ332\"]],\"hovertemplate\":\"Color=Halicephalobus sp.<br>Median=%{x}<br>Gainers=%{y}<br>GenName=%{customdata[0]}<br>OrganismName=%{customdata[1]}<extra></extra>\",\"legendgroup\":\"Halicephalobus sp.\",\"marker\":{\"color\":\"#EF553B\",\"symbol\":\"circle\"},\"mode\":\"markers\",\"name\":\"Halicephalobus sp.\",\"orientation\":\"v\",\"showlegend\":true,\"x\":[0.0,0.11557377049180326,0.0,0.0,0.1633333333333333,0.0,0.0,0.0942350332594235,0.0,0.15382395382395375,0.14893617021276595,0.14999999999999997,0.0,0.05,0.1245421245421245,0.0,0.0,0.0,0.0,0.0,0.037037037037037,0.1468253968253968,0.0,0.0185185185185185,0.0625,0.0,0.0,0.25083612040133774],\"xaxis\":\"x\",\"y\":[0.1071428571428571,0.1559454191033138,0.1159420289855072,0.1038961038961039,0.1137931034482758,0.145,0.1484098939929328,0.1598915989159891,0.1803921568627451,0.1283292978208232,0.1889312977099236,0.1889312977099236,0.1919642857142857,0.1919642857142857,0.1919642857142857,0.1043478260869565,0.1561904761904761,0.1159420289855072,0.125,0.1126279863481228,0.145,0.145,0.1590214067278287,0.1657608695652173,0.1657608695652173,0.1634980988593156,0.1634980988593156,0.1195121951219512],\"yaxis\":\"y\",\"type\":\"scatter\"},{\"hovertemplate\":\"<b>OLS trendline</b><br>Gainers = 0.0457464 * Median + 0.145868<br>R<sup>2</sup>=0.012785<br><br>Color=Halicephalobus sp.<br>Median=%{x}<br>Gainers=%{y} <b>(trend)</b><extra></extra>\",\"legendgroup\":\"Halicephalobus sp.\",\"marker\":{\"color\":\"#EF553B\",\"symbol\":\"circle\"},\"mode\":\"lines\",\"name\":\"Halicephalobus sp.\",\"showlegend\":false,\"x\":[0.0,0.0,0.0,0.0,0.0,0.0,0.0,0.0,0.0,0.0,0.0,0.0,0.0,0.0,0.0,0.0185185185185185,0.037037037037037,0.05,0.0625,0.0942350332594235,0.11557377049180326,0.1245421245421245,0.1468253968253968,0.14893617021276595,0.14999999999999997,0.15382395382395375,0.1633333333333333,0.25083612040133774],\"xaxis\":\"x\",\"y\":[0.14586781629928938,0.14586781629928938,0.14586781629928938,0.14586781629928938,0.14586781629928938,0.14586781629928938,0.14586781629928938,0.14586781629928938,0.14586781629928938,0.14586781629928938,0.14586781629928938,0.14586781629928938,0.14586781629928938,0.14586781629928938,0.14586781629928938,0.14671497166086603,0.14756212702244265,0.1481551357755463,0.14872696564461052,0.15017872883768935,0.15115489902309637,0.1515651688408817,0.152584548094647,0.1526811083562249,0.15272977472806012,0.15290470680921686,0.15333972658839531,0.15734266317014348],\"yaxis\":\"y\",\"type\":\"scatter\"},{\"customdata\":[[\"ND6\",\"Caenorhabditis elegans\"],[\"ND4L\",\"Caenorhabditis elegans\"],[\"ND1\",\"Caenorhabditis elegans\"],[\"ATP6\",\"Caenorhabditis elegans\"],[\"ND2\",\"Caenorhabditis elegans\"],[\"CYTB\",\"Caenorhabditis elegans\"],[\"COX3\",\"Caenorhabditis elegans\"],[\"ND4\",\"Caenorhabditis elegans\"],[\"COX1\",\"Caenorhabditis elegans\"],[\"COX2\",\"Caenorhabditis elegans\"],[\"ND3\",\"Caenorhabditis elegans\"],[\"ND5\",\"Caenorhabditis elegans\"]],\"hovertemplate\":\"Color=Caenorhabditis elegans<br>Median=%{x}<br>Gainers=%{y}<br>GenName=%{customdata[0]}<br>OrganismName=%{customdata[1]}<extra></extra>\",\"legendgroup\":\"Caenorhabditis elegans\",\"marker\":{\"color\":\"#00cc96\",\"symbol\":\"circle\"},\"mode\":\"markers\",\"name\":\"Caenorhabditis elegans\",\"orientation\":\"v\",\"showlegend\":true,\"x\":[0.0,0.0,0.5934065934065934,0.225,0.5517241379310345,0.5523809523809524,0.641025641025641,0.43779904306220085,0.2062566277836691,0.24285714285714285,0.0,0.6376811594202898],\"xaxis\":\"x\",\"y\":[0.1034482758620689,0.0769230769230769,0.1335616438356164,0.18,0.2084805653710247,0.1913746630727762,0.171875,0.1439024390243902,0.1977186311787072,0.2025862068965517,0.0982142857142857,0.1818181818181818],\"yaxis\":\"y\",\"type\":\"scatter\"},{\"hovertemplate\":\"<b>OLS trendline</b><br>Gainers = 0.103717 * Median + 0.122158<br>R<sup>2</sup>=0.350895<br><br>Color=Caenorhabditis elegans<br>Median=%{x}<br>Gainers=%{y} <b>(trend)</b><extra></extra>\",\"legendgroup\":\"Caenorhabditis elegans\",\"marker\":{\"color\":\"#00cc96\",\"symbol\":\"circle\"},\"mode\":\"lines\",\"name\":\"Caenorhabditis elegans\",\"showlegend\":false,\"x\":[0.0,0.0,0.0,0.2062566277836691,0.225,0.24285714285714285,0.43779904306220085,0.5517241379310345,0.5523809523809524,0.5934065934065934,0.6376811594202898,0.641025641025641],\"xaxis\":\"x\",\"y\":[0.12215783037101054,0.12215783037101054,0.12215783037101054,0.14355016373791296,0.1454941714102009,0.1473462619688668,0.16756506492892478,0.17938104211461908,0.17944916498574243,0.18370422432052358,0.18829625263989141,0.18864313247696599],\"yaxis\":\"y\",\"type\":\"scatter\"},{\"customdata\":[[\"COX1\",\"Halicephalobus mephisto\"],[\"COX1\",\"Halicephalobus mephisto\"],[\"COX2\",\"Halicephalobus mephisto\"],[\"COX2\",\"Halicephalobus mephisto\"],[\"COX2\",\"Halicephalobus mephisto\"],[\"ND3\",\"Halicephalobus mephisto\"],[\"ND3\",\"Halicephalobus mephisto\"],[\"ND5\",\"Halicephalobus mephisto\"],[\"ND6\",\"Halicephalobus mephisto\"],[\"ND4L\",\"Halicephalobus mephisto\"],[\"ND1\",\"Halicephalobus mephisto\"],[\"ATP6\",\"Halicephalobus mephisto\"],[\"ATP6\",\"Halicephalobus mephisto\"],[\"ND2\",\"Halicephalobus mephisto\"],[\"CYTB\",\"Halicephalobus mephisto\"],[\"CYTB\",\"Halicephalobus mephisto\"],[\"COX3\",\"Halicephalobus mephisto\"],[\"COX3\",\"Halicephalobus mephisto\"],[\"ND4\",\"Halicephalobus mephisto\"],[\"ND4\",\"Halicephalobus mephisto\"]],\"hovertemplate\":\"Color=Halicephalobus mephisto<br>Median=%{x}<br>Gainers=%{y}<br>GenName=%{customdata[0]}<br>OrganismName=%{customdata[1]}<extra></extra>\",\"legendgroup\":\"Halicephalobus mephisto\",\"marker\":{\"color\":\"#ab63fa\",\"symbol\":\"circle\"},\"mode\":\"markers\",\"name\":\"Halicephalobus mephisto\",\"orientation\":\"v\",\"showlegend\":true,\"x\":[0.14893617021276595,0.14999999999999997,0.0,0.05,0.1245421245421245,0.0,0.0,0.1132075471698113,0.0,0.0,0.0,0.037037037037037,0.1468253968253968,0.1818181818181818,0.0185185185185185,0.0625,0.0,0.0,0.1357466063348416,0.1483516483516483],\"xaxis\":\"x\",\"y\":[0.1904761904761904,0.1904761904761904,0.1888412017167382,0.1888412017167382,0.1888412017167382,0.0990990990990991,0.0990990990990991,0.1550387596899224,0.1071428571428571,0.0897435897435897,0.1168384879725085,0.1492537313432835,0.1492537313432835,0.1564625850340136,0.1544715447154471,0.1544715447154471,0.155893536121673,0.155893536121673,0.1286407766990291,0.1286407766990291],\"yaxis\":\"y\",\"type\":\"scatter\"},{\"hovertemplate\":\"<b>OLS trendline</b><br>Gainers = 0.204103 * Median + 0.133926<br>R<sup>2</sup>=0.181624<br><br>Color=Halicephalobus mephisto<br>Median=%{x}<br>Gainers=%{y} <b>(trend)</b><extra></extra>\",\"legendgroup\":\"Halicephalobus mephisto\",\"marker\":{\"color\":\"#ab63fa\",\"symbol\":\"circle\"},\"mode\":\"lines\",\"name\":\"Halicephalobus mephisto\",\"showlegend\":false,\"x\":[0.0,0.0,0.0,0.0,0.0,0.0,0.0,0.0,0.0185185185185185,0.037037037037037,0.05,0.0625,0.1132075471698113,0.1245421245421245,0.1357466063348416,0.1468253968253968,0.1483516483516483,0.14893617021276595,0.14999999999999997,0.1818181818181818],\"xaxis\":\"x\",\"y\":[0.13392583577524358,0.13392583577524358,0.13392583577524358,0.13392583577524358,0.13392583577524358,0.13392583577524358,0.13392583577524358,0.13392583577524358,0.13770553004452216,0.1414852243138007,0.14413101030229572,0.14668230393405873,0.15703189130819178,0.15934531811368843,0.16163219195728556,0.1638934117673808,0.1642049250313323,0.16432422798348398,0.16454135935639996,0.17103556132816042],\"yaxis\":\"y\",\"type\":\"scatter\"}],                        {\"template\":{\"data\":{\"bar\":[{\"error_x\":{\"color\":\"#2a3f5f\"},\"error_y\":{\"color\":\"#2a3f5f\"},\"marker\":{\"line\":{\"color\":\"#E5ECF6\",\"width\":0.5},\"pattern\":{\"fillmode\":\"overlay\",\"size\":10,\"solidity\":0.2}},\"type\":\"bar\"}],\"barpolar\":[{\"marker\":{\"line\":{\"color\":\"#E5ECF6\",\"width\":0.5},\"pattern\":{\"fillmode\":\"overlay\",\"size\":10,\"solidity\":0.2}},\"type\":\"barpolar\"}],\"carpet\":[{\"aaxis\":{\"endlinecolor\":\"#2a3f5f\",\"gridcolor\":\"white\",\"linecolor\":\"white\",\"minorgridcolor\":\"white\",\"startlinecolor\":\"#2a3f5f\"},\"baxis\":{\"endlinecolor\":\"#2a3f5f\",\"gridcolor\":\"white\",\"linecolor\":\"white\",\"minorgridcolor\":\"white\",\"startlinecolor\":\"#2a3f5f\"},\"type\":\"carpet\"}],\"choropleth\":[{\"colorbar\":{\"outlinewidth\":0,\"ticks\":\"\"},\"type\":\"choropleth\"}],\"contour\":[{\"colorbar\":{\"outlinewidth\":0,\"ticks\":\"\"},\"colorscale\":[[0.0,\"#0d0887\"],[0.1111111111111111,\"#46039f\"],[0.2222222222222222,\"#7201a8\"],[0.3333333333333333,\"#9c179e\"],[0.4444444444444444,\"#bd3786\"],[0.5555555555555556,\"#d8576b\"],[0.6666666666666666,\"#ed7953\"],[0.7777777777777778,\"#fb9f3a\"],[0.8888888888888888,\"#fdca26\"],[1.0,\"#f0f921\"]],\"type\":\"contour\"}],\"contourcarpet\":[{\"colorbar\":{\"outlinewidth\":0,\"ticks\":\"\"},\"type\":\"contourcarpet\"}],\"heatmap\":[{\"colorbar\":{\"outlinewidth\":0,\"ticks\":\"\"},\"colorscale\":[[0.0,\"#0d0887\"],[0.1111111111111111,\"#46039f\"],[0.2222222222222222,\"#7201a8\"],[0.3333333333333333,\"#9c179e\"],[0.4444444444444444,\"#bd3786\"],[0.5555555555555556,\"#d8576b\"],[0.6666666666666666,\"#ed7953\"],[0.7777777777777778,\"#fb9f3a\"],[0.8888888888888888,\"#fdca26\"],[1.0,\"#f0f921\"]],\"type\":\"heatmap\"}],\"heatmapgl\":[{\"colorbar\":{\"outlinewidth\":0,\"ticks\":\"\"},\"colorscale\":[[0.0,\"#0d0887\"],[0.1111111111111111,\"#46039f\"],[0.2222222222222222,\"#7201a8\"],[0.3333333333333333,\"#9c179e\"],[0.4444444444444444,\"#bd3786\"],[0.5555555555555556,\"#d8576b\"],[0.6666666666666666,\"#ed7953\"],[0.7777777777777778,\"#fb9f3a\"],[0.8888888888888888,\"#fdca26\"],[1.0,\"#f0f921\"]],\"type\":\"heatmapgl\"}],\"histogram\":[{\"marker\":{\"pattern\":{\"fillmode\":\"overlay\",\"size\":10,\"solidity\":0.2}},\"type\":\"histogram\"}],\"histogram2d\":[{\"colorbar\":{\"outlinewidth\":0,\"ticks\":\"\"},\"colorscale\":[[0.0,\"#0d0887\"],[0.1111111111111111,\"#46039f\"],[0.2222222222222222,\"#7201a8\"],[0.3333333333333333,\"#9c179e\"],[0.4444444444444444,\"#bd3786\"],[0.5555555555555556,\"#d8576b\"],[0.6666666666666666,\"#ed7953\"],[0.7777777777777778,\"#fb9f3a\"],[0.8888888888888888,\"#fdca26\"],[1.0,\"#f0f921\"]],\"type\":\"histogram2d\"}],\"histogram2dcontour\":[{\"colorbar\":{\"outlinewidth\":0,\"ticks\":\"\"},\"colorscale\":[[0.0,\"#0d0887\"],[0.1111111111111111,\"#46039f\"],[0.2222222222222222,\"#7201a8\"],[0.3333333333333333,\"#9c179e\"],[0.4444444444444444,\"#bd3786\"],[0.5555555555555556,\"#d8576b\"],[0.6666666666666666,\"#ed7953\"],[0.7777777777777778,\"#fb9f3a\"],[0.8888888888888888,\"#fdca26\"],[1.0,\"#f0f921\"]],\"type\":\"histogram2dcontour\"}],\"mesh3d\":[{\"colorbar\":{\"outlinewidth\":0,\"ticks\":\"\"},\"type\":\"mesh3d\"}],\"parcoords\":[{\"line\":{\"colorbar\":{\"outlinewidth\":0,\"ticks\":\"\"}},\"type\":\"parcoords\"}],\"pie\":[{\"automargin\":true,\"type\":\"pie\"}],\"scatter\":[{\"marker\":{\"colorbar\":{\"outlinewidth\":0,\"ticks\":\"\"}},\"type\":\"scatter\"}],\"scatter3d\":[{\"line\":{\"colorbar\":{\"outlinewidth\":0,\"ticks\":\"\"}},\"marker\":{\"colorbar\":{\"outlinewidth\":0,\"ticks\":\"\"}},\"type\":\"scatter3d\"}],\"scattercarpet\":[{\"marker\":{\"colorbar\":{\"outlinewidth\":0,\"ticks\":\"\"}},\"type\":\"scattercarpet\"}],\"scattergeo\":[{\"marker\":{\"colorbar\":{\"outlinewidth\":0,\"ticks\":\"\"}},\"type\":\"scattergeo\"}],\"scattergl\":[{\"marker\":{\"colorbar\":{\"outlinewidth\":0,\"ticks\":\"\"}},\"type\":\"scattergl\"}],\"scattermapbox\":[{\"marker\":{\"colorbar\":{\"outlinewidth\":0,\"ticks\":\"\"}},\"type\":\"scattermapbox\"}],\"scatterpolar\":[{\"marker\":{\"colorbar\":{\"outlinewidth\":0,\"ticks\":\"\"}},\"type\":\"scatterpolar\"}],\"scatterpolargl\":[{\"marker\":{\"colorbar\":{\"outlinewidth\":0,\"ticks\":\"\"}},\"type\":\"scatterpolargl\"}],\"scatterternary\":[{\"marker\":{\"colorbar\":{\"outlinewidth\":0,\"ticks\":\"\"}},\"type\":\"scatterternary\"}],\"surface\":[{\"colorbar\":{\"outlinewidth\":0,\"ticks\":\"\"},\"colorscale\":[[0.0,\"#0d0887\"],[0.1111111111111111,\"#46039f\"],[0.2222222222222222,\"#7201a8\"],[0.3333333333333333,\"#9c179e\"],[0.4444444444444444,\"#bd3786\"],[0.5555555555555556,\"#d8576b\"],[0.6666666666666666,\"#ed7953\"],[0.7777777777777778,\"#fb9f3a\"],[0.8888888888888888,\"#fdca26\"],[1.0,\"#f0f921\"]],\"type\":\"surface\"}],\"table\":[{\"cells\":{\"fill\":{\"color\":\"#EBF0F8\"},\"line\":{\"color\":\"white\"}},\"header\":{\"fill\":{\"color\":\"#C8D4E3\"},\"line\":{\"color\":\"white\"}},\"type\":\"table\"}]},\"layout\":{\"annotationdefaults\":{\"arrowcolor\":\"#2a3f5f\",\"arrowhead\":0,\"arrowwidth\":1},\"autotypenumbers\":\"strict\",\"coloraxis\":{\"colorbar\":{\"outlinewidth\":0,\"ticks\":\"\"}},\"colorscale\":{\"diverging\":[[0,\"#8e0152\"],[0.1,\"#c51b7d\"],[0.2,\"#de77ae\"],[0.3,\"#f1b6da\"],[0.4,\"#fde0ef\"],[0.5,\"#f7f7f7\"],[0.6,\"#e6f5d0\"],[0.7,\"#b8e186\"],[0.8,\"#7fbc41\"],[0.9,\"#4d9221\"],[1,\"#276419\"]],\"sequential\":[[0.0,\"#0d0887\"],[0.1111111111111111,\"#46039f\"],[0.2222222222222222,\"#7201a8\"],[0.3333333333333333,\"#9c179e\"],[0.4444444444444444,\"#bd3786\"],[0.5555555555555556,\"#d8576b\"],[0.6666666666666666,\"#ed7953\"],[0.7777777777777778,\"#fb9f3a\"],[0.8888888888888888,\"#fdca26\"],[1.0,\"#f0f921\"]],\"sequentialminus\":[[0.0,\"#0d0887\"],[0.1111111111111111,\"#46039f\"],[0.2222222222222222,\"#7201a8\"],[0.3333333333333333,\"#9c179e\"],[0.4444444444444444,\"#bd3786\"],[0.5555555555555556,\"#d8576b\"],[0.6666666666666666,\"#ed7953\"],[0.7777777777777778,\"#fb9f3a\"],[0.8888888888888888,\"#fdca26\"],[1.0,\"#f0f921\"]]},\"colorway\":[\"#636efa\",\"#EF553B\",\"#00cc96\",\"#ab63fa\",\"#FFA15A\",\"#19d3f3\",\"#FF6692\",\"#B6E880\",\"#FF97FF\",\"#FECB52\"],\"font\":{\"color\":\"#2a3f5f\"},\"geo\":{\"bgcolor\":\"white\",\"lakecolor\":\"white\",\"landcolor\":\"#E5ECF6\",\"showlakes\":true,\"showland\":true,\"subunitcolor\":\"white\"},\"hoverlabel\":{\"align\":\"left\"},\"hovermode\":\"closest\",\"mapbox\":{\"style\":\"light\"},\"paper_bgcolor\":\"white\",\"plot_bgcolor\":\"#E5ECF6\",\"polar\":{\"angularaxis\":{\"gridcolor\":\"white\",\"linecolor\":\"white\",\"ticks\":\"\"},\"bgcolor\":\"#E5ECF6\",\"radialaxis\":{\"gridcolor\":\"white\",\"linecolor\":\"white\",\"ticks\":\"\"}},\"scene\":{\"xaxis\":{\"backgroundcolor\":\"#E5ECF6\",\"gridcolor\":\"white\",\"gridwidth\":2,\"linecolor\":\"white\",\"showbackground\":true,\"ticks\":\"\",\"zerolinecolor\":\"white\"},\"yaxis\":{\"backgroundcolor\":\"#E5ECF6\",\"gridcolor\":\"white\",\"gridwidth\":2,\"linecolor\":\"white\",\"showbackground\":true,\"ticks\":\"\",\"zerolinecolor\":\"white\"},\"zaxis\":{\"backgroundcolor\":\"#E5ECF6\",\"gridcolor\":\"white\",\"gridwidth\":2,\"linecolor\":\"white\",\"showbackground\":true,\"ticks\":\"\",\"zerolinecolor\":\"white\"}},\"shapedefaults\":{\"line\":{\"color\":\"#2a3f5f\"}},\"ternary\":{\"aaxis\":{\"gridcolor\":\"white\",\"linecolor\":\"white\",\"ticks\":\"\"},\"baxis\":{\"gridcolor\":\"white\",\"linecolor\":\"white\",\"ticks\":\"\"},\"bgcolor\":\"#E5ECF6\",\"caxis\":{\"gridcolor\":\"white\",\"linecolor\":\"white\",\"ticks\":\"\"}},\"title\":{\"x\":0.05},\"xaxis\":{\"automargin\":true,\"gridcolor\":\"white\",\"linecolor\":\"white\",\"ticks\":\"\",\"title\":{\"standoff\":15},\"zerolinecolor\":\"white\",\"zerolinewidth\":2},\"yaxis\":{\"automargin\":true,\"gridcolor\":\"white\",\"linecolor\":\"white\",\"ticks\":\"\",\"title\":{\"standoff\":15},\"zerolinecolor\":\"white\",\"zerolinewidth\":2}}},\"xaxis\":{\"anchor\":\"y\",\"domain\":[0.0,1.0],\"title\":{\"text\":\"Median\"}},\"yaxis\":{\"anchor\":\"x\",\"domain\":[0.0,1.0],\"title\":{\"text\":\"Gainers\"}},\"legend\":{\"title\":{\"text\":\"Color\"},\"tracegroupgap\":0},\"margin\":{\"t\":60}},                        {\"responsive\": true}                    ).then(function(){\n",
       "                            \n",
       "var gd = document.getElementById('364c36f2-5b6f-4bfb-88ed-d8fa2d0e47e1');\n",
       "var x = new MutationObserver(function (mutations, observer) {{\n",
       "        var display = window.getComputedStyle(gd).display;\n",
       "        if (!display || display === 'none') {{\n",
       "            console.log([gd, 'removed!']);\n",
       "            Plotly.purge(gd);\n",
       "            observer.disconnect();\n",
       "        }}\n",
       "}});\n",
       "\n",
       "// Listen for the removal of the full notebook cells\n",
       "var notebookContainer = gd.closest('#notebook-container');\n",
       "if (notebookContainer) {{\n",
       "    x.observe(notebookContainer, {childList: true});\n",
       "}}\n",
       "\n",
       "// Listen for the clearing of the current output cell\n",
       "var outputEl = gd.closest('.output');\n",
       "if (outputEl) {{\n",
       "    x.observe(outputEl, {childList: true});\n",
       "}}\n",
       "\n",
       "                        })                };                });            </script>        </div>"
      ]
     },
     "metadata": {},
     "output_type": "display_data"
    }
   ],
   "source": [
    "px.scatter(cu_all, x='Median', y='Gainers', hover_data=['GenName', 'OrganismName'], trendline='ols', color='Color',)"
   ]
  },
  {
   "cell_type": "code",
   "execution_count": null,
   "id": "a2120917",
   "metadata": {},
   "outputs": [],
   "source": []
  },
  {
   "cell_type": "code",
   "execution_count": 96,
   "id": "distant-wales",
   "metadata": {},
   "outputs": [
    {
     "data": {
      "text/html": [
       "<div>\n",
       "<style scoped>\n",
       "    .dataframe tbody tr th:only-of-type {\n",
       "        vertical-align: middle;\n",
       "    }\n",
       "\n",
       "    .dataframe tbody tr th {\n",
       "        vertical-align: top;\n",
       "    }\n",
       "\n",
       "    .dataframe thead th {\n",
       "        text-align: right;\n",
       "    }\n",
       "</style>\n",
       "<table border=\"1\" class=\"dataframe\">\n",
       "  <thead>\n",
       "    <tr style=\"text-align: right;\">\n",
       "      <th></th>\n",
       "      <th>GenName</th>\n",
       "      <th>OrganismName</th>\n",
       "      <th>TTT</th>\n",
       "      <th>TTG</th>\n",
       "      <th>TCT</th>\n",
       "      <th>TCG</th>\n",
       "      <th>TAT</th>\n",
       "      <th>TGT</th>\n",
       "      <th>TGG</th>\n",
       "      <th>CTT</th>\n",
       "      <th>...</th>\n",
       "      <th>GTT</th>\n",
       "      <th>GTG</th>\n",
       "      <th>GCT</th>\n",
       "      <th>GCG</th>\n",
       "      <th>GAT</th>\n",
       "      <th>GAG</th>\n",
       "      <th>GGT</th>\n",
       "      <th>GGG</th>\n",
       "      <th>Gainers</th>\n",
       "      <th>Losers</th>\n",
       "    </tr>\n",
       "  </thead>\n",
       "  <tbody>\n",
       "    <tr>\n",
       "      <th>12</th>\n",
       "      <td>COX1</td>\n",
       "      <td>Halicephalobus mephisto</td>\n",
       "      <td>0.409091</td>\n",
       "      <td>0.172727</td>\n",
       "      <td>0.923077</td>\n",
       "      <td>0.000000</td>\n",
       "      <td>1.000000</td>\n",
       "      <td>0.277778</td>\n",
       "      <td>0.166667</td>\n",
       "      <td>0.727273</td>\n",
       "      <td>...</td>\n",
       "      <td>0.914286</td>\n",
       "      <td>0.000000</td>\n",
       "      <td>0.950000</td>\n",
       "      <td>0.000000</td>\n",
       "      <td>0.695652</td>\n",
       "      <td>0.130435</td>\n",
       "      <td>0.958333</td>\n",
       "      <td>0.000000</td>\n",
       "      <td>0.19047619047619047</td>\n",
       "      <td>0.40190476190476193</td>\n",
       "    </tr>\n",
       "    <tr>\n",
       "      <th>13</th>\n",
       "      <td>COX2</td>\n",
       "      <td>Halicephalobus mephisto</td>\n",
       "      <td>0.384615</td>\n",
       "      <td>0.153846</td>\n",
       "      <td>0.900000</td>\n",
       "      <td>0.100000</td>\n",
       "      <td>1.000000</td>\n",
       "      <td>0.615385</td>\n",
       "      <td>0.000000</td>\n",
       "      <td>0.666667</td>\n",
       "      <td>...</td>\n",
       "      <td>0.750000</td>\n",
       "      <td>0.000000</td>\n",
       "      <td>0.800000</td>\n",
       "      <td>0.000000</td>\n",
       "      <td>0.526316</td>\n",
       "      <td>0.052632</td>\n",
       "      <td>0.700000</td>\n",
       "      <td>0.000000</td>\n",
       "      <td>0.1888412017167382</td>\n",
       "      <td>0.37339055793991416</td>\n",
       "    </tr>\n",
       "    <tr>\n",
       "      <th>14</th>\n",
       "      <td>ND3</td>\n",
       "      <td>Halicephalobus mephisto</td>\n",
       "      <td>0.550000</td>\n",
       "      <td>0.175000</td>\n",
       "      <td>1.000000</td>\n",
       "      <td>0.000000</td>\n",
       "      <td>1.000000</td>\n",
       "      <td>0.000000</td>\n",
       "      <td>0.000000</td>\n",
       "      <td>1.000000</td>\n",
       "      <td>...</td>\n",
       "      <td>0.833333</td>\n",
       "      <td>0.000000</td>\n",
       "      <td>0.000000</td>\n",
       "      <td>0.000000</td>\n",
       "      <td>0.200000</td>\n",
       "      <td>0.200000</td>\n",
       "      <td>1.000000</td>\n",
       "      <td>0.000000</td>\n",
       "      <td>0.0990990990990991</td>\n",
       "      <td>0.4774774774774775</td>\n",
       "    </tr>\n",
       "    <tr>\n",
       "      <th>15</th>\n",
       "      <td>ND5</td>\n",
       "      <td>Halicephalobus mephisto</td>\n",
       "      <td>0.650794</td>\n",
       "      <td>0.111111</td>\n",
       "      <td>0.954545</td>\n",
       "      <td>0.000000</td>\n",
       "      <td>0.961538</td>\n",
       "      <td>0.523810</td>\n",
       "      <td>0.238095</td>\n",
       "      <td>0.928571</td>\n",
       "      <td>...</td>\n",
       "      <td>0.880000</td>\n",
       "      <td>0.000000</td>\n",
       "      <td>1.000000</td>\n",
       "      <td>0.000000</td>\n",
       "      <td>0.600000</td>\n",
       "      <td>0.133333</td>\n",
       "      <td>0.833333</td>\n",
       "      <td>0.055556</td>\n",
       "      <td>0.15503875968992248</td>\n",
       "      <td>0.4903100775193798</td>\n",
       "    </tr>\n",
       "    <tr>\n",
       "      <th>16</th>\n",
       "      <td>ND6</td>\n",
       "      <td>Halicephalobus mephisto</td>\n",
       "      <td>0.653846</td>\n",
       "      <td>0.096154</td>\n",
       "      <td>0.666667</td>\n",
       "      <td>0.111111</td>\n",
       "      <td>1.000000</td>\n",
       "      <td>0.500000</td>\n",
       "      <td>0.166667</td>\n",
       "      <td>1.000000</td>\n",
       "      <td>...</td>\n",
       "      <td>1.000000</td>\n",
       "      <td>0.000000</td>\n",
       "      <td>1.000000</td>\n",
       "      <td>0.000000</td>\n",
       "      <td>1.000000</td>\n",
       "      <td>0.000000</td>\n",
       "      <td>1.000000</td>\n",
       "      <td>0.000000</td>\n",
       "      <td>0.10714285714285714</td>\n",
       "      <td>0.4785714285714286</td>\n",
       "    </tr>\n",
       "    <tr>\n",
       "      <th>17</th>\n",
       "      <td>ND4L</td>\n",
       "      <td>Halicephalobus mephisto</td>\n",
       "      <td>0.586207</td>\n",
       "      <td>0.034483</td>\n",
       "      <td>1.000000</td>\n",
       "      <td>0.000000</td>\n",
       "      <td>1.000000</td>\n",
       "      <td>0.000000</td>\n",
       "      <td>0.500000</td>\n",
       "      <td>0.000000</td>\n",
       "      <td>...</td>\n",
       "      <td>1.000000</td>\n",
       "      <td>0.000000</td>\n",
       "      <td>0.000000</td>\n",
       "      <td>0.000000</td>\n",
       "      <td>0.500000</td>\n",
       "      <td>0.000000</td>\n",
       "      <td>0.000000</td>\n",
       "      <td>0.000000</td>\n",
       "      <td>0.08974358974358974</td>\n",
       "      <td>0.5256410256410257</td>\n",
       "    </tr>\n",
       "    <tr>\n",
       "      <th>18</th>\n",
       "      <td>ND1</td>\n",
       "      <td>Halicephalobus mephisto</td>\n",
       "      <td>0.541667</td>\n",
       "      <td>0.156250</td>\n",
       "      <td>0.941176</td>\n",
       "      <td>0.000000</td>\n",
       "      <td>1.000000</td>\n",
       "      <td>0.625000</td>\n",
       "      <td>0.000000</td>\n",
       "      <td>0.800000</td>\n",
       "      <td>...</td>\n",
       "      <td>0.791667</td>\n",
       "      <td>0.041667</td>\n",
       "      <td>1.000000</td>\n",
       "      <td>0.000000</td>\n",
       "      <td>0.214286</td>\n",
       "      <td>0.142857</td>\n",
       "      <td>0.916667</td>\n",
       "      <td>0.000000</td>\n",
       "      <td>0.11683848797250859</td>\n",
       "      <td>0.48109965635738833</td>\n",
       "    </tr>\n",
       "    <tr>\n",
       "      <th>19</th>\n",
       "      <td>ATP6</td>\n",
       "      <td>Halicephalobus mephisto</td>\n",
       "      <td>0.519231</td>\n",
       "      <td>0.096154</td>\n",
       "      <td>0.800000</td>\n",
       "      <td>0.100000</td>\n",
       "      <td>1.000000</td>\n",
       "      <td>0.714286</td>\n",
       "      <td>0.000000</td>\n",
       "      <td>0.666667</td>\n",
       "      <td>...</td>\n",
       "      <td>0.666667</td>\n",
       "      <td>0.083333</td>\n",
       "      <td>0.857143</td>\n",
       "      <td>0.000000</td>\n",
       "      <td>0.272727</td>\n",
       "      <td>0.090909</td>\n",
       "      <td>1.000000</td>\n",
       "      <td>0.000000</td>\n",
       "      <td>0.14925373134328357</td>\n",
       "      <td>0.38308457711442784</td>\n",
       "    </tr>\n",
       "    <tr>\n",
       "      <th>20</th>\n",
       "      <td>ND2</td>\n",
       "      <td>Halicephalobus mephisto</td>\n",
       "      <td>0.680851</td>\n",
       "      <td>0.085106</td>\n",
       "      <td>0.888889</td>\n",
       "      <td>0.000000</td>\n",
       "      <td>0.851852</td>\n",
       "      <td>0.250000</td>\n",
       "      <td>0.125000</td>\n",
       "      <td>0.875000</td>\n",
       "      <td>...</td>\n",
       "      <td>0.863636</td>\n",
       "      <td>0.045455</td>\n",
       "      <td>1.000000</td>\n",
       "      <td>0.000000</td>\n",
       "      <td>0.400000</td>\n",
       "      <td>0.400000</td>\n",
       "      <td>0.636364</td>\n",
       "      <td>0.000000</td>\n",
       "      <td>0.1564625850340136</td>\n",
       "      <td>0.45918367346938777</td>\n",
       "    </tr>\n",
       "    <tr>\n",
       "      <th>21</th>\n",
       "      <td>CYTB</td>\n",
       "      <td>Halicephalobus mephisto</td>\n",
       "      <td>0.616822</td>\n",
       "      <td>0.112150</td>\n",
       "      <td>1.000000</td>\n",
       "      <td>0.000000</td>\n",
       "      <td>1.000000</td>\n",
       "      <td>0.125000</td>\n",
       "      <td>0.125000</td>\n",
       "      <td>0.750000</td>\n",
       "      <td>...</td>\n",
       "      <td>0.838710</td>\n",
       "      <td>0.000000</td>\n",
       "      <td>0.857143</td>\n",
       "      <td>0.071429</td>\n",
       "      <td>0.538462</td>\n",
       "      <td>0.076923</td>\n",
       "      <td>0.941176</td>\n",
       "      <td>0.000000</td>\n",
       "      <td>0.15447154471544716</td>\n",
       "      <td>0.4634146341463415</td>\n",
       "    </tr>\n",
       "    <tr>\n",
       "      <th>22</th>\n",
       "      <td>COX3</td>\n",
       "      <td>Halicephalobus mephisto</td>\n",
       "      <td>0.558442</td>\n",
       "      <td>0.077922</td>\n",
       "      <td>0.888889</td>\n",
       "      <td>0.000000</td>\n",
       "      <td>1.000000</td>\n",
       "      <td>0.333333</td>\n",
       "      <td>0.250000</td>\n",
       "      <td>0.666667</td>\n",
       "      <td>...</td>\n",
       "      <td>0.818182</td>\n",
       "      <td>0.045455</td>\n",
       "      <td>1.000000</td>\n",
       "      <td>0.000000</td>\n",
       "      <td>0.538462</td>\n",
       "      <td>0.153846</td>\n",
       "      <td>0.947368</td>\n",
       "      <td>0.000000</td>\n",
       "      <td>0.155893536121673</td>\n",
       "      <td>0.49429657794676807</td>\n",
       "    </tr>\n",
       "    <tr>\n",
       "      <th>23</th>\n",
       "      <td>ND4</td>\n",
       "      <td>Halicephalobus mephisto</td>\n",
       "      <td>0.606061</td>\n",
       "      <td>0.068182</td>\n",
       "      <td>0.900000</td>\n",
       "      <td>0.000000</td>\n",
       "      <td>0.923077</td>\n",
       "      <td>0.363636</td>\n",
       "      <td>0.000000</td>\n",
       "      <td>1.000000</td>\n",
       "      <td>...</td>\n",
       "      <td>0.722222</td>\n",
       "      <td>0.111111</td>\n",
       "      <td>0.928571</td>\n",
       "      <td>0.000000</td>\n",
       "      <td>0.333333</td>\n",
       "      <td>0.000000</td>\n",
       "      <td>0.800000</td>\n",
       "      <td>0.000000</td>\n",
       "      <td>0.12864077669902912</td>\n",
       "      <td>0.4393203883495146</td>\n",
       "    </tr>\n",
       "  </tbody>\n",
       "</table>\n",
       "<p>12 rows × 35 columns</p>\n",
       "</div>"
      ],
      "text/plain": [
       "   GenName             OrganismName       TTT       TTG       TCT       TCG  \\\n",
       "12    COX1  Halicephalobus mephisto  0.409091  0.172727  0.923077  0.000000   \n",
       "13    COX2  Halicephalobus mephisto  0.384615  0.153846  0.900000  0.100000   \n",
       "14     ND3  Halicephalobus mephisto  0.550000  0.175000  1.000000  0.000000   \n",
       "15     ND5  Halicephalobus mephisto  0.650794  0.111111  0.954545  0.000000   \n",
       "16     ND6  Halicephalobus mephisto  0.653846  0.096154  0.666667  0.111111   \n",
       "17    ND4L  Halicephalobus mephisto  0.586207  0.034483  1.000000  0.000000   \n",
       "18     ND1  Halicephalobus mephisto  0.541667  0.156250  0.941176  0.000000   \n",
       "19    ATP6  Halicephalobus mephisto  0.519231  0.096154  0.800000  0.100000   \n",
       "20     ND2  Halicephalobus mephisto  0.680851  0.085106  0.888889  0.000000   \n",
       "21    CYTB  Halicephalobus mephisto  0.616822  0.112150  1.000000  0.000000   \n",
       "22    COX3  Halicephalobus mephisto  0.558442  0.077922  0.888889  0.000000   \n",
       "23     ND4  Halicephalobus mephisto  0.606061  0.068182  0.900000  0.000000   \n",
       "\n",
       "         TAT       TGT       TGG       CTT  ...       GTT       GTG       GCT  \\\n",
       "12  1.000000  0.277778  0.166667  0.727273  ...  0.914286  0.000000  0.950000   \n",
       "13  1.000000  0.615385  0.000000  0.666667  ...  0.750000  0.000000  0.800000   \n",
       "14  1.000000  0.000000  0.000000  1.000000  ...  0.833333  0.000000  0.000000   \n",
       "15  0.961538  0.523810  0.238095  0.928571  ...  0.880000  0.000000  1.000000   \n",
       "16  1.000000  0.500000  0.166667  1.000000  ...  1.000000  0.000000  1.000000   \n",
       "17  1.000000  0.000000  0.500000  0.000000  ...  1.000000  0.000000  0.000000   \n",
       "18  1.000000  0.625000  0.000000  0.800000  ...  0.791667  0.041667  1.000000   \n",
       "19  1.000000  0.714286  0.000000  0.666667  ...  0.666667  0.083333  0.857143   \n",
       "20  0.851852  0.250000  0.125000  0.875000  ...  0.863636  0.045455  1.000000   \n",
       "21  1.000000  0.125000  0.125000  0.750000  ...  0.838710  0.000000  0.857143   \n",
       "22  1.000000  0.333333  0.250000  0.666667  ...  0.818182  0.045455  1.000000   \n",
       "23  0.923077  0.363636  0.000000  1.000000  ...  0.722222  0.111111  0.928571   \n",
       "\n",
       "         GCG       GAT       GAG       GGT       GGG              Gainers  \\\n",
       "12  0.000000  0.695652  0.130435  0.958333  0.000000  0.19047619047619047   \n",
       "13  0.000000  0.526316  0.052632  0.700000  0.000000   0.1888412017167382   \n",
       "14  0.000000  0.200000  0.200000  1.000000  0.000000   0.0990990990990991   \n",
       "15  0.000000  0.600000  0.133333  0.833333  0.055556  0.15503875968992248   \n",
       "16  0.000000  1.000000  0.000000  1.000000  0.000000  0.10714285714285714   \n",
       "17  0.000000  0.500000  0.000000  0.000000  0.000000  0.08974358974358974   \n",
       "18  0.000000  0.214286  0.142857  0.916667  0.000000  0.11683848797250859   \n",
       "19  0.000000  0.272727  0.090909  1.000000  0.000000  0.14925373134328357   \n",
       "20  0.000000  0.400000  0.400000  0.636364  0.000000   0.1564625850340136   \n",
       "21  0.071429  0.538462  0.076923  0.941176  0.000000  0.15447154471544716   \n",
       "22  0.000000  0.538462  0.153846  0.947368  0.000000    0.155893536121673   \n",
       "23  0.000000  0.333333  0.000000  0.800000  0.000000  0.12864077669902912   \n",
       "\n",
       "                 Losers  \n",
       "12  0.40190476190476193  \n",
       "13  0.37339055793991416  \n",
       "14   0.4774774774774775  \n",
       "15   0.4903100775193798  \n",
       "16   0.4785714285714286  \n",
       "17   0.5256410256410257  \n",
       "18  0.48109965635738833  \n",
       "19  0.38308457711442784  \n",
       "20  0.45918367346938777  \n",
       "21   0.4634146341463415  \n",
       "22  0.49429657794676807  \n",
       "23   0.4393203883495146  \n",
       "\n",
       "[12 rows x 35 columns]"
      ]
     },
     "execution_count": 96,
     "metadata": {},
     "output_type": "execute_result"
    }
   ],
   "source": [
    "worm = pd.read_csv('/home/emulciber/MitoClub/devil-worm/Body/2Derived/MephistoBiasDerived.csv', sep=';', decimal = ',')\n",
    "worm = worm.loc[12:24, :].dropna(axis=1)\n",
    "worm"
   ]
  },
  {
   "cell_type": "code",
   "execution_count": 95,
   "id": "facial-finland",
   "metadata": {},
   "outputs": [
    {
     "ename": "AttributeError",
     "evalue": "Can only use .str accessor with string values!",
     "output_type": "error",
     "traceback": [
      "\u001b[0;31m---------------------------------------------------------------------------\u001b[0m",
      "\u001b[0;31mAttributeError\u001b[0m                            Traceback (most recent call last)",
      "\u001b[0;32m<ipython-input-95-2b28cef56de5>\u001b[0m in \u001b[0;36m<module>\u001b[0;34m\u001b[0m\n\u001b[1;32m      2\u001b[0m     \u001b[0;32mif\u001b[0m \u001b[0mc\u001b[0m \u001b[0;32min\u001b[0m \u001b[0;34m{\u001b[0m\u001b[0;34m'GenName'\u001b[0m\u001b[0;34m,\u001b[0m \u001b[0;34m'OrganismName'\u001b[0m\u001b[0;34m,\u001b[0m \u001b[0;34m'Gainers'\u001b[0m\u001b[0;34m,\u001b[0m \u001b[0;34m'Losers'\u001b[0m\u001b[0;34m}\u001b[0m\u001b[0;34m:\u001b[0m\u001b[0;34m\u001b[0m\u001b[0;34m\u001b[0m\u001b[0m\n\u001b[1;32m      3\u001b[0m         \u001b[0;32mcontinue\u001b[0m\u001b[0;34m\u001b[0m\u001b[0;34m\u001b[0m\u001b[0m\n\u001b[0;32m----> 4\u001b[0;31m     \u001b[0mworm\u001b[0m\u001b[0;34m[\u001b[0m\u001b[0mc\u001b[0m\u001b[0;34m]\u001b[0m \u001b[0;34m=\u001b[0m \u001b[0mworm\u001b[0m\u001b[0;34m[\u001b[0m\u001b[0mc\u001b[0m\u001b[0;34m]\u001b[0m\u001b[0;34m.\u001b[0m\u001b[0mstr\u001b[0m\u001b[0;34m.\u001b[0m\u001b[0mreplace\u001b[0m\u001b[0;34m(\u001b[0m\u001b[0;34m','\u001b[0m\u001b[0;34m,\u001b[0m \u001b[0;34m'.'\u001b[0m\u001b[0;34m)\u001b[0m\u001b[0;34m\u001b[0m\u001b[0;34m\u001b[0m\u001b[0m\n\u001b[0m\u001b[1;32m      5\u001b[0m \u001b[0;34m\u001b[0m\u001b[0m\n\u001b[1;32m      6\u001b[0m \u001b[0;31m#worm.loc[:, 'TTT':'GTT'] = worm.loc[:, 'TTT':'GGG'].apply(lambda x: pd.to_numeric(x, errors='coerce'))\u001b[0m\u001b[0;34m\u001b[0m\u001b[0;34m\u001b[0m\u001b[0;34m\u001b[0m\u001b[0m\n",
      "\u001b[0;32m~/anaconda3/lib/python3.8/site-packages/pandas/core/generic.py\u001b[0m in \u001b[0;36m__getattr__\u001b[0;34m(self, name)\u001b[0m\n\u001b[1;32m   5459\u001b[0m             \u001b[0;32mor\u001b[0m \u001b[0mname\u001b[0m \u001b[0;32min\u001b[0m \u001b[0mself\u001b[0m\u001b[0;34m.\u001b[0m\u001b[0m_accessors\u001b[0m\u001b[0;34m\u001b[0m\u001b[0;34m\u001b[0m\u001b[0m\n\u001b[1;32m   5460\u001b[0m         ):\n\u001b[0;32m-> 5461\u001b[0;31m             \u001b[0;32mreturn\u001b[0m \u001b[0mobject\u001b[0m\u001b[0;34m.\u001b[0m\u001b[0m__getattribute__\u001b[0m\u001b[0;34m(\u001b[0m\u001b[0mself\u001b[0m\u001b[0;34m,\u001b[0m \u001b[0mname\u001b[0m\u001b[0;34m)\u001b[0m\u001b[0;34m\u001b[0m\u001b[0;34m\u001b[0m\u001b[0m\n\u001b[0m\u001b[1;32m   5462\u001b[0m         \u001b[0;32melse\u001b[0m\u001b[0;34m:\u001b[0m\u001b[0;34m\u001b[0m\u001b[0;34m\u001b[0m\u001b[0m\n\u001b[1;32m   5463\u001b[0m             \u001b[0;32mif\u001b[0m \u001b[0mself\u001b[0m\u001b[0;34m.\u001b[0m\u001b[0m_info_axis\u001b[0m\u001b[0;34m.\u001b[0m\u001b[0m_can_hold_identifiers_and_holds_name\u001b[0m\u001b[0;34m(\u001b[0m\u001b[0mname\u001b[0m\u001b[0;34m)\u001b[0m\u001b[0;34m:\u001b[0m\u001b[0;34m\u001b[0m\u001b[0;34m\u001b[0m\u001b[0m\n",
      "\u001b[0;32m~/anaconda3/lib/python3.8/site-packages/pandas/core/accessor.py\u001b[0m in \u001b[0;36m__get__\u001b[0;34m(self, obj, cls)\u001b[0m\n\u001b[1;32m    178\u001b[0m             \u001b[0;31m# we're accessing the attribute of the class, i.e., Dataset.geo\u001b[0m\u001b[0;34m\u001b[0m\u001b[0;34m\u001b[0m\u001b[0;34m\u001b[0m\u001b[0m\n\u001b[1;32m    179\u001b[0m             \u001b[0;32mreturn\u001b[0m \u001b[0mself\u001b[0m\u001b[0;34m.\u001b[0m\u001b[0m_accessor\u001b[0m\u001b[0;34m\u001b[0m\u001b[0;34m\u001b[0m\u001b[0m\n\u001b[0;32m--> 180\u001b[0;31m         \u001b[0maccessor_obj\u001b[0m \u001b[0;34m=\u001b[0m \u001b[0mself\u001b[0m\u001b[0;34m.\u001b[0m\u001b[0m_accessor\u001b[0m\u001b[0;34m(\u001b[0m\u001b[0mobj\u001b[0m\u001b[0;34m)\u001b[0m\u001b[0;34m\u001b[0m\u001b[0;34m\u001b[0m\u001b[0m\n\u001b[0m\u001b[1;32m    181\u001b[0m         \u001b[0;31m# Replace the property with the accessor object. Inspired by:\u001b[0m\u001b[0;34m\u001b[0m\u001b[0;34m\u001b[0m\u001b[0;34m\u001b[0m\u001b[0m\n\u001b[1;32m    182\u001b[0m         \u001b[0;31m# https://www.pydanny.com/cached-property.html\u001b[0m\u001b[0;34m\u001b[0m\u001b[0;34m\u001b[0m\u001b[0;34m\u001b[0m\u001b[0m\n",
      "\u001b[0;32m~/anaconda3/lib/python3.8/site-packages/pandas/core/strings/accessor.py\u001b[0m in \u001b[0;36m__init__\u001b[0;34m(self, data)\u001b[0m\n\u001b[1;32m    152\u001b[0m         \u001b[0;32mfrom\u001b[0m \u001b[0mpandas\u001b[0m\u001b[0;34m.\u001b[0m\u001b[0mcore\u001b[0m\u001b[0;34m.\u001b[0m\u001b[0marrays\u001b[0m\u001b[0;34m.\u001b[0m\u001b[0mstring_\u001b[0m \u001b[0;32mimport\u001b[0m \u001b[0mStringDtype\u001b[0m\u001b[0;34m\u001b[0m\u001b[0;34m\u001b[0m\u001b[0m\n\u001b[1;32m    153\u001b[0m \u001b[0;34m\u001b[0m\u001b[0m\n\u001b[0;32m--> 154\u001b[0;31m         \u001b[0mself\u001b[0m\u001b[0;34m.\u001b[0m\u001b[0m_inferred_dtype\u001b[0m \u001b[0;34m=\u001b[0m \u001b[0mself\u001b[0m\u001b[0;34m.\u001b[0m\u001b[0m_validate\u001b[0m\u001b[0;34m(\u001b[0m\u001b[0mdata\u001b[0m\u001b[0;34m)\u001b[0m\u001b[0;34m\u001b[0m\u001b[0;34m\u001b[0m\u001b[0m\n\u001b[0m\u001b[1;32m    155\u001b[0m         \u001b[0mself\u001b[0m\u001b[0;34m.\u001b[0m\u001b[0m_is_categorical\u001b[0m \u001b[0;34m=\u001b[0m \u001b[0mis_categorical_dtype\u001b[0m\u001b[0;34m(\u001b[0m\u001b[0mdata\u001b[0m\u001b[0;34m.\u001b[0m\u001b[0mdtype\u001b[0m\u001b[0;34m)\u001b[0m\u001b[0;34m\u001b[0m\u001b[0;34m\u001b[0m\u001b[0m\n\u001b[1;32m    156\u001b[0m         \u001b[0mself\u001b[0m\u001b[0;34m.\u001b[0m\u001b[0m_is_string\u001b[0m \u001b[0;34m=\u001b[0m \u001b[0misinstance\u001b[0m\u001b[0;34m(\u001b[0m\u001b[0mdata\u001b[0m\u001b[0;34m.\u001b[0m\u001b[0mdtype\u001b[0m\u001b[0;34m,\u001b[0m \u001b[0mStringDtype\u001b[0m\u001b[0;34m)\u001b[0m\u001b[0;34m\u001b[0m\u001b[0;34m\u001b[0m\u001b[0m\n",
      "\u001b[0;32m~/anaconda3/lib/python3.8/site-packages/pandas/core/strings/accessor.py\u001b[0m in \u001b[0;36m_validate\u001b[0;34m(data)\u001b[0m\n\u001b[1;32m    215\u001b[0m \u001b[0;34m\u001b[0m\u001b[0m\n\u001b[1;32m    216\u001b[0m         \u001b[0;32mif\u001b[0m \u001b[0minferred_dtype\u001b[0m \u001b[0;32mnot\u001b[0m \u001b[0;32min\u001b[0m \u001b[0mallowed_types\u001b[0m\u001b[0;34m:\u001b[0m\u001b[0;34m\u001b[0m\u001b[0;34m\u001b[0m\u001b[0m\n\u001b[0;32m--> 217\u001b[0;31m             \u001b[0;32mraise\u001b[0m \u001b[0mAttributeError\u001b[0m\u001b[0;34m(\u001b[0m\u001b[0;34m\"Can only use .str accessor with string values!\"\u001b[0m\u001b[0;34m)\u001b[0m\u001b[0;34m\u001b[0m\u001b[0;34m\u001b[0m\u001b[0m\n\u001b[0m\u001b[1;32m    218\u001b[0m         \u001b[0;32mreturn\u001b[0m \u001b[0minferred_dtype\u001b[0m\u001b[0;34m\u001b[0m\u001b[0;34m\u001b[0m\u001b[0m\n\u001b[1;32m    219\u001b[0m \u001b[0;34m\u001b[0m\u001b[0m\n",
      "\u001b[0;31mAttributeError\u001b[0m: Can only use .str accessor with string values!"
     ]
    }
   ],
   "source": [
    "for c in worm.columns:\n",
    "    if c in {'GenName', 'OrganismName', 'Gainers', 'Losers'}:\n",
    "        continue\n",
    "    worm[c] = worm[c].str.replace(',', '.')\n",
    "    \n",
    "#worm.loc[:, 'TTT':'GTT'] = worm.loc[:, 'TTT':'GGG'].apply(lambda x: pd.to_numeric(x, errors='coerce'))\n",
    "#for column in worm:\n",
    "#    worm.loc[24, 'TTT':'GTT'] = worm.loc[:, 'TTT':'GGG'].sum() \n",
    "    \n",
    "worm"
   ]
  },
  {
   "cell_type": "code",
   "execution_count": null,
   "id": "emotional-heavy",
   "metadata": {},
   "outputs": [],
   "source": []
  },
  {
   "cell_type": "code",
   "execution_count": null,
   "id": "abroad-hardware",
   "metadata": {},
   "outputs": [],
   "source": [
    "for record in SeqIO.parse(f'C:/Users/e_mulciber/Desktop/MitoClub/devil-worm/Body/1Raw/mtDNA - mephisto mtDNA project.gb', format='genbank')"
   ]
  },
  {
   "cell_type": "code",
   "execution_count": null,
   "id": "ca667048",
   "metadata": {},
   "outputs": [],
   "source": []
  },
  {
   "cell_type": "code",
   "execution_count": 9,
   "id": "9b76378b",
   "metadata": {},
   "outputs": [],
   "source": [
    "from Bio.Data import CodonTable"
   ]
  },
  {
   "cell_type": "code",
   "execution_count": 10,
   "id": "787e3bc5",
   "metadata": {},
   "outputs": [],
   "source": [
    "table = CodonTable.unambiguous_dna_by_id[5]"
   ]
  },
  {
   "cell_type": "code",
   "execution_count": 83,
   "id": "6d6ff33b",
   "metadata": {},
   "outputs": [
    {
     "data": {
      "text/plain": [
       "TTT    40\n",
       "TTA     2\n",
       "TTC    10\n",
       "TTG     4\n",
       "CCA     8\n",
       "CCC     0\n",
       "CCT    33\n",
       "CCG    27\n",
       "TAA     0\n",
       "TAG     1\n",
       "GAT     0\n",
       "GAC     0\n",
       "dtype: int64"
      ]
     },
     "execution_count": 83,
     "metadata": {},
     "output_type": "execute_result"
    }
   ],
   "source": [
    "c = {'TTT': 40, 'TTA': 2, 'TTC': 10, 'TTG': 4, 'CCA': 8, 'CCC': 0, 'CCT': 33, 'CCG': 27, 'TAA': 0, 'TAG': 1, 'GAT': 0, 'GAC': 0}\n",
    "ret = pd.Series(data=c, index=['TTT', 'TTA', 'TTC', 'TTG', 'CCA', 'CCC', 'CCT', 'CCG', 'TAA', 'TAG', 'GAT', 'GAC'])\n",
    "ret"
   ]
  },
  {
   "cell_type": "code",
   "execution_count": 16,
   "id": "ba2c4849",
   "metadata": {},
   "outputs": [
    {
     "data": {
      "text/plain": [
       "40"
      ]
     },
     "execution_count": 16,
     "metadata": {},
     "output_type": "execute_result"
    }
   ],
   "source": [
    "ret['TTT']"
   ]
  },
  {
   "cell_type": "code",
   "execution_count": 23,
   "id": "1d6d2bc1",
   "metadata": {},
   "outputs": [
    {
     "data": {
      "text/plain": [
       "46"
      ]
     },
     "execution_count": 23,
     "metadata": {},
     "output_type": "execute_result"
    }
   ],
   "source": [
    "test = [1, 40, 5]\n",
    "sum(test)"
   ]
  },
  {
   "cell_type": "code",
   "execution_count": 87,
   "id": "11a64802",
   "metadata": {},
   "outputs": [
    {
     "name": "stdout",
     "output_type": "stream",
     "text": [
      "NANY\n",
      "NANY\n"
     ]
    },
    {
     "data": {
      "text/plain": [
       "TTT    1.600000\n",
       "TTA    0.666667\n",
       "TTC    0.400000\n",
       "TTG    1.333333\n",
       "CCA    0.470588\n",
       "CCC    0.000000\n",
       "CCT    1.941176\n",
       "CCG    1.588235\n",
       "TAA    0.000000\n",
       "TAG    1.000000\n",
       "GAT    0.000000\n",
       "GAC    0.000000\n",
       "dtype: float64"
      ]
     },
     "execution_count": 87,
     "metadata": {},
     "output_type": "execute_result"
    }
   ],
   "source": [
    "ret_new = pd.Series(data=0.0, index=ret.index)\n",
    "for i in ret.index:\n",
    "    if i in table.stop_codons:\n",
    "        ret_new[i] = ret[i]\n",
    "        continue\n",
    "    ca = []\n",
    "    for k in ret.index:\n",
    "        if k in table.stop_codons:\n",
    "            continue\n",
    "        if table.forward_table[i] == table.forward_table[k]:\n",
    "            ca.append(ret[k])    \n",
    "    if sum(ca) == 0:\n",
    "        print('NANY')\n",
    "        ret_new[i] = ret[i]\n",
    "        continue\n",
    "    ret_new[i] = (len(ca) * ret[i]) / (sum(ca))\n",
    "                        \n",
    "ret_new"
   ]
  },
  {
   "cell_type": "code",
   "execution_count": 69,
   "id": "a5990b94",
   "metadata": {},
   "outputs": [
    {
     "name": "stdout",
     "output_type": "stream",
     "text": [
      "Trut\n"
     ]
    }
   ],
   "source": [
    "if 'TAA' in table.stop_codons:\n",
    "    print('Trut')"
   ]
  },
  {
   "cell_type": "code",
   "execution_count": 82,
   "id": "e226df0d",
   "metadata": {},
   "outputs": [
    {
     "data": {
      "text/plain": [
       "'W'"
      ]
     },
     "execution_count": 82,
     "metadata": {},
     "output_type": "execute_result"
    }
   ],
   "source": [
    "table.forward_table['TGG']"
   ]
  }
 ],
 "metadata": {
  "kernelspec": {
   "display_name": "Python 3",
   "language": "python",
   "name": "python3"
  },
  "language_info": {
   "codemirror_mode": {
    "name": "ipython",
    "version": 3
   },
   "file_extension": ".py",
   "mimetype": "text/x-python",
   "name": "python",
   "nbconvert_exporter": "python",
   "pygments_lexer": "ipython3",
   "version": "3.8.8"
  }
 },
 "nbformat": 4,
 "nbformat_minor": 5
}

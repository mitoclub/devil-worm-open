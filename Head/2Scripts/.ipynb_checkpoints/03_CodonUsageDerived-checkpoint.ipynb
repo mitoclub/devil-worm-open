{
 "cells": [
  {
   "cell_type": "code",
   "execution_count": 1,
   "id": "adjusted-photograph",
   "metadata": {},
   "outputs": [],
   "source": [
    "import pandas as pd\n",
    "import os\n",
    "import tqdm\n",
    "from Bio import SeqIO\n",
    "from Bio.Seq import Seq"
   ]
  },
  {
   "cell_type": "code",
   "execution_count": null,
   "id": "f038bbc6",
   "metadata": {},
   "outputs": [],
   "source": [
    "# Склейка общего файла codon usage"
   ]
  },
  {
   "cell_type": "code",
   "execution_count": 2,
   "id": "center-protein",
   "metadata": {},
   "outputs": [
    {
     "data": {
      "text/html": [
       "<div>\n",
       "<style scoped>\n",
       "    .dataframe tbody tr th:only-of-type {\n",
       "        vertical-align: middle;\n",
       "    }\n",
       "\n",
       "    .dataframe tbody tr th {\n",
       "        vertical-align: top;\n",
       "    }\n",
       "\n",
       "    .dataframe thead th {\n",
       "        text-align: right;\n",
       "    }\n",
       "</style>\n",
       "<table border=\"1\" class=\"dataframe\">\n",
       "  <thead>\n",
       "    <tr style=\"text-align: right;\">\n",
       "      <th></th>\n",
       "      <th>Unnamed: 0</th>\n",
       "      <th>GenName</th>\n",
       "      <th>GenID</th>\n",
       "      <th>OrganismName</th>\n",
       "      <th>Taxonomy</th>\n",
       "      <th>Strand</th>\n",
       "      <th>TTT</th>\n",
       "      <th>TTC</th>\n",
       "      <th>TTA</th>\n",
       "      <th>TTG</th>\n",
       "      <th>...</th>\n",
       "      <th>GAT</th>\n",
       "      <th>GAC</th>\n",
       "      <th>GAA</th>\n",
       "      <th>GAG</th>\n",
       "      <th>GGT</th>\n",
       "      <th>GGC</th>\n",
       "      <th>GGA</th>\n",
       "      <th>GGG</th>\n",
       "      <th>TAA</th>\n",
       "      <th>TAG</th>\n",
       "    </tr>\n",
       "  </thead>\n",
       "  <tbody>\n",
       "  </tbody>\n",
       "</table>\n",
       "<p>0 rows × 70 columns</p>\n",
       "</div>"
      ],
      "text/plain": [
       "Empty DataFrame\n",
       "Columns: [Unnamed: 0, GenName, GenID, OrganismName, Taxonomy, Strand, TTT, TTC, TTA, TTG, TCT, TCC, TCA, TCG, TAT, TAC, TGT, TGC, TGA, TGG, CTT, CTC, CTA, CTG, CCT, CCC, CCA, CCG, CAT, CAC, CAA, CAG, CGT, CGC, CGA, CGG, ATT, ATC, ATA, ATG, ACT, ACC, ACA, ACG, AAT, AAC, AAA, AAG, AGT, AGC, AGA, AGG, GTT, GTC, GTA, GTG, GCT, GCC, GCA, GCG, GAT, GAC, GAA, GAG, GGT, GGC, GGA, GGG, TAA, TAG]\n",
       "Index: []\n",
       "\n",
       "[0 rows x 70 columns]"
      ]
     },
     "execution_count": 2,
     "metadata": {},
     "output_type": "execute_result"
    }
   ],
   "source": [
    "result = pd.DataFrame(columns = ['Unnamed: 0', 'GenName', 'GenID', 'OrganismName', 'Taxonomy', 'Strand', 'TTT','TTC','TTA','TTG','TCT','TCC','TCA','TCG','TAT','TAC','TGT','TGC','TGA','TGG','CTT','CTC','CTA','CTG','CCT','CCC','CCA','CCG','CAT','CAC','CAA','CAG','CGT','CGC','CGA','CGG','ATT','ATC','ATA','ATG','ACT','ACC','ACA','ACG','AAT','AAC','AAA','AAG','AGT','AGC','AGA','AGG','GTT','GTC','GTA','GTG','GCT','GCC','GCA','GCG','GAT','GAC','GAA','GAG','GGT','GGC','GGA','GGG','TAA','TAG'])\n",
    "result"
   ]
  },
  {
   "cell_type": "code",
   "execution_count": 3,
   "id": "failing-workplace",
   "metadata": {},
   "outputs": [],
   "source": [
    "direct = '/home/emulciber/MitoClub/devil-worm/Body/2Derived/codon_usage'\n",
    "dirname = os.listdir(direct)"
   ]
  },
  {
   "cell_type": "code",
   "execution_count": 4,
   "id": "buried-distributor",
   "metadata": {},
   "outputs": [],
   "source": [
    "for file in dirname:\n",
    "    try:\n",
    "        df = pd.read_csv((os.path.join(direct, file)), sep='\\t')\n",
    "        result = result.append(df, ignore_index=True)\n",
    "    except:\n",
    "        pass"
   ]
  },
  {
   "cell_type": "code",
   "execution_count": 16,
   "id": "thick-symposium",
   "metadata": {},
   "outputs": [
    {
     "data": {
      "text/html": [
       "<div>\n",
       "<style scoped>\n",
       "    .dataframe tbody tr th:only-of-type {\n",
       "        vertical-align: middle;\n",
       "    }\n",
       "\n",
       "    .dataframe tbody tr th {\n",
       "        vertical-align: top;\n",
       "    }\n",
       "\n",
       "    .dataframe thead th {\n",
       "        text-align: right;\n",
       "    }\n",
       "</style>\n",
       "<table border=\"1\" class=\"dataframe\">\n",
       "  <thead>\n",
       "    <tr style=\"text-align: right;\">\n",
       "      <th></th>\n",
       "      <th>GenName</th>\n",
       "      <th>GenID</th>\n",
       "      <th>OrganismName</th>\n",
       "      <th>Taxonomy</th>\n",
       "      <th>Strand</th>\n",
       "      <th>TTT</th>\n",
       "      <th>TTC</th>\n",
       "      <th>TTA</th>\n",
       "      <th>TTG</th>\n",
       "      <th>TCT</th>\n",
       "      <th>...</th>\n",
       "      <th>GAT</th>\n",
       "      <th>GAC</th>\n",
       "      <th>GAA</th>\n",
       "      <th>GAG</th>\n",
       "      <th>GGT</th>\n",
       "      <th>GGC</th>\n",
       "      <th>GGA</th>\n",
       "      <th>GGG</th>\n",
       "      <th>TAA</th>\n",
       "      <th>TAG</th>\n",
       "    </tr>\n",
       "  </thead>\n",
       "  <tbody>\n",
       "    <tr>\n",
       "      <th>0</th>\n",
       "      <td>COX1</td>\n",
       "      <td>YP_006576256.1</td>\n",
       "      <td>Thelazia callipaeda</td>\n",
       "      <td>Eukaryota, Metazoa, Ecdysozoa, Nematoda, Chrom...</td>\n",
       "      <td>1</td>\n",
       "      <td>54</td>\n",
       "      <td>1</td>\n",
       "      <td>33</td>\n",
       "      <td>29</td>\n",
       "      <td>20</td>\n",
       "      <td>...</td>\n",
       "      <td>14</td>\n",
       "      <td>1</td>\n",
       "      <td>3</td>\n",
       "      <td>6</td>\n",
       "      <td>34</td>\n",
       "      <td>0</td>\n",
       "      <td>6</td>\n",
       "      <td>11</td>\n",
       "      <td>1</td>\n",
       "      <td>0</td>\n",
       "    </tr>\n",
       "    <tr>\n",
       "      <th>1</th>\n",
       "      <td>ND6</td>\n",
       "      <td>YP_006576257.1</td>\n",
       "      <td>Thelazia callipaeda</td>\n",
       "      <td>Eukaryota, Metazoa, Ecdysozoa, Nematoda, Chrom...</td>\n",
       "      <td>1</td>\n",
       "      <td>38</td>\n",
       "      <td>0</td>\n",
       "      <td>13</td>\n",
       "      <td>11</td>\n",
       "      <td>3</td>\n",
       "      <td>...</td>\n",
       "      <td>3</td>\n",
       "      <td>0</td>\n",
       "      <td>1</td>\n",
       "      <td>1</td>\n",
       "      <td>7</td>\n",
       "      <td>0</td>\n",
       "      <td>1</td>\n",
       "      <td>4</td>\n",
       "      <td>1</td>\n",
       "      <td>0</td>\n",
       "    </tr>\n",
       "    <tr>\n",
       "      <th>2</th>\n",
       "      <td>CYTB</td>\n",
       "      <td>YP_006576258.1</td>\n",
       "      <td>Thelazia callipaeda</td>\n",
       "      <td>Eukaryota, Metazoa, Ecdysozoa, Nematoda, Chrom...</td>\n",
       "      <td>1</td>\n",
       "      <td>57</td>\n",
       "      <td>2</td>\n",
       "      <td>35</td>\n",
       "      <td>16</td>\n",
       "      <td>16</td>\n",
       "      <td>...</td>\n",
       "      <td>8</td>\n",
       "      <td>1</td>\n",
       "      <td>3</td>\n",
       "      <td>2</td>\n",
       "      <td>11</td>\n",
       "      <td>0</td>\n",
       "      <td>2</td>\n",
       "      <td>5</td>\n",
       "      <td>1</td>\n",
       "      <td>0</td>\n",
       "    </tr>\n",
       "    <tr>\n",
       "      <th>3</th>\n",
       "      <td>COX3</td>\n",
       "      <td>YP_006576259.1</td>\n",
       "      <td>Thelazia callipaeda</td>\n",
       "      <td>Eukaryota, Metazoa, Ecdysozoa, Nematoda, Chrom...</td>\n",
       "      <td>1</td>\n",
       "      <td>40</td>\n",
       "      <td>1</td>\n",
       "      <td>27</td>\n",
       "      <td>11</td>\n",
       "      <td>5</td>\n",
       "      <td>...</td>\n",
       "      <td>7</td>\n",
       "      <td>2</td>\n",
       "      <td>3</td>\n",
       "      <td>2</td>\n",
       "      <td>8</td>\n",
       "      <td>1</td>\n",
       "      <td>5</td>\n",
       "      <td>7</td>\n",
       "      <td>1</td>\n",
       "      <td>0</td>\n",
       "    </tr>\n",
       "    <tr>\n",
       "      <th>4</th>\n",
       "      <td>ND4L</td>\n",
       "      <td>YP_006576260.1</td>\n",
       "      <td>Thelazia callipaeda</td>\n",
       "      <td>Eukaryota, Metazoa, Ecdysozoa, Nematoda, Chrom...</td>\n",
       "      <td>1</td>\n",
       "      <td>31</td>\n",
       "      <td>1</td>\n",
       "      <td>10</td>\n",
       "      <td>2</td>\n",
       "      <td>0</td>\n",
       "      <td>...</td>\n",
       "      <td>0</td>\n",
       "      <td>0</td>\n",
       "      <td>1</td>\n",
       "      <td>1</td>\n",
       "      <td>0</td>\n",
       "      <td>0</td>\n",
       "      <td>1</td>\n",
       "      <td>1</td>\n",
       "      <td>1</td>\n",
       "      <td>0</td>\n",
       "    </tr>\n",
       "    <tr>\n",
       "      <th>...</th>\n",
       "      <td>...</td>\n",
       "      <td>...</td>\n",
       "      <td>...</td>\n",
       "      <td>...</td>\n",
       "      <td>...</td>\n",
       "      <td>...</td>\n",
       "      <td>...</td>\n",
       "      <td>...</td>\n",
       "      <td>...</td>\n",
       "      <td>...</td>\n",
       "      <td>...</td>\n",
       "      <td>...</td>\n",
       "      <td>...</td>\n",
       "      <td>...</td>\n",
       "      <td>...</td>\n",
       "      <td>...</td>\n",
       "      <td>...</td>\n",
       "      <td>...</td>\n",
       "      <td>...</td>\n",
       "      <td>...</td>\n",
       "      <td>...</td>\n",
       "    </tr>\n",
       "    <tr>\n",
       "      <th>2250</th>\n",
       "      <td>COX3</td>\n",
       "      <td>YP_009346456.1</td>\n",
       "      <td>Xiphinema pachtaicum</td>\n",
       "      <td>Eukaryota, Metazoa, Ecdysozoa, Nematoda, Enopl...</td>\n",
       "      <td>-1</td>\n",
       "      <td>27</td>\n",
       "      <td>5</td>\n",
       "      <td>22</td>\n",
       "      <td>6</td>\n",
       "      <td>4</td>\n",
       "      <td>...</td>\n",
       "      <td>3</td>\n",
       "      <td>1</td>\n",
       "      <td>4</td>\n",
       "      <td>3</td>\n",
       "      <td>5</td>\n",
       "      <td>2</td>\n",
       "      <td>8</td>\n",
       "      <td>3</td>\n",
       "      <td>0</td>\n",
       "      <td>1</td>\n",
       "    </tr>\n",
       "    <tr>\n",
       "      <th>2251</th>\n",
       "      <td>ND1</td>\n",
       "      <td>YP_009346457.1</td>\n",
       "      <td>Xiphinema pachtaicum</td>\n",
       "      <td>Eukaryota, Metazoa, Ecdysozoa, Nematoda, Enopl...</td>\n",
       "      <td>1</td>\n",
       "      <td>27</td>\n",
       "      <td>4</td>\n",
       "      <td>26</td>\n",
       "      <td>12</td>\n",
       "      <td>4</td>\n",
       "      <td>...</td>\n",
       "      <td>2</td>\n",
       "      <td>1</td>\n",
       "      <td>8</td>\n",
       "      <td>2</td>\n",
       "      <td>6</td>\n",
       "      <td>3</td>\n",
       "      <td>3</td>\n",
       "      <td>8</td>\n",
       "      <td>1</td>\n",
       "      <td>0</td>\n",
       "    </tr>\n",
       "    <tr>\n",
       "      <th>2252</th>\n",
       "      <td>ND4L</td>\n",
       "      <td>YP_009346459.1</td>\n",
       "      <td>Xiphinema pachtaicum</td>\n",
       "      <td>Eukaryota, Metazoa, Ecdysozoa, Nematoda, Enopl...</td>\n",
       "      <td>1</td>\n",
       "      <td>7</td>\n",
       "      <td>0</td>\n",
       "      <td>7</td>\n",
       "      <td>4</td>\n",
       "      <td>1</td>\n",
       "      <td>...</td>\n",
       "      <td>1</td>\n",
       "      <td>0</td>\n",
       "      <td>1</td>\n",
       "      <td>2</td>\n",
       "      <td>1</td>\n",
       "      <td>1</td>\n",
       "      <td>0</td>\n",
       "      <td>0</td>\n",
       "      <td>0</td>\n",
       "      <td>1</td>\n",
       "    </tr>\n",
       "    <tr>\n",
       "      <th>2253</th>\n",
       "      <td>ND3</td>\n",
       "      <td>YP_009346460.1</td>\n",
       "      <td>Xiphinema pachtaicum</td>\n",
       "      <td>Eukaryota, Metazoa, Ecdysozoa, Nematoda, Enopl...</td>\n",
       "      <td>1</td>\n",
       "      <td>13</td>\n",
       "      <td>0</td>\n",
       "      <td>6</td>\n",
       "      <td>8</td>\n",
       "      <td>3</td>\n",
       "      <td>...</td>\n",
       "      <td>0</td>\n",
       "      <td>1</td>\n",
       "      <td>3</td>\n",
       "      <td>2</td>\n",
       "      <td>0</td>\n",
       "      <td>0</td>\n",
       "      <td>1</td>\n",
       "      <td>1</td>\n",
       "      <td>1</td>\n",
       "      <td>0</td>\n",
       "    </tr>\n",
       "    <tr>\n",
       "      <th>2254</th>\n",
       "      <td>ND6</td>\n",
       "      <td>YP_009346462.1</td>\n",
       "      <td>Xiphinema pachtaicum</td>\n",
       "      <td>Eukaryota, Metazoa, Ecdysozoa, Nematoda, Enopl...</td>\n",
       "      <td>1</td>\n",
       "      <td>17</td>\n",
       "      <td>2</td>\n",
       "      <td>10</td>\n",
       "      <td>5</td>\n",
       "      <td>10</td>\n",
       "      <td>...</td>\n",
       "      <td>1</td>\n",
       "      <td>0</td>\n",
       "      <td>4</td>\n",
       "      <td>1</td>\n",
       "      <td>3</td>\n",
       "      <td>0</td>\n",
       "      <td>3</td>\n",
       "      <td>1</td>\n",
       "      <td>0</td>\n",
       "      <td>1</td>\n",
       "    </tr>\n",
       "  </tbody>\n",
       "</table>\n",
       "<p>2255 rows × 69 columns</p>\n",
       "</div>"
      ],
      "text/plain": [
       "     GenName           GenID          OrganismName  \\\n",
       "0       COX1  YP_006576256.1   Thelazia callipaeda   \n",
       "1        ND6  YP_006576257.1   Thelazia callipaeda   \n",
       "2       CYTB  YP_006576258.1   Thelazia callipaeda   \n",
       "3       COX3  YP_006576259.1   Thelazia callipaeda   \n",
       "4       ND4L  YP_006576260.1   Thelazia callipaeda   \n",
       "...      ...             ...                   ...   \n",
       "2250    COX3  YP_009346456.1  Xiphinema pachtaicum   \n",
       "2251     ND1  YP_009346457.1  Xiphinema pachtaicum   \n",
       "2252    ND4L  YP_009346459.1  Xiphinema pachtaicum   \n",
       "2253     ND3  YP_009346460.1  Xiphinema pachtaicum   \n",
       "2254     ND6  YP_009346462.1  Xiphinema pachtaicum   \n",
       "\n",
       "                                               Taxonomy Strand TTT TTC TTA  \\\n",
       "0     Eukaryota, Metazoa, Ecdysozoa, Nematoda, Chrom...      1  54   1  33   \n",
       "1     Eukaryota, Metazoa, Ecdysozoa, Nematoda, Chrom...      1  38   0  13   \n",
       "2     Eukaryota, Metazoa, Ecdysozoa, Nematoda, Chrom...      1  57   2  35   \n",
       "3     Eukaryota, Metazoa, Ecdysozoa, Nematoda, Chrom...      1  40   1  27   \n",
       "4     Eukaryota, Metazoa, Ecdysozoa, Nematoda, Chrom...      1  31   1  10   \n",
       "...                                                 ...    ...  ..  ..  ..   \n",
       "2250  Eukaryota, Metazoa, Ecdysozoa, Nematoda, Enopl...     -1  27   5  22   \n",
       "2251  Eukaryota, Metazoa, Ecdysozoa, Nematoda, Enopl...      1  27   4  26   \n",
       "2252  Eukaryota, Metazoa, Ecdysozoa, Nematoda, Enopl...      1   7   0   7   \n",
       "2253  Eukaryota, Metazoa, Ecdysozoa, Nematoda, Enopl...      1  13   0   6   \n",
       "2254  Eukaryota, Metazoa, Ecdysozoa, Nematoda, Enopl...      1  17   2  10   \n",
       "\n",
       "     TTG TCT  ... GAT GAC GAA GAG GGT GGC GGA GGG TAA TAG  \n",
       "0     29  20  ...  14   1   3   6  34   0   6  11   1   0  \n",
       "1     11   3  ...   3   0   1   1   7   0   1   4   1   0  \n",
       "2     16  16  ...   8   1   3   2  11   0   2   5   1   0  \n",
       "3     11   5  ...   7   2   3   2   8   1   5   7   1   0  \n",
       "4      2   0  ...   0   0   1   1   0   0   1   1   1   0  \n",
       "...   ..  ..  ...  ..  ..  ..  ..  ..  ..  ..  ..  ..  ..  \n",
       "2250   6   4  ...   3   1   4   3   5   2   8   3   0   1  \n",
       "2251  12   4  ...   2   1   8   2   6   3   3   8   1   0  \n",
       "2252   4   1  ...   1   0   1   2   1   1   0   0   0   1  \n",
       "2253   8   3  ...   0   1   3   2   0   0   1   1   1   0  \n",
       "2254   5  10  ...   1   0   4   1   3   0   3   1   0   1  \n",
       "\n",
       "[2255 rows x 69 columns]"
      ]
     },
     "execution_count": 16,
     "metadata": {},
     "output_type": "execute_result"
    }
   ],
   "source": [
    "result"
   ]
  },
  {
   "cell_type": "code",
   "execution_count": 6,
   "id": "certain-tuesday",
   "metadata": {
    "scrolled": true
   },
   "outputs": [
    {
     "data": {
      "text/plain": [
       "array(['Thelazia callipaeda', 'Camallanus cotti', 'Plectus aquatilis',\n",
       "       'Heterakis dispar', 'Trichinella nelsoni', 'Toxocara malaysiensis',\n",
       "       'Cyathostomum pateratum', 'Cylicocyclus auriculatus',\n",
       "       'Agamermis sp. BH-2006', 'Mecistocirrus digitatus',\n",
       "       'Caenorhabditis virilis',\n",
       "       'Contracaecum ogmorhini sensu lato Australia',\n",
       "       'Gnathostoma spinigerum',\n",
       "       'Contracaecum rudolphii B Bullini et al., 1986',\n",
       "       'Triodontophorus brevicauda', 'Cylicocyclus nassatus',\n",
       "       'Heterorhabditis bacteriophora', 'Allodiplogaster sudhausi',\n",
       "       'Eucoleus annulatus', 'Caenorhabditis brenneri',\n",
       "       'Gongylonema pulchrum', 'Haemonchus contortus',\n",
       "       'Metastrongylus salmi', 'Trichuris trichiura',\n",
       "       'Cylicocyclus ashworthi', 'Steinernema carpocapsae',\n",
       "       'Meloidogyne enterolobii', 'Chabertia erschowi', 'Ascaridia galli',\n",
       "       'Poteriostomum imparidentatum', 'Trichuris muris',\n",
       "       'Marshallagia marshalli', 'Ascaris ovis', 'Wuchereria bancrofti',\n",
       "       'Caenorhabditis angaria', 'Wellcomia siamensis',\n",
       "       'Bursaphelenchus mucronatus', 'Baylisascaris transfuga',\n",
       "       'Aelurostrongylus abstrusus', 'Trichinella papuae',\n",
       "       'Parafilaroides normani', 'Brugia malayi',\n",
       "       'Romanomermis culicivorax', 'Anisakis simplex',\n",
       "       'Strongylus vulgaris', 'Paralongidorus litoralis',\n",
       "       'Longidorus vineacola', 'Bunostomum trigonocephalum',\n",
       "       'Steinernema abbasi', 'Halicephalobus gingivalis',\n",
       "       \"Dirofilaria sp. 'hongkongensis'\", 'Nematodirus spathiger',\n",
       "       'Litoditis aff. marina PmIV', 'Dracunculus medinensis',\n",
       "       'Caenorhabditis elegans', 'Pseudoterranova krabbei',\n",
       "       'Diploscapter pachys (synthetic DNA construct)',\n",
       "       'Pseudoterranova cattani', 'Strongyloides venezuelensis',\n",
       "       'Ancylostoma tubaeforme', 'Caenorhabditis remanei',\n",
       "       'Bunostomum phlebotomum', 'Teladorsagia circumcincta',\n",
       "       'Strongyloides ratti', 'Caenorhabditis macrosperma',\n",
       "       'Contracaecum osculatum', 'Caenorhabditis castelli',\n",
       "       'Romanomermis iyengari', 'Ancylostoma caninum',\n",
       "       'Macropicola ocydromi', 'Heliconema longissimum',\n",
       "       'Trichinella murrelli', 'Baylisascaris procyonis',\n",
       "       'Heterorhabditis indica', 'Thaumamermis cosgrovei',\n",
       "       'Litoditis aff. marina PmII', 'Setaria labiatopapillosa',\n",
       "       'Passalurus ambiguus', 'Anisakis berlandi', 'Meloidogyne javanica',\n",
       "       'Meloidogyne arenaria', 'Loa loa', 'Steinernema glaseri',\n",
       "       'Xiphinema americanum', 'Litoditis aff. marina PmIII',\n",
       "       'Acanthocheilonema viteae', 'Angiostrongylus costaricensis',\n",
       "       'Parastrongyloides trichosuri', 'Dirofilaria immitis',\n",
       "       'Hypodontus macropi', 'Trichinella britovi',\n",
       "       'Trichinella pseudospiralis', 'Strongylus equinus',\n",
       "       'Caenorhabditis nouraguensis', 'Toxascaris leonina',\n",
       "       'Syngamus trachea', 'Panagrellus redivivus',\n",
       "       'Metastrongylus pudendotectus', 'Gnathostoma doloresi',\n",
       "       'Dictyocaulus eckerti', 'Strelkovimermis spiculatus',\n",
       "       'Onchocerca ochengi', 'Pseudoterranova azarasi',\n",
       "       'Baylisascaris schroederi', 'Ascaridia columbae',\n",
       "       'Angiostrongylus malaysiensis', 'Strongyloides stercoralis',\n",
       "       'Caenorhabditis nigoni', 'Necator americanus',\n",
       "       'Caenorhabditis plicata', 'Rhigonema thysanophora',\n",
       "       'Pseudoterranova decipiens sensu lato Germany',\n",
       "       'Ancylostoma duodenale', 'Oesophagostomum columbianum',\n",
       "       'Oesophagostomum dentatum', 'Cucullanus robustus',\n",
       "       'Spirocerca lupi', 'Halicephalobus sp. NKZ332',\n",
       "       'Aphelenchoides besseyi', 'Oesophagostomum asperum',\n",
       "       'Angiostrongylus vasorum', 'Onchocerca volvulus',\n",
       "       'Strongyloides papillosus', 'Cyathostomum catinatum',\n",
       "       'Cylicocyclus insigne', 'Cylicocyclus radiatus',\n",
       "       'Haemonchus placei', 'Xiphinema rivesi',\n",
       "       'Philometroides sanguineus', 'Heterakis beramporia',\n",
       "       'Halicephalobus mephisto', 'Dirofilaria repens',\n",
       "       'Ascaris lumbricoides', 'Onchocerca flexuosa',\n",
       "       'Angiostrongylus cantonensis', 'Uncinaria sanguinis',\n",
       "       'Meloidogyne incognita', 'Cylicodontophorus bicoronatus',\n",
       "       'Caenorhabditis wallacei', 'Trichinella zimbabwensis',\n",
       "       'Meloidogyne graminicola', 'Gnathostoma nipponicum',\n",
       "       'Toxocara cati', 'Acrobeloides varius',\n",
       "       'Trichostrongylus vitrinus', 'Cylicostephanus minutus',\n",
       "       'Romanomermis nielseni', 'Bursaphelenchus xylophilus',\n",
       "       'Chandlerella quiscali', 'Setaria digitata', 'Parascaris equorum',\n",
       "       'Caenorhabditis afra', 'Trichuris discolor',\n",
       "       'Contracaecum ogmorhini sensu lato South Africa',\n",
       "       'Enterobius vermicularis', 'Parascaris univalens',\n",
       "       'Trichuris ovis', 'Pseudoterranova bulbosa',\n",
       "       'Pristionchus pacificus', 'Oxyuris equi', 'Nematodirus oiratianus',\n",
       "       'Trichinella spiralis', 'Chabertia ovina',\n",
       "       'Dictyocaulus viviparus', 'Anisakis pegreffii',\n",
       "       'Oesophagostomum quadrispinulatum', 'Ortleppascaris sinensis',\n",
       "       'Toxocara canis', 'Hexamermis agrotis', 'Trichuris suis',\n",
       "       'Onchocerca lupi', 'Ascaris suum', 'Caenorhabditis briggsae',\n",
       "       'Ancylostoma ceylanicum', 'Nippostrongylus brasiliensis',\n",
       "       'Protostrongylus rufescens', 'Triodontophorus serratus',\n",
       "       'Steinernema litorale', 'Triodontophorus nipponicus',\n",
       "       'Angiostrongylus mackerrasae', 'Caenorhabditis doughertyi',\n",
       "       'Diploscapter coronatus', 'Litoditis aff. marina PmI',\n",
       "       'Caenorhabditis tropicalis', 'Trichinella nativa',\n",
       "       'Heterakis gallinarum',\n",
       "       'Contracaecum ogmorhini sensu lato Pacific Canada',\n",
       "       'Trichostrongylus axei', 'Xiphinema pachtaicum'], dtype=object)"
      ]
     },
     "execution_count": 6,
     "metadata": {},
     "output_type": "execute_result"
    }
   ],
   "source": [
    "result['OrganismName'].unique()"
   ]
  },
  {
   "cell_type": "code",
   "execution_count": 9,
   "id": "ec075afa",
   "metadata": {},
   "outputs": [
    {
     "data": {
      "text/plain": [
       "189"
      ]
     },
     "execution_count": 9,
     "metadata": {},
     "output_type": "execute_result"
    }
   ],
   "source": [
    "len(result['OrganismName'].unique())"
   ]
  },
  {
   "cell_type": "code",
   "execution_count": null,
   "id": "e68f9f34",
   "metadata": {},
   "outputs": [],
   "source": [
    "# Добавление гейнеров и лузеров - НЕПРИМЕНИМО К НЕМАТОДАМ !!!"
   ]
  },
  {
   "cell_type": "code",
   "execution_count": 27,
   "id": "placed-meditation",
   "metadata": {},
   "outputs": [],
   "source": [
    "gainers = ['CCT', 'CCC', 'CCA', 'CCG', 'ACT', 'ACC', 'ACA', 'ACG', 'CAT', 'CAC', 'CAA', 'CAG', 'AAT', 'AAC', 'AAA', 'AAG']\n",
    "losers = ['TTT', 'TTC', 'TTA', 'TTG', 'GTC', 'GTA', 'GTG', 'GTT', 'TGT', 'TGC', 'TGA', 'TGG', 'GGT', 'GGC', 'GGA', 'GGG']\n",
    "intermediates = ['TCT', 'TCC', 'TCA', 'TCG', 'TAT', 'TAC', 'TAA', 'TAG', 'GCT', 'GCC', 'GCA', 'GCG', 'GAT', 'GAC', 'GAA', 'GAG', 'CTT', 'CTC', 'CTA', 'CTG', 'ATT', 'ATC', 'ATA', 'ATG', 'CGT', 'CGC', 'CGA', 'CGG', 'AGT', 'AGC', 'AGA', 'AGG']"
   ]
  },
  {
   "cell_type": "code",
   "execution_count": 28,
   "id": "normal-plate",
   "metadata": {},
   "outputs": [],
   "source": [
    "result.loc[:, 'TTT':'TAG'] = result.loc[:, 'TTT':'TAG'].apply(lambda x: pd.to_numeric(x, errors='coerce'))"
   ]
  },
  {
   "cell_type": "code",
   "execution_count": 29,
   "id": "tender-juice",
   "metadata": {},
   "outputs": [
    {
     "data": {
      "text/html": [
       "<div>\n",
       "<style scoped>\n",
       "    .dataframe tbody tr th:only-of-type {\n",
       "        vertical-align: middle;\n",
       "    }\n",
       "\n",
       "    .dataframe tbody tr th {\n",
       "        vertical-align: top;\n",
       "    }\n",
       "\n",
       "    .dataframe thead th {\n",
       "        text-align: right;\n",
       "    }\n",
       "</style>\n",
       "<table border=\"1\" class=\"dataframe\">\n",
       "  <thead>\n",
       "    <tr style=\"text-align: right;\">\n",
       "      <th></th>\n",
       "      <th>Unnamed: 0</th>\n",
       "      <th>GenName</th>\n",
       "      <th>GenID</th>\n",
       "      <th>OrganismName</th>\n",
       "      <th>Taxonomy</th>\n",
       "      <th>Strand</th>\n",
       "      <th>TTT</th>\n",
       "      <th>TTC</th>\n",
       "      <th>TTA</th>\n",
       "      <th>TTG</th>\n",
       "      <th>...</th>\n",
       "      <th>GAA</th>\n",
       "      <th>GAG</th>\n",
       "      <th>GGT</th>\n",
       "      <th>GGC</th>\n",
       "      <th>GGA</th>\n",
       "      <th>GGG</th>\n",
       "      <th>TAA</th>\n",
       "      <th>TAG</th>\n",
       "      <th>Gainers</th>\n",
       "      <th>Losers</th>\n",
       "    </tr>\n",
       "  </thead>\n",
       "  <tbody>\n",
       "    <tr>\n",
       "      <th>0</th>\n",
       "      <td>0</td>\n",
       "      <td>nad2</td>\n",
       "      <td>AAN17804.1</td>\n",
       "      <td>Brugia malayi</td>\n",
       "      <td>Eukaryota, Metazoa, Ecdysozoa, Nematoda, Chrom...</td>\n",
       "      <td>1</td>\n",
       "      <td>61</td>\n",
       "      <td>1</td>\n",
       "      <td>21</td>\n",
       "      <td>26</td>\n",
       "      <td>...</td>\n",
       "      <td>0</td>\n",
       "      <td>4</td>\n",
       "      <td>12</td>\n",
       "      <td>1</td>\n",
       "      <td>1</td>\n",
       "      <td>2</td>\n",
       "      <td>0</td>\n",
       "      <td>0</td>\n",
       "      <td>0.113879</td>\n",
       "      <td>0.594306</td>\n",
       "    </tr>\n",
       "    <tr>\n",
       "      <th>1</th>\n",
       "      <td>1</td>\n",
       "      <td>nad4</td>\n",
       "      <td>AAN17805.1</td>\n",
       "      <td>Brugia malayi</td>\n",
       "      <td>Eukaryota, Metazoa, Ecdysozoa, Nematoda, Chrom...</td>\n",
       "      <td>1</td>\n",
       "      <td>82</td>\n",
       "      <td>1</td>\n",
       "      <td>31</td>\n",
       "      <td>21</td>\n",
       "      <td>...</td>\n",
       "      <td>3</td>\n",
       "      <td>6</td>\n",
       "      <td>13</td>\n",
       "      <td>3</td>\n",
       "      <td>5</td>\n",
       "      <td>1</td>\n",
       "      <td>1</td>\n",
       "      <td>0</td>\n",
       "      <td>0.095122</td>\n",
       "      <td>0.529268</td>\n",
       "    </tr>\n",
       "    <tr>\n",
       "      <th>2</th>\n",
       "      <td>2</td>\n",
       "      <td>cox1</td>\n",
       "      <td>AAN17806.1</td>\n",
       "      <td>Brugia malayi</td>\n",
       "      <td>Eukaryota, Metazoa, Ecdysozoa, Nematoda, Chrom...</td>\n",
       "      <td>1</td>\n",
       "      <td>57</td>\n",
       "      <td>2</td>\n",
       "      <td>29</td>\n",
       "      <td>23</td>\n",
       "      <td>...</td>\n",
       "      <td>3</td>\n",
       "      <td>4</td>\n",
       "      <td>40</td>\n",
       "      <td>4</td>\n",
       "      <td>7</td>\n",
       "      <td>4</td>\n",
       "      <td>0</td>\n",
       "      <td>1</td>\n",
       "      <td>0.198543</td>\n",
       "      <td>0.418944</td>\n",
       "    </tr>\n",
       "    <tr>\n",
       "      <th>3</th>\n",
       "      <td>3</td>\n",
       "      <td>nad6</td>\n",
       "      <td>AAN17807.1</td>\n",
       "      <td>Brugia malayi</td>\n",
       "      <td>Eukaryota, Metazoa, Ecdysozoa, Nematoda, Chrom...</td>\n",
       "      <td>1</td>\n",
       "      <td>35</td>\n",
       "      <td>0</td>\n",
       "      <td>12</td>\n",
       "      <td>8</td>\n",
       "      <td>...</td>\n",
       "      <td>0</td>\n",
       "      <td>0</td>\n",
       "      <td>5</td>\n",
       "      <td>2</td>\n",
       "      <td>0</td>\n",
       "      <td>0</td>\n",
       "      <td>1</td>\n",
       "      <td>0</td>\n",
       "      <td>0.059603</td>\n",
       "      <td>0.543046</td>\n",
       "    </tr>\n",
       "    <tr>\n",
       "      <th>4</th>\n",
       "      <td>4</td>\n",
       "      <td>cob</td>\n",
       "      <td>AAN17808.1</td>\n",
       "      <td>Brugia malayi</td>\n",
       "      <td>Eukaryota, Metazoa, Ecdysozoa, Nematoda, Chrom...</td>\n",
       "      <td>1</td>\n",
       "      <td>57</td>\n",
       "      <td>1</td>\n",
       "      <td>26</td>\n",
       "      <td>12</td>\n",
       "      <td>...</td>\n",
       "      <td>3</td>\n",
       "      <td>1</td>\n",
       "      <td>12</td>\n",
       "      <td>2</td>\n",
       "      <td>1</td>\n",
       "      <td>5</td>\n",
       "      <td>0</td>\n",
       "      <td>0</td>\n",
       "      <td>0.151934</td>\n",
       "      <td>0.447514</td>\n",
       "    </tr>\n",
       "    <tr>\n",
       "      <th>...</th>\n",
       "      <td>...</td>\n",
       "      <td>...</td>\n",
       "      <td>...</td>\n",
       "      <td>...</td>\n",
       "      <td>...</td>\n",
       "      <td>...</td>\n",
       "      <td>...</td>\n",
       "      <td>...</td>\n",
       "      <td>...</td>\n",
       "      <td>...</td>\n",
       "      <td>...</td>\n",
       "      <td>...</td>\n",
       "      <td>...</td>\n",
       "      <td>...</td>\n",
       "      <td>...</td>\n",
       "      <td>...</td>\n",
       "      <td>...</td>\n",
       "      <td>...</td>\n",
       "      <td>...</td>\n",
       "      <td>...</td>\n",
       "      <td>...</td>\n",
       "    </tr>\n",
       "    <tr>\n",
       "      <th>449</th>\n",
       "      <td>7</td>\n",
       "      <td>ATP6</td>\n",
       "      <td>ATP6</td>\n",
       "      <td>Halicephalobus mephisto</td>\n",
       "      <td>NaN</td>\n",
       "      <td>1</td>\n",
       "      <td>27</td>\n",
       "      <td>1</td>\n",
       "      <td>19</td>\n",
       "      <td>5</td>\n",
       "      <td>...</td>\n",
       "      <td>7</td>\n",
       "      <td>1</td>\n",
       "      <td>6</td>\n",
       "      <td>0</td>\n",
       "      <td>0</td>\n",
       "      <td>0</td>\n",
       "      <td>1</td>\n",
       "      <td>0</td>\n",
       "      <td>0.149254</td>\n",
       "      <td>0.383085</td>\n",
       "    </tr>\n",
       "    <tr>\n",
       "      <th>450</th>\n",
       "      <td>8</td>\n",
       "      <td>ND2</td>\n",
       "      <td>ND2</td>\n",
       "      <td>Halicephalobus mephisto</td>\n",
       "      <td>NaN</td>\n",
       "      <td>1</td>\n",
       "      <td>64</td>\n",
       "      <td>0</td>\n",
       "      <td>22</td>\n",
       "      <td>8</td>\n",
       "      <td>...</td>\n",
       "      <td>1</td>\n",
       "      <td>2</td>\n",
       "      <td>7</td>\n",
       "      <td>0</td>\n",
       "      <td>4</td>\n",
       "      <td>0</td>\n",
       "      <td>1</td>\n",
       "      <td>0</td>\n",
       "      <td>0.156463</td>\n",
       "      <td>0.459184</td>\n",
       "    </tr>\n",
       "    <tr>\n",
       "      <th>451</th>\n",
       "      <td>9</td>\n",
       "      <td>CYTB</td>\n",
       "      <td>CYTB</td>\n",
       "      <td>Halicephalobus mephisto</td>\n",
       "      <td>NaN</td>\n",
       "      <td>1</td>\n",
       "      <td>66</td>\n",
       "      <td>0</td>\n",
       "      <td>29</td>\n",
       "      <td>12</td>\n",
       "      <td>...</td>\n",
       "      <td>5</td>\n",
       "      <td>1</td>\n",
       "      <td>16</td>\n",
       "      <td>1</td>\n",
       "      <td>0</td>\n",
       "      <td>0</td>\n",
       "      <td>1</td>\n",
       "      <td>0</td>\n",
       "      <td>0.154472</td>\n",
       "      <td>0.463415</td>\n",
       "    </tr>\n",
       "    <tr>\n",
       "      <th>452</th>\n",
       "      <td>10</td>\n",
       "      <td>COX3</td>\n",
       "      <td>COX3</td>\n",
       "      <td>Halicephalobus mephisto</td>\n",
       "      <td>NaN</td>\n",
       "      <td>1</td>\n",
       "      <td>43</td>\n",
       "      <td>1</td>\n",
       "      <td>27</td>\n",
       "      <td>6</td>\n",
       "      <td>...</td>\n",
       "      <td>4</td>\n",
       "      <td>2</td>\n",
       "      <td>18</td>\n",
       "      <td>1</td>\n",
       "      <td>0</td>\n",
       "      <td>0</td>\n",
       "      <td>0</td>\n",
       "      <td>1</td>\n",
       "      <td>0.155894</td>\n",
       "      <td>0.494297</td>\n",
       "    </tr>\n",
       "    <tr>\n",
       "      <th>453</th>\n",
       "      <td>11</td>\n",
       "      <td>ND4</td>\n",
       "      <td>ND4</td>\n",
       "      <td>Halicephalobus mephisto</td>\n",
       "      <td>NaN</td>\n",
       "      <td>1</td>\n",
       "      <td>80</td>\n",
       "      <td>1</td>\n",
       "      <td>42</td>\n",
       "      <td>9</td>\n",
       "      <td>...</td>\n",
       "      <td>8</td>\n",
       "      <td>0</td>\n",
       "      <td>16</td>\n",
       "      <td>2</td>\n",
       "      <td>2</td>\n",
       "      <td>0</td>\n",
       "      <td>0</td>\n",
       "      <td>1</td>\n",
       "      <td>0.128641</td>\n",
       "      <td>0.439320</td>\n",
       "    </tr>\n",
       "  </tbody>\n",
       "</table>\n",
       "<p>454 rows × 72 columns</p>\n",
       "</div>"
      ],
      "text/plain": [
       "    Unnamed: 0 GenName       GenID             OrganismName  \\\n",
       "0            0    nad2  AAN17804.1            Brugia malayi   \n",
       "1            1    nad4  AAN17805.1            Brugia malayi   \n",
       "2            2    cox1  AAN17806.1            Brugia malayi   \n",
       "3            3    nad6  AAN17807.1            Brugia malayi   \n",
       "4            4     cob  AAN17808.1            Brugia malayi   \n",
       "..         ...     ...         ...                      ...   \n",
       "449          7    ATP6        ATP6  Halicephalobus mephisto   \n",
       "450          8     ND2         ND2  Halicephalobus mephisto   \n",
       "451          9    CYTB        CYTB  Halicephalobus mephisto   \n",
       "452         10    COX3        COX3  Halicephalobus mephisto   \n",
       "453         11     ND4         ND4  Halicephalobus mephisto   \n",
       "\n",
       "                                              Taxonomy Strand  TTT  TTC  TTA  \\\n",
       "0    Eukaryota, Metazoa, Ecdysozoa, Nematoda, Chrom...      1   61    1   21   \n",
       "1    Eukaryota, Metazoa, Ecdysozoa, Nematoda, Chrom...      1   82    1   31   \n",
       "2    Eukaryota, Metazoa, Ecdysozoa, Nematoda, Chrom...      1   57    2   29   \n",
       "3    Eukaryota, Metazoa, Ecdysozoa, Nematoda, Chrom...      1   35    0   12   \n",
       "4    Eukaryota, Metazoa, Ecdysozoa, Nematoda, Chrom...      1   57    1   26   \n",
       "..                                                 ...    ...  ...  ...  ...   \n",
       "449                                                NaN      1   27    1   19   \n",
       "450                                                NaN      1   64    0   22   \n",
       "451                                                NaN      1   66    0   29   \n",
       "452                                                NaN      1   43    1   27   \n",
       "453                                                NaN      1   80    1   42   \n",
       "\n",
       "     TTG  ...  GAA  GAG  GGT  GGC  GGA  GGG  TAA  TAG   Gainers    Losers  \n",
       "0     26  ...    0    4   12    1    1    2    0    0  0.113879  0.594306  \n",
       "1     21  ...    3    6   13    3    5    1    1    0  0.095122  0.529268  \n",
       "2     23  ...    3    4   40    4    7    4    0    1  0.198543  0.418944  \n",
       "3      8  ...    0    0    5    2    0    0    1    0  0.059603  0.543046  \n",
       "4     12  ...    3    1   12    2    1    5    0    0  0.151934  0.447514  \n",
       "..   ...  ...  ...  ...  ...  ...  ...  ...  ...  ...       ...       ...  \n",
       "449    5  ...    7    1    6    0    0    0    1    0  0.149254  0.383085  \n",
       "450    8  ...    1    2    7    0    4    0    1    0  0.156463  0.459184  \n",
       "451   12  ...    5    1   16    1    0    0    1    0  0.154472  0.463415  \n",
       "452    6  ...    4    2   18    1    0    0    0    1  0.155894  0.494297  \n",
       "453    9  ...    8    0   16    2    2    0    0    1  0.128641  0.439320  \n",
       "\n",
       "[454 rows x 72 columns]"
      ]
     },
     "execution_count": 29,
     "metadata": {},
     "output_type": "execute_result"
    }
   ],
   "source": [
    "result['Gainers'] = (result.loc[:, result.columns.isin(gainers)].sum(axis=1)) / (result.loc[:, 'TTT':'TAG'].sum(axis=1))\n",
    "result['Losers'] = (result.loc[:, result.columns.isin(losers)].sum(axis=1)) / (result.loc[:, 'TTT':'TAG'].sum(axis=1))\n",
    "result"
   ]
  },
  {
   "cell_type": "code",
   "execution_count": 13,
   "id": "public-revolution",
   "metadata": {},
   "outputs": [
    {
     "name": "stdout",
     "output_type": "stream",
     "text": [
      "97.38359201773837\n"
     ]
    }
   ],
   "source": [
    "# процент каноничных генов\n",
    "canon = result['GenName'].loc[result['GenName'].isin(['ND1', 'ND2', 'ND3', 'ND4', 'ND4L', 'ND5', 'ND6', 'COX1', 'COX2', 'COX3', 'CYTB', 'ATP6', 'ATP8'])].value_counts().sum()\n",
    "print(canon * 100 / len(result))"
   ]
  },
  {
   "cell_type": "code",
   "execution_count": 15,
   "id": "d0a0fb1f",
   "metadata": {},
   "outputs": [],
   "source": [
    "result = result.iloc[:, 1:]"
   ]
  },
  {
   "cell_type": "code",
   "execution_count": 17,
   "id": "secret-liberal",
   "metadata": {},
   "outputs": [],
   "source": [
    "result.to_csv('/home/emulciber/MitoClub/devil-worm/Body/2Derived/03a_CodonUsageDerived.csv', sep=';', index=False)"
   ]
  },
  {
   "cell_type": "code",
   "execution_count": 1,
   "id": "44e9a6cb",
   "metadata": {},
   "outputs": [],
   "source": [
    "# Склейка общего файла codon usage rscu"
   ]
  },
  {
   "cell_type": "code",
   "execution_count": 18,
   "id": "f49b1db2",
   "metadata": {
    "scrolled": true
   },
   "outputs": [
    {
     "data": {
      "text/html": [
       "<div>\n",
       "<style scoped>\n",
       "    .dataframe tbody tr th:only-of-type {\n",
       "        vertical-align: middle;\n",
       "    }\n",
       "\n",
       "    .dataframe tbody tr th {\n",
       "        vertical-align: top;\n",
       "    }\n",
       "\n",
       "    .dataframe thead th {\n",
       "        text-align: right;\n",
       "    }\n",
       "</style>\n",
       "<table border=\"1\" class=\"dataframe\">\n",
       "  <thead>\n",
       "    <tr style=\"text-align: right;\">\n",
       "      <th></th>\n",
       "      <th>Unnamed: 0</th>\n",
       "      <th>GenName</th>\n",
       "      <th>GenID</th>\n",
       "      <th>OrganismName</th>\n",
       "      <th>Taxonomy</th>\n",
       "      <th>Strand</th>\n",
       "      <th>TTT</th>\n",
       "      <th>TTC</th>\n",
       "      <th>TTA</th>\n",
       "      <th>TTG</th>\n",
       "      <th>...</th>\n",
       "      <th>GAT</th>\n",
       "      <th>GAC</th>\n",
       "      <th>GAA</th>\n",
       "      <th>GAG</th>\n",
       "      <th>GGT</th>\n",
       "      <th>GGC</th>\n",
       "      <th>GGA</th>\n",
       "      <th>GGG</th>\n",
       "      <th>TAA</th>\n",
       "      <th>TAG</th>\n",
       "    </tr>\n",
       "  </thead>\n",
       "  <tbody>\n",
       "    <tr>\n",
       "      <th>0</th>\n",
       "      <td>0</td>\n",
       "      <td>COX1</td>\n",
       "      <td>YP_006576256.1</td>\n",
       "      <td>Thelazia callipaeda</td>\n",
       "      <td>Eukaryota, Metazoa, Ecdysozoa, Nematoda, Chrom...</td>\n",
       "      <td>1</td>\n",
       "      <td>1.963636</td>\n",
       "      <td>0.036364</td>\n",
       "      <td>2.869565</td>\n",
       "      <td>2.521739</td>\n",
       "      <td>...</td>\n",
       "      <td>1.866667</td>\n",
       "      <td>0.133333</td>\n",
       "      <td>0.666667</td>\n",
       "      <td>1.333333</td>\n",
       "      <td>2.666667</td>\n",
       "      <td>0.000000</td>\n",
       "      <td>0.470588</td>\n",
       "      <td>0.862745</td>\n",
       "      <td>1.0</td>\n",
       "      <td>0.0</td>\n",
       "    </tr>\n",
       "    <tr>\n",
       "      <th>1</th>\n",
       "      <td>1</td>\n",
       "      <td>ND6</td>\n",
       "      <td>YP_006576257.1</td>\n",
       "      <td>Thelazia callipaeda</td>\n",
       "      <td>Eukaryota, Metazoa, Ecdysozoa, Nematoda, Chrom...</td>\n",
       "      <td>1</td>\n",
       "      <td>2.000000</td>\n",
       "      <td>0.000000</td>\n",
       "      <td>3.000000</td>\n",
       "      <td>2.538462</td>\n",
       "      <td>...</td>\n",
       "      <td>2.000000</td>\n",
       "      <td>0.000000</td>\n",
       "      <td>1.000000</td>\n",
       "      <td>1.000000</td>\n",
       "      <td>2.333333</td>\n",
       "      <td>0.000000</td>\n",
       "      <td>0.333333</td>\n",
       "      <td>1.333333</td>\n",
       "      <td>1.0</td>\n",
       "      <td>0.0</td>\n",
       "    </tr>\n",
       "    <tr>\n",
       "      <th>2</th>\n",
       "      <td>2</td>\n",
       "      <td>CYTB</td>\n",
       "      <td>YP_006576258.1</td>\n",
       "      <td>Thelazia callipaeda</td>\n",
       "      <td>Eukaryota, Metazoa, Ecdysozoa, Nematoda, Chrom...</td>\n",
       "      <td>1</td>\n",
       "      <td>1.932203</td>\n",
       "      <td>0.067797</td>\n",
       "      <td>3.750000</td>\n",
       "      <td>1.714286</td>\n",
       "      <td>...</td>\n",
       "      <td>1.777778</td>\n",
       "      <td>0.222222</td>\n",
       "      <td>1.200000</td>\n",
       "      <td>0.800000</td>\n",
       "      <td>2.444444</td>\n",
       "      <td>0.000000</td>\n",
       "      <td>0.444444</td>\n",
       "      <td>1.111111</td>\n",
       "      <td>1.0</td>\n",
       "      <td>0.0</td>\n",
       "    </tr>\n",
       "    <tr>\n",
       "      <th>3</th>\n",
       "      <td>3</td>\n",
       "      <td>COX3</td>\n",
       "      <td>YP_006576259.1</td>\n",
       "      <td>Thelazia callipaeda</td>\n",
       "      <td>Eukaryota, Metazoa, Ecdysozoa, Nematoda, Chrom...</td>\n",
       "      <td>1</td>\n",
       "      <td>1.951220</td>\n",
       "      <td>0.048780</td>\n",
       "      <td>3.951220</td>\n",
       "      <td>1.609756</td>\n",
       "      <td>...</td>\n",
       "      <td>1.555556</td>\n",
       "      <td>0.444444</td>\n",
       "      <td>1.200000</td>\n",
       "      <td>0.800000</td>\n",
       "      <td>1.523810</td>\n",
       "      <td>0.190476</td>\n",
       "      <td>0.952381</td>\n",
       "      <td>1.333333</td>\n",
       "      <td>1.0</td>\n",
       "      <td>0.0</td>\n",
       "    </tr>\n",
       "    <tr>\n",
       "      <th>4</th>\n",
       "      <td>4</td>\n",
       "      <td>ND4L</td>\n",
       "      <td>YP_006576260.1</td>\n",
       "      <td>Thelazia callipaeda</td>\n",
       "      <td>Eukaryota, Metazoa, Ecdysozoa, Nematoda, Chrom...</td>\n",
       "      <td>1</td>\n",
       "      <td>1.937500</td>\n",
       "      <td>0.062500</td>\n",
       "      <td>4.615385</td>\n",
       "      <td>0.923077</td>\n",
       "      <td>...</td>\n",
       "      <td>0.000000</td>\n",
       "      <td>0.000000</td>\n",
       "      <td>1.000000</td>\n",
       "      <td>1.000000</td>\n",
       "      <td>0.000000</td>\n",
       "      <td>0.000000</td>\n",
       "      <td>2.000000</td>\n",
       "      <td>2.000000</td>\n",
       "      <td>1.0</td>\n",
       "      <td>0.0</td>\n",
       "    </tr>\n",
       "    <tr>\n",
       "      <th>...</th>\n",
       "      <td>...</td>\n",
       "      <td>...</td>\n",
       "      <td>...</td>\n",
       "      <td>...</td>\n",
       "      <td>...</td>\n",
       "      <td>...</td>\n",
       "      <td>...</td>\n",
       "      <td>...</td>\n",
       "      <td>...</td>\n",
       "      <td>...</td>\n",
       "      <td>...</td>\n",
       "      <td>...</td>\n",
       "      <td>...</td>\n",
       "      <td>...</td>\n",
       "      <td>...</td>\n",
       "      <td>...</td>\n",
       "      <td>...</td>\n",
       "      <td>...</td>\n",
       "      <td>...</td>\n",
       "      <td>...</td>\n",
       "      <td>...</td>\n",
       "    </tr>\n",
       "    <tr>\n",
       "      <th>2250</th>\n",
       "      <td>2</td>\n",
       "      <td>COX3</td>\n",
       "      <td>YP_009346456.1</td>\n",
       "      <td>Xiphinema pachtaicum</td>\n",
       "      <td>Eukaryota, Metazoa, Ecdysozoa, Nematoda, Enopl...</td>\n",
       "      <td>-1</td>\n",
       "      <td>1.687500</td>\n",
       "      <td>0.312500</td>\n",
       "      <td>3.069767</td>\n",
       "      <td>0.837209</td>\n",
       "      <td>...</td>\n",
       "      <td>1.500000</td>\n",
       "      <td>0.500000</td>\n",
       "      <td>1.142857</td>\n",
       "      <td>0.857143</td>\n",
       "      <td>1.111111</td>\n",
       "      <td>0.444444</td>\n",
       "      <td>1.777778</td>\n",
       "      <td>0.666667</td>\n",
       "      <td>0.0</td>\n",
       "      <td>1.0</td>\n",
       "    </tr>\n",
       "    <tr>\n",
       "      <th>2251</th>\n",
       "      <td>3</td>\n",
       "      <td>ND1</td>\n",
       "      <td>YP_009346457.1</td>\n",
       "      <td>Xiphinema pachtaicum</td>\n",
       "      <td>Eukaryota, Metazoa, Ecdysozoa, Nematoda, Enopl...</td>\n",
       "      <td>1</td>\n",
       "      <td>1.741935</td>\n",
       "      <td>0.258065</td>\n",
       "      <td>3.058824</td>\n",
       "      <td>1.411765</td>\n",
       "      <td>...</td>\n",
       "      <td>1.333333</td>\n",
       "      <td>0.666667</td>\n",
       "      <td>1.600000</td>\n",
       "      <td>0.400000</td>\n",
       "      <td>1.200000</td>\n",
       "      <td>0.600000</td>\n",
       "      <td>0.600000</td>\n",
       "      <td>1.600000</td>\n",
       "      <td>1.0</td>\n",
       "      <td>0.0</td>\n",
       "    </tr>\n",
       "    <tr>\n",
       "      <th>2252</th>\n",
       "      <td>4</td>\n",
       "      <td>ND4L</td>\n",
       "      <td>YP_009346459.1</td>\n",
       "      <td>Xiphinema pachtaicum</td>\n",
       "      <td>Eukaryota, Metazoa, Ecdysozoa, Nematoda, Enopl...</td>\n",
       "      <td>1</td>\n",
       "      <td>2.000000</td>\n",
       "      <td>0.000000</td>\n",
       "      <td>3.500000</td>\n",
       "      <td>2.000000</td>\n",
       "      <td>...</td>\n",
       "      <td>2.000000</td>\n",
       "      <td>0.000000</td>\n",
       "      <td>0.666667</td>\n",
       "      <td>1.333333</td>\n",
       "      <td>2.000000</td>\n",
       "      <td>2.000000</td>\n",
       "      <td>0.000000</td>\n",
       "      <td>0.000000</td>\n",
       "      <td>0.0</td>\n",
       "      <td>1.0</td>\n",
       "    </tr>\n",
       "    <tr>\n",
       "      <th>2253</th>\n",
       "      <td>5</td>\n",
       "      <td>ND3</td>\n",
       "      <td>YP_009346460.1</td>\n",
       "      <td>Xiphinema pachtaicum</td>\n",
       "      <td>Eukaryota, Metazoa, Ecdysozoa, Nematoda, Enopl...</td>\n",
       "      <td>1</td>\n",
       "      <td>2.000000</td>\n",
       "      <td>0.000000</td>\n",
       "      <td>1.800000</td>\n",
       "      <td>2.400000</td>\n",
       "      <td>...</td>\n",
       "      <td>0.000000</td>\n",
       "      <td>2.000000</td>\n",
       "      <td>1.200000</td>\n",
       "      <td>0.800000</td>\n",
       "      <td>0.000000</td>\n",
       "      <td>0.000000</td>\n",
       "      <td>2.000000</td>\n",
       "      <td>2.000000</td>\n",
       "      <td>1.0</td>\n",
       "      <td>0.0</td>\n",
       "    </tr>\n",
       "    <tr>\n",
       "      <th>2254</th>\n",
       "      <td>6</td>\n",
       "      <td>ND6</td>\n",
       "      <td>YP_009346462.1</td>\n",
       "      <td>Xiphinema pachtaicum</td>\n",
       "      <td>Eukaryota, Metazoa, Ecdysozoa, Nematoda, Enopl...</td>\n",
       "      <td>1</td>\n",
       "      <td>1.789474</td>\n",
       "      <td>0.210526</td>\n",
       "      <td>2.727273</td>\n",
       "      <td>1.363636</td>\n",
       "      <td>...</td>\n",
       "      <td>2.000000</td>\n",
       "      <td>0.000000</td>\n",
       "      <td>1.600000</td>\n",
       "      <td>0.400000</td>\n",
       "      <td>1.714286</td>\n",
       "      <td>0.000000</td>\n",
       "      <td>1.714286</td>\n",
       "      <td>0.571429</td>\n",
       "      <td>0.0</td>\n",
       "      <td>1.0</td>\n",
       "    </tr>\n",
       "  </tbody>\n",
       "</table>\n",
       "<p>2255 rows × 70 columns</p>\n",
       "</div>"
      ],
      "text/plain": [
       "     Unnamed: 0 GenName           GenID          OrganismName  \\\n",
       "0             0    COX1  YP_006576256.1   Thelazia callipaeda   \n",
       "1             1     ND6  YP_006576257.1   Thelazia callipaeda   \n",
       "2             2    CYTB  YP_006576258.1   Thelazia callipaeda   \n",
       "3             3    COX3  YP_006576259.1   Thelazia callipaeda   \n",
       "4             4    ND4L  YP_006576260.1   Thelazia callipaeda   \n",
       "...         ...     ...             ...                   ...   \n",
       "2250          2    COX3  YP_009346456.1  Xiphinema pachtaicum   \n",
       "2251          3     ND1  YP_009346457.1  Xiphinema pachtaicum   \n",
       "2252          4    ND4L  YP_009346459.1  Xiphinema pachtaicum   \n",
       "2253          5     ND3  YP_009346460.1  Xiphinema pachtaicum   \n",
       "2254          6     ND6  YP_009346462.1  Xiphinema pachtaicum   \n",
       "\n",
       "                                               Taxonomy Strand       TTT  \\\n",
       "0     Eukaryota, Metazoa, Ecdysozoa, Nematoda, Chrom...      1  1.963636   \n",
       "1     Eukaryota, Metazoa, Ecdysozoa, Nematoda, Chrom...      1  2.000000   \n",
       "2     Eukaryota, Metazoa, Ecdysozoa, Nematoda, Chrom...      1  1.932203   \n",
       "3     Eukaryota, Metazoa, Ecdysozoa, Nematoda, Chrom...      1  1.951220   \n",
       "4     Eukaryota, Metazoa, Ecdysozoa, Nematoda, Chrom...      1  1.937500   \n",
       "...                                                 ...    ...       ...   \n",
       "2250  Eukaryota, Metazoa, Ecdysozoa, Nematoda, Enopl...     -1  1.687500   \n",
       "2251  Eukaryota, Metazoa, Ecdysozoa, Nematoda, Enopl...      1  1.741935   \n",
       "2252  Eukaryota, Metazoa, Ecdysozoa, Nematoda, Enopl...      1  2.000000   \n",
       "2253  Eukaryota, Metazoa, Ecdysozoa, Nematoda, Enopl...      1  2.000000   \n",
       "2254  Eukaryota, Metazoa, Ecdysozoa, Nematoda, Enopl...      1  1.789474   \n",
       "\n",
       "           TTC       TTA       TTG  ...       GAT       GAC       GAA  \\\n",
       "0     0.036364  2.869565  2.521739  ...  1.866667  0.133333  0.666667   \n",
       "1     0.000000  3.000000  2.538462  ...  2.000000  0.000000  1.000000   \n",
       "2     0.067797  3.750000  1.714286  ...  1.777778  0.222222  1.200000   \n",
       "3     0.048780  3.951220  1.609756  ...  1.555556  0.444444  1.200000   \n",
       "4     0.062500  4.615385  0.923077  ...  0.000000  0.000000  1.000000   \n",
       "...        ...       ...       ...  ...       ...       ...       ...   \n",
       "2250  0.312500  3.069767  0.837209  ...  1.500000  0.500000  1.142857   \n",
       "2251  0.258065  3.058824  1.411765  ...  1.333333  0.666667  1.600000   \n",
       "2252  0.000000  3.500000  2.000000  ...  2.000000  0.000000  0.666667   \n",
       "2253  0.000000  1.800000  2.400000  ...  0.000000  2.000000  1.200000   \n",
       "2254  0.210526  2.727273  1.363636  ...  2.000000  0.000000  1.600000   \n",
       "\n",
       "           GAG       GGT       GGC       GGA       GGG  TAA  TAG  \n",
       "0     1.333333  2.666667  0.000000  0.470588  0.862745  1.0  0.0  \n",
       "1     1.000000  2.333333  0.000000  0.333333  1.333333  1.0  0.0  \n",
       "2     0.800000  2.444444  0.000000  0.444444  1.111111  1.0  0.0  \n",
       "3     0.800000  1.523810  0.190476  0.952381  1.333333  1.0  0.0  \n",
       "4     1.000000  0.000000  0.000000  2.000000  2.000000  1.0  0.0  \n",
       "...        ...       ...       ...       ...       ...  ...  ...  \n",
       "2250  0.857143  1.111111  0.444444  1.777778  0.666667  0.0  1.0  \n",
       "2251  0.400000  1.200000  0.600000  0.600000  1.600000  1.0  0.0  \n",
       "2252  1.333333  2.000000  2.000000  0.000000  0.000000  0.0  1.0  \n",
       "2253  0.800000  0.000000  0.000000  2.000000  2.000000  1.0  0.0  \n",
       "2254  0.400000  1.714286  0.000000  1.714286  0.571429  0.0  1.0  \n",
       "\n",
       "[2255 rows x 70 columns]"
      ]
     },
     "execution_count": 18,
     "metadata": {},
     "output_type": "execute_result"
    }
   ],
   "source": [
    "rscu = pd.DataFrame(columns = ['Unnamed: 0', 'GenName', 'GenID', 'OrganismName', 'Taxonomy', 'Strand', 'TTT','TTC','TTA','TTG','TCT','TCC','TCA','TCG','TAT','TAC','TGT','TGC','TGA','TGG','CTT','CTC','CTA','CTG','CCT','CCC','CCA','CCG','CAT','CAC','CAA','CAG','CGT','CGC','CGA','CGG','ATT','ATC','ATA','ATG','ACT','ACC','ACA','ACG','AAT','AAC','AAA','AAG','AGT','AGC','AGA','AGG','GTT','GTC','GTA','GTG','GCT','GCC','GCA','GCG','GAT','GAC','GAA','GAG','GGT','GGC','GGA','GGG','TAA','TAG'])\n",
    "direct_rscu = '/home/emulciber/MitoClub/devil-worm/Body/2Derived/codon_usage_rscu'\n",
    "dirname_rscu = os.listdir(direct_rscu)\n",
    "for file in dirname_rscu:\n",
    "    try:\n",
    "        df = pd.read_csv((os.path.join(direct_rscu, file)), sep='\\t')\n",
    "        rscu = rscu.append(df, ignore_index=True)\n",
    "    except:\n",
    "        pass\n",
    "rscu"
   ]
  },
  {
   "cell_type": "code",
   "execution_count": 19,
   "id": "40027742",
   "metadata": {},
   "outputs": [],
   "source": [
    "rscu = rscu.iloc[:, 1:]"
   ]
  },
  {
   "cell_type": "code",
   "execution_count": null,
   "id": "c81eb474",
   "metadata": {},
   "outputs": [],
   "source": [
    "# если хотим только strand == 1"
   ]
  },
  {
   "cell_type": "code",
   "execution_count": 20,
   "id": "83ab7dda",
   "metadata": {},
   "outputs": [],
   "source": [
    "rscu = rscu[rscu['Strand'] == 1]"
   ]
  },
  {
   "cell_type": "code",
   "execution_count": 21,
   "id": "f589e8e2",
   "metadata": {},
   "outputs": [],
   "source": [
    "rscu.to_csv('/home/emulciber/MitoClub/devil-worm/Body/2Derived/03b_CodonUsageDerived_RSCU.csv', sep=';', index=False)"
   ]
  },
  {
   "cell_type": "code",
   "execution_count": null,
   "id": "8f7cfcdb",
   "metadata": {},
   "outputs": [],
   "source": [
    "# Построение rscu plot"
   ]
  },
  {
   "cell_type": "code",
   "execution_count": 16,
   "id": "88a96861",
   "metadata": {},
   "outputs": [],
   "source": [
    "df_plot = pd.DataFrame(columns = ['Amino acids', 'Codon'])\n",
    "df_plot['Codon'] = ['TTT','TTC','TTA','TTG','TCT','TCC','TCA','TCG','TAT','TAC','TGT','TGC','TGA','TGG','CTT','CTC','CTA','CTG','CCT','CCC','CCA','CCG','CAT','CAC','CAA','CAG','CGT','CGC','CGA','CGG','ATT','ATC','ATA','ATG','ACT','ACC','ACA','ACG','AAT','AAC','AAA','AAG','AGT','AGC','AGA','AGG','GTT','GTC','GTA','GTG','GCT','GCC','GCA','GCG','GAT','GAC','GAA','GAG','GGT','GGC','GGA','GGG']\n",
    "df_plot['Amino acids'] = df_plot['Codon'].apply(lambda x: str(Seq(x).translate(table=5)))\n",
    "df_plot = df_plot.set_index('Codon')"
   ]
  },
  {
   "cell_type": "code",
   "execution_count": 17,
   "id": "cfc23980",
   "metadata": {},
   "outputs": [
    {
     "data": {
      "text/html": [
       "<div>\n",
       "<style scoped>\n",
       "    .dataframe tbody tr th:only-of-type {\n",
       "        vertical-align: middle;\n",
       "    }\n",
       "\n",
       "    .dataframe tbody tr th {\n",
       "        vertical-align: top;\n",
       "    }\n",
       "\n",
       "    .dataframe thead th {\n",
       "        text-align: right;\n",
       "    }\n",
       "</style>\n",
       "<table border=\"1\" class=\"dataframe\">\n",
       "  <thead>\n",
       "    <tr style=\"text-align: right;\">\n",
       "      <th></th>\n",
       "      <th>Codons</th>\n",
       "      <th>Amino acids</th>\n",
       "      <th>RSCU</th>\n",
       "    </tr>\n",
       "  </thead>\n",
       "  <tbody>\n",
       "    <tr>\n",
       "      <th>0</th>\n",
       "      <td>TTT</td>\n",
       "      <td>F</td>\n",
       "      <td>1.965915</td>\n",
       "    </tr>\n",
       "    <tr>\n",
       "      <th>1</th>\n",
       "      <td>TTC</td>\n",
       "      <td>F</td>\n",
       "      <td>0.034085</td>\n",
       "    </tr>\n",
       "    <tr>\n",
       "      <th>2</th>\n",
       "      <td>TTA</td>\n",
       "      <td>L</td>\n",
       "      <td>3.657143</td>\n",
       "    </tr>\n",
       "    <tr>\n",
       "      <th>3</th>\n",
       "      <td>TTG</td>\n",
       "      <td>L</td>\n",
       "      <td>1.420168</td>\n",
       "    </tr>\n",
       "    <tr>\n",
       "      <th>4</th>\n",
       "      <td>TCT</td>\n",
       "      <td>S</td>\n",
       "      <td>3.200000</td>\n",
       "    </tr>\n",
       "    <tr>\n",
       "      <th>...</th>\n",
       "      <td>...</td>\n",
       "      <td>...</td>\n",
       "      <td>...</td>\n",
       "    </tr>\n",
       "    <tr>\n",
       "      <th>57</th>\n",
       "      <td>GAG</td>\n",
       "      <td>E</td>\n",
       "      <td>0.348485</td>\n",
       "    </tr>\n",
       "    <tr>\n",
       "      <th>58</th>\n",
       "      <td>GGT</td>\n",
       "      <td>G</td>\n",
       "      <td>3.715686</td>\n",
       "    </tr>\n",
       "    <tr>\n",
       "      <th>59</th>\n",
       "      <td>GGC</td>\n",
       "      <td>G</td>\n",
       "      <td>0.105263</td>\n",
       "    </tr>\n",
       "    <tr>\n",
       "      <th>60</th>\n",
       "      <td>GGA</td>\n",
       "      <td>G</td>\n",
       "      <td>0.083333</td>\n",
       "    </tr>\n",
       "    <tr>\n",
       "      <th>61</th>\n",
       "      <td>GGG</td>\n",
       "      <td>G</td>\n",
       "      <td>0.000000</td>\n",
       "    </tr>\n",
       "  </tbody>\n",
       "</table>\n",
       "<p>62 rows × 3 columns</p>\n",
       "</div>"
      ],
      "text/plain": [
       "   Codons Amino acids      RSCU\n",
       "0     TTT           F  1.965915\n",
       "1     TTC           F  0.034085\n",
       "2     TTA           L  3.657143\n",
       "3     TTG           L  1.420168\n",
       "4     TCT           S  3.200000\n",
       "..    ...         ...       ...\n",
       "57    GAG           E  0.348485\n",
       "58    GGT           G  3.715686\n",
       "59    GGC           G  0.105263\n",
       "60    GGA           G  0.083333\n",
       "61    GGG           G  0.000000\n",
       "\n",
       "[62 rows x 3 columns]"
      ]
     },
     "execution_count": 17,
     "metadata": {},
     "output_type": "execute_result"
    }
   ],
   "source": [
    "mean_rscu = pd.DataFrame(rscu.loc[rscu['OrganismName'] == 'Halicephalobus mephisto', 'TTT':'GGG'].median(axis=0), columns = ['RSCU'])\n",
    "df_plot = pd.concat([df_plot, mean_rscu], axis=1).reset_index()\n",
    "df_plot.columns = ['Codons', 'Amino acids', 'RSCU']\n",
    "df_plot"
   ]
  },
  {
   "cell_type": "code",
   "execution_count": 18,
   "id": "63096264",
   "metadata": {},
   "outputs": [],
   "source": [
    "df_plot['Codon type'] = 'nnn'\n",
    "df_plot.loc[df_plot['Codons'].str[2] == 'T', 'Codon type'] = 'nnT'\n",
    "df_plot.loc[df_plot['Codons'].str[2] == 'A', 'Codon type'] = 'nnA'\n",
    "df_plot.loc[df_plot['Codons'].str[2] == 'G', 'Codon type'] = 'nnG'\n",
    "df_plot.loc[df_plot['Codons'].str[2] == 'C', 'Codon type'] = 'nnC'"
   ]
  },
  {
   "cell_type": "code",
   "execution_count": 11,
   "id": "2de7406e",
   "metadata": {},
   "outputs": [],
   "source": [
    "import plotly.express as px "
   ]
  },
  {
   "cell_type": "code",
   "execution_count": 20,
   "id": "edc60785",
   "metadata": {},
   "outputs": [
    {
     "data": {
      "application/vnd.plotly.v1+json": {
       "config": {
        "plotlyServerURL": "https://plot.ly"
       },
       "data": [
        {
         "alignmentgroup": "True",
         "hovertemplate": "Тип кодона=nnT<br>Аминокислоты=%{x}<br>RSCU=%{y}<extra></extra>",
         "legendgroup": "nnT",
         "marker": {
          "color": "red",
          "pattern": {
           "shape": ""
          }
         },
         "name": "nnT",
         "offsetgroup": "nnT",
         "orientation": "v",
         "showlegend": true,
         "textposition": "auto",
         "type": "bar",
         "x": [
          "F",
          "S",
          "Y",
          "C",
          "L",
          "P",
          "H",
          "R",
          "I",
          "T",
          "N",
          "S",
          "V",
          "A",
          "D",
          "G"
         ],
         "xaxis": "x",
         "y": [
          1.9659151905528716,
          3.2,
          2,
          2,
          0.6276923076923078,
          3.333333333333333,
          2,
          4,
          2,
          3.715686274509804,
          2,
          3.5573122529644268,
          3.344086021505376,
          3.7571428571428567,
          2,
          3.715686274509804
         ],
         "yaxis": "y"
        },
        {
         "alignmentgroup": "True",
         "hovertemplate": "Тип кодона=nnC<br>Аминокислоты=%{x}<br>RSCU=%{y}<extra></extra>",
         "legendgroup": "nnC",
         "marker": {
          "color": "yellow",
          "pattern": {
           "shape": ""
          }
         },
         "name": "nnC",
         "offsetgroup": "nnC",
         "orientation": "v",
         "showlegend": true,
         "textposition": "auto",
         "type": "bar",
         "x": [
          "F",
          "S",
          "Y",
          "C",
          "L",
          "P",
          "H",
          "R",
          "I",
          "T",
          "N",
          "S",
          "V",
          "A",
          "D",
          "G"
         ],
         "xaxis": "x",
         "y": [
          0.03408480944712825,
          0,
          0,
          0,
          0,
          0,
          0,
          0,
          0,
          0,
          0,
          0,
          0,
          0,
          0,
          0.1052631578947368
         ],
         "yaxis": "y"
        },
        {
         "alignmentgroup": "True",
         "hovertemplate": "Тип кодона=nnA<br>Аминокислоты=%{x}<br>RSCU=%{y}<extra></extra>",
         "legendgroup": "nnA",
         "marker": {
          "color": "blue",
          "pattern": {
           "shape": ""
          }
         },
         "name": "nnA",
         "offsetgroup": "nnA",
         "orientation": "v",
         "showlegend": true,
         "textposition": "auto",
         "type": "bar",
         "x": [
          "L",
          "S",
          "W",
          "L",
          "P",
          "Q",
          "R",
          "M",
          "T",
          "K",
          "S",
          "V",
          "A",
          "E",
          "G"
         ],
         "xaxis": "x",
         "y": [
          3.6571428571428566,
          0,
          1.6904761904761905,
          0.12505427702996091,
          0,
          1.657142857142857,
          0,
          1.4666666666666666,
          0.1866125760649087,
          1.8888888888888888,
          0.7973856209150327,
          0.595307917888563,
          0,
          1.5681818181818183,
          0.0833333333333333
         ],
         "yaxis": "y"
        },
        {
         "alignmentgroup": "True",
         "hovertemplate": "Тип кодона=nnG<br>Аминокислоты=%{x}<br>RSCU=%{y}<extra></extra>",
         "legendgroup": "nnG",
         "marker": {
          "color": "green",
          "pattern": {
           "shape": ""
          }
         },
         "name": "nnG",
         "offsetgroup": "nnG",
         "orientation": "v",
         "showlegend": true,
         "textposition": "auto",
         "type": "bar",
         "x": [
          "L",
          "S",
          "W",
          "L",
          "P",
          "Q",
          "R",
          "M",
          "T",
          "K",
          "S",
          "V",
          "A",
          "E",
          "G"
         ],
         "xaxis": "x",
         "y": [
          1.4201680672268908,
          0,
          0.30952380952380953,
          0,
          0,
          0.14285714285714285,
          0,
          0.5333333333333333,
          0,
          0.1111111111111111,
          0,
          0,
          0,
          0.34848484848484845,
          0
         ],
         "yaxis": "y"
        }
       ],
       "layout": {
        "barmode": "relative",
        "legend": {
         "title": {
          "text": "Тип кодона"
         },
         "tracegroupgap": 0
        },
        "template": {
         "data": {
          "bar": [
           {
            "error_x": {
             "color": "#2a3f5f"
            },
            "error_y": {
             "color": "#2a3f5f"
            },
            "marker": {
             "line": {
              "color": "#E5ECF6",
              "width": 0.5
             },
             "pattern": {
              "fillmode": "overlay",
              "size": 10,
              "solidity": 0.2
             }
            },
            "type": "bar"
           }
          ],
          "barpolar": [
           {
            "marker": {
             "line": {
              "color": "#E5ECF6",
              "width": 0.5
             },
             "pattern": {
              "fillmode": "overlay",
              "size": 10,
              "solidity": 0.2
             }
            },
            "type": "barpolar"
           }
          ],
          "carpet": [
           {
            "aaxis": {
             "endlinecolor": "#2a3f5f",
             "gridcolor": "white",
             "linecolor": "white",
             "minorgridcolor": "white",
             "startlinecolor": "#2a3f5f"
            },
            "baxis": {
             "endlinecolor": "#2a3f5f",
             "gridcolor": "white",
             "linecolor": "white",
             "minorgridcolor": "white",
             "startlinecolor": "#2a3f5f"
            },
            "type": "carpet"
           }
          ],
          "choropleth": [
           {
            "colorbar": {
             "outlinewidth": 0,
             "ticks": ""
            },
            "type": "choropleth"
           }
          ],
          "contour": [
           {
            "colorbar": {
             "outlinewidth": 0,
             "ticks": ""
            },
            "colorscale": [
             [
              0,
              "#0d0887"
             ],
             [
              0.1111111111111111,
              "#46039f"
             ],
             [
              0.2222222222222222,
              "#7201a8"
             ],
             [
              0.3333333333333333,
              "#9c179e"
             ],
             [
              0.4444444444444444,
              "#bd3786"
             ],
             [
              0.5555555555555556,
              "#d8576b"
             ],
             [
              0.6666666666666666,
              "#ed7953"
             ],
             [
              0.7777777777777778,
              "#fb9f3a"
             ],
             [
              0.8888888888888888,
              "#fdca26"
             ],
             [
              1,
              "#f0f921"
             ]
            ],
            "type": "contour"
           }
          ],
          "contourcarpet": [
           {
            "colorbar": {
             "outlinewidth": 0,
             "ticks": ""
            },
            "type": "contourcarpet"
           }
          ],
          "heatmap": [
           {
            "colorbar": {
             "outlinewidth": 0,
             "ticks": ""
            },
            "colorscale": [
             [
              0,
              "#0d0887"
             ],
             [
              0.1111111111111111,
              "#46039f"
             ],
             [
              0.2222222222222222,
              "#7201a8"
             ],
             [
              0.3333333333333333,
              "#9c179e"
             ],
             [
              0.4444444444444444,
              "#bd3786"
             ],
             [
              0.5555555555555556,
              "#d8576b"
             ],
             [
              0.6666666666666666,
              "#ed7953"
             ],
             [
              0.7777777777777778,
              "#fb9f3a"
             ],
             [
              0.8888888888888888,
              "#fdca26"
             ],
             [
              1,
              "#f0f921"
             ]
            ],
            "type": "heatmap"
           }
          ],
          "heatmapgl": [
           {
            "colorbar": {
             "outlinewidth": 0,
             "ticks": ""
            },
            "colorscale": [
             [
              0,
              "#0d0887"
             ],
             [
              0.1111111111111111,
              "#46039f"
             ],
             [
              0.2222222222222222,
              "#7201a8"
             ],
             [
              0.3333333333333333,
              "#9c179e"
             ],
             [
              0.4444444444444444,
              "#bd3786"
             ],
             [
              0.5555555555555556,
              "#d8576b"
             ],
             [
              0.6666666666666666,
              "#ed7953"
             ],
             [
              0.7777777777777778,
              "#fb9f3a"
             ],
             [
              0.8888888888888888,
              "#fdca26"
             ],
             [
              1,
              "#f0f921"
             ]
            ],
            "type": "heatmapgl"
           }
          ],
          "histogram": [
           {
            "marker": {
             "pattern": {
              "fillmode": "overlay",
              "size": 10,
              "solidity": 0.2
             }
            },
            "type": "histogram"
           }
          ],
          "histogram2d": [
           {
            "colorbar": {
             "outlinewidth": 0,
             "ticks": ""
            },
            "colorscale": [
             [
              0,
              "#0d0887"
             ],
             [
              0.1111111111111111,
              "#46039f"
             ],
             [
              0.2222222222222222,
              "#7201a8"
             ],
             [
              0.3333333333333333,
              "#9c179e"
             ],
             [
              0.4444444444444444,
              "#bd3786"
             ],
             [
              0.5555555555555556,
              "#d8576b"
             ],
             [
              0.6666666666666666,
              "#ed7953"
             ],
             [
              0.7777777777777778,
              "#fb9f3a"
             ],
             [
              0.8888888888888888,
              "#fdca26"
             ],
             [
              1,
              "#f0f921"
             ]
            ],
            "type": "histogram2d"
           }
          ],
          "histogram2dcontour": [
           {
            "colorbar": {
             "outlinewidth": 0,
             "ticks": ""
            },
            "colorscale": [
             [
              0,
              "#0d0887"
             ],
             [
              0.1111111111111111,
              "#46039f"
             ],
             [
              0.2222222222222222,
              "#7201a8"
             ],
             [
              0.3333333333333333,
              "#9c179e"
             ],
             [
              0.4444444444444444,
              "#bd3786"
             ],
             [
              0.5555555555555556,
              "#d8576b"
             ],
             [
              0.6666666666666666,
              "#ed7953"
             ],
             [
              0.7777777777777778,
              "#fb9f3a"
             ],
             [
              0.8888888888888888,
              "#fdca26"
             ],
             [
              1,
              "#f0f921"
             ]
            ],
            "type": "histogram2dcontour"
           }
          ],
          "mesh3d": [
           {
            "colorbar": {
             "outlinewidth": 0,
             "ticks": ""
            },
            "type": "mesh3d"
           }
          ],
          "parcoords": [
           {
            "line": {
             "colorbar": {
              "outlinewidth": 0,
              "ticks": ""
             }
            },
            "type": "parcoords"
           }
          ],
          "pie": [
           {
            "automargin": true,
            "type": "pie"
           }
          ],
          "scatter": [
           {
            "marker": {
             "colorbar": {
              "outlinewidth": 0,
              "ticks": ""
             }
            },
            "type": "scatter"
           }
          ],
          "scatter3d": [
           {
            "line": {
             "colorbar": {
              "outlinewidth": 0,
              "ticks": ""
             }
            },
            "marker": {
             "colorbar": {
              "outlinewidth": 0,
              "ticks": ""
             }
            },
            "type": "scatter3d"
           }
          ],
          "scattercarpet": [
           {
            "marker": {
             "colorbar": {
              "outlinewidth": 0,
              "ticks": ""
             }
            },
            "type": "scattercarpet"
           }
          ],
          "scattergeo": [
           {
            "marker": {
             "colorbar": {
              "outlinewidth": 0,
              "ticks": ""
             }
            },
            "type": "scattergeo"
           }
          ],
          "scattergl": [
           {
            "marker": {
             "colorbar": {
              "outlinewidth": 0,
              "ticks": ""
             }
            },
            "type": "scattergl"
           }
          ],
          "scattermapbox": [
           {
            "marker": {
             "colorbar": {
              "outlinewidth": 0,
              "ticks": ""
             }
            },
            "type": "scattermapbox"
           }
          ],
          "scatterpolar": [
           {
            "marker": {
             "colorbar": {
              "outlinewidth": 0,
              "ticks": ""
             }
            },
            "type": "scatterpolar"
           }
          ],
          "scatterpolargl": [
           {
            "marker": {
             "colorbar": {
              "outlinewidth": 0,
              "ticks": ""
             }
            },
            "type": "scatterpolargl"
           }
          ],
          "scatterternary": [
           {
            "marker": {
             "colorbar": {
              "outlinewidth": 0,
              "ticks": ""
             }
            },
            "type": "scatterternary"
           }
          ],
          "surface": [
           {
            "colorbar": {
             "outlinewidth": 0,
             "ticks": ""
            },
            "colorscale": [
             [
              0,
              "#0d0887"
             ],
             [
              0.1111111111111111,
              "#46039f"
             ],
             [
              0.2222222222222222,
              "#7201a8"
             ],
             [
              0.3333333333333333,
              "#9c179e"
             ],
             [
              0.4444444444444444,
              "#bd3786"
             ],
             [
              0.5555555555555556,
              "#d8576b"
             ],
             [
              0.6666666666666666,
              "#ed7953"
             ],
             [
              0.7777777777777778,
              "#fb9f3a"
             ],
             [
              0.8888888888888888,
              "#fdca26"
             ],
             [
              1,
              "#f0f921"
             ]
            ],
            "type": "surface"
           }
          ],
          "table": [
           {
            "cells": {
             "fill": {
              "color": "#EBF0F8"
             },
             "line": {
              "color": "white"
             }
            },
            "header": {
             "fill": {
              "color": "#C8D4E3"
             },
             "line": {
              "color": "white"
             }
            },
            "type": "table"
           }
          ]
         },
         "layout": {
          "annotationdefaults": {
           "arrowcolor": "#2a3f5f",
           "arrowhead": 0,
           "arrowwidth": 1
          },
          "autotypenumbers": "strict",
          "coloraxis": {
           "colorbar": {
            "outlinewidth": 0,
            "ticks": ""
           }
          },
          "colorscale": {
           "diverging": [
            [
             0,
             "#8e0152"
            ],
            [
             0.1,
             "#c51b7d"
            ],
            [
             0.2,
             "#de77ae"
            ],
            [
             0.3,
             "#f1b6da"
            ],
            [
             0.4,
             "#fde0ef"
            ],
            [
             0.5,
             "#f7f7f7"
            ],
            [
             0.6,
             "#e6f5d0"
            ],
            [
             0.7,
             "#b8e186"
            ],
            [
             0.8,
             "#7fbc41"
            ],
            [
             0.9,
             "#4d9221"
            ],
            [
             1,
             "#276419"
            ]
           ],
           "sequential": [
            [
             0,
             "#0d0887"
            ],
            [
             0.1111111111111111,
             "#46039f"
            ],
            [
             0.2222222222222222,
             "#7201a8"
            ],
            [
             0.3333333333333333,
             "#9c179e"
            ],
            [
             0.4444444444444444,
             "#bd3786"
            ],
            [
             0.5555555555555556,
             "#d8576b"
            ],
            [
             0.6666666666666666,
             "#ed7953"
            ],
            [
             0.7777777777777778,
             "#fb9f3a"
            ],
            [
             0.8888888888888888,
             "#fdca26"
            ],
            [
             1,
             "#f0f921"
            ]
           ],
           "sequentialminus": [
            [
             0,
             "#0d0887"
            ],
            [
             0.1111111111111111,
             "#46039f"
            ],
            [
             0.2222222222222222,
             "#7201a8"
            ],
            [
             0.3333333333333333,
             "#9c179e"
            ],
            [
             0.4444444444444444,
             "#bd3786"
            ],
            [
             0.5555555555555556,
             "#d8576b"
            ],
            [
             0.6666666666666666,
             "#ed7953"
            ],
            [
             0.7777777777777778,
             "#fb9f3a"
            ],
            [
             0.8888888888888888,
             "#fdca26"
            ],
            [
             1,
             "#f0f921"
            ]
           ]
          },
          "colorway": [
           "#636efa",
           "#EF553B",
           "#00cc96",
           "#ab63fa",
           "#FFA15A",
           "#19d3f3",
           "#FF6692",
           "#B6E880",
           "#FF97FF",
           "#FECB52"
          ],
          "font": {
           "color": "#2a3f5f"
          },
          "geo": {
           "bgcolor": "white",
           "lakecolor": "white",
           "landcolor": "#E5ECF6",
           "showlakes": true,
           "showland": true,
           "subunitcolor": "white"
          },
          "hoverlabel": {
           "align": "left"
          },
          "hovermode": "closest",
          "mapbox": {
           "style": "light"
          },
          "paper_bgcolor": "white",
          "plot_bgcolor": "#E5ECF6",
          "polar": {
           "angularaxis": {
            "gridcolor": "white",
            "linecolor": "white",
            "ticks": ""
           },
           "bgcolor": "#E5ECF6",
           "radialaxis": {
            "gridcolor": "white",
            "linecolor": "white",
            "ticks": ""
           }
          },
          "scene": {
           "xaxis": {
            "backgroundcolor": "#E5ECF6",
            "gridcolor": "white",
            "gridwidth": 2,
            "linecolor": "white",
            "showbackground": true,
            "ticks": "",
            "zerolinecolor": "white"
           },
           "yaxis": {
            "backgroundcolor": "#E5ECF6",
            "gridcolor": "white",
            "gridwidth": 2,
            "linecolor": "white",
            "showbackground": true,
            "ticks": "",
            "zerolinecolor": "white"
           },
           "zaxis": {
            "backgroundcolor": "#E5ECF6",
            "gridcolor": "white",
            "gridwidth": 2,
            "linecolor": "white",
            "showbackground": true,
            "ticks": "",
            "zerolinecolor": "white"
           }
          },
          "shapedefaults": {
           "line": {
            "color": "#2a3f5f"
           }
          },
          "ternary": {
           "aaxis": {
            "gridcolor": "white",
            "linecolor": "white",
            "ticks": ""
           },
           "baxis": {
            "gridcolor": "white",
            "linecolor": "white",
            "ticks": ""
           },
           "bgcolor": "#E5ECF6",
           "caxis": {
            "gridcolor": "white",
            "linecolor": "white",
            "ticks": ""
           }
          },
          "title": {
           "x": 0.05
          },
          "xaxis": {
           "automargin": true,
           "gridcolor": "white",
           "linecolor": "white",
           "ticks": "",
           "title": {
            "standoff": 15
           },
           "zerolinecolor": "white",
           "zerolinewidth": 2
          },
          "yaxis": {
           "automargin": true,
           "gridcolor": "white",
           "linecolor": "white",
           "ticks": "",
           "title": {
            "standoff": 15
           },
           "zerolinecolor": "white",
           "zerolinewidth": 2
          }
         }
        },
        "title": {
         "text": "Halicephalobus mephisto"
        },
        "xaxis": {
         "anchor": "y",
         "domain": [
          0,
          1
         ],
         "title": {
          "text": "Аминокислоты"
         }
        },
        "yaxis": {
         "anchor": "x",
         "domain": [
          0,
          1
         ],
         "title": {
          "text": "RSCU"
         }
        }
       }
      },
      "text/html": [
       "<div>                            <div id=\"74b98352-3f15-4027-a56f-8651a68af0e6\" class=\"plotly-graph-div\" style=\"height:525px; width:100%;\"></div>            <script type=\"text/javascript\">                require([\"plotly\"], function(Plotly) {                    window.PLOTLYENV=window.PLOTLYENV || {};                                    if (document.getElementById(\"74b98352-3f15-4027-a56f-8651a68af0e6\")) {                    Plotly.newPlot(                        \"74b98352-3f15-4027-a56f-8651a68af0e6\",                        [{\"alignmentgroup\":\"True\",\"hovertemplate\":\"\\u0422\\u0438\\u043f \\u043a\\u043e\\u0434\\u043e\\u043d\\u0430=nnT<br>\\u0410\\u043c\\u0438\\u043d\\u043e\\u043a\\u0438\\u0441\\u043b\\u043e\\u0442\\u044b=%{x}<br>RSCU=%{y}<extra></extra>\",\"legendgroup\":\"nnT\",\"marker\":{\"color\":\"red\",\"pattern\":{\"shape\":\"\"}},\"name\":\"nnT\",\"offsetgroup\":\"nnT\",\"orientation\":\"v\",\"showlegend\":true,\"textposition\":\"auto\",\"x\":[\"F\",\"S\",\"Y\",\"C\",\"L\",\"P\",\"H\",\"R\",\"I\",\"T\",\"N\",\"S\",\"V\",\"A\",\"D\",\"G\"],\"xaxis\":\"x\",\"y\":[1.9659151905528716,3.2,2.0,2.0,0.6276923076923078,3.333333333333333,2.0,4.0,2.0,3.715686274509804,2.0,3.5573122529644268,3.344086021505376,3.7571428571428567,2.0,3.715686274509804],\"yaxis\":\"y\",\"type\":\"bar\"},{\"alignmentgroup\":\"True\",\"hovertemplate\":\"\\u0422\\u0438\\u043f \\u043a\\u043e\\u0434\\u043e\\u043d\\u0430=nnC<br>\\u0410\\u043c\\u0438\\u043d\\u043e\\u043a\\u0438\\u0441\\u043b\\u043e\\u0442\\u044b=%{x}<br>RSCU=%{y}<extra></extra>\",\"legendgroup\":\"nnC\",\"marker\":{\"color\":\"yellow\",\"pattern\":{\"shape\":\"\"}},\"name\":\"nnC\",\"offsetgroup\":\"nnC\",\"orientation\":\"v\",\"showlegend\":true,\"textposition\":\"auto\",\"x\":[\"F\",\"S\",\"Y\",\"C\",\"L\",\"P\",\"H\",\"R\",\"I\",\"T\",\"N\",\"S\",\"V\",\"A\",\"D\",\"G\"],\"xaxis\":\"x\",\"y\":[0.03408480944712825,0.0,0.0,0.0,0.0,0.0,0.0,0.0,0.0,0.0,0.0,0.0,0.0,0.0,0.0,0.1052631578947368],\"yaxis\":\"y\",\"type\":\"bar\"},{\"alignmentgroup\":\"True\",\"hovertemplate\":\"\\u0422\\u0438\\u043f \\u043a\\u043e\\u0434\\u043e\\u043d\\u0430=nnA<br>\\u0410\\u043c\\u0438\\u043d\\u043e\\u043a\\u0438\\u0441\\u043b\\u043e\\u0442\\u044b=%{x}<br>RSCU=%{y}<extra></extra>\",\"legendgroup\":\"nnA\",\"marker\":{\"color\":\"blue\",\"pattern\":{\"shape\":\"\"}},\"name\":\"nnA\",\"offsetgroup\":\"nnA\",\"orientation\":\"v\",\"showlegend\":true,\"textposition\":\"auto\",\"x\":[\"L\",\"S\",\"W\",\"L\",\"P\",\"Q\",\"R\",\"M\",\"T\",\"K\",\"S\",\"V\",\"A\",\"E\",\"G\"],\"xaxis\":\"x\",\"y\":[3.6571428571428566,0.0,1.6904761904761905,0.12505427702996091,0.0,1.657142857142857,0.0,1.4666666666666666,0.1866125760649087,1.8888888888888888,0.7973856209150327,0.595307917888563,0.0,1.5681818181818183,0.0833333333333333],\"yaxis\":\"y\",\"type\":\"bar\"},{\"alignmentgroup\":\"True\",\"hovertemplate\":\"\\u0422\\u0438\\u043f \\u043a\\u043e\\u0434\\u043e\\u043d\\u0430=nnG<br>\\u0410\\u043c\\u0438\\u043d\\u043e\\u043a\\u0438\\u0441\\u043b\\u043e\\u0442\\u044b=%{x}<br>RSCU=%{y}<extra></extra>\",\"legendgroup\":\"nnG\",\"marker\":{\"color\":\"green\",\"pattern\":{\"shape\":\"\"}},\"name\":\"nnG\",\"offsetgroup\":\"nnG\",\"orientation\":\"v\",\"showlegend\":true,\"textposition\":\"auto\",\"x\":[\"L\",\"S\",\"W\",\"L\",\"P\",\"Q\",\"R\",\"M\",\"T\",\"K\",\"S\",\"V\",\"A\",\"E\",\"G\"],\"xaxis\":\"x\",\"y\":[1.4201680672268908,0.0,0.30952380952380953,0.0,0.0,0.14285714285714285,0.0,0.5333333333333333,0.0,0.1111111111111111,0.0,0.0,0.0,0.34848484848484845,0.0],\"yaxis\":\"y\",\"type\":\"bar\"}],                        {\"template\":{\"data\":{\"bar\":[{\"error_x\":{\"color\":\"#2a3f5f\"},\"error_y\":{\"color\":\"#2a3f5f\"},\"marker\":{\"line\":{\"color\":\"#E5ECF6\",\"width\":0.5},\"pattern\":{\"fillmode\":\"overlay\",\"size\":10,\"solidity\":0.2}},\"type\":\"bar\"}],\"barpolar\":[{\"marker\":{\"line\":{\"color\":\"#E5ECF6\",\"width\":0.5},\"pattern\":{\"fillmode\":\"overlay\",\"size\":10,\"solidity\":0.2}},\"type\":\"barpolar\"}],\"carpet\":[{\"aaxis\":{\"endlinecolor\":\"#2a3f5f\",\"gridcolor\":\"white\",\"linecolor\":\"white\",\"minorgridcolor\":\"white\",\"startlinecolor\":\"#2a3f5f\"},\"baxis\":{\"endlinecolor\":\"#2a3f5f\",\"gridcolor\":\"white\",\"linecolor\":\"white\",\"minorgridcolor\":\"white\",\"startlinecolor\":\"#2a3f5f\"},\"type\":\"carpet\"}],\"choropleth\":[{\"colorbar\":{\"outlinewidth\":0,\"ticks\":\"\"},\"type\":\"choropleth\"}],\"contour\":[{\"colorbar\":{\"outlinewidth\":0,\"ticks\":\"\"},\"colorscale\":[[0.0,\"#0d0887\"],[0.1111111111111111,\"#46039f\"],[0.2222222222222222,\"#7201a8\"],[0.3333333333333333,\"#9c179e\"],[0.4444444444444444,\"#bd3786\"],[0.5555555555555556,\"#d8576b\"],[0.6666666666666666,\"#ed7953\"],[0.7777777777777778,\"#fb9f3a\"],[0.8888888888888888,\"#fdca26\"],[1.0,\"#f0f921\"]],\"type\":\"contour\"}],\"contourcarpet\":[{\"colorbar\":{\"outlinewidth\":0,\"ticks\":\"\"},\"type\":\"contourcarpet\"}],\"heatmap\":[{\"colorbar\":{\"outlinewidth\":0,\"ticks\":\"\"},\"colorscale\":[[0.0,\"#0d0887\"],[0.1111111111111111,\"#46039f\"],[0.2222222222222222,\"#7201a8\"],[0.3333333333333333,\"#9c179e\"],[0.4444444444444444,\"#bd3786\"],[0.5555555555555556,\"#d8576b\"],[0.6666666666666666,\"#ed7953\"],[0.7777777777777778,\"#fb9f3a\"],[0.8888888888888888,\"#fdca26\"],[1.0,\"#f0f921\"]],\"type\":\"heatmap\"}],\"heatmapgl\":[{\"colorbar\":{\"outlinewidth\":0,\"ticks\":\"\"},\"colorscale\":[[0.0,\"#0d0887\"],[0.1111111111111111,\"#46039f\"],[0.2222222222222222,\"#7201a8\"],[0.3333333333333333,\"#9c179e\"],[0.4444444444444444,\"#bd3786\"],[0.5555555555555556,\"#d8576b\"],[0.6666666666666666,\"#ed7953\"],[0.7777777777777778,\"#fb9f3a\"],[0.8888888888888888,\"#fdca26\"],[1.0,\"#f0f921\"]],\"type\":\"heatmapgl\"}],\"histogram\":[{\"marker\":{\"pattern\":{\"fillmode\":\"overlay\",\"size\":10,\"solidity\":0.2}},\"type\":\"histogram\"}],\"histogram2d\":[{\"colorbar\":{\"outlinewidth\":0,\"ticks\":\"\"},\"colorscale\":[[0.0,\"#0d0887\"],[0.1111111111111111,\"#46039f\"],[0.2222222222222222,\"#7201a8\"],[0.3333333333333333,\"#9c179e\"],[0.4444444444444444,\"#bd3786\"],[0.5555555555555556,\"#d8576b\"],[0.6666666666666666,\"#ed7953\"],[0.7777777777777778,\"#fb9f3a\"],[0.8888888888888888,\"#fdca26\"],[1.0,\"#f0f921\"]],\"type\":\"histogram2d\"}],\"histogram2dcontour\":[{\"colorbar\":{\"outlinewidth\":0,\"ticks\":\"\"},\"colorscale\":[[0.0,\"#0d0887\"],[0.1111111111111111,\"#46039f\"],[0.2222222222222222,\"#7201a8\"],[0.3333333333333333,\"#9c179e\"],[0.4444444444444444,\"#bd3786\"],[0.5555555555555556,\"#d8576b\"],[0.6666666666666666,\"#ed7953\"],[0.7777777777777778,\"#fb9f3a\"],[0.8888888888888888,\"#fdca26\"],[1.0,\"#f0f921\"]],\"type\":\"histogram2dcontour\"}],\"mesh3d\":[{\"colorbar\":{\"outlinewidth\":0,\"ticks\":\"\"},\"type\":\"mesh3d\"}],\"parcoords\":[{\"line\":{\"colorbar\":{\"outlinewidth\":0,\"ticks\":\"\"}},\"type\":\"parcoords\"}],\"pie\":[{\"automargin\":true,\"type\":\"pie\"}],\"scatter\":[{\"marker\":{\"colorbar\":{\"outlinewidth\":0,\"ticks\":\"\"}},\"type\":\"scatter\"}],\"scatter3d\":[{\"line\":{\"colorbar\":{\"outlinewidth\":0,\"ticks\":\"\"}},\"marker\":{\"colorbar\":{\"outlinewidth\":0,\"ticks\":\"\"}},\"type\":\"scatter3d\"}],\"scattercarpet\":[{\"marker\":{\"colorbar\":{\"outlinewidth\":0,\"ticks\":\"\"}},\"type\":\"scattercarpet\"}],\"scattergeo\":[{\"marker\":{\"colorbar\":{\"outlinewidth\":0,\"ticks\":\"\"}},\"type\":\"scattergeo\"}],\"scattergl\":[{\"marker\":{\"colorbar\":{\"outlinewidth\":0,\"ticks\":\"\"}},\"type\":\"scattergl\"}],\"scattermapbox\":[{\"marker\":{\"colorbar\":{\"outlinewidth\":0,\"ticks\":\"\"}},\"type\":\"scattermapbox\"}],\"scatterpolar\":[{\"marker\":{\"colorbar\":{\"outlinewidth\":0,\"ticks\":\"\"}},\"type\":\"scatterpolar\"}],\"scatterpolargl\":[{\"marker\":{\"colorbar\":{\"outlinewidth\":0,\"ticks\":\"\"}},\"type\":\"scatterpolargl\"}],\"scatterternary\":[{\"marker\":{\"colorbar\":{\"outlinewidth\":0,\"ticks\":\"\"}},\"type\":\"scatterternary\"}],\"surface\":[{\"colorbar\":{\"outlinewidth\":0,\"ticks\":\"\"},\"colorscale\":[[0.0,\"#0d0887\"],[0.1111111111111111,\"#46039f\"],[0.2222222222222222,\"#7201a8\"],[0.3333333333333333,\"#9c179e\"],[0.4444444444444444,\"#bd3786\"],[0.5555555555555556,\"#d8576b\"],[0.6666666666666666,\"#ed7953\"],[0.7777777777777778,\"#fb9f3a\"],[0.8888888888888888,\"#fdca26\"],[1.0,\"#f0f921\"]],\"type\":\"surface\"}],\"table\":[{\"cells\":{\"fill\":{\"color\":\"#EBF0F8\"},\"line\":{\"color\":\"white\"}},\"header\":{\"fill\":{\"color\":\"#C8D4E3\"},\"line\":{\"color\":\"white\"}},\"type\":\"table\"}]},\"layout\":{\"annotationdefaults\":{\"arrowcolor\":\"#2a3f5f\",\"arrowhead\":0,\"arrowwidth\":1},\"autotypenumbers\":\"strict\",\"coloraxis\":{\"colorbar\":{\"outlinewidth\":0,\"ticks\":\"\"}},\"colorscale\":{\"diverging\":[[0,\"#8e0152\"],[0.1,\"#c51b7d\"],[0.2,\"#de77ae\"],[0.3,\"#f1b6da\"],[0.4,\"#fde0ef\"],[0.5,\"#f7f7f7\"],[0.6,\"#e6f5d0\"],[0.7,\"#b8e186\"],[0.8,\"#7fbc41\"],[0.9,\"#4d9221\"],[1,\"#276419\"]],\"sequential\":[[0.0,\"#0d0887\"],[0.1111111111111111,\"#46039f\"],[0.2222222222222222,\"#7201a8\"],[0.3333333333333333,\"#9c179e\"],[0.4444444444444444,\"#bd3786\"],[0.5555555555555556,\"#d8576b\"],[0.6666666666666666,\"#ed7953\"],[0.7777777777777778,\"#fb9f3a\"],[0.8888888888888888,\"#fdca26\"],[1.0,\"#f0f921\"]],\"sequentialminus\":[[0.0,\"#0d0887\"],[0.1111111111111111,\"#46039f\"],[0.2222222222222222,\"#7201a8\"],[0.3333333333333333,\"#9c179e\"],[0.4444444444444444,\"#bd3786\"],[0.5555555555555556,\"#d8576b\"],[0.6666666666666666,\"#ed7953\"],[0.7777777777777778,\"#fb9f3a\"],[0.8888888888888888,\"#fdca26\"],[1.0,\"#f0f921\"]]},\"colorway\":[\"#636efa\",\"#EF553B\",\"#00cc96\",\"#ab63fa\",\"#FFA15A\",\"#19d3f3\",\"#FF6692\",\"#B6E880\",\"#FF97FF\",\"#FECB52\"],\"font\":{\"color\":\"#2a3f5f\"},\"geo\":{\"bgcolor\":\"white\",\"lakecolor\":\"white\",\"landcolor\":\"#E5ECF6\",\"showlakes\":true,\"showland\":true,\"subunitcolor\":\"white\"},\"hoverlabel\":{\"align\":\"left\"},\"hovermode\":\"closest\",\"mapbox\":{\"style\":\"light\"},\"paper_bgcolor\":\"white\",\"plot_bgcolor\":\"#E5ECF6\",\"polar\":{\"angularaxis\":{\"gridcolor\":\"white\",\"linecolor\":\"white\",\"ticks\":\"\"},\"bgcolor\":\"#E5ECF6\",\"radialaxis\":{\"gridcolor\":\"white\",\"linecolor\":\"white\",\"ticks\":\"\"}},\"scene\":{\"xaxis\":{\"backgroundcolor\":\"#E5ECF6\",\"gridcolor\":\"white\",\"gridwidth\":2,\"linecolor\":\"white\",\"showbackground\":true,\"ticks\":\"\",\"zerolinecolor\":\"white\"},\"yaxis\":{\"backgroundcolor\":\"#E5ECF6\",\"gridcolor\":\"white\",\"gridwidth\":2,\"linecolor\":\"white\",\"showbackground\":true,\"ticks\":\"\",\"zerolinecolor\":\"white\"},\"zaxis\":{\"backgroundcolor\":\"#E5ECF6\",\"gridcolor\":\"white\",\"gridwidth\":2,\"linecolor\":\"white\",\"showbackground\":true,\"ticks\":\"\",\"zerolinecolor\":\"white\"}},\"shapedefaults\":{\"line\":{\"color\":\"#2a3f5f\"}},\"ternary\":{\"aaxis\":{\"gridcolor\":\"white\",\"linecolor\":\"white\",\"ticks\":\"\"},\"baxis\":{\"gridcolor\":\"white\",\"linecolor\":\"white\",\"ticks\":\"\"},\"bgcolor\":\"#E5ECF6\",\"caxis\":{\"gridcolor\":\"white\",\"linecolor\":\"white\",\"ticks\":\"\"}},\"title\":{\"x\":0.05},\"xaxis\":{\"automargin\":true,\"gridcolor\":\"white\",\"linecolor\":\"white\",\"ticks\":\"\",\"title\":{\"standoff\":15},\"zerolinecolor\":\"white\",\"zerolinewidth\":2},\"yaxis\":{\"automargin\":true,\"gridcolor\":\"white\",\"linecolor\":\"white\",\"ticks\":\"\",\"title\":{\"standoff\":15},\"zerolinecolor\":\"white\",\"zerolinewidth\":2}}},\"xaxis\":{\"anchor\":\"y\",\"domain\":[0.0,1.0],\"title\":{\"text\":\"\\u0410\\u043c\\u0438\\u043d\\u043e\\u043a\\u0438\\u0441\\u043b\\u043e\\u0442\\u044b\"}},\"yaxis\":{\"anchor\":\"x\",\"domain\":[0.0,1.0],\"title\":{\"text\":\"RSCU\"}},\"legend\":{\"title\":{\"text\":\"\\u0422\\u0438\\u043f \\u043a\\u043e\\u0434\\u043e\\u043d\\u0430\"},\"tracegroupgap\":0},\"title\":{\"text\":\"Halicephalobus mephisto\"},\"barmode\":\"relative\"},                        {\"responsive\": true}                    ).then(function(){\n",
       "                            \n",
       "var gd = document.getElementById('74b98352-3f15-4027-a56f-8651a68af0e6');\n",
       "var x = new MutationObserver(function (mutations, observer) {{\n",
       "        var display = window.getComputedStyle(gd).display;\n",
       "        if (!display || display === 'none') {{\n",
       "            console.log([gd, 'removed!']);\n",
       "            Plotly.purge(gd);\n",
       "            observer.disconnect();\n",
       "        }}\n",
       "}});\n",
       "\n",
       "// Listen for the removal of the full notebook cells\n",
       "var notebookContainer = gd.closest('#notebook-container');\n",
       "if (notebookContainer) {{\n",
       "    x.observe(notebookContainer, {childList: true});\n",
       "}}\n",
       "\n",
       "// Listen for the clearing of the current output cell\n",
       "var outputEl = gd.closest('.output');\n",
       "if (outputEl) {{\n",
       "    x.observe(outputEl, {childList: true});\n",
       "}}\n",
       "\n",
       "                        })                };                });            </script>        </div>"
      ]
     },
     "metadata": {},
     "output_type": "display_data"
    }
   ],
   "source": [
    "fig = px.bar(df_plot, x=\"Amino acids\", y='RSCU', color=\"Codon type\",\n",
    "              color_discrete_map={\n",
    "                'nnT': \"red\",\n",
    "                'nnC': \"yellow\",\n",
    "                'nnG': \"green\",\n",
    "                'nnA': \"blue\"}, \n",
    "                title='Halicephalobus mephisto',\n",
    "            labels = {'Amino acids': 'Аминокислоты', 'Codon type': 'Тип кодона'})\n",
    "fig.show()"
   ]
  },
  {
   "cell_type": "code",
   "execution_count": 72,
   "id": "58f6571a",
   "metadata": {
    "scrolled": false
   },
   "outputs": [
    {
     "data": {
      "application/vnd.plotly.v1+json": {
       "config": {
        "plotlyServerURL": "https://plot.ly"
       },
       "data": [
        {
         "alignmentgroup": "True",
         "hovertemplate": "Кодоны=TTT<br>Аминокислоты=%{x}<br>RSCU=%{y}<extra></extra>",
         "legendgroup": "TTT",
         "marker": {
          "color": "red",
          "pattern": {
           "shape": ""
          }
         },
         "name": "TTT",
         "offsetgroup": "TTT",
         "orientation": "v",
         "showlegend": true,
         "textposition": "auto",
         "type": "bar",
         "x": [
          "F"
         ],
         "xaxis": "x",
         "y": [
          1.8909090909090909
         ],
         "yaxis": "y"
        },
        {
         "alignmentgroup": "True",
         "hovertemplate": "Кодоны=TTC<br>Аминокислоты=%{x}<br>RSCU=%{y}<extra></extra>",
         "legendgroup": "TTC",
         "marker": {
          "color": "grey",
          "pattern": {
           "shape": ""
          }
         },
         "name": "TTC",
         "offsetgroup": "TTC",
         "orientation": "v",
         "showlegend": true,
         "textposition": "auto",
         "type": "bar",
         "x": [
          "F"
         ],
         "xaxis": "x",
         "y": [
          0.109090909090909
         ],
         "yaxis": "y"
        },
        {
         "alignmentgroup": "True",
         "hovertemplate": "Кодоны=TTA<br>Аминокислоты=%{x}<br>RSCU=%{y}<extra></extra>",
         "legendgroup": "TTA",
         "marker": {
          "color": "blue",
          "pattern": {
           "shape": ""
          }
         },
         "name": "TTA",
         "offsetgroup": "TTA",
         "orientation": "v",
         "showlegend": true,
         "textposition": "auto",
         "type": "bar",
         "x": [
          "L"
         ],
         "xaxis": "x",
         "y": [
          2.129032258064516
         ],
         "yaxis": "y"
        },
        {
         "alignmentgroup": "True",
         "hovertemplate": "Кодоны=TTG<br>Аминокислоты=%{x}<br>RSCU=%{y}<extra></extra>",
         "legendgroup": "TTG",
         "marker": {
          "color": "green",
          "pattern": {
           "shape": ""
          }
         },
         "name": "TTG",
         "offsetgroup": "TTG",
         "orientation": "v",
         "showlegend": true,
         "textposition": "auto",
         "type": "bar",
         "x": [
          "L"
         ],
         "xaxis": "x",
         "y": [
          1.6363636363636365
         ],
         "yaxis": "y"
        },
        {
         "alignmentgroup": "True",
         "hovertemplate": "Кодоны=TCT<br>Аминокислоты=%{x}<br>RSCU=%{y}<extra></extra>",
         "legendgroup": "TCT",
         "marker": {
          "color": "red",
          "pattern": {
           "shape": ""
          }
         },
         "name": "TCT",
         "offsetgroup": "TCT",
         "orientation": "v",
         "showlegend": true,
         "textposition": "auto",
         "type": "bar",
         "x": [
          "S"
         ],
         "xaxis": "x",
         "y": [
          3.076923076923077
         ],
         "yaxis": "y"
        },
        {
         "alignmentgroup": "True",
         "hovertemplate": "Кодоны=TCC<br>Аминокислоты=%{x}<br>RSCU=%{y}<extra></extra>",
         "legendgroup": "TCC",
         "marker": {
          "color": "grey",
          "pattern": {
           "shape": ""
          }
         },
         "name": "TCC",
         "offsetgroup": "TCC",
         "orientation": "v",
         "showlegend": true,
         "textposition": "auto",
         "type": "bar",
         "x": [
          "S"
         ],
         "xaxis": "x",
         "y": [
          0
         ],
         "yaxis": "y"
        },
        {
         "alignmentgroup": "True",
         "hovertemplate": "Кодоны=TCA<br>Аминокислоты=%{x}<br>RSCU=%{y}<extra></extra>",
         "legendgroup": "TCA",
         "marker": {
          "color": "blue",
          "pattern": {
           "shape": ""
          }
         },
         "name": "TCA",
         "offsetgroup": "TCA",
         "orientation": "v",
         "showlegend": true,
         "textposition": "auto",
         "type": "bar",
         "x": [
          "S"
         ],
         "xaxis": "x",
         "y": [
          0.1159420289855072
         ],
         "yaxis": "y"
        },
        {
         "alignmentgroup": "True",
         "hovertemplate": "Кодоны=TCG<br>Аминокислоты=%{x}<br>RSCU=%{y}<extra></extra>",
         "legendgroup": "TCG",
         "marker": {
          "color": "green",
          "pattern": {
           "shape": ""
          }
         },
         "name": "TCG",
         "offsetgroup": "TCG",
         "orientation": "v",
         "showlegend": true,
         "textposition": "auto",
         "type": "bar",
         "x": [
          "S"
         ],
         "xaxis": "x",
         "y": [
          0
         ],
         "yaxis": "y"
        },
        {
         "alignmentgroup": "True",
         "hovertemplate": "Кодоны=TAT<br>Аминокислоты=%{x}<br>RSCU=%{y}<extra></extra>",
         "legendgroup": "TAT",
         "marker": {
          "color": "red",
          "pattern": {
           "shape": ""
          }
         },
         "name": "TAT",
         "offsetgroup": "TAT",
         "orientation": "v",
         "showlegend": true,
         "textposition": "auto",
         "type": "bar",
         "x": [
          "Y"
         ],
         "xaxis": "x",
         "y": [
          2
         ],
         "yaxis": "y"
        },
        {
         "alignmentgroup": "True",
         "hovertemplate": "Кодоны=TAC<br>Аминокислоты=%{x}<br>RSCU=%{y}<extra></extra>",
         "legendgroup": "TAC",
         "marker": {
          "color": "grey",
          "pattern": {
           "shape": ""
          }
         },
         "name": "TAC",
         "offsetgroup": "TAC",
         "orientation": "v",
         "showlegend": true,
         "textposition": "auto",
         "type": "bar",
         "x": [
          "Y"
         ],
         "xaxis": "x",
         "y": [
          0
         ],
         "yaxis": "y"
        },
        {
         "alignmentgroup": "True",
         "hovertemplate": "Кодоны=TGT<br>Аминокислоты=%{x}<br>RSCU=%{y}<extra></extra>",
         "legendgroup": "TGT",
         "marker": {
          "color": "red",
          "pattern": {
           "shape": ""
          }
         },
         "name": "TGT",
         "offsetgroup": "TGT",
         "orientation": "v",
         "showlegend": true,
         "textposition": "auto",
         "type": "bar",
         "x": [
          "C"
         ],
         "xaxis": "x",
         "y": [
          2
         ],
         "yaxis": "y"
        },
        {
         "alignmentgroup": "True",
         "hovertemplate": "Кодоны=TGC<br>Аминокислоты=%{x}<br>RSCU=%{y}<extra></extra>",
         "legendgroup": "TGC",
         "marker": {
          "color": "grey",
          "pattern": {
           "shape": ""
          }
         },
         "name": "TGC",
         "offsetgroup": "TGC",
         "orientation": "v",
         "showlegend": true,
         "textposition": "auto",
         "type": "bar",
         "x": [
          "C"
         ],
         "xaxis": "x",
         "y": [
          0
         ],
         "yaxis": "y"
        },
        {
         "alignmentgroup": "True",
         "hovertemplate": "Кодоны=TGA<br>Аминокислоты=%{x}<br>RSCU=%{y}<extra></extra>",
         "legendgroup": "TGA",
         "marker": {
          "color": "blue",
          "pattern": {
           "shape": ""
          }
         },
         "name": "TGA",
         "offsetgroup": "TGA",
         "orientation": "v",
         "showlegend": true,
         "textposition": "auto",
         "type": "bar",
         "x": [
          "W"
         ],
         "xaxis": "x",
         "y": [
          0.75
         ],
         "yaxis": "y"
        },
        {
         "alignmentgroup": "True",
         "hovertemplate": "Кодоны=TGG<br>Аминокислоты=%{x}<br>RSCU=%{y}<extra></extra>",
         "legendgroup": "TGG",
         "marker": {
          "color": "green",
          "pattern": {
           "shape": ""
          }
         },
         "name": "TGG",
         "offsetgroup": "TGG",
         "orientation": "v",
         "showlegend": true,
         "textposition": "auto",
         "type": "bar",
         "x": [
          "W"
         ],
         "xaxis": "x",
         "y": [
          1.2
         ],
         "yaxis": "y"
        },
        {
         "alignmentgroup": "True",
         "hovertemplate": "Кодоны=CTT<br>Аминокислоты=%{x}<br>RSCU=%{y}<extra></extra>",
         "legendgroup": "CTT",
         "marker": {
          "color": "red",
          "pattern": {
           "shape": ""
          }
         },
         "name": "CTT",
         "offsetgroup": "CTT",
         "orientation": "v",
         "showlegend": true,
         "textposition": "auto",
         "type": "bar",
         "x": [
          "L"
         ],
         "xaxis": "x",
         "y": [
          1.935483870967742
         ],
         "yaxis": "y"
        },
        {
         "alignmentgroup": "True",
         "hovertemplate": "Кодоны=CTC<br>Аминокислоты=%{x}<br>RSCU=%{y}<extra></extra>",
         "legendgroup": "CTC",
         "marker": {
          "color": "grey",
          "pattern": {
           "shape": ""
          }
         },
         "name": "CTC",
         "offsetgroup": "CTC",
         "orientation": "v",
         "showlegend": true,
         "textposition": "auto",
         "type": "bar",
         "x": [
          "L"
         ],
         "xaxis": "x",
         "y": [
          0.064516129032258
         ],
         "yaxis": "y"
        },
        {
         "alignmentgroup": "True",
         "hovertemplate": "Кодоны=CTA<br>Аминокислоты=%{x}<br>RSCU=%{y}<extra></extra>",
         "legendgroup": "CTA",
         "marker": {
          "color": "blue",
          "pattern": {
           "shape": ""
          }
         },
         "name": "CTA",
         "offsetgroup": "CTA",
         "orientation": "v",
         "showlegend": true,
         "textposition": "auto",
         "type": "bar",
         "x": [
          "L"
         ],
         "xaxis": "x",
         "y": [
          0.2727272727272727
         ],
         "yaxis": "y"
        },
        {
         "alignmentgroup": "True",
         "hovertemplate": "Кодоны=CTG<br>Аминокислоты=%{x}<br>RSCU=%{y}<extra></extra>",
         "legendgroup": "CTG",
         "marker": {
          "color": "green",
          "pattern": {
           "shape": ""
          }
         },
         "name": "CTG",
         "offsetgroup": "CTG",
         "orientation": "v",
         "showlegend": true,
         "textposition": "auto",
         "type": "bar",
         "x": [
          "L"
         ],
         "xaxis": "x",
         "y": [
          0.0833333333333333
         ],
         "yaxis": "y"
        },
        {
         "alignmentgroup": "True",
         "hovertemplate": "Кодоны=CCT<br>Аминокислоты=%{x}<br>RSCU=%{y}<extra></extra>",
         "legendgroup": "CCT",
         "marker": {
          "color": "red",
          "pattern": {
           "shape": ""
          }
         },
         "name": "CCT",
         "offsetgroup": "CCT",
         "orientation": "v",
         "showlegend": true,
         "textposition": "auto",
         "type": "bar",
         "x": [
          "P"
         ],
         "xaxis": "x",
         "y": [
          3.2
         ],
         "yaxis": "y"
        },
        {
         "alignmentgroup": "True",
         "hovertemplate": "Кодоны=CCC<br>Аминокислоты=%{x}<br>RSCU=%{y}<extra></extra>",
         "legendgroup": "CCC",
         "marker": {
          "color": "grey",
          "pattern": {
           "shape": ""
          }
         },
         "name": "CCC",
         "offsetgroup": "CCC",
         "orientation": "v",
         "showlegend": true,
         "textposition": "auto",
         "type": "bar",
         "x": [
          "P"
         ],
         "xaxis": "x",
         "y": [
          0
         ],
         "yaxis": "y"
        },
        {
         "alignmentgroup": "True",
         "hovertemplate": "Кодоны=CCA<br>Аминокислоты=%{x}<br>RSCU=%{y}<extra></extra>",
         "legendgroup": "CCA",
         "marker": {
          "color": "blue",
          "pattern": {
           "shape": ""
          }
         },
         "name": "CCA",
         "offsetgroup": "CCA",
         "orientation": "v",
         "showlegend": true,
         "textposition": "auto",
         "type": "bar",
         "x": [
          "P"
         ],
         "xaxis": "x",
         "y": [
          0
         ],
         "yaxis": "y"
        },
        {
         "alignmentgroup": "True",
         "hovertemplate": "Кодоны=CCG<br>Аминокислоты=%{x}<br>RSCU=%{y}<extra></extra>",
         "legendgroup": "CCG",
         "marker": {
          "color": "green",
          "pattern": {
           "shape": ""
          }
         },
         "name": "CCG",
         "offsetgroup": "CCG",
         "orientation": "v",
         "showlegend": true,
         "textposition": "auto",
         "type": "bar",
         "x": [
          "P"
         ],
         "xaxis": "x",
         "y": [
          0
         ],
         "yaxis": "y"
        },
        {
         "alignmentgroup": "True",
         "hovertemplate": "Кодоны=CAT<br>Аминокислоты=%{x}<br>RSCU=%{y}<extra></extra>",
         "legendgroup": "CAT",
         "marker": {
          "color": "red",
          "pattern": {
           "shape": ""
          }
         },
         "name": "CAT",
         "offsetgroup": "CAT",
         "orientation": "v",
         "showlegend": true,
         "textposition": "auto",
         "type": "bar",
         "x": [
          "H"
         ],
         "xaxis": "x",
         "y": [
          2
         ],
         "yaxis": "y"
        },
        {
         "alignmentgroup": "True",
         "hovertemplate": "Кодоны=CAC<br>Аминокислоты=%{x}<br>RSCU=%{y}<extra></extra>",
         "legendgroup": "CAC",
         "marker": {
          "color": "grey",
          "pattern": {
           "shape": ""
          }
         },
         "name": "CAC",
         "offsetgroup": "CAC",
         "orientation": "v",
         "showlegend": true,
         "textposition": "auto",
         "type": "bar",
         "x": [
          "H"
         ],
         "xaxis": "x",
         "y": [
          0
         ],
         "yaxis": "y"
        },
        {
         "alignmentgroup": "True",
         "hovertemplate": "Кодоны=CAA<br>Аминокислоты=%{x}<br>RSCU=%{y}<extra></extra>",
         "legendgroup": "CAA",
         "marker": {
          "color": "blue",
          "pattern": {
           "shape": ""
          }
         },
         "name": "CAA",
         "offsetgroup": "CAA",
         "orientation": "v",
         "showlegend": true,
         "textposition": "auto",
         "type": "bar",
         "x": [
          "Q"
         ],
         "xaxis": "x",
         "y": [
          1
         ],
         "yaxis": "y"
        },
        {
         "alignmentgroup": "True",
         "hovertemplate": "Кодоны=CAG<br>Аминокислоты=%{x}<br>RSCU=%{y}<extra></extra>",
         "legendgroup": "CAG",
         "marker": {
          "color": "green",
          "pattern": {
           "shape": ""
          }
         },
         "name": "CAG",
         "offsetgroup": "CAG",
         "orientation": "v",
         "showlegend": true,
         "textposition": "auto",
         "type": "bar",
         "x": [
          "Q"
         ],
         "xaxis": "x",
         "y": [
          0.8571428571428571
         ],
         "yaxis": "y"
        },
        {
         "alignmentgroup": "True",
         "hovertemplate": "Кодоны=CGT<br>Аминокислоты=%{x}<br>RSCU=%{y}<extra></extra>",
         "legendgroup": "CGT",
         "marker": {
          "color": "red",
          "pattern": {
           "shape": ""
          }
         },
         "name": "CGT",
         "offsetgroup": "CGT",
         "orientation": "v",
         "showlegend": true,
         "textposition": "auto",
         "type": "bar",
         "x": [
          "R"
         ],
         "xaxis": "x",
         "y": [
          4
         ],
         "yaxis": "y"
        },
        {
         "alignmentgroup": "True",
         "hovertemplate": "Кодоны=CGC<br>Аминокислоты=%{x}<br>RSCU=%{y}<extra></extra>",
         "legendgroup": "CGC",
         "marker": {
          "color": "grey",
          "pattern": {
           "shape": ""
          }
         },
         "name": "CGC",
         "offsetgroup": "CGC",
         "orientation": "v",
         "showlegend": true,
         "textposition": "auto",
         "type": "bar",
         "x": [
          "R"
         ],
         "xaxis": "x",
         "y": [
          0
         ],
         "yaxis": "y"
        },
        {
         "alignmentgroup": "True",
         "hovertemplate": "Кодоны=CGA<br>Аминокислоты=%{x}<br>RSCU=%{y}<extra></extra>",
         "legendgroup": "CGA",
         "marker": {
          "color": "blue",
          "pattern": {
           "shape": ""
          }
         },
         "name": "CGA",
         "offsetgroup": "CGA",
         "orientation": "v",
         "showlegend": true,
         "textposition": "auto",
         "type": "bar",
         "x": [
          "R"
         ],
         "xaxis": "x",
         "y": [
          0
         ],
         "yaxis": "y"
        },
        {
         "alignmentgroup": "True",
         "hovertemplate": "Кодоны=CGG<br>Аминокислоты=%{x}<br>RSCU=%{y}<extra></extra>",
         "legendgroup": "CGG",
         "marker": {
          "color": "green",
          "pattern": {
           "shape": ""
          }
         },
         "name": "CGG",
         "offsetgroup": "CGG",
         "orientation": "v",
         "showlegend": true,
         "textposition": "auto",
         "type": "bar",
         "x": [
          "R"
         ],
         "xaxis": "x",
         "y": [
          0
         ],
         "yaxis": "y"
        },
        {
         "alignmentgroup": "True",
         "hovertemplate": "Кодоны=ATT<br>Аминокислоты=%{x}<br>RSCU=%{y}<extra></extra>",
         "legendgroup": "ATT",
         "marker": {
          "color": "red",
          "pattern": {
           "shape": ""
          }
         },
         "name": "ATT",
         "offsetgroup": "ATT",
         "orientation": "v",
         "showlegend": true,
         "textposition": "auto",
         "type": "bar",
         "x": [
          "I"
         ],
         "xaxis": "x",
         "y": [
          2
         ],
         "yaxis": "y"
        },
        {
         "alignmentgroup": "True",
         "hovertemplate": "Кодоны=ATC<br>Аминокислоты=%{x}<br>RSCU=%{y}<extra></extra>",
         "legendgroup": "ATC",
         "marker": {
          "color": "grey",
          "pattern": {
           "shape": ""
          }
         },
         "name": "ATC",
         "offsetgroup": "ATC",
         "orientation": "v",
         "showlegend": true,
         "textposition": "auto",
         "type": "bar",
         "x": [
          "I"
         ],
         "xaxis": "x",
         "y": [
          0
         ],
         "yaxis": "y"
        },
        {
         "alignmentgroup": "True",
         "hovertemplate": "Кодоны=ATA<br>Аминокислоты=%{x}<br>RSCU=%{y}<extra></extra>",
         "legendgroup": "ATA",
         "marker": {
          "color": "blue",
          "pattern": {
           "shape": ""
          }
         },
         "name": "ATA",
         "offsetgroup": "ATA",
         "orientation": "v",
         "showlegend": true,
         "textposition": "auto",
         "type": "bar",
         "x": [
          "M"
         ],
         "xaxis": "x",
         "y": [
          1.2
         ],
         "yaxis": "y"
        },
        {
         "alignmentgroup": "True",
         "hovertemplate": "Кодоны=ATG<br>Аминокислоты=%{x}<br>RSCU=%{y}<extra></extra>",
         "legendgroup": "ATG",
         "marker": {
          "color": "green",
          "pattern": {
           "shape": ""
          }
         },
         "name": "ATG",
         "offsetgroup": "ATG",
         "orientation": "v",
         "showlegend": true,
         "textposition": "auto",
         "type": "bar",
         "x": [
          "M"
         ],
         "xaxis": "x",
         "y": [
          0.8
         ],
         "yaxis": "y"
        },
        {
         "alignmentgroup": "True",
         "hovertemplate": "Кодоны=ACT<br>Аминокислоты=%{x}<br>RSCU=%{y}<extra></extra>",
         "legendgroup": "ACT",
         "marker": {
          "color": "red",
          "pattern": {
           "shape": ""
          }
         },
         "name": "ACT",
         "offsetgroup": "ACT",
         "orientation": "v",
         "showlegend": true,
         "textposition": "auto",
         "type": "bar",
         "x": [
          "T"
         ],
         "xaxis": "x",
         "y": [
          3.2
         ],
         "yaxis": "y"
        },
        {
         "alignmentgroup": "True",
         "hovertemplate": "Кодоны=ACC<br>Аминокислоты=%{x}<br>RSCU=%{y}<extra></extra>",
         "legendgroup": "ACC",
         "marker": {
          "color": "grey",
          "pattern": {
           "shape": ""
          }
         },
         "name": "ACC",
         "offsetgroup": "ACC",
         "orientation": "v",
         "showlegend": true,
         "textposition": "auto",
         "type": "bar",
         "x": [
          "T"
         ],
         "xaxis": "x",
         "y": [
          0
         ],
         "yaxis": "y"
        },
        {
         "alignmentgroup": "True",
         "hovertemplate": "Кодоны=ACA<br>Аминокислоты=%{x}<br>RSCU=%{y}<extra></extra>",
         "legendgroup": "ACA",
         "marker": {
          "color": "blue",
          "pattern": {
           "shape": ""
          }
         },
         "name": "ACA",
         "offsetgroup": "ACA",
         "orientation": "v",
         "showlegend": true,
         "textposition": "auto",
         "type": "bar",
         "x": [
          "T"
         ],
         "xaxis": "x",
         "y": [
          0.5405405405405406
         ],
         "yaxis": "y"
        },
        {
         "alignmentgroup": "True",
         "hovertemplate": "Кодоны=ACG<br>Аминокислоты=%{x}<br>RSCU=%{y}<extra></extra>",
         "legendgroup": "ACG",
         "marker": {
          "color": "green",
          "pattern": {
           "shape": ""
          }
         },
         "name": "ACG",
         "offsetgroup": "ACG",
         "orientation": "v",
         "showlegend": true,
         "textposition": "auto",
         "type": "bar",
         "x": [
          "T"
         ],
         "xaxis": "x",
         "y": [
          0
         ],
         "yaxis": "y"
        },
        {
         "alignmentgroup": "True",
         "hovertemplate": "Кодоны=AAT<br>Аминокислоты=%{x}<br>RSCU=%{y}<extra></extra>",
         "legendgroup": "AAT",
         "marker": {
          "color": "red",
          "pattern": {
           "shape": ""
          }
         },
         "name": "AAT",
         "offsetgroup": "AAT",
         "orientation": "v",
         "showlegend": true,
         "textposition": "auto",
         "type": "bar",
         "x": [
          "N"
         ],
         "xaxis": "x",
         "y": [
          2
         ],
         "yaxis": "y"
        },
        {
         "alignmentgroup": "True",
         "hovertemplate": "Кодоны=AAC<br>Аминокислоты=%{x}<br>RSCU=%{y}<extra></extra>",
         "legendgroup": "AAC",
         "marker": {
          "color": "grey",
          "pattern": {
           "shape": ""
          }
         },
         "name": "AAC",
         "offsetgroup": "AAC",
         "orientation": "v",
         "showlegend": true,
         "textposition": "auto",
         "type": "bar",
         "x": [
          "N"
         ],
         "xaxis": "x",
         "y": [
          0
         ],
         "yaxis": "y"
        },
        {
         "alignmentgroup": "True",
         "hovertemplate": "Кодоны=AAA<br>Аминокислоты=%{x}<br>RSCU=%{y}<extra></extra>",
         "legendgroup": "AAA",
         "marker": {
          "color": "blue",
          "pattern": {
           "shape": ""
          }
         },
         "name": "AAA",
         "offsetgroup": "AAA",
         "orientation": "v",
         "showlegend": true,
         "textposition": "auto",
         "type": "bar",
         "x": [
          "K"
         ],
         "xaxis": "x",
         "y": [
          0.9090909090909092
         ],
         "yaxis": "y"
        },
        {
         "alignmentgroup": "True",
         "hovertemplate": "Кодоны=AAG<br>Аминокислоты=%{x}<br>RSCU=%{y}<extra></extra>",
         "legendgroup": "AAG",
         "marker": {
          "color": "green",
          "pattern": {
           "shape": ""
          }
         },
         "name": "AAG",
         "offsetgroup": "AAG",
         "orientation": "v",
         "showlegend": true,
         "textposition": "auto",
         "type": "bar",
         "x": [
          "K"
         ],
         "xaxis": "x",
         "y": [
          1.0909090909090908
         ],
         "yaxis": "y"
        },
        {
         "alignmentgroup": "True",
         "hovertemplate": "Кодоны=AGT<br>Аминокислоты=%{x}<br>RSCU=%{y}<extra></extra>",
         "legendgroup": "AGT",
         "marker": {
          "color": "red",
          "pattern": {
           "shape": ""
          }
         },
         "name": "AGT",
         "offsetgroup": "AGT",
         "orientation": "v",
         "showlegend": true,
         "textposition": "auto",
         "type": "bar",
         "x": [
          "S"
         ],
         "xaxis": "x",
         "y": [
          2.4
         ],
         "yaxis": "y"
        },
        {
         "alignmentgroup": "True",
         "hovertemplate": "Кодоны=AGC<br>Аминокислоты=%{x}<br>RSCU=%{y}<extra></extra>",
         "legendgroup": "AGC",
         "marker": {
          "color": "grey",
          "pattern": {
           "shape": ""
          }
         },
         "name": "AGC",
         "offsetgroup": "AGC",
         "orientation": "v",
         "showlegend": true,
         "textposition": "auto",
         "type": "bar",
         "x": [
          "S"
         ],
         "xaxis": "x",
         "y": [
          0.2318840579710145
         ],
         "yaxis": "y"
        },
        {
         "alignmentgroup": "True",
         "hovertemplate": "Кодоны=AGA<br>Аминокислоты=%{x}<br>RSCU=%{y}<extra></extra>",
         "legendgroup": "AGA",
         "marker": {
          "color": "blue",
          "pattern": {
           "shape": ""
          }
         },
         "name": "AGA",
         "offsetgroup": "AGA",
         "orientation": "v",
         "showlegend": true,
         "textposition": "auto",
         "type": "bar",
         "x": [
          "S"
         ],
         "xaxis": "x",
         "y": [
          1.1594202898550725
         ],
         "yaxis": "y"
        },
        {
         "alignmentgroup": "True",
         "hovertemplate": "Кодоны=AGG<br>Аминокислоты=%{x}<br>RSCU=%{y}<extra></extra>",
         "legendgroup": "AGG",
         "marker": {
          "color": "green",
          "pattern": {
           "shape": ""
          }
         },
         "name": "AGG",
         "offsetgroup": "AGG",
         "orientation": "v",
         "showlegend": true,
         "textposition": "auto",
         "type": "bar",
         "x": [
          "S"
         ],
         "xaxis": "x",
         "y": [
          0.6956521739130435
         ],
         "yaxis": "y"
        },
        {
         "alignmentgroup": "True",
         "hovertemplate": "Кодоны=GTT<br>Аминокислоты=%{x}<br>RSCU=%{y}<extra></extra>",
         "legendgroup": "GTT",
         "marker": {
          "color": "red",
          "pattern": {
           "shape": ""
          }
         },
         "name": "GTT",
         "offsetgroup": "GTT",
         "orientation": "v",
         "showlegend": true,
         "textposition": "auto",
         "type": "bar",
         "x": [
          "V"
         ],
         "xaxis": "x",
         "y": [
          2.7142857142857144
         ],
         "yaxis": "y"
        },
        {
         "alignmentgroup": "True",
         "hovertemplate": "Кодоны=GTC<br>Аминокислоты=%{x}<br>RSCU=%{y}<extra></extra>",
         "legendgroup": "GTC",
         "marker": {
          "color": "grey",
          "pattern": {
           "shape": ""
          }
         },
         "name": "GTC",
         "offsetgroup": "GTC",
         "orientation": "v",
         "showlegend": true,
         "textposition": "auto",
         "type": "bar",
         "x": [
          "V"
         ],
         "xaxis": "x",
         "y": [
          0.0952380952380952
         ],
         "yaxis": "y"
        },
        {
         "alignmentgroup": "True",
         "hovertemplate": "Кодоны=GTA<br>Аминокислоты=%{x}<br>RSCU=%{y}<extra></extra>",
         "legendgroup": "GTA",
         "marker": {
          "color": "blue",
          "pattern": {
           "shape": ""
          }
         },
         "name": "GTA",
         "offsetgroup": "GTA",
         "orientation": "v",
         "showlegend": true,
         "textposition": "auto",
         "type": "bar",
         "x": [
          "V"
         ],
         "xaxis": "x",
         "y": [
          0.8571428571428571
         ],
         "yaxis": "y"
        },
        {
         "alignmentgroup": "True",
         "hovertemplate": "Кодоны=GTG<br>Аминокислоты=%{x}<br>RSCU=%{y}<extra></extra>",
         "legendgroup": "GTG",
         "marker": {
          "color": "green",
          "pattern": {
           "shape": ""
          }
         },
         "name": "GTG",
         "offsetgroup": "GTG",
         "orientation": "v",
         "showlegend": true,
         "textposition": "auto",
         "type": "bar",
         "x": [
          "V"
         ],
         "xaxis": "x",
         "y": [
          0.2857142857142857
         ],
         "yaxis": "y"
        },
        {
         "alignmentgroup": "True",
         "hovertemplate": "Кодоны=GCT<br>Аминокислоты=%{x}<br>RSCU=%{y}<extra></extra>",
         "legendgroup": "GCT",
         "marker": {
          "color": "red",
          "pattern": {
           "shape": ""
          }
         },
         "name": "GCT",
         "offsetgroup": "GCT",
         "orientation": "v",
         "showlegend": true,
         "textposition": "auto",
         "type": "bar",
         "x": [
          "A"
         ],
         "xaxis": "x",
         "y": [
          2.909090909090909
         ],
         "yaxis": "y"
        },
        {
         "alignmentgroup": "True",
         "hovertemplate": "Кодоны=GCC<br>Аминокислоты=%{x}<br>RSCU=%{y}<extra></extra>",
         "legendgroup": "GCC",
         "marker": {
          "color": "grey",
          "pattern": {
           "shape": ""
          }
         },
         "name": "GCC",
         "offsetgroup": "GCC",
         "orientation": "v",
         "showlegend": true,
         "textposition": "auto",
         "type": "bar",
         "x": [
          "A"
         ],
         "xaxis": "x",
         "y": [
          0
         ],
         "yaxis": "y"
        },
        {
         "alignmentgroup": "True",
         "hovertemplate": "Кодоны=GCA<br>Аминокислоты=%{x}<br>RSCU=%{y}<extra></extra>",
         "legendgroup": "GCA",
         "marker": {
          "color": "blue",
          "pattern": {
           "shape": ""
          }
         },
         "name": "GCA",
         "offsetgroup": "GCA",
         "orientation": "v",
         "showlegend": true,
         "textposition": "auto",
         "type": "bar",
         "x": [
          "A"
         ],
         "xaxis": "x",
         "y": [
          0.3636363636363636
         ],
         "yaxis": "y"
        },
        {
         "alignmentgroup": "True",
         "hovertemplate": "Кодоны=GCG<br>Аминокислоты=%{x}<br>RSCU=%{y}<extra></extra>",
         "legendgroup": "GCG",
         "marker": {
          "color": "green",
          "pattern": {
           "shape": ""
          }
         },
         "name": "GCG",
         "offsetgroup": "GCG",
         "orientation": "v",
         "showlegend": true,
         "textposition": "auto",
         "type": "bar",
         "x": [
          "A"
         ],
         "xaxis": "x",
         "y": [
          0
         ],
         "yaxis": "y"
        },
        {
         "alignmentgroup": "True",
         "hovertemplate": "Кодоны=GAT<br>Аминокислоты=%{x}<br>RSCU=%{y}<extra></extra>",
         "legendgroup": "GAT",
         "marker": {
          "color": "red",
          "pattern": {
           "shape": ""
          }
         },
         "name": "GAT",
         "offsetgroup": "GAT",
         "orientation": "v",
         "showlegend": true,
         "textposition": "auto",
         "type": "bar",
         "x": [
          "D"
         ],
         "xaxis": "x",
         "y": [
          1.7142857142857142
         ],
         "yaxis": "y"
        },
        {
         "alignmentgroup": "True",
         "hovertemplate": "Кодоны=GAC<br>Аминокислоты=%{x}<br>RSCU=%{y}<extra></extra>",
         "legendgroup": "GAC",
         "marker": {
          "color": "grey",
          "pattern": {
           "shape": ""
          }
         },
         "name": "GAC",
         "offsetgroup": "GAC",
         "orientation": "v",
         "showlegend": true,
         "textposition": "auto",
         "type": "bar",
         "x": [
          "D"
         ],
         "xaxis": "x",
         "y": [
          0.1538461538461538
         ],
         "yaxis": "y"
        },
        {
         "alignmentgroup": "True",
         "hovertemplate": "Кодоны=GAA<br>Аминокислоты=%{x}<br>RSCU=%{y}<extra></extra>",
         "legendgroup": "GAA",
         "marker": {
          "color": "blue",
          "pattern": {
           "shape": ""
          }
         },
         "name": "GAA",
         "offsetgroup": "GAA",
         "orientation": "v",
         "showlegend": true,
         "textposition": "auto",
         "type": "bar",
         "x": [
          "E"
         ],
         "xaxis": "x",
         "y": [
          0.8
         ],
         "yaxis": "y"
        },
        {
         "alignmentgroup": "True",
         "hovertemplate": "Кодоны=GAG<br>Аминокислоты=%{x}<br>RSCU=%{y}<extra></extra>",
         "legendgroup": "GAG",
         "marker": {
          "color": "green",
          "pattern": {
           "shape": ""
          }
         },
         "name": "GAG",
         "offsetgroup": "GAG",
         "orientation": "v",
         "showlegend": true,
         "textposition": "auto",
         "type": "bar",
         "x": [
          "E"
         ],
         "xaxis": "x",
         "y": [
          1.2
         ],
         "yaxis": "y"
        },
        {
         "alignmentgroup": "True",
         "hovertemplate": "Кодоны=GGT<br>Аминокислоты=%{x}<br>RSCU=%{y}<extra></extra>",
         "legendgroup": "GGT",
         "marker": {
          "color": "red",
          "pattern": {
           "shape": ""
          }
         },
         "name": "GGT",
         "offsetgroup": "GGT",
         "orientation": "v",
         "showlegend": true,
         "textposition": "auto",
         "type": "bar",
         "x": [
          "G"
         ],
         "xaxis": "x",
         "y": [
          2.6666666666666665
         ],
         "yaxis": "y"
        },
        {
         "alignmentgroup": "True",
         "hovertemplate": "Кодоны=GGC<br>Аминокислоты=%{x}<br>RSCU=%{y}<extra></extra>",
         "legendgroup": "GGC",
         "marker": {
          "color": "grey",
          "pattern": {
           "shape": ""
          }
         },
         "name": "GGC",
         "offsetgroup": "GGC",
         "orientation": "v",
         "showlegend": true,
         "textposition": "auto",
         "type": "bar",
         "x": [
          "G"
         ],
         "xaxis": "x",
         "y": [
          0.1025641025641025
         ],
         "yaxis": "y"
        },
        {
         "alignmentgroup": "True",
         "hovertemplate": "Кодоны=GGA<br>Аминокислоты=%{x}<br>RSCU=%{y}<extra></extra>",
         "legendgroup": "GGA",
         "marker": {
          "color": "blue",
          "pattern": {
           "shape": ""
          }
         },
         "name": "GGA",
         "offsetgroup": "GGA",
         "orientation": "v",
         "showlegend": true,
         "textposition": "auto",
         "type": "bar",
         "x": [
          "G"
         ],
         "xaxis": "x",
         "y": [
          0.7058823529411765
         ],
         "yaxis": "y"
        },
        {
         "alignmentgroup": "True",
         "hovertemplate": "Кодоны=GGG<br>Аминокислоты=%{x}<br>RSCU=%{y}<extra></extra>",
         "legendgroup": "GGG",
         "marker": {
          "color": "green",
          "pattern": {
           "shape": ""
          }
         },
         "name": "GGG",
         "offsetgroup": "GGG",
         "orientation": "v",
         "showlegend": true,
         "textposition": "auto",
         "type": "bar",
         "x": [
          "G"
         ],
         "xaxis": "x",
         "y": [
          0.48
         ],
         "yaxis": "y"
        }
       ],
       "layout": {
        "barmode": "relative",
        "legend": {
         "title": {
          "text": "Кодоны"
         },
         "tracegroupgap": 0
        },
        "margin": {
         "t": 60
        },
        "template": {
         "data": {
          "bar": [
           {
            "error_x": {
             "color": "#2a3f5f"
            },
            "error_y": {
             "color": "#2a3f5f"
            },
            "marker": {
             "line": {
              "color": "#E5ECF6",
              "width": 0.5
             },
             "pattern": {
              "fillmode": "overlay",
              "size": 10,
              "solidity": 0.2
             }
            },
            "type": "bar"
           }
          ],
          "barpolar": [
           {
            "marker": {
             "line": {
              "color": "#E5ECF6",
              "width": 0.5
             },
             "pattern": {
              "fillmode": "overlay",
              "size": 10,
              "solidity": 0.2
             }
            },
            "type": "barpolar"
           }
          ],
          "carpet": [
           {
            "aaxis": {
             "endlinecolor": "#2a3f5f",
             "gridcolor": "white",
             "linecolor": "white",
             "minorgridcolor": "white",
             "startlinecolor": "#2a3f5f"
            },
            "baxis": {
             "endlinecolor": "#2a3f5f",
             "gridcolor": "white",
             "linecolor": "white",
             "minorgridcolor": "white",
             "startlinecolor": "#2a3f5f"
            },
            "type": "carpet"
           }
          ],
          "choropleth": [
           {
            "colorbar": {
             "outlinewidth": 0,
             "ticks": ""
            },
            "type": "choropleth"
           }
          ],
          "contour": [
           {
            "colorbar": {
             "outlinewidth": 0,
             "ticks": ""
            },
            "colorscale": [
             [
              0,
              "#0d0887"
             ],
             [
              0.1111111111111111,
              "#46039f"
             ],
             [
              0.2222222222222222,
              "#7201a8"
             ],
             [
              0.3333333333333333,
              "#9c179e"
             ],
             [
              0.4444444444444444,
              "#bd3786"
             ],
             [
              0.5555555555555556,
              "#d8576b"
             ],
             [
              0.6666666666666666,
              "#ed7953"
             ],
             [
              0.7777777777777778,
              "#fb9f3a"
             ],
             [
              0.8888888888888888,
              "#fdca26"
             ],
             [
              1,
              "#f0f921"
             ]
            ],
            "type": "contour"
           }
          ],
          "contourcarpet": [
           {
            "colorbar": {
             "outlinewidth": 0,
             "ticks": ""
            },
            "type": "contourcarpet"
           }
          ],
          "heatmap": [
           {
            "colorbar": {
             "outlinewidth": 0,
             "ticks": ""
            },
            "colorscale": [
             [
              0,
              "#0d0887"
             ],
             [
              0.1111111111111111,
              "#46039f"
             ],
             [
              0.2222222222222222,
              "#7201a8"
             ],
             [
              0.3333333333333333,
              "#9c179e"
             ],
             [
              0.4444444444444444,
              "#bd3786"
             ],
             [
              0.5555555555555556,
              "#d8576b"
             ],
             [
              0.6666666666666666,
              "#ed7953"
             ],
             [
              0.7777777777777778,
              "#fb9f3a"
             ],
             [
              0.8888888888888888,
              "#fdca26"
             ],
             [
              1,
              "#f0f921"
             ]
            ],
            "type": "heatmap"
           }
          ],
          "heatmapgl": [
           {
            "colorbar": {
             "outlinewidth": 0,
             "ticks": ""
            },
            "colorscale": [
             [
              0,
              "#0d0887"
             ],
             [
              0.1111111111111111,
              "#46039f"
             ],
             [
              0.2222222222222222,
              "#7201a8"
             ],
             [
              0.3333333333333333,
              "#9c179e"
             ],
             [
              0.4444444444444444,
              "#bd3786"
             ],
             [
              0.5555555555555556,
              "#d8576b"
             ],
             [
              0.6666666666666666,
              "#ed7953"
             ],
             [
              0.7777777777777778,
              "#fb9f3a"
             ],
             [
              0.8888888888888888,
              "#fdca26"
             ],
             [
              1,
              "#f0f921"
             ]
            ],
            "type": "heatmapgl"
           }
          ],
          "histogram": [
           {
            "marker": {
             "pattern": {
              "fillmode": "overlay",
              "size": 10,
              "solidity": 0.2
             }
            },
            "type": "histogram"
           }
          ],
          "histogram2d": [
           {
            "colorbar": {
             "outlinewidth": 0,
             "ticks": ""
            },
            "colorscale": [
             [
              0,
              "#0d0887"
             ],
             [
              0.1111111111111111,
              "#46039f"
             ],
             [
              0.2222222222222222,
              "#7201a8"
             ],
             [
              0.3333333333333333,
              "#9c179e"
             ],
             [
              0.4444444444444444,
              "#bd3786"
             ],
             [
              0.5555555555555556,
              "#d8576b"
             ],
             [
              0.6666666666666666,
              "#ed7953"
             ],
             [
              0.7777777777777778,
              "#fb9f3a"
             ],
             [
              0.8888888888888888,
              "#fdca26"
             ],
             [
              1,
              "#f0f921"
             ]
            ],
            "type": "histogram2d"
           }
          ],
          "histogram2dcontour": [
           {
            "colorbar": {
             "outlinewidth": 0,
             "ticks": ""
            },
            "colorscale": [
             [
              0,
              "#0d0887"
             ],
             [
              0.1111111111111111,
              "#46039f"
             ],
             [
              0.2222222222222222,
              "#7201a8"
             ],
             [
              0.3333333333333333,
              "#9c179e"
             ],
             [
              0.4444444444444444,
              "#bd3786"
             ],
             [
              0.5555555555555556,
              "#d8576b"
             ],
             [
              0.6666666666666666,
              "#ed7953"
             ],
             [
              0.7777777777777778,
              "#fb9f3a"
             ],
             [
              0.8888888888888888,
              "#fdca26"
             ],
             [
              1,
              "#f0f921"
             ]
            ],
            "type": "histogram2dcontour"
           }
          ],
          "mesh3d": [
           {
            "colorbar": {
             "outlinewidth": 0,
             "ticks": ""
            },
            "type": "mesh3d"
           }
          ],
          "parcoords": [
           {
            "line": {
             "colorbar": {
              "outlinewidth": 0,
              "ticks": ""
             }
            },
            "type": "parcoords"
           }
          ],
          "pie": [
           {
            "automargin": true,
            "type": "pie"
           }
          ],
          "scatter": [
           {
            "marker": {
             "colorbar": {
              "outlinewidth": 0,
              "ticks": ""
             }
            },
            "type": "scatter"
           }
          ],
          "scatter3d": [
           {
            "line": {
             "colorbar": {
              "outlinewidth": 0,
              "ticks": ""
             }
            },
            "marker": {
             "colorbar": {
              "outlinewidth": 0,
              "ticks": ""
             }
            },
            "type": "scatter3d"
           }
          ],
          "scattercarpet": [
           {
            "marker": {
             "colorbar": {
              "outlinewidth": 0,
              "ticks": ""
             }
            },
            "type": "scattercarpet"
           }
          ],
          "scattergeo": [
           {
            "marker": {
             "colorbar": {
              "outlinewidth": 0,
              "ticks": ""
             }
            },
            "type": "scattergeo"
           }
          ],
          "scattergl": [
           {
            "marker": {
             "colorbar": {
              "outlinewidth": 0,
              "ticks": ""
             }
            },
            "type": "scattergl"
           }
          ],
          "scattermapbox": [
           {
            "marker": {
             "colorbar": {
              "outlinewidth": 0,
              "ticks": ""
             }
            },
            "type": "scattermapbox"
           }
          ],
          "scatterpolar": [
           {
            "marker": {
             "colorbar": {
              "outlinewidth": 0,
              "ticks": ""
             }
            },
            "type": "scatterpolar"
           }
          ],
          "scatterpolargl": [
           {
            "marker": {
             "colorbar": {
              "outlinewidth": 0,
              "ticks": ""
             }
            },
            "type": "scatterpolargl"
           }
          ],
          "scatterternary": [
           {
            "marker": {
             "colorbar": {
              "outlinewidth": 0,
              "ticks": ""
             }
            },
            "type": "scatterternary"
           }
          ],
          "surface": [
           {
            "colorbar": {
             "outlinewidth": 0,
             "ticks": ""
            },
            "colorscale": [
             [
              0,
              "#0d0887"
             ],
             [
              0.1111111111111111,
              "#46039f"
             ],
             [
              0.2222222222222222,
              "#7201a8"
             ],
             [
              0.3333333333333333,
              "#9c179e"
             ],
             [
              0.4444444444444444,
              "#bd3786"
             ],
             [
              0.5555555555555556,
              "#d8576b"
             ],
             [
              0.6666666666666666,
              "#ed7953"
             ],
             [
              0.7777777777777778,
              "#fb9f3a"
             ],
             [
              0.8888888888888888,
              "#fdca26"
             ],
             [
              1,
              "#f0f921"
             ]
            ],
            "type": "surface"
           }
          ],
          "table": [
           {
            "cells": {
             "fill": {
              "color": "#EBF0F8"
             },
             "line": {
              "color": "white"
             }
            },
            "header": {
             "fill": {
              "color": "#C8D4E3"
             },
             "line": {
              "color": "white"
             }
            },
            "type": "table"
           }
          ]
         },
         "layout": {
          "annotationdefaults": {
           "arrowcolor": "#2a3f5f",
           "arrowhead": 0,
           "arrowwidth": 1
          },
          "autotypenumbers": "strict",
          "coloraxis": {
           "colorbar": {
            "outlinewidth": 0,
            "ticks": ""
           }
          },
          "colorscale": {
           "diverging": [
            [
             0,
             "#8e0152"
            ],
            [
             0.1,
             "#c51b7d"
            ],
            [
             0.2,
             "#de77ae"
            ],
            [
             0.3,
             "#f1b6da"
            ],
            [
             0.4,
             "#fde0ef"
            ],
            [
             0.5,
             "#f7f7f7"
            ],
            [
             0.6,
             "#e6f5d0"
            ],
            [
             0.7,
             "#b8e186"
            ],
            [
             0.8,
             "#7fbc41"
            ],
            [
             0.9,
             "#4d9221"
            ],
            [
             1,
             "#276419"
            ]
           ],
           "sequential": [
            [
             0,
             "#0d0887"
            ],
            [
             0.1111111111111111,
             "#46039f"
            ],
            [
             0.2222222222222222,
             "#7201a8"
            ],
            [
             0.3333333333333333,
             "#9c179e"
            ],
            [
             0.4444444444444444,
             "#bd3786"
            ],
            [
             0.5555555555555556,
             "#d8576b"
            ],
            [
             0.6666666666666666,
             "#ed7953"
            ],
            [
             0.7777777777777778,
             "#fb9f3a"
            ],
            [
             0.8888888888888888,
             "#fdca26"
            ],
            [
             1,
             "#f0f921"
            ]
           ],
           "sequentialminus": [
            [
             0,
             "#0d0887"
            ],
            [
             0.1111111111111111,
             "#46039f"
            ],
            [
             0.2222222222222222,
             "#7201a8"
            ],
            [
             0.3333333333333333,
             "#9c179e"
            ],
            [
             0.4444444444444444,
             "#bd3786"
            ],
            [
             0.5555555555555556,
             "#d8576b"
            ],
            [
             0.6666666666666666,
             "#ed7953"
            ],
            [
             0.7777777777777778,
             "#fb9f3a"
            ],
            [
             0.8888888888888888,
             "#fdca26"
            ],
            [
             1,
             "#f0f921"
            ]
           ]
          },
          "colorway": [
           "#636efa",
           "#EF553B",
           "#00cc96",
           "#ab63fa",
           "#FFA15A",
           "#19d3f3",
           "#FF6692",
           "#B6E880",
           "#FF97FF",
           "#FECB52"
          ],
          "font": {
           "color": "#2a3f5f"
          },
          "geo": {
           "bgcolor": "white",
           "lakecolor": "white",
           "landcolor": "#E5ECF6",
           "showlakes": true,
           "showland": true,
           "subunitcolor": "white"
          },
          "hoverlabel": {
           "align": "left"
          },
          "hovermode": "closest",
          "mapbox": {
           "style": "light"
          },
          "paper_bgcolor": "white",
          "plot_bgcolor": "#E5ECF6",
          "polar": {
           "angularaxis": {
            "gridcolor": "white",
            "linecolor": "white",
            "ticks": ""
           },
           "bgcolor": "#E5ECF6",
           "radialaxis": {
            "gridcolor": "white",
            "linecolor": "white",
            "ticks": ""
           }
          },
          "scene": {
           "xaxis": {
            "backgroundcolor": "#E5ECF6",
            "gridcolor": "white",
            "gridwidth": 2,
            "linecolor": "white",
            "showbackground": true,
            "ticks": "",
            "zerolinecolor": "white"
           },
           "yaxis": {
            "backgroundcolor": "#E5ECF6",
            "gridcolor": "white",
            "gridwidth": 2,
            "linecolor": "white",
            "showbackground": true,
            "ticks": "",
            "zerolinecolor": "white"
           },
           "zaxis": {
            "backgroundcolor": "#E5ECF6",
            "gridcolor": "white",
            "gridwidth": 2,
            "linecolor": "white",
            "showbackground": true,
            "ticks": "",
            "zerolinecolor": "white"
           }
          },
          "shapedefaults": {
           "line": {
            "color": "#2a3f5f"
           }
          },
          "ternary": {
           "aaxis": {
            "gridcolor": "white",
            "linecolor": "white",
            "ticks": ""
           },
           "baxis": {
            "gridcolor": "white",
            "linecolor": "white",
            "ticks": ""
           },
           "bgcolor": "#E5ECF6",
           "caxis": {
            "gridcolor": "white",
            "linecolor": "white",
            "ticks": ""
           }
          },
          "title": {
           "x": 0.05
          },
          "xaxis": {
           "automargin": true,
           "gridcolor": "white",
           "linecolor": "white",
           "ticks": "",
           "title": {
            "standoff": 15
           },
           "zerolinecolor": "white",
           "zerolinewidth": 2
          },
          "yaxis": {
           "automargin": true,
           "gridcolor": "white",
           "linecolor": "white",
           "ticks": "",
           "title": {
            "standoff": 15
           },
           "zerolinecolor": "white",
           "zerolinewidth": 2
          }
         }
        },
        "xaxis": {
         "anchor": "y",
         "domain": [
          0,
          1
         ],
         "title": {
          "text": "Аминокислоты"
         }
        },
        "yaxis": {
         "anchor": "x",
         "domain": [
          0,
          1
         ],
         "title": {
          "text": "RSCU"
         }
        }
       }
      },
      "text/html": [
       "<div>                            <div id=\"091a5b5f-6045-41b0-89be-7e5aff1d940d\" class=\"plotly-graph-div\" style=\"height:525px; width:100%;\"></div>            <script type=\"text/javascript\">                require([\"plotly\"], function(Plotly) {                    window.PLOTLYENV=window.PLOTLYENV || {};                                    if (document.getElementById(\"091a5b5f-6045-41b0-89be-7e5aff1d940d\")) {                    Plotly.newPlot(                        \"091a5b5f-6045-41b0-89be-7e5aff1d940d\",                        [{\"alignmentgroup\":\"True\",\"hovertemplate\":\"\\u041a\\u043e\\u0434\\u043e\\u043d\\u044b=TTT<br>\\u0410\\u043c\\u0438\\u043d\\u043e\\u043a\\u0438\\u0441\\u043b\\u043e\\u0442\\u044b=%{x}<br>RSCU=%{y}<extra></extra>\",\"legendgroup\":\"TTT\",\"marker\":{\"color\":\"red\",\"pattern\":{\"shape\":\"\"}},\"name\":\"TTT\",\"offsetgroup\":\"TTT\",\"orientation\":\"v\",\"showlegend\":true,\"textposition\":\"auto\",\"x\":[\"F\"],\"xaxis\":\"x\",\"y\":[1.8909090909090909],\"yaxis\":\"y\",\"type\":\"bar\"},{\"alignmentgroup\":\"True\",\"hovertemplate\":\"\\u041a\\u043e\\u0434\\u043e\\u043d\\u044b=TTC<br>\\u0410\\u043c\\u0438\\u043d\\u043e\\u043a\\u0438\\u0441\\u043b\\u043e\\u0442\\u044b=%{x}<br>RSCU=%{y}<extra></extra>\",\"legendgroup\":\"TTC\",\"marker\":{\"color\":\"grey\",\"pattern\":{\"shape\":\"\"}},\"name\":\"TTC\",\"offsetgroup\":\"TTC\",\"orientation\":\"v\",\"showlegend\":true,\"textposition\":\"auto\",\"x\":[\"F\"],\"xaxis\":\"x\",\"y\":[0.109090909090909],\"yaxis\":\"y\",\"type\":\"bar\"},{\"alignmentgroup\":\"True\",\"hovertemplate\":\"\\u041a\\u043e\\u0434\\u043e\\u043d\\u044b=TTA<br>\\u0410\\u043c\\u0438\\u043d\\u043e\\u043a\\u0438\\u0441\\u043b\\u043e\\u0442\\u044b=%{x}<br>RSCU=%{y}<extra></extra>\",\"legendgroup\":\"TTA\",\"marker\":{\"color\":\"blue\",\"pattern\":{\"shape\":\"\"}},\"name\":\"TTA\",\"offsetgroup\":\"TTA\",\"orientation\":\"v\",\"showlegend\":true,\"textposition\":\"auto\",\"x\":[\"L\"],\"xaxis\":\"x\",\"y\":[2.129032258064516],\"yaxis\":\"y\",\"type\":\"bar\"},{\"alignmentgroup\":\"True\",\"hovertemplate\":\"\\u041a\\u043e\\u0434\\u043e\\u043d\\u044b=TTG<br>\\u0410\\u043c\\u0438\\u043d\\u043e\\u043a\\u0438\\u0441\\u043b\\u043e\\u0442\\u044b=%{x}<br>RSCU=%{y}<extra></extra>\",\"legendgroup\":\"TTG\",\"marker\":{\"color\":\"green\",\"pattern\":{\"shape\":\"\"}},\"name\":\"TTG\",\"offsetgroup\":\"TTG\",\"orientation\":\"v\",\"showlegend\":true,\"textposition\":\"auto\",\"x\":[\"L\"],\"xaxis\":\"x\",\"y\":[1.6363636363636365],\"yaxis\":\"y\",\"type\":\"bar\"},{\"alignmentgroup\":\"True\",\"hovertemplate\":\"\\u041a\\u043e\\u0434\\u043e\\u043d\\u044b=TCT<br>\\u0410\\u043c\\u0438\\u043d\\u043e\\u043a\\u0438\\u0441\\u043b\\u043e\\u0442\\u044b=%{x}<br>RSCU=%{y}<extra></extra>\",\"legendgroup\":\"TCT\",\"marker\":{\"color\":\"red\",\"pattern\":{\"shape\":\"\"}},\"name\":\"TCT\",\"offsetgroup\":\"TCT\",\"orientation\":\"v\",\"showlegend\":true,\"textposition\":\"auto\",\"x\":[\"S\"],\"xaxis\":\"x\",\"y\":[3.076923076923077],\"yaxis\":\"y\",\"type\":\"bar\"},{\"alignmentgroup\":\"True\",\"hovertemplate\":\"\\u041a\\u043e\\u0434\\u043e\\u043d\\u044b=TCC<br>\\u0410\\u043c\\u0438\\u043d\\u043e\\u043a\\u0438\\u0441\\u043b\\u043e\\u0442\\u044b=%{x}<br>RSCU=%{y}<extra></extra>\",\"legendgroup\":\"TCC\",\"marker\":{\"color\":\"grey\",\"pattern\":{\"shape\":\"\"}},\"name\":\"TCC\",\"offsetgroup\":\"TCC\",\"orientation\":\"v\",\"showlegend\":true,\"textposition\":\"auto\",\"x\":[\"S\"],\"xaxis\":\"x\",\"y\":[0.0],\"yaxis\":\"y\",\"type\":\"bar\"},{\"alignmentgroup\":\"True\",\"hovertemplate\":\"\\u041a\\u043e\\u0434\\u043e\\u043d\\u044b=TCA<br>\\u0410\\u043c\\u0438\\u043d\\u043e\\u043a\\u0438\\u0441\\u043b\\u043e\\u0442\\u044b=%{x}<br>RSCU=%{y}<extra></extra>\",\"legendgroup\":\"TCA\",\"marker\":{\"color\":\"blue\",\"pattern\":{\"shape\":\"\"}},\"name\":\"TCA\",\"offsetgroup\":\"TCA\",\"orientation\":\"v\",\"showlegend\":true,\"textposition\":\"auto\",\"x\":[\"S\"],\"xaxis\":\"x\",\"y\":[0.1159420289855072],\"yaxis\":\"y\",\"type\":\"bar\"},{\"alignmentgroup\":\"True\",\"hovertemplate\":\"\\u041a\\u043e\\u0434\\u043e\\u043d\\u044b=TCG<br>\\u0410\\u043c\\u0438\\u043d\\u043e\\u043a\\u0438\\u0441\\u043b\\u043e\\u0442\\u044b=%{x}<br>RSCU=%{y}<extra></extra>\",\"legendgroup\":\"TCG\",\"marker\":{\"color\":\"green\",\"pattern\":{\"shape\":\"\"}},\"name\":\"TCG\",\"offsetgroup\":\"TCG\",\"orientation\":\"v\",\"showlegend\":true,\"textposition\":\"auto\",\"x\":[\"S\"],\"xaxis\":\"x\",\"y\":[0.0],\"yaxis\":\"y\",\"type\":\"bar\"},{\"alignmentgroup\":\"True\",\"hovertemplate\":\"\\u041a\\u043e\\u0434\\u043e\\u043d\\u044b=TAT<br>\\u0410\\u043c\\u0438\\u043d\\u043e\\u043a\\u0438\\u0441\\u043b\\u043e\\u0442\\u044b=%{x}<br>RSCU=%{y}<extra></extra>\",\"legendgroup\":\"TAT\",\"marker\":{\"color\":\"red\",\"pattern\":{\"shape\":\"\"}},\"name\":\"TAT\",\"offsetgroup\":\"TAT\",\"orientation\":\"v\",\"showlegend\":true,\"textposition\":\"auto\",\"x\":[\"Y\"],\"xaxis\":\"x\",\"y\":[2.0],\"yaxis\":\"y\",\"type\":\"bar\"},{\"alignmentgroup\":\"True\",\"hovertemplate\":\"\\u041a\\u043e\\u0434\\u043e\\u043d\\u044b=TAC<br>\\u0410\\u043c\\u0438\\u043d\\u043e\\u043a\\u0438\\u0441\\u043b\\u043e\\u0442\\u044b=%{x}<br>RSCU=%{y}<extra></extra>\",\"legendgroup\":\"TAC\",\"marker\":{\"color\":\"grey\",\"pattern\":{\"shape\":\"\"}},\"name\":\"TAC\",\"offsetgroup\":\"TAC\",\"orientation\":\"v\",\"showlegend\":true,\"textposition\":\"auto\",\"x\":[\"Y\"],\"xaxis\":\"x\",\"y\":[0.0],\"yaxis\":\"y\",\"type\":\"bar\"},{\"alignmentgroup\":\"True\",\"hovertemplate\":\"\\u041a\\u043e\\u0434\\u043e\\u043d\\u044b=TGT<br>\\u0410\\u043c\\u0438\\u043d\\u043e\\u043a\\u0438\\u0441\\u043b\\u043e\\u0442\\u044b=%{x}<br>RSCU=%{y}<extra></extra>\",\"legendgroup\":\"TGT\",\"marker\":{\"color\":\"red\",\"pattern\":{\"shape\":\"\"}},\"name\":\"TGT\",\"offsetgroup\":\"TGT\",\"orientation\":\"v\",\"showlegend\":true,\"textposition\":\"auto\",\"x\":[\"C\"],\"xaxis\":\"x\",\"y\":[2.0],\"yaxis\":\"y\",\"type\":\"bar\"},{\"alignmentgroup\":\"True\",\"hovertemplate\":\"\\u041a\\u043e\\u0434\\u043e\\u043d\\u044b=TGC<br>\\u0410\\u043c\\u0438\\u043d\\u043e\\u043a\\u0438\\u0441\\u043b\\u043e\\u0442\\u044b=%{x}<br>RSCU=%{y}<extra></extra>\",\"legendgroup\":\"TGC\",\"marker\":{\"color\":\"grey\",\"pattern\":{\"shape\":\"\"}},\"name\":\"TGC\",\"offsetgroup\":\"TGC\",\"orientation\":\"v\",\"showlegend\":true,\"textposition\":\"auto\",\"x\":[\"C\"],\"xaxis\":\"x\",\"y\":[0.0],\"yaxis\":\"y\",\"type\":\"bar\"},{\"alignmentgroup\":\"True\",\"hovertemplate\":\"\\u041a\\u043e\\u0434\\u043e\\u043d\\u044b=TGA<br>\\u0410\\u043c\\u0438\\u043d\\u043e\\u043a\\u0438\\u0441\\u043b\\u043e\\u0442\\u044b=%{x}<br>RSCU=%{y}<extra></extra>\",\"legendgroup\":\"TGA\",\"marker\":{\"color\":\"blue\",\"pattern\":{\"shape\":\"\"}},\"name\":\"TGA\",\"offsetgroup\":\"TGA\",\"orientation\":\"v\",\"showlegend\":true,\"textposition\":\"auto\",\"x\":[\"W\"],\"xaxis\":\"x\",\"y\":[0.75],\"yaxis\":\"y\",\"type\":\"bar\"},{\"alignmentgroup\":\"True\",\"hovertemplate\":\"\\u041a\\u043e\\u0434\\u043e\\u043d\\u044b=TGG<br>\\u0410\\u043c\\u0438\\u043d\\u043e\\u043a\\u0438\\u0441\\u043b\\u043e\\u0442\\u044b=%{x}<br>RSCU=%{y}<extra></extra>\",\"legendgroup\":\"TGG\",\"marker\":{\"color\":\"green\",\"pattern\":{\"shape\":\"\"}},\"name\":\"TGG\",\"offsetgroup\":\"TGG\",\"orientation\":\"v\",\"showlegend\":true,\"textposition\":\"auto\",\"x\":[\"W\"],\"xaxis\":\"x\",\"y\":[1.2],\"yaxis\":\"y\",\"type\":\"bar\"},{\"alignmentgroup\":\"True\",\"hovertemplate\":\"\\u041a\\u043e\\u0434\\u043e\\u043d\\u044b=CTT<br>\\u0410\\u043c\\u0438\\u043d\\u043e\\u043a\\u0438\\u0441\\u043b\\u043e\\u0442\\u044b=%{x}<br>RSCU=%{y}<extra></extra>\",\"legendgroup\":\"CTT\",\"marker\":{\"color\":\"red\",\"pattern\":{\"shape\":\"\"}},\"name\":\"CTT\",\"offsetgroup\":\"CTT\",\"orientation\":\"v\",\"showlegend\":true,\"textposition\":\"auto\",\"x\":[\"L\"],\"xaxis\":\"x\",\"y\":[1.935483870967742],\"yaxis\":\"y\",\"type\":\"bar\"},{\"alignmentgroup\":\"True\",\"hovertemplate\":\"\\u041a\\u043e\\u0434\\u043e\\u043d\\u044b=CTC<br>\\u0410\\u043c\\u0438\\u043d\\u043e\\u043a\\u0438\\u0441\\u043b\\u043e\\u0442\\u044b=%{x}<br>RSCU=%{y}<extra></extra>\",\"legendgroup\":\"CTC\",\"marker\":{\"color\":\"grey\",\"pattern\":{\"shape\":\"\"}},\"name\":\"CTC\",\"offsetgroup\":\"CTC\",\"orientation\":\"v\",\"showlegend\":true,\"textposition\":\"auto\",\"x\":[\"L\"],\"xaxis\":\"x\",\"y\":[0.064516129032258],\"yaxis\":\"y\",\"type\":\"bar\"},{\"alignmentgroup\":\"True\",\"hovertemplate\":\"\\u041a\\u043e\\u0434\\u043e\\u043d\\u044b=CTA<br>\\u0410\\u043c\\u0438\\u043d\\u043e\\u043a\\u0438\\u0441\\u043b\\u043e\\u0442\\u044b=%{x}<br>RSCU=%{y}<extra></extra>\",\"legendgroup\":\"CTA\",\"marker\":{\"color\":\"blue\",\"pattern\":{\"shape\":\"\"}},\"name\":\"CTA\",\"offsetgroup\":\"CTA\",\"orientation\":\"v\",\"showlegend\":true,\"textposition\":\"auto\",\"x\":[\"L\"],\"xaxis\":\"x\",\"y\":[0.2727272727272727],\"yaxis\":\"y\",\"type\":\"bar\"},{\"alignmentgroup\":\"True\",\"hovertemplate\":\"\\u041a\\u043e\\u0434\\u043e\\u043d\\u044b=CTG<br>\\u0410\\u043c\\u0438\\u043d\\u043e\\u043a\\u0438\\u0441\\u043b\\u043e\\u0442\\u044b=%{x}<br>RSCU=%{y}<extra></extra>\",\"legendgroup\":\"CTG\",\"marker\":{\"color\":\"green\",\"pattern\":{\"shape\":\"\"}},\"name\":\"CTG\",\"offsetgroup\":\"CTG\",\"orientation\":\"v\",\"showlegend\":true,\"textposition\":\"auto\",\"x\":[\"L\"],\"xaxis\":\"x\",\"y\":[0.0833333333333333],\"yaxis\":\"y\",\"type\":\"bar\"},{\"alignmentgroup\":\"True\",\"hovertemplate\":\"\\u041a\\u043e\\u0434\\u043e\\u043d\\u044b=CCT<br>\\u0410\\u043c\\u0438\\u043d\\u043e\\u043a\\u0438\\u0441\\u043b\\u043e\\u0442\\u044b=%{x}<br>RSCU=%{y}<extra></extra>\",\"legendgroup\":\"CCT\",\"marker\":{\"color\":\"red\",\"pattern\":{\"shape\":\"\"}},\"name\":\"CCT\",\"offsetgroup\":\"CCT\",\"orientation\":\"v\",\"showlegend\":true,\"textposition\":\"auto\",\"x\":[\"P\"],\"xaxis\":\"x\",\"y\":[3.2],\"yaxis\":\"y\",\"type\":\"bar\"},{\"alignmentgroup\":\"True\",\"hovertemplate\":\"\\u041a\\u043e\\u0434\\u043e\\u043d\\u044b=CCC<br>\\u0410\\u043c\\u0438\\u043d\\u043e\\u043a\\u0438\\u0441\\u043b\\u043e\\u0442\\u044b=%{x}<br>RSCU=%{y}<extra></extra>\",\"legendgroup\":\"CCC\",\"marker\":{\"color\":\"grey\",\"pattern\":{\"shape\":\"\"}},\"name\":\"CCC\",\"offsetgroup\":\"CCC\",\"orientation\":\"v\",\"showlegend\":true,\"textposition\":\"auto\",\"x\":[\"P\"],\"xaxis\":\"x\",\"y\":[0.0],\"yaxis\":\"y\",\"type\":\"bar\"},{\"alignmentgroup\":\"True\",\"hovertemplate\":\"\\u041a\\u043e\\u0434\\u043e\\u043d\\u044b=CCA<br>\\u0410\\u043c\\u0438\\u043d\\u043e\\u043a\\u0438\\u0441\\u043b\\u043e\\u0442\\u044b=%{x}<br>RSCU=%{y}<extra></extra>\",\"legendgroup\":\"CCA\",\"marker\":{\"color\":\"blue\",\"pattern\":{\"shape\":\"\"}},\"name\":\"CCA\",\"offsetgroup\":\"CCA\",\"orientation\":\"v\",\"showlegend\":true,\"textposition\":\"auto\",\"x\":[\"P\"],\"xaxis\":\"x\",\"y\":[0.0],\"yaxis\":\"y\",\"type\":\"bar\"},{\"alignmentgroup\":\"True\",\"hovertemplate\":\"\\u041a\\u043e\\u0434\\u043e\\u043d\\u044b=CCG<br>\\u0410\\u043c\\u0438\\u043d\\u043e\\u043a\\u0438\\u0441\\u043b\\u043e\\u0442\\u044b=%{x}<br>RSCU=%{y}<extra></extra>\",\"legendgroup\":\"CCG\",\"marker\":{\"color\":\"green\",\"pattern\":{\"shape\":\"\"}},\"name\":\"CCG\",\"offsetgroup\":\"CCG\",\"orientation\":\"v\",\"showlegend\":true,\"textposition\":\"auto\",\"x\":[\"P\"],\"xaxis\":\"x\",\"y\":[0.0],\"yaxis\":\"y\",\"type\":\"bar\"},{\"alignmentgroup\":\"True\",\"hovertemplate\":\"\\u041a\\u043e\\u0434\\u043e\\u043d\\u044b=CAT<br>\\u0410\\u043c\\u0438\\u043d\\u043e\\u043a\\u0438\\u0441\\u043b\\u043e\\u0442\\u044b=%{x}<br>RSCU=%{y}<extra></extra>\",\"legendgroup\":\"CAT\",\"marker\":{\"color\":\"red\",\"pattern\":{\"shape\":\"\"}},\"name\":\"CAT\",\"offsetgroup\":\"CAT\",\"orientation\":\"v\",\"showlegend\":true,\"textposition\":\"auto\",\"x\":[\"H\"],\"xaxis\":\"x\",\"y\":[2.0],\"yaxis\":\"y\",\"type\":\"bar\"},{\"alignmentgroup\":\"True\",\"hovertemplate\":\"\\u041a\\u043e\\u0434\\u043e\\u043d\\u044b=CAC<br>\\u0410\\u043c\\u0438\\u043d\\u043e\\u043a\\u0438\\u0441\\u043b\\u043e\\u0442\\u044b=%{x}<br>RSCU=%{y}<extra></extra>\",\"legendgroup\":\"CAC\",\"marker\":{\"color\":\"grey\",\"pattern\":{\"shape\":\"\"}},\"name\":\"CAC\",\"offsetgroup\":\"CAC\",\"orientation\":\"v\",\"showlegend\":true,\"textposition\":\"auto\",\"x\":[\"H\"],\"xaxis\":\"x\",\"y\":[0.0],\"yaxis\":\"y\",\"type\":\"bar\"},{\"alignmentgroup\":\"True\",\"hovertemplate\":\"\\u041a\\u043e\\u0434\\u043e\\u043d\\u044b=CAA<br>\\u0410\\u043c\\u0438\\u043d\\u043e\\u043a\\u0438\\u0441\\u043b\\u043e\\u0442\\u044b=%{x}<br>RSCU=%{y}<extra></extra>\",\"legendgroup\":\"CAA\",\"marker\":{\"color\":\"blue\",\"pattern\":{\"shape\":\"\"}},\"name\":\"CAA\",\"offsetgroup\":\"CAA\",\"orientation\":\"v\",\"showlegend\":true,\"textposition\":\"auto\",\"x\":[\"Q\"],\"xaxis\":\"x\",\"y\":[1.0],\"yaxis\":\"y\",\"type\":\"bar\"},{\"alignmentgroup\":\"True\",\"hovertemplate\":\"\\u041a\\u043e\\u0434\\u043e\\u043d\\u044b=CAG<br>\\u0410\\u043c\\u0438\\u043d\\u043e\\u043a\\u0438\\u0441\\u043b\\u043e\\u0442\\u044b=%{x}<br>RSCU=%{y}<extra></extra>\",\"legendgroup\":\"CAG\",\"marker\":{\"color\":\"green\",\"pattern\":{\"shape\":\"\"}},\"name\":\"CAG\",\"offsetgroup\":\"CAG\",\"orientation\":\"v\",\"showlegend\":true,\"textposition\":\"auto\",\"x\":[\"Q\"],\"xaxis\":\"x\",\"y\":[0.8571428571428571],\"yaxis\":\"y\",\"type\":\"bar\"},{\"alignmentgroup\":\"True\",\"hovertemplate\":\"\\u041a\\u043e\\u0434\\u043e\\u043d\\u044b=CGT<br>\\u0410\\u043c\\u0438\\u043d\\u043e\\u043a\\u0438\\u0441\\u043b\\u043e\\u0442\\u044b=%{x}<br>RSCU=%{y}<extra></extra>\",\"legendgroup\":\"CGT\",\"marker\":{\"color\":\"red\",\"pattern\":{\"shape\":\"\"}},\"name\":\"CGT\",\"offsetgroup\":\"CGT\",\"orientation\":\"v\",\"showlegend\":true,\"textposition\":\"auto\",\"x\":[\"R\"],\"xaxis\":\"x\",\"y\":[4.0],\"yaxis\":\"y\",\"type\":\"bar\"},{\"alignmentgroup\":\"True\",\"hovertemplate\":\"\\u041a\\u043e\\u0434\\u043e\\u043d\\u044b=CGC<br>\\u0410\\u043c\\u0438\\u043d\\u043e\\u043a\\u0438\\u0441\\u043b\\u043e\\u0442\\u044b=%{x}<br>RSCU=%{y}<extra></extra>\",\"legendgroup\":\"CGC\",\"marker\":{\"color\":\"grey\",\"pattern\":{\"shape\":\"\"}},\"name\":\"CGC\",\"offsetgroup\":\"CGC\",\"orientation\":\"v\",\"showlegend\":true,\"textposition\":\"auto\",\"x\":[\"R\"],\"xaxis\":\"x\",\"y\":[0.0],\"yaxis\":\"y\",\"type\":\"bar\"},{\"alignmentgroup\":\"True\",\"hovertemplate\":\"\\u041a\\u043e\\u0434\\u043e\\u043d\\u044b=CGA<br>\\u0410\\u043c\\u0438\\u043d\\u043e\\u043a\\u0438\\u0441\\u043b\\u043e\\u0442\\u044b=%{x}<br>RSCU=%{y}<extra></extra>\",\"legendgroup\":\"CGA\",\"marker\":{\"color\":\"blue\",\"pattern\":{\"shape\":\"\"}},\"name\":\"CGA\",\"offsetgroup\":\"CGA\",\"orientation\":\"v\",\"showlegend\":true,\"textposition\":\"auto\",\"x\":[\"R\"],\"xaxis\":\"x\",\"y\":[0.0],\"yaxis\":\"y\",\"type\":\"bar\"},{\"alignmentgroup\":\"True\",\"hovertemplate\":\"\\u041a\\u043e\\u0434\\u043e\\u043d\\u044b=CGG<br>\\u0410\\u043c\\u0438\\u043d\\u043e\\u043a\\u0438\\u0441\\u043b\\u043e\\u0442\\u044b=%{x}<br>RSCU=%{y}<extra></extra>\",\"legendgroup\":\"CGG\",\"marker\":{\"color\":\"green\",\"pattern\":{\"shape\":\"\"}},\"name\":\"CGG\",\"offsetgroup\":\"CGG\",\"orientation\":\"v\",\"showlegend\":true,\"textposition\":\"auto\",\"x\":[\"R\"],\"xaxis\":\"x\",\"y\":[0.0],\"yaxis\":\"y\",\"type\":\"bar\"},{\"alignmentgroup\":\"True\",\"hovertemplate\":\"\\u041a\\u043e\\u0434\\u043e\\u043d\\u044b=ATT<br>\\u0410\\u043c\\u0438\\u043d\\u043e\\u043a\\u0438\\u0441\\u043b\\u043e\\u0442\\u044b=%{x}<br>RSCU=%{y}<extra></extra>\",\"legendgroup\":\"ATT\",\"marker\":{\"color\":\"red\",\"pattern\":{\"shape\":\"\"}},\"name\":\"ATT\",\"offsetgroup\":\"ATT\",\"orientation\":\"v\",\"showlegend\":true,\"textposition\":\"auto\",\"x\":[\"I\"],\"xaxis\":\"x\",\"y\":[2.0],\"yaxis\":\"y\",\"type\":\"bar\"},{\"alignmentgroup\":\"True\",\"hovertemplate\":\"\\u041a\\u043e\\u0434\\u043e\\u043d\\u044b=ATC<br>\\u0410\\u043c\\u0438\\u043d\\u043e\\u043a\\u0438\\u0441\\u043b\\u043e\\u0442\\u044b=%{x}<br>RSCU=%{y}<extra></extra>\",\"legendgroup\":\"ATC\",\"marker\":{\"color\":\"grey\",\"pattern\":{\"shape\":\"\"}},\"name\":\"ATC\",\"offsetgroup\":\"ATC\",\"orientation\":\"v\",\"showlegend\":true,\"textposition\":\"auto\",\"x\":[\"I\"],\"xaxis\":\"x\",\"y\":[0.0],\"yaxis\":\"y\",\"type\":\"bar\"},{\"alignmentgroup\":\"True\",\"hovertemplate\":\"\\u041a\\u043e\\u0434\\u043e\\u043d\\u044b=ATA<br>\\u0410\\u043c\\u0438\\u043d\\u043e\\u043a\\u0438\\u0441\\u043b\\u043e\\u0442\\u044b=%{x}<br>RSCU=%{y}<extra></extra>\",\"legendgroup\":\"ATA\",\"marker\":{\"color\":\"blue\",\"pattern\":{\"shape\":\"\"}},\"name\":\"ATA\",\"offsetgroup\":\"ATA\",\"orientation\":\"v\",\"showlegend\":true,\"textposition\":\"auto\",\"x\":[\"M\"],\"xaxis\":\"x\",\"y\":[1.2],\"yaxis\":\"y\",\"type\":\"bar\"},{\"alignmentgroup\":\"True\",\"hovertemplate\":\"\\u041a\\u043e\\u0434\\u043e\\u043d\\u044b=ATG<br>\\u0410\\u043c\\u0438\\u043d\\u043e\\u043a\\u0438\\u0441\\u043b\\u043e\\u0442\\u044b=%{x}<br>RSCU=%{y}<extra></extra>\",\"legendgroup\":\"ATG\",\"marker\":{\"color\":\"green\",\"pattern\":{\"shape\":\"\"}},\"name\":\"ATG\",\"offsetgroup\":\"ATG\",\"orientation\":\"v\",\"showlegend\":true,\"textposition\":\"auto\",\"x\":[\"M\"],\"xaxis\":\"x\",\"y\":[0.8],\"yaxis\":\"y\",\"type\":\"bar\"},{\"alignmentgroup\":\"True\",\"hovertemplate\":\"\\u041a\\u043e\\u0434\\u043e\\u043d\\u044b=ACT<br>\\u0410\\u043c\\u0438\\u043d\\u043e\\u043a\\u0438\\u0441\\u043b\\u043e\\u0442\\u044b=%{x}<br>RSCU=%{y}<extra></extra>\",\"legendgroup\":\"ACT\",\"marker\":{\"color\":\"red\",\"pattern\":{\"shape\":\"\"}},\"name\":\"ACT\",\"offsetgroup\":\"ACT\",\"orientation\":\"v\",\"showlegend\":true,\"textposition\":\"auto\",\"x\":[\"T\"],\"xaxis\":\"x\",\"y\":[3.2],\"yaxis\":\"y\",\"type\":\"bar\"},{\"alignmentgroup\":\"True\",\"hovertemplate\":\"\\u041a\\u043e\\u0434\\u043e\\u043d\\u044b=ACC<br>\\u0410\\u043c\\u0438\\u043d\\u043e\\u043a\\u0438\\u0441\\u043b\\u043e\\u0442\\u044b=%{x}<br>RSCU=%{y}<extra></extra>\",\"legendgroup\":\"ACC\",\"marker\":{\"color\":\"grey\",\"pattern\":{\"shape\":\"\"}},\"name\":\"ACC\",\"offsetgroup\":\"ACC\",\"orientation\":\"v\",\"showlegend\":true,\"textposition\":\"auto\",\"x\":[\"T\"],\"xaxis\":\"x\",\"y\":[0.0],\"yaxis\":\"y\",\"type\":\"bar\"},{\"alignmentgroup\":\"True\",\"hovertemplate\":\"\\u041a\\u043e\\u0434\\u043e\\u043d\\u044b=ACA<br>\\u0410\\u043c\\u0438\\u043d\\u043e\\u043a\\u0438\\u0441\\u043b\\u043e\\u0442\\u044b=%{x}<br>RSCU=%{y}<extra></extra>\",\"legendgroup\":\"ACA\",\"marker\":{\"color\":\"blue\",\"pattern\":{\"shape\":\"\"}},\"name\":\"ACA\",\"offsetgroup\":\"ACA\",\"orientation\":\"v\",\"showlegend\":true,\"textposition\":\"auto\",\"x\":[\"T\"],\"xaxis\":\"x\",\"y\":[0.5405405405405406],\"yaxis\":\"y\",\"type\":\"bar\"},{\"alignmentgroup\":\"True\",\"hovertemplate\":\"\\u041a\\u043e\\u0434\\u043e\\u043d\\u044b=ACG<br>\\u0410\\u043c\\u0438\\u043d\\u043e\\u043a\\u0438\\u0441\\u043b\\u043e\\u0442\\u044b=%{x}<br>RSCU=%{y}<extra></extra>\",\"legendgroup\":\"ACG\",\"marker\":{\"color\":\"green\",\"pattern\":{\"shape\":\"\"}},\"name\":\"ACG\",\"offsetgroup\":\"ACG\",\"orientation\":\"v\",\"showlegend\":true,\"textposition\":\"auto\",\"x\":[\"T\"],\"xaxis\":\"x\",\"y\":[0.0],\"yaxis\":\"y\",\"type\":\"bar\"},{\"alignmentgroup\":\"True\",\"hovertemplate\":\"\\u041a\\u043e\\u0434\\u043e\\u043d\\u044b=AAT<br>\\u0410\\u043c\\u0438\\u043d\\u043e\\u043a\\u0438\\u0441\\u043b\\u043e\\u0442\\u044b=%{x}<br>RSCU=%{y}<extra></extra>\",\"legendgroup\":\"AAT\",\"marker\":{\"color\":\"red\",\"pattern\":{\"shape\":\"\"}},\"name\":\"AAT\",\"offsetgroup\":\"AAT\",\"orientation\":\"v\",\"showlegend\":true,\"textposition\":\"auto\",\"x\":[\"N\"],\"xaxis\":\"x\",\"y\":[2.0],\"yaxis\":\"y\",\"type\":\"bar\"},{\"alignmentgroup\":\"True\",\"hovertemplate\":\"\\u041a\\u043e\\u0434\\u043e\\u043d\\u044b=AAC<br>\\u0410\\u043c\\u0438\\u043d\\u043e\\u043a\\u0438\\u0441\\u043b\\u043e\\u0442\\u044b=%{x}<br>RSCU=%{y}<extra></extra>\",\"legendgroup\":\"AAC\",\"marker\":{\"color\":\"grey\",\"pattern\":{\"shape\":\"\"}},\"name\":\"AAC\",\"offsetgroup\":\"AAC\",\"orientation\":\"v\",\"showlegend\":true,\"textposition\":\"auto\",\"x\":[\"N\"],\"xaxis\":\"x\",\"y\":[0.0],\"yaxis\":\"y\",\"type\":\"bar\"},{\"alignmentgroup\":\"True\",\"hovertemplate\":\"\\u041a\\u043e\\u0434\\u043e\\u043d\\u044b=AAA<br>\\u0410\\u043c\\u0438\\u043d\\u043e\\u043a\\u0438\\u0441\\u043b\\u043e\\u0442\\u044b=%{x}<br>RSCU=%{y}<extra></extra>\",\"legendgroup\":\"AAA\",\"marker\":{\"color\":\"blue\",\"pattern\":{\"shape\":\"\"}},\"name\":\"AAA\",\"offsetgroup\":\"AAA\",\"orientation\":\"v\",\"showlegend\":true,\"textposition\":\"auto\",\"x\":[\"K\"],\"xaxis\":\"x\",\"y\":[0.9090909090909092],\"yaxis\":\"y\",\"type\":\"bar\"},{\"alignmentgroup\":\"True\",\"hovertemplate\":\"\\u041a\\u043e\\u0434\\u043e\\u043d\\u044b=AAG<br>\\u0410\\u043c\\u0438\\u043d\\u043e\\u043a\\u0438\\u0441\\u043b\\u043e\\u0442\\u044b=%{x}<br>RSCU=%{y}<extra></extra>\",\"legendgroup\":\"AAG\",\"marker\":{\"color\":\"green\",\"pattern\":{\"shape\":\"\"}},\"name\":\"AAG\",\"offsetgroup\":\"AAG\",\"orientation\":\"v\",\"showlegend\":true,\"textposition\":\"auto\",\"x\":[\"K\"],\"xaxis\":\"x\",\"y\":[1.0909090909090908],\"yaxis\":\"y\",\"type\":\"bar\"},{\"alignmentgroup\":\"True\",\"hovertemplate\":\"\\u041a\\u043e\\u0434\\u043e\\u043d\\u044b=AGT<br>\\u0410\\u043c\\u0438\\u043d\\u043e\\u043a\\u0438\\u0441\\u043b\\u043e\\u0442\\u044b=%{x}<br>RSCU=%{y}<extra></extra>\",\"legendgroup\":\"AGT\",\"marker\":{\"color\":\"red\",\"pattern\":{\"shape\":\"\"}},\"name\":\"AGT\",\"offsetgroup\":\"AGT\",\"orientation\":\"v\",\"showlegend\":true,\"textposition\":\"auto\",\"x\":[\"S\"],\"xaxis\":\"x\",\"y\":[2.4],\"yaxis\":\"y\",\"type\":\"bar\"},{\"alignmentgroup\":\"True\",\"hovertemplate\":\"\\u041a\\u043e\\u0434\\u043e\\u043d\\u044b=AGC<br>\\u0410\\u043c\\u0438\\u043d\\u043e\\u043a\\u0438\\u0441\\u043b\\u043e\\u0442\\u044b=%{x}<br>RSCU=%{y}<extra></extra>\",\"legendgroup\":\"AGC\",\"marker\":{\"color\":\"grey\",\"pattern\":{\"shape\":\"\"}},\"name\":\"AGC\",\"offsetgroup\":\"AGC\",\"orientation\":\"v\",\"showlegend\":true,\"textposition\":\"auto\",\"x\":[\"S\"],\"xaxis\":\"x\",\"y\":[0.2318840579710145],\"yaxis\":\"y\",\"type\":\"bar\"},{\"alignmentgroup\":\"True\",\"hovertemplate\":\"\\u041a\\u043e\\u0434\\u043e\\u043d\\u044b=AGA<br>\\u0410\\u043c\\u0438\\u043d\\u043e\\u043a\\u0438\\u0441\\u043b\\u043e\\u0442\\u044b=%{x}<br>RSCU=%{y}<extra></extra>\",\"legendgroup\":\"AGA\",\"marker\":{\"color\":\"blue\",\"pattern\":{\"shape\":\"\"}},\"name\":\"AGA\",\"offsetgroup\":\"AGA\",\"orientation\":\"v\",\"showlegend\":true,\"textposition\":\"auto\",\"x\":[\"S\"],\"xaxis\":\"x\",\"y\":[1.1594202898550725],\"yaxis\":\"y\",\"type\":\"bar\"},{\"alignmentgroup\":\"True\",\"hovertemplate\":\"\\u041a\\u043e\\u0434\\u043e\\u043d\\u044b=AGG<br>\\u0410\\u043c\\u0438\\u043d\\u043e\\u043a\\u0438\\u0441\\u043b\\u043e\\u0442\\u044b=%{x}<br>RSCU=%{y}<extra></extra>\",\"legendgroup\":\"AGG\",\"marker\":{\"color\":\"green\",\"pattern\":{\"shape\":\"\"}},\"name\":\"AGG\",\"offsetgroup\":\"AGG\",\"orientation\":\"v\",\"showlegend\":true,\"textposition\":\"auto\",\"x\":[\"S\"],\"xaxis\":\"x\",\"y\":[0.6956521739130435],\"yaxis\":\"y\",\"type\":\"bar\"},{\"alignmentgroup\":\"True\",\"hovertemplate\":\"\\u041a\\u043e\\u0434\\u043e\\u043d\\u044b=GTT<br>\\u0410\\u043c\\u0438\\u043d\\u043e\\u043a\\u0438\\u0441\\u043b\\u043e\\u0442\\u044b=%{x}<br>RSCU=%{y}<extra></extra>\",\"legendgroup\":\"GTT\",\"marker\":{\"color\":\"red\",\"pattern\":{\"shape\":\"\"}},\"name\":\"GTT\",\"offsetgroup\":\"GTT\",\"orientation\":\"v\",\"showlegend\":true,\"textposition\":\"auto\",\"x\":[\"V\"],\"xaxis\":\"x\",\"y\":[2.7142857142857144],\"yaxis\":\"y\",\"type\":\"bar\"},{\"alignmentgroup\":\"True\",\"hovertemplate\":\"\\u041a\\u043e\\u0434\\u043e\\u043d\\u044b=GTC<br>\\u0410\\u043c\\u0438\\u043d\\u043e\\u043a\\u0438\\u0441\\u043b\\u043e\\u0442\\u044b=%{x}<br>RSCU=%{y}<extra></extra>\",\"legendgroup\":\"GTC\",\"marker\":{\"color\":\"grey\",\"pattern\":{\"shape\":\"\"}},\"name\":\"GTC\",\"offsetgroup\":\"GTC\",\"orientation\":\"v\",\"showlegend\":true,\"textposition\":\"auto\",\"x\":[\"V\"],\"xaxis\":\"x\",\"y\":[0.0952380952380952],\"yaxis\":\"y\",\"type\":\"bar\"},{\"alignmentgroup\":\"True\",\"hovertemplate\":\"\\u041a\\u043e\\u0434\\u043e\\u043d\\u044b=GTA<br>\\u0410\\u043c\\u0438\\u043d\\u043e\\u043a\\u0438\\u0441\\u043b\\u043e\\u0442\\u044b=%{x}<br>RSCU=%{y}<extra></extra>\",\"legendgroup\":\"GTA\",\"marker\":{\"color\":\"blue\",\"pattern\":{\"shape\":\"\"}},\"name\":\"GTA\",\"offsetgroup\":\"GTA\",\"orientation\":\"v\",\"showlegend\":true,\"textposition\":\"auto\",\"x\":[\"V\"],\"xaxis\":\"x\",\"y\":[0.8571428571428571],\"yaxis\":\"y\",\"type\":\"bar\"},{\"alignmentgroup\":\"True\",\"hovertemplate\":\"\\u041a\\u043e\\u0434\\u043e\\u043d\\u044b=GTG<br>\\u0410\\u043c\\u0438\\u043d\\u043e\\u043a\\u0438\\u0441\\u043b\\u043e\\u0442\\u044b=%{x}<br>RSCU=%{y}<extra></extra>\",\"legendgroup\":\"GTG\",\"marker\":{\"color\":\"green\",\"pattern\":{\"shape\":\"\"}},\"name\":\"GTG\",\"offsetgroup\":\"GTG\",\"orientation\":\"v\",\"showlegend\":true,\"textposition\":\"auto\",\"x\":[\"V\"],\"xaxis\":\"x\",\"y\":[0.2857142857142857],\"yaxis\":\"y\",\"type\":\"bar\"},{\"alignmentgroup\":\"True\",\"hovertemplate\":\"\\u041a\\u043e\\u0434\\u043e\\u043d\\u044b=GCT<br>\\u0410\\u043c\\u0438\\u043d\\u043e\\u043a\\u0438\\u0441\\u043b\\u043e\\u0442\\u044b=%{x}<br>RSCU=%{y}<extra></extra>\",\"legendgroup\":\"GCT\",\"marker\":{\"color\":\"red\",\"pattern\":{\"shape\":\"\"}},\"name\":\"GCT\",\"offsetgroup\":\"GCT\",\"orientation\":\"v\",\"showlegend\":true,\"textposition\":\"auto\",\"x\":[\"A\"],\"xaxis\":\"x\",\"y\":[2.909090909090909],\"yaxis\":\"y\",\"type\":\"bar\"},{\"alignmentgroup\":\"True\",\"hovertemplate\":\"\\u041a\\u043e\\u0434\\u043e\\u043d\\u044b=GCC<br>\\u0410\\u043c\\u0438\\u043d\\u043e\\u043a\\u0438\\u0441\\u043b\\u043e\\u0442\\u044b=%{x}<br>RSCU=%{y}<extra></extra>\",\"legendgroup\":\"GCC\",\"marker\":{\"color\":\"grey\",\"pattern\":{\"shape\":\"\"}},\"name\":\"GCC\",\"offsetgroup\":\"GCC\",\"orientation\":\"v\",\"showlegend\":true,\"textposition\":\"auto\",\"x\":[\"A\"],\"xaxis\":\"x\",\"y\":[0.0],\"yaxis\":\"y\",\"type\":\"bar\"},{\"alignmentgroup\":\"True\",\"hovertemplate\":\"\\u041a\\u043e\\u0434\\u043e\\u043d\\u044b=GCA<br>\\u0410\\u043c\\u0438\\u043d\\u043e\\u043a\\u0438\\u0441\\u043b\\u043e\\u0442\\u044b=%{x}<br>RSCU=%{y}<extra></extra>\",\"legendgroup\":\"GCA\",\"marker\":{\"color\":\"blue\",\"pattern\":{\"shape\":\"\"}},\"name\":\"GCA\",\"offsetgroup\":\"GCA\",\"orientation\":\"v\",\"showlegend\":true,\"textposition\":\"auto\",\"x\":[\"A\"],\"xaxis\":\"x\",\"y\":[0.3636363636363636],\"yaxis\":\"y\",\"type\":\"bar\"},{\"alignmentgroup\":\"True\",\"hovertemplate\":\"\\u041a\\u043e\\u0434\\u043e\\u043d\\u044b=GCG<br>\\u0410\\u043c\\u0438\\u043d\\u043e\\u043a\\u0438\\u0441\\u043b\\u043e\\u0442\\u044b=%{x}<br>RSCU=%{y}<extra></extra>\",\"legendgroup\":\"GCG\",\"marker\":{\"color\":\"green\",\"pattern\":{\"shape\":\"\"}},\"name\":\"GCG\",\"offsetgroup\":\"GCG\",\"orientation\":\"v\",\"showlegend\":true,\"textposition\":\"auto\",\"x\":[\"A\"],\"xaxis\":\"x\",\"y\":[0.0],\"yaxis\":\"y\",\"type\":\"bar\"},{\"alignmentgroup\":\"True\",\"hovertemplate\":\"\\u041a\\u043e\\u0434\\u043e\\u043d\\u044b=GAT<br>\\u0410\\u043c\\u0438\\u043d\\u043e\\u043a\\u0438\\u0441\\u043b\\u043e\\u0442\\u044b=%{x}<br>RSCU=%{y}<extra></extra>\",\"legendgroup\":\"GAT\",\"marker\":{\"color\":\"red\",\"pattern\":{\"shape\":\"\"}},\"name\":\"GAT\",\"offsetgroup\":\"GAT\",\"orientation\":\"v\",\"showlegend\":true,\"textposition\":\"auto\",\"x\":[\"D\"],\"xaxis\":\"x\",\"y\":[1.7142857142857142],\"yaxis\":\"y\",\"type\":\"bar\"},{\"alignmentgroup\":\"True\",\"hovertemplate\":\"\\u041a\\u043e\\u0434\\u043e\\u043d\\u044b=GAC<br>\\u0410\\u043c\\u0438\\u043d\\u043e\\u043a\\u0438\\u0441\\u043b\\u043e\\u0442\\u044b=%{x}<br>RSCU=%{y}<extra></extra>\",\"legendgroup\":\"GAC\",\"marker\":{\"color\":\"grey\",\"pattern\":{\"shape\":\"\"}},\"name\":\"GAC\",\"offsetgroup\":\"GAC\",\"orientation\":\"v\",\"showlegend\":true,\"textposition\":\"auto\",\"x\":[\"D\"],\"xaxis\":\"x\",\"y\":[0.1538461538461538],\"yaxis\":\"y\",\"type\":\"bar\"},{\"alignmentgroup\":\"True\",\"hovertemplate\":\"\\u041a\\u043e\\u0434\\u043e\\u043d\\u044b=GAA<br>\\u0410\\u043c\\u0438\\u043d\\u043e\\u043a\\u0438\\u0441\\u043b\\u043e\\u0442\\u044b=%{x}<br>RSCU=%{y}<extra></extra>\",\"legendgroup\":\"GAA\",\"marker\":{\"color\":\"blue\",\"pattern\":{\"shape\":\"\"}},\"name\":\"GAA\",\"offsetgroup\":\"GAA\",\"orientation\":\"v\",\"showlegend\":true,\"textposition\":\"auto\",\"x\":[\"E\"],\"xaxis\":\"x\",\"y\":[0.8],\"yaxis\":\"y\",\"type\":\"bar\"},{\"alignmentgroup\":\"True\",\"hovertemplate\":\"\\u041a\\u043e\\u0434\\u043e\\u043d\\u044b=GAG<br>\\u0410\\u043c\\u0438\\u043d\\u043e\\u043a\\u0438\\u0441\\u043b\\u043e\\u0442\\u044b=%{x}<br>RSCU=%{y}<extra></extra>\",\"legendgroup\":\"GAG\",\"marker\":{\"color\":\"green\",\"pattern\":{\"shape\":\"\"}},\"name\":\"GAG\",\"offsetgroup\":\"GAG\",\"orientation\":\"v\",\"showlegend\":true,\"textposition\":\"auto\",\"x\":[\"E\"],\"xaxis\":\"x\",\"y\":[1.2],\"yaxis\":\"y\",\"type\":\"bar\"},{\"alignmentgroup\":\"True\",\"hovertemplate\":\"\\u041a\\u043e\\u0434\\u043e\\u043d\\u044b=GGT<br>\\u0410\\u043c\\u0438\\u043d\\u043e\\u043a\\u0438\\u0441\\u043b\\u043e\\u0442\\u044b=%{x}<br>RSCU=%{y}<extra></extra>\",\"legendgroup\":\"GGT\",\"marker\":{\"color\":\"red\",\"pattern\":{\"shape\":\"\"}},\"name\":\"GGT\",\"offsetgroup\":\"GGT\",\"orientation\":\"v\",\"showlegend\":true,\"textposition\":\"auto\",\"x\":[\"G\"],\"xaxis\":\"x\",\"y\":[2.6666666666666665],\"yaxis\":\"y\",\"type\":\"bar\"},{\"alignmentgroup\":\"True\",\"hovertemplate\":\"\\u041a\\u043e\\u0434\\u043e\\u043d\\u044b=GGC<br>\\u0410\\u043c\\u0438\\u043d\\u043e\\u043a\\u0438\\u0441\\u043b\\u043e\\u0442\\u044b=%{x}<br>RSCU=%{y}<extra></extra>\",\"legendgroup\":\"GGC\",\"marker\":{\"color\":\"grey\",\"pattern\":{\"shape\":\"\"}},\"name\":\"GGC\",\"offsetgroup\":\"GGC\",\"orientation\":\"v\",\"showlegend\":true,\"textposition\":\"auto\",\"x\":[\"G\"],\"xaxis\":\"x\",\"y\":[0.1025641025641025],\"yaxis\":\"y\",\"type\":\"bar\"},{\"alignmentgroup\":\"True\",\"hovertemplate\":\"\\u041a\\u043e\\u0434\\u043e\\u043d\\u044b=GGA<br>\\u0410\\u043c\\u0438\\u043d\\u043e\\u043a\\u0438\\u0441\\u043b\\u043e\\u0442\\u044b=%{x}<br>RSCU=%{y}<extra></extra>\",\"legendgroup\":\"GGA\",\"marker\":{\"color\":\"blue\",\"pattern\":{\"shape\":\"\"}},\"name\":\"GGA\",\"offsetgroup\":\"GGA\",\"orientation\":\"v\",\"showlegend\":true,\"textposition\":\"auto\",\"x\":[\"G\"],\"xaxis\":\"x\",\"y\":[0.7058823529411765],\"yaxis\":\"y\",\"type\":\"bar\"},{\"alignmentgroup\":\"True\",\"hovertemplate\":\"\\u041a\\u043e\\u0434\\u043e\\u043d\\u044b=GGG<br>\\u0410\\u043c\\u0438\\u043d\\u043e\\u043a\\u0438\\u0441\\u043b\\u043e\\u0442\\u044b=%{x}<br>RSCU=%{y}<extra></extra>\",\"legendgroup\":\"GGG\",\"marker\":{\"color\":\"green\",\"pattern\":{\"shape\":\"\"}},\"name\":\"GGG\",\"offsetgroup\":\"GGG\",\"orientation\":\"v\",\"showlegend\":true,\"textposition\":\"auto\",\"x\":[\"G\"],\"xaxis\":\"x\",\"y\":[0.48],\"yaxis\":\"y\",\"type\":\"bar\"}],                        {\"template\":{\"data\":{\"bar\":[{\"error_x\":{\"color\":\"#2a3f5f\"},\"error_y\":{\"color\":\"#2a3f5f\"},\"marker\":{\"line\":{\"color\":\"#E5ECF6\",\"width\":0.5},\"pattern\":{\"fillmode\":\"overlay\",\"size\":10,\"solidity\":0.2}},\"type\":\"bar\"}],\"barpolar\":[{\"marker\":{\"line\":{\"color\":\"#E5ECF6\",\"width\":0.5},\"pattern\":{\"fillmode\":\"overlay\",\"size\":10,\"solidity\":0.2}},\"type\":\"barpolar\"}],\"carpet\":[{\"aaxis\":{\"endlinecolor\":\"#2a3f5f\",\"gridcolor\":\"white\",\"linecolor\":\"white\",\"minorgridcolor\":\"white\",\"startlinecolor\":\"#2a3f5f\"},\"baxis\":{\"endlinecolor\":\"#2a3f5f\",\"gridcolor\":\"white\",\"linecolor\":\"white\",\"minorgridcolor\":\"white\",\"startlinecolor\":\"#2a3f5f\"},\"type\":\"carpet\"}],\"choropleth\":[{\"colorbar\":{\"outlinewidth\":0,\"ticks\":\"\"},\"type\":\"choropleth\"}],\"contour\":[{\"colorbar\":{\"outlinewidth\":0,\"ticks\":\"\"},\"colorscale\":[[0.0,\"#0d0887\"],[0.1111111111111111,\"#46039f\"],[0.2222222222222222,\"#7201a8\"],[0.3333333333333333,\"#9c179e\"],[0.4444444444444444,\"#bd3786\"],[0.5555555555555556,\"#d8576b\"],[0.6666666666666666,\"#ed7953\"],[0.7777777777777778,\"#fb9f3a\"],[0.8888888888888888,\"#fdca26\"],[1.0,\"#f0f921\"]],\"type\":\"contour\"}],\"contourcarpet\":[{\"colorbar\":{\"outlinewidth\":0,\"ticks\":\"\"},\"type\":\"contourcarpet\"}],\"heatmap\":[{\"colorbar\":{\"outlinewidth\":0,\"ticks\":\"\"},\"colorscale\":[[0.0,\"#0d0887\"],[0.1111111111111111,\"#46039f\"],[0.2222222222222222,\"#7201a8\"],[0.3333333333333333,\"#9c179e\"],[0.4444444444444444,\"#bd3786\"],[0.5555555555555556,\"#d8576b\"],[0.6666666666666666,\"#ed7953\"],[0.7777777777777778,\"#fb9f3a\"],[0.8888888888888888,\"#fdca26\"],[1.0,\"#f0f921\"]],\"type\":\"heatmap\"}],\"heatmapgl\":[{\"colorbar\":{\"outlinewidth\":0,\"ticks\":\"\"},\"colorscale\":[[0.0,\"#0d0887\"],[0.1111111111111111,\"#46039f\"],[0.2222222222222222,\"#7201a8\"],[0.3333333333333333,\"#9c179e\"],[0.4444444444444444,\"#bd3786\"],[0.5555555555555556,\"#d8576b\"],[0.6666666666666666,\"#ed7953\"],[0.7777777777777778,\"#fb9f3a\"],[0.8888888888888888,\"#fdca26\"],[1.0,\"#f0f921\"]],\"type\":\"heatmapgl\"}],\"histogram\":[{\"marker\":{\"pattern\":{\"fillmode\":\"overlay\",\"size\":10,\"solidity\":0.2}},\"type\":\"histogram\"}],\"histogram2d\":[{\"colorbar\":{\"outlinewidth\":0,\"ticks\":\"\"},\"colorscale\":[[0.0,\"#0d0887\"],[0.1111111111111111,\"#46039f\"],[0.2222222222222222,\"#7201a8\"],[0.3333333333333333,\"#9c179e\"],[0.4444444444444444,\"#bd3786\"],[0.5555555555555556,\"#d8576b\"],[0.6666666666666666,\"#ed7953\"],[0.7777777777777778,\"#fb9f3a\"],[0.8888888888888888,\"#fdca26\"],[1.0,\"#f0f921\"]],\"type\":\"histogram2d\"}],\"histogram2dcontour\":[{\"colorbar\":{\"outlinewidth\":0,\"ticks\":\"\"},\"colorscale\":[[0.0,\"#0d0887\"],[0.1111111111111111,\"#46039f\"],[0.2222222222222222,\"#7201a8\"],[0.3333333333333333,\"#9c179e\"],[0.4444444444444444,\"#bd3786\"],[0.5555555555555556,\"#d8576b\"],[0.6666666666666666,\"#ed7953\"],[0.7777777777777778,\"#fb9f3a\"],[0.8888888888888888,\"#fdca26\"],[1.0,\"#f0f921\"]],\"type\":\"histogram2dcontour\"}],\"mesh3d\":[{\"colorbar\":{\"outlinewidth\":0,\"ticks\":\"\"},\"type\":\"mesh3d\"}],\"parcoords\":[{\"line\":{\"colorbar\":{\"outlinewidth\":0,\"ticks\":\"\"}},\"type\":\"parcoords\"}],\"pie\":[{\"automargin\":true,\"type\":\"pie\"}],\"scatter\":[{\"marker\":{\"colorbar\":{\"outlinewidth\":0,\"ticks\":\"\"}},\"type\":\"scatter\"}],\"scatter3d\":[{\"line\":{\"colorbar\":{\"outlinewidth\":0,\"ticks\":\"\"}},\"marker\":{\"colorbar\":{\"outlinewidth\":0,\"ticks\":\"\"}},\"type\":\"scatter3d\"}],\"scattercarpet\":[{\"marker\":{\"colorbar\":{\"outlinewidth\":0,\"ticks\":\"\"}},\"type\":\"scattercarpet\"}],\"scattergeo\":[{\"marker\":{\"colorbar\":{\"outlinewidth\":0,\"ticks\":\"\"}},\"type\":\"scattergeo\"}],\"scattergl\":[{\"marker\":{\"colorbar\":{\"outlinewidth\":0,\"ticks\":\"\"}},\"type\":\"scattergl\"}],\"scattermapbox\":[{\"marker\":{\"colorbar\":{\"outlinewidth\":0,\"ticks\":\"\"}},\"type\":\"scattermapbox\"}],\"scatterpolar\":[{\"marker\":{\"colorbar\":{\"outlinewidth\":0,\"ticks\":\"\"}},\"type\":\"scatterpolar\"}],\"scatterpolargl\":[{\"marker\":{\"colorbar\":{\"outlinewidth\":0,\"ticks\":\"\"}},\"type\":\"scatterpolargl\"}],\"scatterternary\":[{\"marker\":{\"colorbar\":{\"outlinewidth\":0,\"ticks\":\"\"}},\"type\":\"scatterternary\"}],\"surface\":[{\"colorbar\":{\"outlinewidth\":0,\"ticks\":\"\"},\"colorscale\":[[0.0,\"#0d0887\"],[0.1111111111111111,\"#46039f\"],[0.2222222222222222,\"#7201a8\"],[0.3333333333333333,\"#9c179e\"],[0.4444444444444444,\"#bd3786\"],[0.5555555555555556,\"#d8576b\"],[0.6666666666666666,\"#ed7953\"],[0.7777777777777778,\"#fb9f3a\"],[0.8888888888888888,\"#fdca26\"],[1.0,\"#f0f921\"]],\"type\":\"surface\"}],\"table\":[{\"cells\":{\"fill\":{\"color\":\"#EBF0F8\"},\"line\":{\"color\":\"white\"}},\"header\":{\"fill\":{\"color\":\"#C8D4E3\"},\"line\":{\"color\":\"white\"}},\"type\":\"table\"}]},\"layout\":{\"annotationdefaults\":{\"arrowcolor\":\"#2a3f5f\",\"arrowhead\":0,\"arrowwidth\":1},\"autotypenumbers\":\"strict\",\"coloraxis\":{\"colorbar\":{\"outlinewidth\":0,\"ticks\":\"\"}},\"colorscale\":{\"diverging\":[[0,\"#8e0152\"],[0.1,\"#c51b7d\"],[0.2,\"#de77ae\"],[0.3,\"#f1b6da\"],[0.4,\"#fde0ef\"],[0.5,\"#f7f7f7\"],[0.6,\"#e6f5d0\"],[0.7,\"#b8e186\"],[0.8,\"#7fbc41\"],[0.9,\"#4d9221\"],[1,\"#276419\"]],\"sequential\":[[0.0,\"#0d0887\"],[0.1111111111111111,\"#46039f\"],[0.2222222222222222,\"#7201a8\"],[0.3333333333333333,\"#9c179e\"],[0.4444444444444444,\"#bd3786\"],[0.5555555555555556,\"#d8576b\"],[0.6666666666666666,\"#ed7953\"],[0.7777777777777778,\"#fb9f3a\"],[0.8888888888888888,\"#fdca26\"],[1.0,\"#f0f921\"]],\"sequentialminus\":[[0.0,\"#0d0887\"],[0.1111111111111111,\"#46039f\"],[0.2222222222222222,\"#7201a8\"],[0.3333333333333333,\"#9c179e\"],[0.4444444444444444,\"#bd3786\"],[0.5555555555555556,\"#d8576b\"],[0.6666666666666666,\"#ed7953\"],[0.7777777777777778,\"#fb9f3a\"],[0.8888888888888888,\"#fdca26\"],[1.0,\"#f0f921\"]]},\"colorway\":[\"#636efa\",\"#EF553B\",\"#00cc96\",\"#ab63fa\",\"#FFA15A\",\"#19d3f3\",\"#FF6692\",\"#B6E880\",\"#FF97FF\",\"#FECB52\"],\"font\":{\"color\":\"#2a3f5f\"},\"geo\":{\"bgcolor\":\"white\",\"lakecolor\":\"white\",\"landcolor\":\"#E5ECF6\",\"showlakes\":true,\"showland\":true,\"subunitcolor\":\"white\"},\"hoverlabel\":{\"align\":\"left\"},\"hovermode\":\"closest\",\"mapbox\":{\"style\":\"light\"},\"paper_bgcolor\":\"white\",\"plot_bgcolor\":\"#E5ECF6\",\"polar\":{\"angularaxis\":{\"gridcolor\":\"white\",\"linecolor\":\"white\",\"ticks\":\"\"},\"bgcolor\":\"#E5ECF6\",\"radialaxis\":{\"gridcolor\":\"white\",\"linecolor\":\"white\",\"ticks\":\"\"}},\"scene\":{\"xaxis\":{\"backgroundcolor\":\"#E5ECF6\",\"gridcolor\":\"white\",\"gridwidth\":2,\"linecolor\":\"white\",\"showbackground\":true,\"ticks\":\"\",\"zerolinecolor\":\"white\"},\"yaxis\":{\"backgroundcolor\":\"#E5ECF6\",\"gridcolor\":\"white\",\"gridwidth\":2,\"linecolor\":\"white\",\"showbackground\":true,\"ticks\":\"\",\"zerolinecolor\":\"white\"},\"zaxis\":{\"backgroundcolor\":\"#E5ECF6\",\"gridcolor\":\"white\",\"gridwidth\":2,\"linecolor\":\"white\",\"showbackground\":true,\"ticks\":\"\",\"zerolinecolor\":\"white\"}},\"shapedefaults\":{\"line\":{\"color\":\"#2a3f5f\"}},\"ternary\":{\"aaxis\":{\"gridcolor\":\"white\",\"linecolor\":\"white\",\"ticks\":\"\"},\"baxis\":{\"gridcolor\":\"white\",\"linecolor\":\"white\",\"ticks\":\"\"},\"bgcolor\":\"#E5ECF6\",\"caxis\":{\"gridcolor\":\"white\",\"linecolor\":\"white\",\"ticks\":\"\"}},\"title\":{\"x\":0.05},\"xaxis\":{\"automargin\":true,\"gridcolor\":\"white\",\"linecolor\":\"white\",\"ticks\":\"\",\"title\":{\"standoff\":15},\"zerolinecolor\":\"white\",\"zerolinewidth\":2},\"yaxis\":{\"automargin\":true,\"gridcolor\":\"white\",\"linecolor\":\"white\",\"ticks\":\"\",\"title\":{\"standoff\":15},\"zerolinecolor\":\"white\",\"zerolinewidth\":2}}},\"xaxis\":{\"anchor\":\"y\",\"domain\":[0.0,1.0],\"title\":{\"text\":\"\\u0410\\u043c\\u0438\\u043d\\u043e\\u043a\\u0438\\u0441\\u043b\\u043e\\u0442\\u044b\"}},\"yaxis\":{\"anchor\":\"x\",\"domain\":[0.0,1.0],\"title\":{\"text\":\"RSCU\"}},\"legend\":{\"title\":{\"text\":\"\\u041a\\u043e\\u0434\\u043e\\u043d\\u044b\"},\"tracegroupgap\":0},\"margin\":{\"t\":60},\"barmode\":\"relative\"},                        {\"responsive\": true}                    ).then(function(){\n",
       "                            \n",
       "var gd = document.getElementById('091a5b5f-6045-41b0-89be-7e5aff1d940d');\n",
       "var x = new MutationObserver(function (mutations, observer) {{\n",
       "        var display = window.getComputedStyle(gd).display;\n",
       "        if (!display || display === 'none') {{\n",
       "            console.log([gd, 'removed!']);\n",
       "            Plotly.purge(gd);\n",
       "            observer.disconnect();\n",
       "        }}\n",
       "}});\n",
       "\n",
       "// Listen for the removal of the full notebook cells\n",
       "var notebookContainer = gd.closest('#notebook-container');\n",
       "if (notebookContainer) {{\n",
       "    x.observe(notebookContainer, {childList: true});\n",
       "}}\n",
       "\n",
       "// Listen for the clearing of the current output cell\n",
       "var outputEl = gd.closest('.output');\n",
       "if (outputEl) {{\n",
       "    x.observe(outputEl, {childList: true});\n",
       "}}\n",
       "\n",
       "                        })                };                });            </script>        </div>"
      ]
     },
     "metadata": {},
     "output_type": "display_data"
    }
   ],
   "source": [
    "# alternative colors\n",
    "'''\n",
    "fig = px.bar(df_plot, x=\"Amino acids\", y='RSCU', color=\"Codons\",\n",
    "              color_discrete_map={\n",
    "                'TTT': \"red\",'TCT': \"red\",'TAT': \"red\",'TGT': \"red\",'CTT': \"red\",'CCT': \"red\",'CAT': \"red\",'CGT': \"red\",'ATT': \"red\",'ACT': \"red\",'AAT': \"red\",'AGT': \"red\",'GTT': \"red\",'GCT': \"red\",'GAT': \"red\",'GGT': \"red\",\n",
    "                'TTC': \"grey\",'TCC': \"grey\",'TAC': \"grey\",'TGC': \"grey\",'CTC': \"grey\",'CCC': \"grey\",'CAC': \"grey\",'CGC': \"grey\",'ATC': \"grey\",'ACC': \"grey\",'AAC': \"grey\",'AGC': \"grey\",'GTC': \"grey\",'GCC': \"grey\",'GAC': \"grey\",'GGC': \"grey\",\n",
    "                'TTG': \"green\",'TCG': \"green\",'TGG': \"green\",'CTG': \"green\",'CCG': \"green\",'CAG': \"green\",'CGG': \"green\",'ATG': \"green\",'ACG': \"green\",'AAG': \"green\",'AGG': \"green\",'GTG': \"green\",'GCG': \"green\",'GAG': \"green\",'GGG': \"green\",\n",
    "                'TTA': \"blue\",'TCA': \"blue\",'TGA': \"blue\",'CTA': \"blue\",'CCA': \"blue\",'CAA': \"blue\",'CGA': \"blue\",'ATA': \"blue\",'ACA': \"blue\",'AAA': \"blue\",'AGA': \"blue\",'GTA': \"blue\",'GCA': \"blue\",'GAA': \"blue\",'GGA': \"blue\"},\n",
    "            labels = {'Codons': 'Кодоны', 'Amino acids': 'Аминокислоты'})\n",
    "fig.show()\n",
    "'''"
   ]
  },
  {
   "cell_type": "code",
   "execution_count": null,
   "id": "3a9640a4",
   "metadata": {},
   "outputs": [],
   "source": [
    "# Подсчет нуклеотидного контента"
   ]
  },
  {
   "cell_type": "code",
   "execution_count": 4,
   "id": "fa35b9cd",
   "metadata": {
    "scrolled": true
   },
   "outputs": [
    {
     "name": "stderr",
     "output_type": "stream",
     "text": [
      "/home/emulciber/anaconda3/lib/python3.8/site-packages/Bio/GenBank/Scanner.py:1218: BiopythonParserWarning: Premature end of file in sequence data\n",
      "  warnings.warn(\n"
     ]
    }
   ],
   "source": [
    "gb = SeqIO.read('/home/emulciber/MitoClub/devil-worm/Body/2Derived/halicephalobus_mephisto.gb', format='genbank')\n",
    "hm_seq = gb.seq"
   ]
  },
  {
   "cell_type": "code",
   "execution_count": 5,
   "id": "b106eea3",
   "metadata": {},
   "outputs": [
    {
     "name": "stdout",
     "output_type": "stream",
     "text": [
      "Nucleotide content in Halicephalobus mephisto mtDNA:\n",
      "A = 3999\n",
      "T = 7623\n",
      "G = 1756\n",
      "C = 971\n"
     ]
    }
   ],
   "source": [
    "hm_a = hm_seq.count('A')\n",
    "hm_g = hm_seq.count('G')\n",
    "hm_t = hm_seq.count('T')\n",
    "hm_c = hm_seq.count('C')\n",
    "\n",
    "print('Nucleotide content in Halicephalobus mephisto mtDNA:', f'A = {hm_a}', f'T = {hm_t}', f'G = {hm_g}', f'C = {hm_c}', sep='\\n')"
   ]
  }
 ],
 "metadata": {
  "kernelspec": {
   "display_name": "Python 3",
   "language": "python",
   "name": "python3"
  },
  "language_info": {
   "codemirror_mode": {
    "name": "ipython",
    "version": 3
   },
   "file_extension": ".py",
   "mimetype": "text/x-python",
   "name": "python",
   "nbconvert_exporter": "python",
   "pygments_lexer": "ipython3",
   "version": "3.8.8"
  }
 },
 "nbformat": 4,
 "nbformat_minor": 5
}

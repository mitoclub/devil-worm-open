{
 "cells": [
  {
   "cell_type": "code",
   "execution_count": 1,
   "id": "77c203ed",
   "metadata": {},
   "outputs": [],
   "source": [
    "from Bio import SeqIO\n",
    "from Bio import Seq\n",
    "import tqdm\n",
    "import pandas as pd"
   ]
  },
  {
   "cell_type": "code",
   "execution_count": null,
   "id": "cd83fc6d",
   "metadata": {},
   "outputs": [],
   "source": [
    "# Extract Nematoda from RefSeq"
   ]
  },
  {
   "cell_type": "code",
   "execution_count": 114,
   "id": "6702082a",
   "metadata": {},
   "outputs": [
    {
     "name": "stderr",
     "output_type": "stream",
     "text": [
      "5041it [00:33, 131.94it/s]/home/emulciber/anaconda3/lib/python3.8/site-packages/Bio/GenBank/Scanner.py:1794: BiopythonParserWarning: Structured comment not parsed for NC_037498. Is it malformed?\n",
      "  warnings.warn(\n",
      "/home/emulciber/anaconda3/lib/python3.8/site-packages/Bio/GenBank/Scanner.py:1794: BiopythonParserWarning: Structured comment not parsed for NC_037499. Is it malformed?\n",
      "  warnings.warn(\n",
      "5309it [00:35, 186.36it/s]/home/emulciber/anaconda3/lib/python3.8/site-packages/Bio/GenBank/Scanner.py:1794: BiopythonParserWarning: Structured comment not parsed for NC_037500. Is it malformed?\n",
      "  warnings.warn(\n",
      "8965it [00:53, 264.01it/s]/home/emulciber/anaconda3/lib/python3.8/site-packages/Bio/GenBank/Scanner.py:1794: BiopythonParserWarning: Structured comment not parsed for NC_057213. Is it malformed?\n",
      "  warnings.warn(\n",
      "/home/emulciber/anaconda3/lib/python3.8/site-packages/Bio/GenBank/Scanner.py:1794: BiopythonParserWarning: Structured comment not parsed for NC_057212. Is it malformed?\n",
      "  warnings.warn(\n",
      "9075it [00:53, 232.76it/s]/home/emulciber/anaconda3/lib/python3.8/site-packages/Bio/GenBank/Scanner.py:1794: BiopythonParserWarning: Structured comment not parsed for NC_057211. Is it malformed?\n",
      "  warnings.warn(\n",
      "/home/emulciber/anaconda3/lib/python3.8/site-packages/Bio/GenBank/Scanner.py:1794: BiopythonParserWarning: Structured comment not parsed for NC_057214. Is it malformed?\n",
      "  warnings.warn(\n",
      "12173it [01:12, 168.69it/s]"
     ]
    },
    {
     "name": "stdout",
     "output_type": "stream",
     "text": [
      "Пропущено последовательностей - 0\n",
      "Всего нуклеотидных последовательностей - 1983\n"
     ]
    },
    {
     "name": "stderr",
     "output_type": "stream",
     "text": [
      "\n"
     ]
    }
   ],
   "source": [
    "species = []\n",
    "gene = []\n",
    "sequence = []\n",
    "\n",
    "count_passed = 0\n",
    "count_nucl = 0\n",
    "\n",
    "seq_reader = SeqIO.parse('../../../mtDnaInvertebrate/Body/1Raw/mitochondrion.genomic.gbff', format='genbank')\n",
    "\n",
    "for record in tqdm.tqdm(seq_reader):\n",
    "    try:\n",
    "        if 'Nematoda' in record.annotations['taxonomy']:\n",
    "\n",
    "            for feature in record.features:\n",
    "                if feature.type != 'CDS' or feature.strand != 1:\n",
    "                    continue\n",
    "\n",
    "                seq_str = str(feature.extract(record.seq))\n",
    "                if len(seq_str) == 0:\n",
    "                    count_passed += 1\n",
    "                    continue\n",
    "\n",
    "                sequence.append(seq_str)\n",
    "\n",
    "                species.append(record.annotations['organism'].replace('/', ' ').replace('_', ' '))\n",
    "                g = 'gene' if 'gene' in feature.qualifiers else 'product'\n",
    "                gene.append(feature.qualifiers[g][0])\n",
    "                count_nucl += 1\n",
    "\n",
    "    except Seq.UndefinedSequenceError:\n",
    "        continue\n",
    "\n",
    "print(f'Пропущено последовательностей - {count_passed}')\n",
    "print(f'Всего нуклеотидных последовательностей - {count_nucl}')"
   ]
  },
  {
   "cell_type": "code",
   "execution_count": null,
   "id": "3c3db9f7",
   "metadata": {},
   "outputs": [],
   "source": [
    "# Extract sequences from Bracht's file"
   ]
  },
  {
   "cell_type": "code",
   "execution_count": 115,
   "id": "8a7c027e",
   "metadata": {
    "scrolled": false
   },
   "outputs": [
    {
     "name": "stderr",
     "output_type": "stream",
     "text": [
      "38it [00:00, 520.03it/s]"
     ]
    },
    {
     "name": "stdout",
     "output_type": "stream",
     "text": [
      "Пропущено последовательностей - 0\n",
      "Всего нуклеотидных последовательностей - 34\n"
     ]
    },
    {
     "name": "stderr",
     "output_type": "stream",
     "text": [
      "\n"
     ]
    }
   ],
   "source": [
    "species_b = []\n",
    "gene_b = []\n",
    "sequence_b = []\n",
    "\n",
    "count_passed = 0\n",
    "count_nucl = 0\n",
    "\n",
    "seq_reader = SeqIO.parse('../../Body/1Raw/mtDNA - mephisto mtDNA project.gb', format='genbank')\n",
    "\n",
    "for record in tqdm.tqdm(seq_reader):\n",
    "    try:\n",
    "        if 'Halicephalobus' in record.annotations['organism']:\n",
    "\n",
    "            for feature in record.features:\n",
    "                if feature.type != 'CDS' or feature.strand != 1:\n",
    "                    continue\n",
    "\n",
    "                seq_str = str(feature.extract(record.seq))\n",
    "                if len(seq_str) == 0:\n",
    "                    count_passed += 1\n",
    "                    continue\n",
    "\n",
    "                sequence_b.append(seq_str)\n",
    "\n",
    "                species_b.append(record.annotations['organism'].replace('/', ' ').replace('_', ' '))\n",
    "                g = 'gene' if 'gene' in feature.qualifiers else 'label'\n",
    "                gene_b.append(feature.qualifiers[g][0])\n",
    "                count_nucl += 1\n",
    "\n",
    "    except Seq.UndefinedSequenceError:\n",
    "        continue\n",
    "\n",
    "print(f'Пропущено последовательностей - {count_passed}')\n",
    "print(f'Всего нуклеотидных последовательностей - {count_nucl}')"
   ]
  },
  {
   "cell_type": "code",
   "execution_count": null,
   "id": "c69250a0",
   "metadata": {},
   "outputs": [],
   "source": [
    "# Include Plectus aquatilis - don't work, it's only 11 genes"
   ]
  },
  {
   "cell_type": "code",
   "execution_count": 116,
   "id": "6ba9b9c9",
   "metadata": {},
   "outputs": [],
   "source": [
    "'''\n",
    "seq_reader = SeqIO.parse('../../Body/1Raw/plectus_aquatilis.gb', format='genbank')\n",
    "\n",
    "for record in seq_reader:\n",
    "    for feature in record.features:\n",
    "        if feature.type != 'CDS' or feature.strand != 1:\n",
    "            continue\n",
    "            \n",
    "        species_b.append(record.annotations['organism'].replace('/', ' ').replace('_', ' '))\n",
    "        sequence_b.append(str(feature.extract(record.seq)))\n",
    "        g = 'gene' if 'gene' in feature.qualifiers else 'label'\n",
    "        gene_b.append(feature.qualifiers[g][0])\n",
    "'''"
   ]
  },
  {
   "cell_type": "code",
   "execution_count": 117,
   "id": "8d55a884",
   "metadata": {},
   "outputs": [],
   "source": [
    "species += species_b\n",
    "gene += gene_b\n",
    "sequence += sequence_b"
   ]
  },
  {
   "cell_type": "code",
   "execution_count": 118,
   "id": "471ac207",
   "metadata": {},
   "outputs": [],
   "source": [
    "derived_table = pd.DataFrame()\n",
    "derived_table['Species'] = species\n",
    "derived_table['Gene'] = gene\n",
    "derived_table['Sequence'] = sequence"
   ]
  },
  {
   "cell_type": "code",
   "execution_count": 119,
   "id": "ff7d25e0",
   "metadata": {},
   "outputs": [
    {
     "data": {
      "text/plain": [
       "2028"
      ]
     },
     "execution_count": 119,
     "metadata": {},
     "output_type": "execute_result"
    }
   ],
   "source": [
    "len(derived_table)"
   ]
  },
  {
   "cell_type": "code",
   "execution_count": 122,
   "id": "5ca768fe",
   "metadata": {},
   "outputs": [
    {
     "data": {
      "text/plain": [
       "array(['COX1', 'COX2', 'ND3', 'ND5', 'ND6', 'ND4L', 'ND1', 'ATP6', 'ND2',\n",
       "       'CYTB', 'COX3', 'ND4', 'ATP8'], dtype=object)"
      ]
     },
     "execution_count": 122,
     "metadata": {},
     "output_type": "execute_result"
    }
   ],
   "source": [
    "derived_table['Gene'].unique()"
   ]
  },
  {
   "cell_type": "code",
   "execution_count": 121,
   "id": "4689ea17",
   "metadata": {},
   "outputs": [],
   "source": [
    "derived_table['Gene'] = derived_table['Gene'].str.replace('ATP synthase F0 subunit ', 'ATP').str.replace('NADH dehydrogenase subunit ', 'ND')\n",
    "derived_table['Gene'] = derived_table['Gene'].str.replace('cytochrome b', 'CYTB').str.replace('NAD', 'ND')\n",
    "derived_table['Gene'] = derived_table['Gene'].str.replace('cytochrome c oxidase subunit III', 'COX3')\n",
    "derived_table['Gene'] = derived_table['Gene'].str.replace('cytochrome c oxidase subunit II', 'COX2')\n",
    "derived_table['Gene'] = derived_table['Gene'].str.replace('cytochrome c oxidase subunit I', 'COX1')\n",
    "derived_table['Gene'] = derived_table['Gene'].str.replace('COIII', 'COX3')\n",
    "derived_table['Gene'] = derived_table['Gene'].str.replace('COII', 'COX2')\n",
    "derived_table['Gene'] = derived_table['Gene'].str.replace('COI', 'COX1')"
   ]
  },
  {
   "cell_type": "code",
   "execution_count": 123,
   "id": "8e5fc2d4",
   "metadata": {},
   "outputs": [],
   "source": [
    "genes = derived_table[derived_table['Species'] == 'Halicephalobus mephisto'].Gene.values"
   ]
  },
  {
   "cell_type": "code",
   "execution_count": 124,
   "id": "6dd26453",
   "metadata": {},
   "outputs": [
    {
     "data": {
      "text/plain": [
       "(148,)"
      ]
     },
     "execution_count": 124,
     "metadata": {},
     "output_type": "execute_result"
    }
   ],
   "source": [
    "a = derived_table[derived_table.Gene.isin(genes)].groupby('Species').Gene.nunique()\n",
    "a = a[a == 12]\n",
    "a.shape"
   ]
  },
  {
   "cell_type": "code",
   "execution_count": 126,
   "id": "d67d9ecf",
   "metadata": {},
   "outputs": [],
   "source": [
    "preferable_df = derived_table[derived_table.Species.isin(a.index)]"
   ]
  },
  {
   "cell_type": "code",
   "execution_count": 131,
   "id": "89dae284",
   "metadata": {},
   "outputs": [
    {
     "data": {
      "text/html": [
       "<div>\n",
       "<style scoped>\n",
       "    .dataframe tbody tr th:only-of-type {\n",
       "        vertical-align: middle;\n",
       "    }\n",
       "\n",
       "    .dataframe tbody tr th {\n",
       "        vertical-align: top;\n",
       "    }\n",
       "\n",
       "    .dataframe thead th {\n",
       "        text-align: right;\n",
       "    }\n",
       "</style>\n",
       "<table border=\"1\" class=\"dataframe\">\n",
       "  <thead>\n",
       "    <tr style=\"text-align: right;\">\n",
       "      <th></th>\n",
       "      <th>Species</th>\n",
       "      <th>Gene</th>\n",
       "      <th>Sequence</th>\n",
       "    </tr>\n",
       "  </thead>\n",
       "  <tbody>\n",
       "  </tbody>\n",
       "</table>\n",
       "</div>"
      ],
      "text/plain": [
       "Empty DataFrame\n",
       "Columns: [Species, Gene, Sequence]\n",
       "Index: []"
      ]
     },
     "execution_count": 131,
     "metadata": {},
     "output_type": "execute_result"
    }
   ],
   "source": [
    "preferable_df[preferable_df['Species'].str.contains('Plectus') == True]"
   ]
  },
  {
   "cell_type": "code",
   "execution_count": 128,
   "id": "0454c9d0",
   "metadata": {},
   "outputs": [
    {
     "data": {
      "text/plain": [
       "set()"
      ]
     },
     "execution_count": 128,
     "metadata": {},
     "output_type": "execute_result"
    }
   ],
   "source": [
    "set(preferable_df.Gene.unique()).difference(genes)"
   ]
  },
  {
   "cell_type": "code",
   "execution_count": 129,
   "id": "e5a30740",
   "metadata": {},
   "outputs": [
    {
     "data": {
      "text/plain": [
       "set()"
      ]
     },
     "execution_count": 129,
     "metadata": {},
     "output_type": "execute_result"
    }
   ],
   "source": [
    "set(genes).difference(preferable_df.Gene.unique())"
   ]
  },
  {
   "cell_type": "code",
   "execution_count": 130,
   "id": "1724be12",
   "metadata": {},
   "outputs": [],
   "source": [
    "preferable_df.to_csv('../../Body/2Derived/NematodaForIQTree.csv', index=False, sep=',')"
   ]
  }
 ],
 "metadata": {
  "kernelspec": {
   "display_name": "Python 3",
   "language": "python",
   "name": "python3"
  },
  "language_info": {
   "codemirror_mode": {
    "name": "ipython",
    "version": 3
   },
   "file_extension": ".py",
   "mimetype": "text/x-python",
   "name": "python",
   "nbconvert_exporter": "python",
   "pygments_lexer": "ipython3",
   "version": "3.8.8"
  }
 },
 "nbformat": 4,
 "nbformat_minor": 5
}

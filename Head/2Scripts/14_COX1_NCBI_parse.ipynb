{
 "cells": [
  {
   "cell_type": "code",
   "execution_count": 2,
   "id": "22514dbd",
   "metadata": {},
   "outputs": [],
   "source": [
    "import pandas as pd\n",
    "from Bio import SeqIO\n",
    "import plotly.express as px"
   ]
  },
  {
   "cell_type": "code",
   "execution_count": 3,
   "id": "af5a5bc2",
   "metadata": {},
   "outputs": [],
   "source": [
    "idx = []\n",
    "species = []\n",
    "length = []\n",
    "num_a = []\n",
    "num_t = []\n",
    "num_c = []\n",
    "num_g = []\n",
    "sequences = []"
   ]
  },
  {
   "cell_type": "code",
   "execution_count": 4,
   "id": "b25a0c91",
   "metadata": {},
   "outputs": [],
   "source": [
    "data = SeqIO.parse('/home/emulciber/MitoClub/devil-worm/Body/1Raw/full_nematoda_cox1_ncbi2.gb', format='genbank')\n",
    "\n",
    "genes_cox1 = ['COX1', 'COI', 'cox1', 'coi', 'coI', 'coxI']\n",
    "\n",
    "for sequence in data:\n",
    "    for feature in sequence.features:\n",
    "        if feature.type == 'CDS' and 'gene' in feature.qualifiers and feature.qualifiers['gene'][0] in genes_cox1:\n",
    "\n",
    "            fseq = ''.join(feature.extract(sequence.seq))\n",
    "            idx.append(sequence.id)\n",
    "            species.append(sequence.annotations['organism'])\n",
    "            length.append(int(len(fseq)))\n",
    "            num_a.append(int(fseq.count('A')))\n",
    "            num_t.append(int(fseq.count('T')))\n",
    "            num_g.append(int(fseq.count('G')))\n",
    "            num_c.append(int(fseq.count('C')))\n",
    "            sequences.append(fseq)"
   ]
  },
  {
   "cell_type": "code",
   "execution_count": 5,
   "id": "78670f3e",
   "metadata": {},
   "outputs": [],
   "source": [
    "nematoda = pd.DataFrame()\n",
    "nematoda['ID'] = idx\n",
    "nematoda['Species'] = species\n",
    "nematoda['Length'] = length\n",
    "nematoda['Num_A'] = num_a\n",
    "nematoda['Num_T'] = num_t\n",
    "nematoda['Num_G'] = num_g\n",
    "nematoda['Num_C'] = num_c\n",
    "nematoda['Sequences'] = sequences"
   ]
  },
  {
   "cell_type": "code",
   "execution_count": 6,
   "id": "68b4d813",
   "metadata": {},
   "outputs": [
    {
     "data": {
      "text/html": [
       "<div>\n",
       "<style scoped>\n",
       "    .dataframe tbody tr th:only-of-type {\n",
       "        vertical-align: middle;\n",
       "    }\n",
       "\n",
       "    .dataframe tbody tr th {\n",
       "        vertical-align: top;\n",
       "    }\n",
       "\n",
       "    .dataframe thead th {\n",
       "        text-align: right;\n",
       "    }\n",
       "</style>\n",
       "<table border=\"1\" class=\"dataframe\">\n",
       "  <thead>\n",
       "    <tr style=\"text-align: right;\">\n",
       "      <th></th>\n",
       "      <th>ID</th>\n",
       "      <th>Species</th>\n",
       "      <th>Length</th>\n",
       "      <th>Num_A</th>\n",
       "      <th>Num_T</th>\n",
       "      <th>Num_G</th>\n",
       "      <th>Num_C</th>\n",
       "      <th>Sequences</th>\n",
       "    </tr>\n",
       "  </thead>\n",
       "  <tbody>\n",
       "    <tr>\n",
       "      <th>0</th>\n",
       "      <td>MT212717.1</td>\n",
       "      <td>Meloidogyne incognita</td>\n",
       "      <td>721</td>\n",
       "      <td>212</td>\n",
       "      <td>322</td>\n",
       "      <td>124</td>\n",
       "      <td>63</td>\n",
       "      <td>ATTATATCCTCCTTTGATGATTGATGGACAACCTGGTCGTTCAACA...</td>\n",
       "    </tr>\n",
       "    <tr>\n",
       "      <th>1</th>\n",
       "      <td>MT212716.1</td>\n",
       "      <td>Meloidogyne incognita</td>\n",
       "      <td>550</td>\n",
       "      <td>154</td>\n",
       "      <td>267</td>\n",
       "      <td>86</td>\n",
       "      <td>43</td>\n",
       "      <td>TTGCGCCTGCATTTGGTTTAGTTAGAATAGTAATAGTTTTATTATC...</td>\n",
       "    </tr>\n",
       "    <tr>\n",
       "      <th>2</th>\n",
       "      <td>MK387170.1</td>\n",
       "      <td>Meloidogyne enterolobii</td>\n",
       "      <td>484</td>\n",
       "      <td>123</td>\n",
       "      <td>239</td>\n",
       "      <td>88</td>\n",
       "      <td>34</td>\n",
       "      <td>ATCTTTATGGGCGAAAAGGAATAATTTTAGCAATTATATCTATTGG...</td>\n",
       "    </tr>\n",
       "    <tr>\n",
       "      <th>3</th>\n",
       "      <td>MK190953.1</td>\n",
       "      <td>Meloidogyne luci</td>\n",
       "      <td>647</td>\n",
       "      <td>188</td>\n",
       "      <td>315</td>\n",
       "      <td>96</td>\n",
       "      <td>48</td>\n",
       "      <td>AAAAAGATTTGTATGGACGAAAAGGAATAATTTTAGCTATTATATC...</td>\n",
       "    </tr>\n",
       "    <tr>\n",
       "      <th>4</th>\n",
       "      <td>MK190952.1</td>\n",
       "      <td>Meloidogyne luci</td>\n",
       "      <td>650</td>\n",
       "      <td>189</td>\n",
       "      <td>316</td>\n",
       "      <td>96</td>\n",
       "      <td>49</td>\n",
       "      <td>CTAAAAAAGATTTGTATGGACGAAAAGGAATAATTTTAGCTATTAT...</td>\n",
       "    </tr>\n",
       "    <tr>\n",
       "      <th>...</th>\n",
       "      <td>...</td>\n",
       "      <td>...</td>\n",
       "      <td>...</td>\n",
       "      <td>...</td>\n",
       "      <td>...</td>\n",
       "      <td>...</td>\n",
       "      <td>...</td>\n",
       "      <td>...</td>\n",
       "    </tr>\n",
       "    <tr>\n",
       "      <th>20775</th>\n",
       "      <td>DQ665656.1</td>\n",
       "      <td>Agamermis sp. BH-2006</td>\n",
       "      <td>1539</td>\n",
       "      <td>468</td>\n",
       "      <td>647</td>\n",
       "      <td>238</td>\n",
       "      <td>186</td>\n",
       "      <td>TTATCTAGAGTTAATCATAAACATATTGGATCAATATATTTTATTC...</td>\n",
       "    </tr>\n",
       "    <tr>\n",
       "      <th>20776</th>\n",
       "      <td>NC_025267.1</td>\n",
       "      <td>Uncinaria sanguinis</td>\n",
       "      <td>1578</td>\n",
       "      <td>419</td>\n",
       "      <td>735</td>\n",
       "      <td>272</td>\n",
       "      <td>152</td>\n",
       "      <td>ATTAATTTATATAAAAAATATCAAGGTGGTTTAACAACTTGATTAG...</td>\n",
       "    </tr>\n",
       "    <tr>\n",
       "      <th>20777</th>\n",
       "      <td>KR052144.1</td>\n",
       "      <td>Pseudoterranova azarasi</td>\n",
       "      <td>1576</td>\n",
       "      <td>296</td>\n",
       "      <td>728</td>\n",
       "      <td>358</td>\n",
       "      <td>194</td>\n",
       "      <td>TTGAAAAGTGTTGTGAAGTATCAGGGGGGCTTGTCTGTTTGGTTGG...</td>\n",
       "    </tr>\n",
       "    <tr>\n",
       "      <th>20778</th>\n",
       "      <td>KF924757.1</td>\n",
       "      <td>Uncinaria sanguinis</td>\n",
       "      <td>1578</td>\n",
       "      <td>419</td>\n",
       "      <td>735</td>\n",
       "      <td>272</td>\n",
       "      <td>152</td>\n",
       "      <td>ATTAATTTATATAAAAAATATCAAGGTGGTTTAACAACTTGATTAG...</td>\n",
       "    </tr>\n",
       "    <tr>\n",
       "      <th>20779</th>\n",
       "      <td>KF924756.1</td>\n",
       "      <td>Uncinaria sanguinis</td>\n",
       "      <td>1578</td>\n",
       "      <td>397</td>\n",
       "      <td>730</td>\n",
       "      <td>297</td>\n",
       "      <td>154</td>\n",
       "      <td>ATTAATTTATATAAAAAATATCAAGGTGGTTTAACAACTTGATTAG...</td>\n",
       "    </tr>\n",
       "  </tbody>\n",
       "</table>\n",
       "<p>20780 rows × 8 columns</p>\n",
       "</div>"
      ],
      "text/plain": [
       "                ID                  Species  Length  Num_A  Num_T  Num_G  \\\n",
       "0       MT212717.1    Meloidogyne incognita     721    212    322    124   \n",
       "1       MT212716.1    Meloidogyne incognita     550    154    267     86   \n",
       "2       MK387170.1  Meloidogyne enterolobii     484    123    239     88   \n",
       "3       MK190953.1         Meloidogyne luci     647    188    315     96   \n",
       "4       MK190952.1         Meloidogyne luci     650    189    316     96   \n",
       "...            ...                      ...     ...    ...    ...    ...   \n",
       "20775   DQ665656.1    Agamermis sp. BH-2006    1539    468    647    238   \n",
       "20776  NC_025267.1      Uncinaria sanguinis    1578    419    735    272   \n",
       "20777   KR052144.1  Pseudoterranova azarasi    1576    296    728    358   \n",
       "20778   KF924757.1      Uncinaria sanguinis    1578    419    735    272   \n",
       "20779   KF924756.1      Uncinaria sanguinis    1578    397    730    297   \n",
       "\n",
       "       Num_C                                          Sequences  \n",
       "0         63  ATTATATCCTCCTTTGATGATTGATGGACAACCTGGTCGTTCAACA...  \n",
       "1         43  TTGCGCCTGCATTTGGTTTAGTTAGAATAGTAATAGTTTTATTATC...  \n",
       "2         34  ATCTTTATGGGCGAAAAGGAATAATTTTAGCAATTATATCTATTGG...  \n",
       "3         48  AAAAAGATTTGTATGGACGAAAAGGAATAATTTTAGCTATTATATC...  \n",
       "4         49  CTAAAAAAGATTTGTATGGACGAAAAGGAATAATTTTAGCTATTAT...  \n",
       "...      ...                                                ...  \n",
       "20775    186  TTATCTAGAGTTAATCATAAACATATTGGATCAATATATTTTATTC...  \n",
       "20776    152  ATTAATTTATATAAAAAATATCAAGGTGGTTTAACAACTTGATTAG...  \n",
       "20777    194  TTGAAAAGTGTTGTGAAGTATCAGGGGGGCTTGTCTGTTTGGTTGG...  \n",
       "20778    152  ATTAATTTATATAAAAAATATCAAGGTGGTTTAACAACTTGATTAG...  \n",
       "20779    154  ATTAATTTATATAAAAAATATCAAGGTGGTTTAACAACTTGATTAG...  \n",
       "\n",
       "[20780 rows x 8 columns]"
      ]
     },
     "execution_count": 6,
     "metadata": {},
     "output_type": "execute_result"
    }
   ],
   "source": [
    "nematoda"
   ]
  },
  {
   "cell_type": "code",
   "execution_count": 7,
   "id": "3c6e5226",
   "metadata": {},
   "outputs": [
    {
     "data": {
      "text/plain": [
       "3420"
      ]
     },
     "execution_count": 7,
     "metadata": {},
     "output_type": "execute_result"
    }
   ],
   "source": [
    "len(nematoda.Species.unique())"
   ]
  },
  {
   "cell_type": "code",
   "execution_count": 38,
   "id": "57adfb5b",
   "metadata": {},
   "outputs": [
    {
     "name": "stdout",
     "output_type": "stream",
     "text": [
      "[ 759  504  441  207  421  632  648  559  449  423  501  561  153  597\n",
      "  649  586  528  641 1645 1651  384 1576 1575  658  512  575  533  498\n",
      "  660  552  540  683  302  325  323  337  309  448 1539  573  415  418\n",
      "  417  367  341 1572  408  396  629  676  393  395  356  310  378  317\n",
      "  828 1587  332  333  257  338  621  343  342  315  732 1577 1578  467\n",
      " 1641  377  334  300  252  642  679  672  674  687  678  516  610  701\n",
      " 1075  397  400  391  655  558  548  702  524  523  518  606  631  381\n",
      "  410  626  385  940  921  951  941  437  801  753  666  695  816  696\n",
      "  805  952  650  937  710  301  321  339  311  652  653  783  743  950\n",
      "  645  677  917  931  934  928  945  929  625  635  382  358  549  320\n",
      "  627  574  611  608  585  647  689  580  447 1015  620  622  643  579\n",
      "  582  568  569  554  617  591  728 1581  685  708  366  328 1209 1563\n",
      "  630 1152  654  508  475  483  442 1561  383  624 1560  398  472  715\n",
      "  298  721 1582  707  709  344  402  571  659  656  662  589  595  547\n",
      "  515  661  657  581  604  598  603  673  601  593  599  596  623  671\n",
      "  605  587  670  668  664  583  543  651  535  572  578  557  570  584\n",
      "  525  520  517  566  600  196  541  432  435  370  361 1155 1136  416\n",
      "  373  519 1134  406  536  369  711 1135 1122 1058  412 1584  618  429\n",
      "  633 1647  669 1653  684  237  454  509  550  889  834  510  413  379\n",
      "  374  364  862  451  452  690  428 1554  663  261  266  180  434  347\n",
      "  260  167  667  303 1548  521  522  495  269  314  404  143  335  401\n",
      "  431 1515 1573  362  236  612  270  274  271  272  262  268  613  465\n",
      "  444  466  375 1635  529  389  686  235 1536  279  409  414  345  360\n",
      "  424  326  353  438  419  394  197  704  350  351  775  865  861 1467\n",
      "  795  798  644  691  718  462  357  713  719  722  411  430  443  436\n",
      "  280  363  427  634  628  832  636  688  546  527  705  555  706  399\n",
      "  380 1034 1017  489 1083  602  117   74  712  639  567  607  123  204\n",
      "  151  148  211  386  230  388  470  513  210  136  209  619  208  763\n",
      "  496  503  487  646  155  532  714  726  738  733  682  526  640  486\n",
      "  178  329  312  681  359  724  615  637  234  203  205  405  616  473\n",
      "  111  158  534  420 1606  169  461  330  463 1632  545  692  680  614\n",
      "  390 1027  851  800  293 1431 1422 1503 1509  355  349  286 1097  556\n",
      "  693  564  308  372 1131  440  480  313  256 1566 1565 1470  818  852\n",
      " 1656  403 1579  594  590 1567  885 1032  248  217  214  576 1593  348\n",
      "  336  327  318  450  288 1590  609  560  878  785  725  446  716  354\n",
      "  539  694  954  958  938  939 1591  422  948 1325 1074  996 1533  868\n",
      "  387  324  439  352  365  426  425  368  479  481  291  376  433  700\n",
      "  322  316 1246  251  371  340  294  295  296  213  276  192 1545    3\n",
      "  506  299  638 1494  845 1527 1521  289  287  284  319  331  500  474\n",
      "  859  830 1471  577 1522  551  484 1518 1513  777  772  757  788  492\n",
      "  720  727  729  278  588  499 1105 1120 1128 1115  894  469  458  936\n",
      "  246  970  972  460  102  697  703  592  698  563  565 1614  747  740\n",
      "  742  739  471  766  823  392  110  124  477  476  478  731  871  880\n",
      "  858  514  459  290 1569  485 1540  249  782  789  840  825  804  790\n",
      "  773  819  226  864  305 1666 1140  756 1542 1500 1407 1543 1549  507\n",
      "  346  730  933  307  198  181  177  792  171  497  468  456 1151 1098\n",
      " 1206 1194 1218 1197 1212 1236 1188 1059 1176 1219 1161 1092 1207 1181\n",
      " 1210 1200 1220 1204 1202 1138 1195 1158 1173 1215 1185 1137 1205 1214\n",
      " 1182 1203 1221 1165 1179 1190 1146 1164 1125 1170 1110 1143 1557  407\n",
      "  553  264 1617  255  206  754  767  723  765  761  542  247  445  285\n",
      "  538  494  250  457  455  273 1524 1650  846  870 1611 1596 1680 1512\n",
      "  216  675  744 1079 1040  752  771  784  222  482  453  491  258  229\n",
      "  537  847 1426 1414 1425 1391  749 1530 1087  841  665  150  745  774\n",
      " 1156 1551  741  820  892  843  806  837  844  794  856  836 1026  839\n",
      "  853  855  292 1558 1552  886  935]\n"
     ]
    }
   ],
   "source": [
    "print(nematoda.Length.unique())"
   ]
  },
  {
   "cell_type": "code",
   "execution_count": 6,
   "id": "5c22856d",
   "metadata": {},
   "outputs": [],
   "source": [
    "nematoda['PrA'] = 100 * nematoda['Num_A'] / nematoda['Length']\n",
    "nematoda['PrT'] = 100 * nematoda['Num_T'] / nematoda['Length']\n",
    "nematoda['PrG'] = 100 * nematoda['Num_G'] / nematoda['Length']\n",
    "nematoda['PrC'] = 100 * nematoda['Num_C'] / nematoda['Length']"
   ]
  },
  {
   "cell_type": "code",
   "execution_count": 9,
   "id": "d08dd94c",
   "metadata": {
    "scrolled": true
   },
   "outputs": [
    {
     "name": "stderr",
     "output_type": "stream",
     "text": [
      "/home/emulciber/anaconda3/lib/python3.8/site-packages/pandas/core/indexing.py:1637: SettingWithCopyWarning:\n",
      "\n",
      "\n",
      "A value is trying to be set on a copy of a slice from a DataFrame\n",
      "\n",
      "See the caveats in the documentation: https://pandas.pydata.org/pandas-docs/stable/user_guide/indexing.html#returning-a-view-versus-a-copy\n",
      "\n"
     ]
    }
   ],
   "source": [
    "nematoda['Group'] = 'Other'\n",
    "nematoda['Group'].loc[nematoda['Species'].str.contains('Halicephalobus')] = 'Selected'\n",
    "nematoda['Group'].loc[nematoda['Species'].str.contains('Caenorhabditis elegans')] = 'Selected'"
   ]
  },
  {
   "cell_type": "code",
   "execution_count": null,
   "id": "d5d332d3",
   "metadata": {},
   "outputs": [],
   "source": [
    "nematoda.to_csv('/home/emulciber/MitoClub/devil-worm/Body/3Results/10_GenomeStatistics.csv', sep=';', index=False)"
   ]
  },
  {
   "cell_type": "code",
   "execution_count": 11,
   "id": "51f699b0",
   "metadata": {},
   "outputs": [],
   "source": [
    "nematoda_sort = nematoda.sort_values('PrT')"
   ]
  },
  {
   "cell_type": "code",
   "execution_count": 14,
   "id": "7fb5aebe",
   "metadata": {},
   "outputs": [
    {
     "data": {
      "application/vnd.plotly.v1+json": {
       "config": {
        "plotlyServerURL": "https://plot.ly"
       },
       "data": [
        {
         "alignmentgroup": "True",
         "hovertemplate": "Group=Other<br>Species=%{x}<br>PrT=%{y}<extra></extra>",
         "legendgroup": "Other",
         "marker": {
          "color": "#636efa",
          "pattern": {
           "shape": ""
          }
         },
         "name": "Other",
         "offsetgroup": "Other",
         "orientation": "v",
         "showlegend": true,
         "textposition": "auto",
         "type": "bar",
         "x": [
          "Trichinella zimbabwensis",
          "Trichinella nelsoni",
          "Trichinella nativa",
          "Trichinella spiralis",
          "Trichinella britovi",
          "Trichinella papuae",
          "Trichinella pseudospiralis",
          "Trichinella murrelli",
          "Caenorhabditis briggsae",
          "Xiphinema americanum",
          "Xiphinema rivesi",
          "Paralongidorus litoralis",
          "Longidorus vineacola",
          "Litoditis aff. marina PmI",
          "Litoditis aff. marina PmIV",
          "Litoditis aff. marina PmII",
          "Litoditis aff. marina PmIII",
          "Trichuris trichiura",
          "Trichuris ovis",
          "Trichuris suis",
          "Trichuris discolor",
          "Hexamermis agrotis",
          "Trichuris muris",
          "Romanomermis culicivorax",
          "Eucoleus annulatus",
          "Xiphinema pachtaicum",
          "Thaumamermis cosgrovei",
          "Romanomermis iyengari",
          "Romanomermis nielseni",
          "Strongyloides papillosus",
          "Strelkovimermis spiculatus",
          "Steinernema litorale",
          "Agamermis sp. BH-2006",
          "Philometroides sanguineus",
          "Pristionchus pacificus",
          "Haemonchus contortus",
          "Poteriostomum imparidentatum",
          "Cylicocyclus radiatus",
          "Cylicocyclus nassatus",
          "Caenorhabditis afra",
          "Triodontophorus nipponicus",
          "Cylicodontophorus bicoronatus",
          "Cyathostomum pateratum",
          "Triodontophorus brevicauda",
          "Cylicocyclus ashworthi",
          "Cylicostephanus minutus",
          "Trichostrongylus axei",
          "Haemonchus placei",
          "Cylicocyclus auriculatus",
          "Triodontophorus serratus",
          "Ascaridia columbae",
          "Cyathostomum catinatum",
          "Gnathostoma doloresi",
          "Plectus aquatilis",
          "Caenorhabditis castelli",
          "Rhigonema thysanophora",
          "Mecistocirrus digitatus",
          "Allodiplogaster sudhausi",
          "Caenorhabditis angaria",
          "Acrobeloides varius",
          "Cylicocyclus insigne",
          "Chabertia erschowi",
          "Teladorsagia circumcincta",
          "Trichostrongylus vitrinus",
          "Caenorhabditis nigoni",
          "Macropicola ocydromi",
          "Marshallagia marshalli",
          "Caenorhabditis plicata",
          "Heterakis gallinarum",
          "Chabertia ovina",
          "Caenorhabditis remanei",
          "Toxocara canis",
          "Heterakis dispar",
          "Oesophagostomum quadrispinulatum",
          "Cooperia oncophora",
          "Heterakis beramporia",
          "Hypodontus macropi",
          "Heterorhabditis indica",
          "Heterorhabditis bacteriophora",
          "Cucullanus robustus",
          "Strongylus equinus",
          "Oesophagostomum dentatum",
          "Caenorhabditis doughertyi",
          "Toxocara malaysiensis",
          "Strongylus vulgaris",
          "Caenorhabditis nouraguensis",
          "Caenorhabditis virilis",
          "Caenorhabditis wallacei",
          "Gnathostoma spinigerum",
          "Baylisascaris schroederi",
          "Nippostrongylus brasiliensis",
          "Contracaecum osculatum",
          "Oesophagostomum asperum",
          "Caenorhabditis tropicalis",
          "Caenorhabditis brenneri",
          "Angiostrongylus vasorum",
          "Contracaecum rudolphii B Bullini et al., 1986",
          "Gnathostoma nipponicum",
          "Nematodirus oiratianus",
          "Toxocara cati",
          "Baylisascaris transfuga",
          "Syngamus trachea",
          "Angiostrongylus costaricensis",
          "Ancylostoma ceylanicum",
          "Ortleppascaris sinensis",
          "Caenorhabditis macrosperma",
          "Steinernema glaseri",
          "Oesophagostomum columbianum",
          "Anisakis berlandi",
          "Pseudoterranova krabbei",
          "Anisakis simplex",
          "Nematodirus spathiger",
          "Anisakis pegreffii",
          "Contracaecum ogmorhini sensu lato Pacific Canada",
          "Pseudoterranova decipiens sensu lato Germany",
          "Angiostrongylus malaysiensis",
          "Ancylostoma duodenale",
          "Pseudoterranova cattani",
          "Pseudoterranova azarasi",
          "Contracaecum ogmorhini sensu lato South Africa",
          "Ancylostoma caninum",
          "Contracaecum ogmorhini sensu lato Australia",
          "Uncinaria sanguinis",
          "Baylisascaris procyonis",
          "Pseudoterranova bulbosa",
          "Ancylostoma tubaeforme",
          "Parascaris equorum",
          "Protostrongylus rufescens",
          "Angiostrongylus mackerrasae",
          "Bunostomum trigonocephalum",
          "Angiostrongylus cantonensis",
          "Strongyloides venezuelensis",
          "Parascaris univalens",
          "Oxyuris equi",
          "Panagrellus redivivus",
          "Necator americanus",
          "Enterobius vermicularis",
          "Toxascaris leonina",
          "Ascaris ovis",
          "Ascaris lumbricoides",
          "Ascaris suum",
          "Meloidogyne incognita",
          "Meloidogyne javanica",
          "Meloidogyne enterolobii",
          "Bunostomum phlebotomum",
          "Meloidogyne arenaria",
          "Metastrongylus salmi",
          "Aelurostrongylus abstrusus",
          "Ascaridia galli",
          "Steinernema abbasi",
          "Steinernema carpocapsae",
          "Camallanus cotti",
          "Parafilaroides normani",
          "Metastrongylus pudendotectus",
          "Aphelenchoides besseyi",
          "Dictyocaulus eckerti",
          "Bursaphelenchus xylophilus",
          "Dictyocaulus viviparus",
          "Spirocerca lupi",
          "Meloidogyne graminicola",
          "Thelazia callipaeda",
          "Passalurus ambiguus",
          "Dracunculus medinensis",
          "Bursaphelenchus mucronatus",
          "Wellcomia siamensis",
          "Parastrongyloides trichosuri",
          "Heliconema longissimum",
          "Gongylonema pulchrum",
          "Brugia malayi",
          "Onchocerca flexuosa",
          "Acanthocheilonema viteae",
          "Onchocerca volvulus",
          "Wuchereria bancrofti",
          "Onchocerca ochengi",
          "Setaria labiatopapillosa",
          "Chandlerella quiscali",
          "Loa loa",
          "Onchocerca lupi",
          "Dirofilaria immitis",
          "Setaria digitata",
          "Strongyloides ratti",
          "Diploscapter pachys (synthetic DNA construct)",
          "Diploscapter coronatus",
          "Strongyloides stercoralis",
          "Dirofilaria sp. 'hongkongensis'",
          "Dirofilaria repens"
         ],
         "xaxis": "x",
         "y": [
          25.4212299915754,
          25.474538552166514,
          25.75832918945798,
          26.499461271399497,
          26.55745691492601,
          26.572780791873484,
          26.608931906945152,
          26.753857280617165,
          29.535367545076284,
          29.938222715032474,
          31.511406844106464,
          31.536472616156075,
          31.999408240254457,
          32.187999418858055,
          32.2237400244446,
          32.26272103933598,
          33.63027415233755,
          34.451089278086286,
          35.28610354223433,
          35.86173455250762,
          35.99683544303797,
          37.446151345200356,
          37.81637717121588,
          38.0048866152554,
          38.28445955517779,
          39.082392505404755,
          39.304452106131016,
          40.23468470849411,
          40.33835070114499,
          41.80027320440003,
          42.52357182473655,
          42.9238891744148,
          43.73528168588853,
          43.83780776185839,
          44.02030838661151,
          44.710067591604414,
          44.85778388941159,
          44.96241688349234,
          45.06716741297126,
          45.13864513864514,
          45.21567768776002,
          45.23117185228264,
          45.23223846042541,
          45.23593149248514,
          45.23637936004612,
          45.342109069868364,
          45.34534534534534,
          45.352751756440284,
          45.36186826693659,
          45.41104828186168,
          45.50283540305793,
          45.52681023269258,
          45.52827865884568,
          45.574728639020314,
          45.638960087879894,
          45.654345654345654,
          45.67374022731752,
          45.68572321149641,
          45.697263901147394,
          45.728045325779036,
          45.986404396875905,
          46.01970083910982,
          46.096971420446465,
          46.14492753623188,
          46.21824480369515,
          46.40163994435903,
          46.49053343891728,
          46.511791128579446,
          46.6471051313247,
          46.667153924864785,
          46.67156502571638,
          46.70437089791928,
          46.79528403001072,
          46.80213434690447,
          46.9419184511587,
          46.96688552669141,
          46.99281208742849,
          47.01566637246249,
          47.01566637246249,
          47.02261666189522,
          47.04022000687522,
          47.105054437955154,
          47.1171368175523,
          47.20314033366045,
          47.20648905670932,
          47.22907297258088,
          47.273259644242735,
          47.29660707770886,
          47.418140492932736,
          47.47597780484504,
          47.48783227255709,
          47.5150112131954,
          47.54242246928028,
          47.57099610782759,
          47.58654658035463,
          47.64565638503949,
          47.64655541292255,
          47.661959838217555,
          47.68616055212495,
          47.686934207712596,
          47.737951402872866,
          47.77087458182563,
          47.802723592197275,
          47.89165446559297,
          47.95342782759618,
          47.95716276681581,
          48.04373600316164,
          48.138042917189,
          48.185411426518144,
          48.22196730714081,
          48.268180511641276,
          48.28759523633405,
          48.314526496214825,
          48.31548893647395,
          48.35983383469417,
          48.37969813554306,
          48.38568617447708,
          48.401433691756274,
          48.409058334527735,
          48.422780473879534,
          48.46540788802216,
          48.46993366145945,
          48.4839671344434,
          48.494689127934514,
          48.54195027584724,
          48.543335761107066,
          48.62939779840276,
          48.63793230046259,
          48.67475292003594,
          48.72856727695437,
          48.74416537008224,
          48.765354725495115,
          48.87931034482759,
          48.92603181584928,
          48.935864250790914,
          49.224549797868434,
          49.58223237877598,
          49.60167714884696,
          49.69904815229563,
          49.75141796792942,
          49.78297395687483,
          49.847129430415585,
          49.904324531190206,
          50.08502902715065,
          50.13052936910805,
          50.23890784982935,
          50.283059950645956,
          50.58578308057213,
          50.64033769764613,
          50.790002872737716,
          50.80071813285458,
          50.95246075638232,
          51.23005814820337,
          51.352135141013555,
          51.57868771583621,
          51.63157894736842,
          51.69847069968873,
          51.78061607813674,
          51.828737300435414,
          52.177242329879014,
          52.18027509511267,
          52.499465164372815,
          52.60459392945037,
          52.60920249605705,
          52.61891279728199,
          52.653478356084385,
          52.88758265980896,
          53.674445571822005,
          53.86248810133997,
          53.8765359859567,
          53.97843194403964,
          54.04088164690478,
          54.07744206512174,
          54.270954598370196,
          54.53046594982079,
          54.6485425601512,
          54.76085356880059,
          54.85979950602935,
          54.90082524974663,
          55.712117927595926,
          55.83719670058402,
          56.14873441349959,
          56.30886530124084,
          56.34499309141153,
          56.630116959064324,
          56.936014625228516
         ],
         "yaxis": "y"
        },
        {
         "alignmentgroup": "True",
         "hovertemplate": "Group=Selected<br>Species=%{x}<br>PrT=%{y}<extra></extra>",
         "legendgroup": "Selected",
         "marker": {
          "color": "#EF553B",
          "pattern": {
           "shape": ""
          }
         },
         "name": "Selected",
         "offsetgroup": "Selected",
         "orientation": "v",
         "showlegend": true,
         "textposition": "auto",
         "type": "bar",
         "x": [
          "Caenorhabditis elegans",
          "Halicephalobus gingivalis",
          "Halicephalobus sp. NKZ332",
          "Halicephalobus mephisto"
         ],
         "xaxis": "x",
         "y": [
          44.79483833550819,
          52.420822715689845,
          52.642949733544576,
          53.12565335563454
         ],
         "yaxis": "y"
        }
       ],
       "layout": {
        "barmode": "relative",
        "legend": {
         "title": {
          "text": "Group"
         },
         "tracegroupgap": 0
        },
        "margin": {
         "t": 60
        },
        "template": {
         "data": {
          "bar": [
           {
            "error_x": {
             "color": "#2a3f5f"
            },
            "error_y": {
             "color": "#2a3f5f"
            },
            "marker": {
             "line": {
              "color": "#E5ECF6",
              "width": 0.5
             },
             "pattern": {
              "fillmode": "overlay",
              "size": 10,
              "solidity": 0.2
             }
            },
            "type": "bar"
           }
          ],
          "barpolar": [
           {
            "marker": {
             "line": {
              "color": "#E5ECF6",
              "width": 0.5
             },
             "pattern": {
              "fillmode": "overlay",
              "size": 10,
              "solidity": 0.2
             }
            },
            "type": "barpolar"
           }
          ],
          "carpet": [
           {
            "aaxis": {
             "endlinecolor": "#2a3f5f",
             "gridcolor": "white",
             "linecolor": "white",
             "minorgridcolor": "white",
             "startlinecolor": "#2a3f5f"
            },
            "baxis": {
             "endlinecolor": "#2a3f5f",
             "gridcolor": "white",
             "linecolor": "white",
             "minorgridcolor": "white",
             "startlinecolor": "#2a3f5f"
            },
            "type": "carpet"
           }
          ],
          "choropleth": [
           {
            "colorbar": {
             "outlinewidth": 0,
             "ticks": ""
            },
            "type": "choropleth"
           }
          ],
          "contour": [
           {
            "colorbar": {
             "outlinewidth": 0,
             "ticks": ""
            },
            "colorscale": [
             [
              0,
              "#0d0887"
             ],
             [
              0.1111111111111111,
              "#46039f"
             ],
             [
              0.2222222222222222,
              "#7201a8"
             ],
             [
              0.3333333333333333,
              "#9c179e"
             ],
             [
              0.4444444444444444,
              "#bd3786"
             ],
             [
              0.5555555555555556,
              "#d8576b"
             ],
             [
              0.6666666666666666,
              "#ed7953"
             ],
             [
              0.7777777777777778,
              "#fb9f3a"
             ],
             [
              0.8888888888888888,
              "#fdca26"
             ],
             [
              1,
              "#f0f921"
             ]
            ],
            "type": "contour"
           }
          ],
          "contourcarpet": [
           {
            "colorbar": {
             "outlinewidth": 0,
             "ticks": ""
            },
            "type": "contourcarpet"
           }
          ],
          "heatmap": [
           {
            "colorbar": {
             "outlinewidth": 0,
             "ticks": ""
            },
            "colorscale": [
             [
              0,
              "#0d0887"
             ],
             [
              0.1111111111111111,
              "#46039f"
             ],
             [
              0.2222222222222222,
              "#7201a8"
             ],
             [
              0.3333333333333333,
              "#9c179e"
             ],
             [
              0.4444444444444444,
              "#bd3786"
             ],
             [
              0.5555555555555556,
              "#d8576b"
             ],
             [
              0.6666666666666666,
              "#ed7953"
             ],
             [
              0.7777777777777778,
              "#fb9f3a"
             ],
             [
              0.8888888888888888,
              "#fdca26"
             ],
             [
              1,
              "#f0f921"
             ]
            ],
            "type": "heatmap"
           }
          ],
          "heatmapgl": [
           {
            "colorbar": {
             "outlinewidth": 0,
             "ticks": ""
            },
            "colorscale": [
             [
              0,
              "#0d0887"
             ],
             [
              0.1111111111111111,
              "#46039f"
             ],
             [
              0.2222222222222222,
              "#7201a8"
             ],
             [
              0.3333333333333333,
              "#9c179e"
             ],
             [
              0.4444444444444444,
              "#bd3786"
             ],
             [
              0.5555555555555556,
              "#d8576b"
             ],
             [
              0.6666666666666666,
              "#ed7953"
             ],
             [
              0.7777777777777778,
              "#fb9f3a"
             ],
             [
              0.8888888888888888,
              "#fdca26"
             ],
             [
              1,
              "#f0f921"
             ]
            ],
            "type": "heatmapgl"
           }
          ],
          "histogram": [
           {
            "marker": {
             "pattern": {
              "fillmode": "overlay",
              "size": 10,
              "solidity": 0.2
             }
            },
            "type": "histogram"
           }
          ],
          "histogram2d": [
           {
            "colorbar": {
             "outlinewidth": 0,
             "ticks": ""
            },
            "colorscale": [
             [
              0,
              "#0d0887"
             ],
             [
              0.1111111111111111,
              "#46039f"
             ],
             [
              0.2222222222222222,
              "#7201a8"
             ],
             [
              0.3333333333333333,
              "#9c179e"
             ],
             [
              0.4444444444444444,
              "#bd3786"
             ],
             [
              0.5555555555555556,
              "#d8576b"
             ],
             [
              0.6666666666666666,
              "#ed7953"
             ],
             [
              0.7777777777777778,
              "#fb9f3a"
             ],
             [
              0.8888888888888888,
              "#fdca26"
             ],
             [
              1,
              "#f0f921"
             ]
            ],
            "type": "histogram2d"
           }
          ],
          "histogram2dcontour": [
           {
            "colorbar": {
             "outlinewidth": 0,
             "ticks": ""
            },
            "colorscale": [
             [
              0,
              "#0d0887"
             ],
             [
              0.1111111111111111,
              "#46039f"
             ],
             [
              0.2222222222222222,
              "#7201a8"
             ],
             [
              0.3333333333333333,
              "#9c179e"
             ],
             [
              0.4444444444444444,
              "#bd3786"
             ],
             [
              0.5555555555555556,
              "#d8576b"
             ],
             [
              0.6666666666666666,
              "#ed7953"
             ],
             [
              0.7777777777777778,
              "#fb9f3a"
             ],
             [
              0.8888888888888888,
              "#fdca26"
             ],
             [
              1,
              "#f0f921"
             ]
            ],
            "type": "histogram2dcontour"
           }
          ],
          "mesh3d": [
           {
            "colorbar": {
             "outlinewidth": 0,
             "ticks": ""
            },
            "type": "mesh3d"
           }
          ],
          "parcoords": [
           {
            "line": {
             "colorbar": {
              "outlinewidth": 0,
              "ticks": ""
             }
            },
            "type": "parcoords"
           }
          ],
          "pie": [
           {
            "automargin": true,
            "type": "pie"
           }
          ],
          "scatter": [
           {
            "marker": {
             "colorbar": {
              "outlinewidth": 0,
              "ticks": ""
             }
            },
            "type": "scatter"
           }
          ],
          "scatter3d": [
           {
            "line": {
             "colorbar": {
              "outlinewidth": 0,
              "ticks": ""
             }
            },
            "marker": {
             "colorbar": {
              "outlinewidth": 0,
              "ticks": ""
             }
            },
            "type": "scatter3d"
           }
          ],
          "scattercarpet": [
           {
            "marker": {
             "colorbar": {
              "outlinewidth": 0,
              "ticks": ""
             }
            },
            "type": "scattercarpet"
           }
          ],
          "scattergeo": [
           {
            "marker": {
             "colorbar": {
              "outlinewidth": 0,
              "ticks": ""
             }
            },
            "type": "scattergeo"
           }
          ],
          "scattergl": [
           {
            "marker": {
             "colorbar": {
              "outlinewidth": 0,
              "ticks": ""
             }
            },
            "type": "scattergl"
           }
          ],
          "scattermapbox": [
           {
            "marker": {
             "colorbar": {
              "outlinewidth": 0,
              "ticks": ""
             }
            },
            "type": "scattermapbox"
           }
          ],
          "scatterpolar": [
           {
            "marker": {
             "colorbar": {
              "outlinewidth": 0,
              "ticks": ""
             }
            },
            "type": "scatterpolar"
           }
          ],
          "scatterpolargl": [
           {
            "marker": {
             "colorbar": {
              "outlinewidth": 0,
              "ticks": ""
             }
            },
            "type": "scatterpolargl"
           }
          ],
          "scatterternary": [
           {
            "marker": {
             "colorbar": {
              "outlinewidth": 0,
              "ticks": ""
             }
            },
            "type": "scatterternary"
           }
          ],
          "surface": [
           {
            "colorbar": {
             "outlinewidth": 0,
             "ticks": ""
            },
            "colorscale": [
             [
              0,
              "#0d0887"
             ],
             [
              0.1111111111111111,
              "#46039f"
             ],
             [
              0.2222222222222222,
              "#7201a8"
             ],
             [
              0.3333333333333333,
              "#9c179e"
             ],
             [
              0.4444444444444444,
              "#bd3786"
             ],
             [
              0.5555555555555556,
              "#d8576b"
             ],
             [
              0.6666666666666666,
              "#ed7953"
             ],
             [
              0.7777777777777778,
              "#fb9f3a"
             ],
             [
              0.8888888888888888,
              "#fdca26"
             ],
             [
              1,
              "#f0f921"
             ]
            ],
            "type": "surface"
           }
          ],
          "table": [
           {
            "cells": {
             "fill": {
              "color": "#EBF0F8"
             },
             "line": {
              "color": "white"
             }
            },
            "header": {
             "fill": {
              "color": "#C8D4E3"
             },
             "line": {
              "color": "white"
             }
            },
            "type": "table"
           }
          ]
         },
         "layout": {
          "annotationdefaults": {
           "arrowcolor": "#2a3f5f",
           "arrowhead": 0,
           "arrowwidth": 1
          },
          "autotypenumbers": "strict",
          "coloraxis": {
           "colorbar": {
            "outlinewidth": 0,
            "ticks": ""
           }
          },
          "colorscale": {
           "diverging": [
            [
             0,
             "#8e0152"
            ],
            [
             0.1,
             "#c51b7d"
            ],
            [
             0.2,
             "#de77ae"
            ],
            [
             0.3,
             "#f1b6da"
            ],
            [
             0.4,
             "#fde0ef"
            ],
            [
             0.5,
             "#f7f7f7"
            ],
            [
             0.6,
             "#e6f5d0"
            ],
            [
             0.7,
             "#b8e186"
            ],
            [
             0.8,
             "#7fbc41"
            ],
            [
             0.9,
             "#4d9221"
            ],
            [
             1,
             "#276419"
            ]
           ],
           "sequential": [
            [
             0,
             "#0d0887"
            ],
            [
             0.1111111111111111,
             "#46039f"
            ],
            [
             0.2222222222222222,
             "#7201a8"
            ],
            [
             0.3333333333333333,
             "#9c179e"
            ],
            [
             0.4444444444444444,
             "#bd3786"
            ],
            [
             0.5555555555555556,
             "#d8576b"
            ],
            [
             0.6666666666666666,
             "#ed7953"
            ],
            [
             0.7777777777777778,
             "#fb9f3a"
            ],
            [
             0.8888888888888888,
             "#fdca26"
            ],
            [
             1,
             "#f0f921"
            ]
           ],
           "sequentialminus": [
            [
             0,
             "#0d0887"
            ],
            [
             0.1111111111111111,
             "#46039f"
            ],
            [
             0.2222222222222222,
             "#7201a8"
            ],
            [
             0.3333333333333333,
             "#9c179e"
            ],
            [
             0.4444444444444444,
             "#bd3786"
            ],
            [
             0.5555555555555556,
             "#d8576b"
            ],
            [
             0.6666666666666666,
             "#ed7953"
            ],
            [
             0.7777777777777778,
             "#fb9f3a"
            ],
            [
             0.8888888888888888,
             "#fdca26"
            ],
            [
             1,
             "#f0f921"
            ]
           ]
          },
          "colorway": [
           "#636efa",
           "#EF553B",
           "#00cc96",
           "#ab63fa",
           "#FFA15A",
           "#19d3f3",
           "#FF6692",
           "#B6E880",
           "#FF97FF",
           "#FECB52"
          ],
          "font": {
           "color": "#2a3f5f"
          },
          "geo": {
           "bgcolor": "white",
           "lakecolor": "white",
           "landcolor": "#E5ECF6",
           "showlakes": true,
           "showland": true,
           "subunitcolor": "white"
          },
          "hoverlabel": {
           "align": "left"
          },
          "hovermode": "closest",
          "mapbox": {
           "style": "light"
          },
          "paper_bgcolor": "white",
          "plot_bgcolor": "#E5ECF6",
          "polar": {
           "angularaxis": {
            "gridcolor": "white",
            "linecolor": "white",
            "ticks": ""
           },
           "bgcolor": "#E5ECF6",
           "radialaxis": {
            "gridcolor": "white",
            "linecolor": "white",
            "ticks": ""
           }
          },
          "scene": {
           "xaxis": {
            "backgroundcolor": "#E5ECF6",
            "gridcolor": "white",
            "gridwidth": 2,
            "linecolor": "white",
            "showbackground": true,
            "ticks": "",
            "zerolinecolor": "white"
           },
           "yaxis": {
            "backgroundcolor": "#E5ECF6",
            "gridcolor": "white",
            "gridwidth": 2,
            "linecolor": "white",
            "showbackground": true,
            "ticks": "",
            "zerolinecolor": "white"
           },
           "zaxis": {
            "backgroundcolor": "#E5ECF6",
            "gridcolor": "white",
            "gridwidth": 2,
            "linecolor": "white",
            "showbackground": true,
            "ticks": "",
            "zerolinecolor": "white"
           }
          },
          "shapedefaults": {
           "line": {
            "color": "#2a3f5f"
           }
          },
          "ternary": {
           "aaxis": {
            "gridcolor": "white",
            "linecolor": "white",
            "ticks": ""
           },
           "baxis": {
            "gridcolor": "white",
            "linecolor": "white",
            "ticks": ""
           },
           "bgcolor": "#E5ECF6",
           "caxis": {
            "gridcolor": "white",
            "linecolor": "white",
            "ticks": ""
           }
          },
          "title": {
           "x": 0.05
          },
          "xaxis": {
           "automargin": true,
           "gridcolor": "white",
           "linecolor": "white",
           "ticks": "",
           "title": {
            "standoff": 15
           },
           "zerolinecolor": "white",
           "zerolinewidth": 2
          },
          "yaxis": {
           "automargin": true,
           "gridcolor": "white",
           "linecolor": "white",
           "ticks": "",
           "title": {
            "standoff": 15
           },
           "zerolinecolor": "white",
           "zerolinewidth": 2
          }
         }
        },
        "xaxis": {
         "anchor": "y",
         "domain": [
          0,
          1
         ],
         "title": {
          "text": "Species"
         }
        },
        "yaxis": {
         "anchor": "x",
         "domain": [
          0,
          1
         ],
         "title": {
          "text": "PrT"
         }
        }
       }
      },
      "text/html": [
       "<div>                            <div id=\"5c583040-49d6-4dd6-9ab7-d8a61f4e4e5a\" class=\"plotly-graph-div\" style=\"height:525px; width:100%;\"></div>            <script type=\"text/javascript\">                require([\"plotly\"], function(Plotly) {                    window.PLOTLYENV=window.PLOTLYENV || {};                                    if (document.getElementById(\"5c583040-49d6-4dd6-9ab7-d8a61f4e4e5a\")) {                    Plotly.newPlot(                        \"5c583040-49d6-4dd6-9ab7-d8a61f4e4e5a\",                        [{\"alignmentgroup\":\"True\",\"hovertemplate\":\"Group=Other<br>Species=%{x}<br>PrT=%{y}<extra></extra>\",\"legendgroup\":\"Other\",\"marker\":{\"color\":\"#636efa\",\"pattern\":{\"shape\":\"\"}},\"name\":\"Other\",\"offsetgroup\":\"Other\",\"orientation\":\"v\",\"showlegend\":true,\"textposition\":\"auto\",\"x\":[\"Trichinella zimbabwensis\",\"Trichinella nelsoni\",\"Trichinella nativa\",\"Trichinella spiralis\",\"Trichinella britovi\",\"Trichinella papuae\",\"Trichinella pseudospiralis\",\"Trichinella murrelli\",\"Caenorhabditis briggsae\",\"Xiphinema americanum\",\"Xiphinema rivesi\",\"Paralongidorus litoralis\",\"Longidorus vineacola\",\"Litoditis aff. marina PmI\",\"Litoditis aff. marina PmIV\",\"Litoditis aff. marina PmII\",\"Litoditis aff. marina PmIII\",\"Trichuris trichiura\",\"Trichuris ovis\",\"Trichuris suis\",\"Trichuris discolor\",\"Hexamermis agrotis\",\"Trichuris muris\",\"Romanomermis culicivorax\",\"Eucoleus annulatus\",\"Xiphinema pachtaicum\",\"Thaumamermis cosgrovei\",\"Romanomermis iyengari\",\"Romanomermis nielseni\",\"Strongyloides papillosus\",\"Strelkovimermis spiculatus\",\"Steinernema litorale\",\"Agamermis sp. BH-2006\",\"Philometroides sanguineus\",\"Pristionchus pacificus\",\"Haemonchus contortus\",\"Poteriostomum imparidentatum\",\"Cylicocyclus radiatus\",\"Cylicocyclus nassatus\",\"Caenorhabditis afra\",\"Triodontophorus nipponicus\",\"Cylicodontophorus bicoronatus\",\"Cyathostomum pateratum\",\"Triodontophorus brevicauda\",\"Cylicocyclus ashworthi\",\"Cylicostephanus minutus\",\"Trichostrongylus axei\",\"Haemonchus placei\",\"Cylicocyclus auriculatus\",\"Triodontophorus serratus\",\"Ascaridia columbae\",\"Cyathostomum catinatum\",\"Gnathostoma doloresi\",\"Plectus aquatilis\",\"Caenorhabditis castelli\",\"Rhigonema thysanophora\",\"Mecistocirrus digitatus\",\"Allodiplogaster sudhausi\",\"Caenorhabditis angaria\",\"Acrobeloides varius\",\"Cylicocyclus insigne\",\"Chabertia erschowi\",\"Teladorsagia circumcincta\",\"Trichostrongylus vitrinus\",\"Caenorhabditis nigoni\",\"Macropicola ocydromi\",\"Marshallagia marshalli\",\"Caenorhabditis plicata\",\"Heterakis gallinarum\",\"Chabertia ovina\",\"Caenorhabditis remanei\",\"Toxocara canis\",\"Heterakis dispar\",\"Oesophagostomum quadrispinulatum\",\"Cooperia oncophora\",\"Heterakis beramporia\",\"Hypodontus macropi\",\"Heterorhabditis indica\",\"Heterorhabditis bacteriophora\",\"Cucullanus robustus\",\"Strongylus equinus\",\"Oesophagostomum dentatum\",\"Caenorhabditis doughertyi\",\"Toxocara malaysiensis\",\"Strongylus vulgaris\",\"Caenorhabditis nouraguensis\",\"Caenorhabditis virilis\",\"Caenorhabditis wallacei\",\"Gnathostoma spinigerum\",\"Baylisascaris schroederi\",\"Nippostrongylus brasiliensis\",\"Contracaecum osculatum\",\"Oesophagostomum asperum\",\"Caenorhabditis tropicalis\",\"Caenorhabditis brenneri\",\"Angiostrongylus vasorum\",\"Contracaecum rudolphii B Bullini et al., 1986\",\"Gnathostoma nipponicum\",\"Nematodirus oiratianus\",\"Toxocara cati\",\"Baylisascaris transfuga\",\"Syngamus trachea\",\"Angiostrongylus costaricensis\",\"Ancylostoma ceylanicum\",\"Ortleppascaris sinensis\",\"Caenorhabditis macrosperma\",\"Steinernema glaseri\",\"Oesophagostomum columbianum\",\"Anisakis berlandi\",\"Pseudoterranova krabbei\",\"Anisakis simplex\",\"Nematodirus spathiger\",\"Anisakis pegreffii\",\"Contracaecum ogmorhini sensu lato Pacific Canada\",\"Pseudoterranova decipiens sensu lato Germany\",\"Angiostrongylus malaysiensis\",\"Ancylostoma duodenale\",\"Pseudoterranova cattani\",\"Pseudoterranova azarasi\",\"Contracaecum ogmorhini sensu lato South Africa\",\"Ancylostoma caninum\",\"Contracaecum ogmorhini sensu lato Australia\",\"Uncinaria sanguinis\",\"Baylisascaris procyonis\",\"Pseudoterranova bulbosa\",\"Ancylostoma tubaeforme\",\"Parascaris equorum\",\"Protostrongylus rufescens\",\"Angiostrongylus mackerrasae\",\"Bunostomum trigonocephalum\",\"Angiostrongylus cantonensis\",\"Strongyloides venezuelensis\",\"Parascaris univalens\",\"Oxyuris equi\",\"Panagrellus redivivus\",\"Necator americanus\",\"Enterobius vermicularis\",\"Toxascaris leonina\",\"Ascaris ovis\",\"Ascaris lumbricoides\",\"Ascaris suum\",\"Meloidogyne incognita\",\"Meloidogyne javanica\",\"Meloidogyne enterolobii\",\"Bunostomum phlebotomum\",\"Meloidogyne arenaria\",\"Metastrongylus salmi\",\"Aelurostrongylus abstrusus\",\"Ascaridia galli\",\"Steinernema abbasi\",\"Steinernema carpocapsae\",\"Camallanus cotti\",\"Parafilaroides normani\",\"Metastrongylus pudendotectus\",\"Aphelenchoides besseyi\",\"Dictyocaulus eckerti\",\"Bursaphelenchus xylophilus\",\"Dictyocaulus viviparus\",\"Spirocerca lupi\",\"Meloidogyne graminicola\",\"Thelazia callipaeda\",\"Passalurus ambiguus\",\"Dracunculus medinensis\",\"Bursaphelenchus mucronatus\",\"Wellcomia siamensis\",\"Parastrongyloides trichosuri\",\"Heliconema longissimum\",\"Gongylonema pulchrum\",\"Brugia malayi\",\"Onchocerca flexuosa\",\"Acanthocheilonema viteae\",\"Onchocerca volvulus\",\"Wuchereria bancrofti\",\"Onchocerca ochengi\",\"Setaria labiatopapillosa\",\"Chandlerella quiscali\",\"Loa loa\",\"Onchocerca lupi\",\"Dirofilaria immitis\",\"Setaria digitata\",\"Strongyloides ratti\",\"Diploscapter pachys (synthetic DNA construct)\",\"Diploscapter coronatus\",\"Strongyloides stercoralis\",\"Dirofilaria sp. 'hongkongensis'\",\"Dirofilaria repens\"],\"xaxis\":\"x\",\"y\":[25.4212299915754,25.474538552166514,25.75832918945798,26.499461271399497,26.55745691492601,26.572780791873484,26.608931906945152,26.753857280617165,29.535367545076284,29.938222715032474,31.511406844106464,31.536472616156075,31.999408240254457,32.187999418858055,32.2237400244446,32.26272103933598,33.63027415233755,34.451089278086286,35.28610354223433,35.86173455250762,35.99683544303797,37.446151345200356,37.81637717121588,38.0048866152554,38.28445955517779,39.082392505404755,39.304452106131016,40.23468470849411,40.33835070114499,41.80027320440003,42.52357182473655,42.9238891744148,43.73528168588853,43.83780776185839,44.02030838661151,44.710067591604414,44.85778388941159,44.96241688349234,45.06716741297126,45.13864513864514,45.21567768776002,45.23117185228264,45.23223846042541,45.23593149248514,45.23637936004612,45.342109069868364,45.34534534534534,45.352751756440284,45.36186826693659,45.41104828186168,45.50283540305793,45.52681023269258,45.52827865884568,45.574728639020314,45.638960087879894,45.654345654345654,45.67374022731752,45.68572321149641,45.697263901147394,45.728045325779036,45.986404396875905,46.01970083910982,46.096971420446465,46.14492753623188,46.21824480369515,46.40163994435903,46.49053343891728,46.511791128579446,46.6471051313247,46.667153924864785,46.67156502571638,46.70437089791928,46.79528403001072,46.80213434690447,46.9419184511587,46.96688552669141,46.99281208742849,47.01566637246249,47.01566637246249,47.02261666189522,47.04022000687522,47.105054437955154,47.1171368175523,47.20314033366045,47.20648905670932,47.22907297258088,47.273259644242735,47.29660707770886,47.418140492932736,47.47597780484504,47.48783227255709,47.5150112131954,47.54242246928028,47.57099610782759,47.58654658035463,47.64565638503949,47.64655541292255,47.661959838217555,47.68616055212495,47.686934207712596,47.737951402872866,47.77087458182563,47.802723592197275,47.89165446559297,47.95342782759618,47.95716276681581,48.04373600316164,48.138042917189,48.185411426518144,48.22196730714081,48.268180511641276,48.28759523633405,48.314526496214825,48.31548893647395,48.35983383469417,48.37969813554306,48.38568617447708,48.401433691756274,48.409058334527735,48.422780473879534,48.46540788802216,48.46993366145945,48.4839671344434,48.494689127934514,48.54195027584724,48.543335761107066,48.62939779840276,48.63793230046259,48.67475292003594,48.72856727695437,48.74416537008224,48.765354725495115,48.87931034482759,48.92603181584928,48.935864250790914,49.224549797868434,49.58223237877598,49.60167714884696,49.69904815229563,49.75141796792942,49.78297395687483,49.847129430415585,49.904324531190206,50.08502902715065,50.13052936910805,50.23890784982935,50.283059950645956,50.58578308057213,50.64033769764613,50.790002872737716,50.80071813285458,50.95246075638232,51.23005814820337,51.352135141013555,51.57868771583621,51.63157894736842,51.69847069968873,51.78061607813674,51.828737300435414,52.177242329879014,52.18027509511267,52.499465164372815,52.60459392945037,52.60920249605705,52.61891279728199,52.653478356084385,52.88758265980896,53.674445571822005,53.86248810133997,53.8765359859567,53.97843194403964,54.04088164690478,54.07744206512174,54.270954598370196,54.53046594982079,54.6485425601512,54.76085356880059,54.85979950602935,54.90082524974663,55.712117927595926,55.83719670058402,56.14873441349959,56.30886530124084,56.34499309141153,56.630116959064324,56.936014625228516],\"yaxis\":\"y\",\"type\":\"bar\"},{\"alignmentgroup\":\"True\",\"hovertemplate\":\"Group=Selected<br>Species=%{x}<br>PrT=%{y}<extra></extra>\",\"legendgroup\":\"Selected\",\"marker\":{\"color\":\"#EF553B\",\"pattern\":{\"shape\":\"\"}},\"name\":\"Selected\",\"offsetgroup\":\"Selected\",\"orientation\":\"v\",\"showlegend\":true,\"textposition\":\"auto\",\"x\":[\"Caenorhabditis elegans\",\"Halicephalobus gingivalis\",\"Halicephalobus sp. NKZ332\",\"Halicephalobus mephisto\"],\"xaxis\":\"x\",\"y\":[44.79483833550819,52.420822715689845,52.642949733544576,53.12565335563454],\"yaxis\":\"y\",\"type\":\"bar\"}],                        {\"template\":{\"data\":{\"bar\":[{\"error_x\":{\"color\":\"#2a3f5f\"},\"error_y\":{\"color\":\"#2a3f5f\"},\"marker\":{\"line\":{\"color\":\"#E5ECF6\",\"width\":0.5},\"pattern\":{\"fillmode\":\"overlay\",\"size\":10,\"solidity\":0.2}},\"type\":\"bar\"}],\"barpolar\":[{\"marker\":{\"line\":{\"color\":\"#E5ECF6\",\"width\":0.5},\"pattern\":{\"fillmode\":\"overlay\",\"size\":10,\"solidity\":0.2}},\"type\":\"barpolar\"}],\"carpet\":[{\"aaxis\":{\"endlinecolor\":\"#2a3f5f\",\"gridcolor\":\"white\",\"linecolor\":\"white\",\"minorgridcolor\":\"white\",\"startlinecolor\":\"#2a3f5f\"},\"baxis\":{\"endlinecolor\":\"#2a3f5f\",\"gridcolor\":\"white\",\"linecolor\":\"white\",\"minorgridcolor\":\"white\",\"startlinecolor\":\"#2a3f5f\"},\"type\":\"carpet\"}],\"choropleth\":[{\"colorbar\":{\"outlinewidth\":0,\"ticks\":\"\"},\"type\":\"choropleth\"}],\"contour\":[{\"colorbar\":{\"outlinewidth\":0,\"ticks\":\"\"},\"colorscale\":[[0.0,\"#0d0887\"],[0.1111111111111111,\"#46039f\"],[0.2222222222222222,\"#7201a8\"],[0.3333333333333333,\"#9c179e\"],[0.4444444444444444,\"#bd3786\"],[0.5555555555555556,\"#d8576b\"],[0.6666666666666666,\"#ed7953\"],[0.7777777777777778,\"#fb9f3a\"],[0.8888888888888888,\"#fdca26\"],[1.0,\"#f0f921\"]],\"type\":\"contour\"}],\"contourcarpet\":[{\"colorbar\":{\"outlinewidth\":0,\"ticks\":\"\"},\"type\":\"contourcarpet\"}],\"heatmap\":[{\"colorbar\":{\"outlinewidth\":0,\"ticks\":\"\"},\"colorscale\":[[0.0,\"#0d0887\"],[0.1111111111111111,\"#46039f\"],[0.2222222222222222,\"#7201a8\"],[0.3333333333333333,\"#9c179e\"],[0.4444444444444444,\"#bd3786\"],[0.5555555555555556,\"#d8576b\"],[0.6666666666666666,\"#ed7953\"],[0.7777777777777778,\"#fb9f3a\"],[0.8888888888888888,\"#fdca26\"],[1.0,\"#f0f921\"]],\"type\":\"heatmap\"}],\"heatmapgl\":[{\"colorbar\":{\"outlinewidth\":0,\"ticks\":\"\"},\"colorscale\":[[0.0,\"#0d0887\"],[0.1111111111111111,\"#46039f\"],[0.2222222222222222,\"#7201a8\"],[0.3333333333333333,\"#9c179e\"],[0.4444444444444444,\"#bd3786\"],[0.5555555555555556,\"#d8576b\"],[0.6666666666666666,\"#ed7953\"],[0.7777777777777778,\"#fb9f3a\"],[0.8888888888888888,\"#fdca26\"],[1.0,\"#f0f921\"]],\"type\":\"heatmapgl\"}],\"histogram\":[{\"marker\":{\"pattern\":{\"fillmode\":\"overlay\",\"size\":10,\"solidity\":0.2}},\"type\":\"histogram\"}],\"histogram2d\":[{\"colorbar\":{\"outlinewidth\":0,\"ticks\":\"\"},\"colorscale\":[[0.0,\"#0d0887\"],[0.1111111111111111,\"#46039f\"],[0.2222222222222222,\"#7201a8\"],[0.3333333333333333,\"#9c179e\"],[0.4444444444444444,\"#bd3786\"],[0.5555555555555556,\"#d8576b\"],[0.6666666666666666,\"#ed7953\"],[0.7777777777777778,\"#fb9f3a\"],[0.8888888888888888,\"#fdca26\"],[1.0,\"#f0f921\"]],\"type\":\"histogram2d\"}],\"histogram2dcontour\":[{\"colorbar\":{\"outlinewidth\":0,\"ticks\":\"\"},\"colorscale\":[[0.0,\"#0d0887\"],[0.1111111111111111,\"#46039f\"],[0.2222222222222222,\"#7201a8\"],[0.3333333333333333,\"#9c179e\"],[0.4444444444444444,\"#bd3786\"],[0.5555555555555556,\"#d8576b\"],[0.6666666666666666,\"#ed7953\"],[0.7777777777777778,\"#fb9f3a\"],[0.8888888888888888,\"#fdca26\"],[1.0,\"#f0f921\"]],\"type\":\"histogram2dcontour\"}],\"mesh3d\":[{\"colorbar\":{\"outlinewidth\":0,\"ticks\":\"\"},\"type\":\"mesh3d\"}],\"parcoords\":[{\"line\":{\"colorbar\":{\"outlinewidth\":0,\"ticks\":\"\"}},\"type\":\"parcoords\"}],\"pie\":[{\"automargin\":true,\"type\":\"pie\"}],\"scatter\":[{\"marker\":{\"colorbar\":{\"outlinewidth\":0,\"ticks\":\"\"}},\"type\":\"scatter\"}],\"scatter3d\":[{\"line\":{\"colorbar\":{\"outlinewidth\":0,\"ticks\":\"\"}},\"marker\":{\"colorbar\":{\"outlinewidth\":0,\"ticks\":\"\"}},\"type\":\"scatter3d\"}],\"scattercarpet\":[{\"marker\":{\"colorbar\":{\"outlinewidth\":0,\"ticks\":\"\"}},\"type\":\"scattercarpet\"}],\"scattergeo\":[{\"marker\":{\"colorbar\":{\"outlinewidth\":0,\"ticks\":\"\"}},\"type\":\"scattergeo\"}],\"scattergl\":[{\"marker\":{\"colorbar\":{\"outlinewidth\":0,\"ticks\":\"\"}},\"type\":\"scattergl\"}],\"scattermapbox\":[{\"marker\":{\"colorbar\":{\"outlinewidth\":0,\"ticks\":\"\"}},\"type\":\"scattermapbox\"}],\"scatterpolar\":[{\"marker\":{\"colorbar\":{\"outlinewidth\":0,\"ticks\":\"\"}},\"type\":\"scatterpolar\"}],\"scatterpolargl\":[{\"marker\":{\"colorbar\":{\"outlinewidth\":0,\"ticks\":\"\"}},\"type\":\"scatterpolargl\"}],\"scatterternary\":[{\"marker\":{\"colorbar\":{\"outlinewidth\":0,\"ticks\":\"\"}},\"type\":\"scatterternary\"}],\"surface\":[{\"colorbar\":{\"outlinewidth\":0,\"ticks\":\"\"},\"colorscale\":[[0.0,\"#0d0887\"],[0.1111111111111111,\"#46039f\"],[0.2222222222222222,\"#7201a8\"],[0.3333333333333333,\"#9c179e\"],[0.4444444444444444,\"#bd3786\"],[0.5555555555555556,\"#d8576b\"],[0.6666666666666666,\"#ed7953\"],[0.7777777777777778,\"#fb9f3a\"],[0.8888888888888888,\"#fdca26\"],[1.0,\"#f0f921\"]],\"type\":\"surface\"}],\"table\":[{\"cells\":{\"fill\":{\"color\":\"#EBF0F8\"},\"line\":{\"color\":\"white\"}},\"header\":{\"fill\":{\"color\":\"#C8D4E3\"},\"line\":{\"color\":\"white\"}},\"type\":\"table\"}]},\"layout\":{\"annotationdefaults\":{\"arrowcolor\":\"#2a3f5f\",\"arrowhead\":0,\"arrowwidth\":1},\"autotypenumbers\":\"strict\",\"coloraxis\":{\"colorbar\":{\"outlinewidth\":0,\"ticks\":\"\"}},\"colorscale\":{\"diverging\":[[0,\"#8e0152\"],[0.1,\"#c51b7d\"],[0.2,\"#de77ae\"],[0.3,\"#f1b6da\"],[0.4,\"#fde0ef\"],[0.5,\"#f7f7f7\"],[0.6,\"#e6f5d0\"],[0.7,\"#b8e186\"],[0.8,\"#7fbc41\"],[0.9,\"#4d9221\"],[1,\"#276419\"]],\"sequential\":[[0.0,\"#0d0887\"],[0.1111111111111111,\"#46039f\"],[0.2222222222222222,\"#7201a8\"],[0.3333333333333333,\"#9c179e\"],[0.4444444444444444,\"#bd3786\"],[0.5555555555555556,\"#d8576b\"],[0.6666666666666666,\"#ed7953\"],[0.7777777777777778,\"#fb9f3a\"],[0.8888888888888888,\"#fdca26\"],[1.0,\"#f0f921\"]],\"sequentialminus\":[[0.0,\"#0d0887\"],[0.1111111111111111,\"#46039f\"],[0.2222222222222222,\"#7201a8\"],[0.3333333333333333,\"#9c179e\"],[0.4444444444444444,\"#bd3786\"],[0.5555555555555556,\"#d8576b\"],[0.6666666666666666,\"#ed7953\"],[0.7777777777777778,\"#fb9f3a\"],[0.8888888888888888,\"#fdca26\"],[1.0,\"#f0f921\"]]},\"colorway\":[\"#636efa\",\"#EF553B\",\"#00cc96\",\"#ab63fa\",\"#FFA15A\",\"#19d3f3\",\"#FF6692\",\"#B6E880\",\"#FF97FF\",\"#FECB52\"],\"font\":{\"color\":\"#2a3f5f\"},\"geo\":{\"bgcolor\":\"white\",\"lakecolor\":\"white\",\"landcolor\":\"#E5ECF6\",\"showlakes\":true,\"showland\":true,\"subunitcolor\":\"white\"},\"hoverlabel\":{\"align\":\"left\"},\"hovermode\":\"closest\",\"mapbox\":{\"style\":\"light\"},\"paper_bgcolor\":\"white\",\"plot_bgcolor\":\"#E5ECF6\",\"polar\":{\"angularaxis\":{\"gridcolor\":\"white\",\"linecolor\":\"white\",\"ticks\":\"\"},\"bgcolor\":\"#E5ECF6\",\"radialaxis\":{\"gridcolor\":\"white\",\"linecolor\":\"white\",\"ticks\":\"\"}},\"scene\":{\"xaxis\":{\"backgroundcolor\":\"#E5ECF6\",\"gridcolor\":\"white\",\"gridwidth\":2,\"linecolor\":\"white\",\"showbackground\":true,\"ticks\":\"\",\"zerolinecolor\":\"white\"},\"yaxis\":{\"backgroundcolor\":\"#E5ECF6\",\"gridcolor\":\"white\",\"gridwidth\":2,\"linecolor\":\"white\",\"showbackground\":true,\"ticks\":\"\",\"zerolinecolor\":\"white\"},\"zaxis\":{\"backgroundcolor\":\"#E5ECF6\",\"gridcolor\":\"white\",\"gridwidth\":2,\"linecolor\":\"white\",\"showbackground\":true,\"ticks\":\"\",\"zerolinecolor\":\"white\"}},\"shapedefaults\":{\"line\":{\"color\":\"#2a3f5f\"}},\"ternary\":{\"aaxis\":{\"gridcolor\":\"white\",\"linecolor\":\"white\",\"ticks\":\"\"},\"baxis\":{\"gridcolor\":\"white\",\"linecolor\":\"white\",\"ticks\":\"\"},\"bgcolor\":\"#E5ECF6\",\"caxis\":{\"gridcolor\":\"white\",\"linecolor\":\"white\",\"ticks\":\"\"}},\"title\":{\"x\":0.05},\"xaxis\":{\"automargin\":true,\"gridcolor\":\"white\",\"linecolor\":\"white\",\"ticks\":\"\",\"title\":{\"standoff\":15},\"zerolinecolor\":\"white\",\"zerolinewidth\":2},\"yaxis\":{\"automargin\":true,\"gridcolor\":\"white\",\"linecolor\":\"white\",\"ticks\":\"\",\"title\":{\"standoff\":15},\"zerolinecolor\":\"white\",\"zerolinewidth\":2}}},\"xaxis\":{\"anchor\":\"y\",\"domain\":[0.0,1.0],\"title\":{\"text\":\"Species\"}},\"yaxis\":{\"anchor\":\"x\",\"domain\":[0.0,1.0],\"title\":{\"text\":\"PrT\"}},\"legend\":{\"title\":{\"text\":\"Group\"},\"tracegroupgap\":0},\"margin\":{\"t\":60},\"barmode\":\"relative\"},                        {\"responsive\": true}                    ).then(function(){\n",
       "                            \n",
       "var gd = document.getElementById('5c583040-49d6-4dd6-9ab7-d8a61f4e4e5a');\n",
       "var x = new MutationObserver(function (mutations, observer) {{\n",
       "        var display = window.getComputedStyle(gd).display;\n",
       "        if (!display || display === 'none') {{\n",
       "            console.log([gd, 'removed!']);\n",
       "            Plotly.purge(gd);\n",
       "            observer.disconnect();\n",
       "        }}\n",
       "}});\n",
       "\n",
       "// Listen for the removal of the full notebook cells\n",
       "var notebookContainer = gd.closest('#notebook-container');\n",
       "if (notebookContainer) {{\n",
       "    x.observe(notebookContainer, {childList: true});\n",
       "}}\n",
       "\n",
       "// Listen for the clearing of the current output cell\n",
       "var outputEl = gd.closest('.output');\n",
       "if (outputEl) {{\n",
       "    x.observe(outputEl, {childList: true});\n",
       "}}\n",
       "\n",
       "                        })                };                });            </script>        </div>"
      ]
     },
     "metadata": {},
     "output_type": "display_data"
    }
   ],
   "source": [
    "px.bar(nematoda_sort, x='Species', y='PrT', color='Group')"
   ]
  }
 ],
 "metadata": {
  "kernelspec": {
   "display_name": "Python 3",
   "language": "python",
   "name": "python3"
  },
  "language_info": {
   "codemirror_mode": {
    "name": "ipython",
    "version": 3
   },
   "file_extension": ".py",
   "mimetype": "text/x-python",
   "name": "python",
   "nbconvert_exporter": "python",
   "pygments_lexer": "ipython3",
   "version": "3.8.8"
  }
 },
 "nbformat": 4,
 "nbformat_minor": 5
}
